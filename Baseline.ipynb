{
 "cells": [
  {
   "cell_type": "code",
   "execution_count": null,
   "id": "fdbe8a4f-024e-49ea-ab02-b24f03db7df6",
   "metadata": {},
   "outputs": [],
   "source": [
    "from framework.utilities.metrics import calculate_bleu, calculate_rouge\n",
    "import numpy as np"
   ]
  },
  {
   "cell_type": "code",
   "execution_count": null,
   "id": "d145abe1-4ea5-4706-8fde-d6f905ce7de1",
   "metadata": {},
   "outputs": [],
   "source": [
    "import pickle\n",
    "import pandas as pd\n",
    "\n",
    "with open('data/input_output_train', 'rb') as file:\n",
    "    combined_outputs = pickle.load(file)\n",
    "\n",
    "df_combined_outputs = pd.DataFrame(combined_outputs)\n",
    "df_combined_outputs.head()"
   ]
  },
  {
   "cell_type": "code",
   "execution_count": null,
   "id": "2d506e22-d436-4701-8157-3ae18d03d942",
   "metadata": {},
   "outputs": [],
   "source": [
    "total_bleu_13b = 0\n",
    "total_bleu_7b = 0\n",
    "total_bleu_tiny = 0\n",
    "num_rows = 0\n",
    "\n",
    "for row in df_combined_outputs['wmt14']:\n",
    "    num_rows += 1\n",
    "    total_bleu_13b += calculate_bleu(row['13b'], row['label'])\n",
    "    total_bleu_7b += calculate_bleu(row['7b'], row['label'])\n",
    "    total_bleu_tiny += calculate_bleu(row['tiny'], row['label'])"
   ]
  },
  {
   "cell_type": "code",
   "execution_count": null,
   "id": "20ead652-949d-4b94-a5f8-76234c407870",
   "metadata": {},
   "outputs": [],
   "source": [
    "avg_bleu_13b = total_bleu_13b / num_rows\n",
    "avg_bleu_7b = total_bleu_7b / num_rows\n",
    "avg_bleu_tiny = total_bleu_tiny / num_rows\n",
    "\n",
    "print(f\"Avg BLEU for 13B: {avg_bleu_13b}\")\n",
    "print(f\"Avg BLEU for 7B: {avg_bleu_7b}\")\n",
    "print(f\"Avg BLEU for Tiny: {avg_bleu_tiny}\")"
   ]
  },
  {
   "cell_type": "code",
   "execution_count": null,
   "id": "5230087a-6d8b-4c3c-b856-3e8da78eae80",
   "metadata": {},
   "outputs": [],
   "source": [
    "h_tilde = .51"
   ]
  },
  {
   "cell_type": "code",
   "execution_count": null,
   "id": "32480e82-5cc8-49c0-b74e-c47619b484fc",
   "metadata": {},
   "outputs": [],
   "source": [
    "p_t_13b = h_tilde / .551\n",
    "p_t_tiny = h_tilde / .491"
   ]
  },
  {
   "cell_type": "code",
   "execution_count": null,
   "id": "0b3aec14-1c7d-4960-9b97-2a3b84401ac2",
   "metadata": {},
   "outputs": [],
   "source": [
    "print(p_t_13b)\n",
    "print(p_t_tiny)"
   ]
  },
  {
   "cell_type": "code",
   "execution_count": null,
   "id": "e20447b7-7604-4ad4-8aea-0a1df8287a28",
   "metadata": {},
   "outputs": [],
   "source": [
    "p_t_13b = (h_tilde - avg_bleu_tiny) / (avg_bleu_13b - avg_bleu_tiny)\n",
    "p_t_tiny = 1 - p_t_13b"
   ]
  },
  {
   "cell_type": "code",
   "execution_count": null,
   "id": "e78b7b80-a1f8-4b4f-b2ce-f63cd65b6bbd",
   "metadata": {},
   "outputs": [],
   "source": [
    "print(p_t_13b)\n",
    "print(p_t_tiny)"
   ]
  },
  {
   "cell_type": "code",
   "execution_count": null,
   "id": "363f17ab-5a83-47a5-8306-b2251072ac63",
   "metadata": {},
   "outputs": [],
   "source": [
    "def sample_model(p_13b, p_tiny):\n",
    "    return np.random.choice(['13b', 'tiny'], p=[p_13b, p_tiny])"
   ]
  },
  {
   "cell_type": "code",
   "execution_count": null,
   "id": "1317ae77-6fa6-4963-867c-3414d548c116",
   "metadata": {},
   "outputs": [],
   "source": [
    "total_sampled_bleu = 0\n",
    "selected_model_counts = {'13b': 0, 'tiny': 0}\n",
    "\n",
    "for row in df_combined_outputs['wmt14']:\n",
    "    if row['13b'] and row['tiny'] and row['label']:  \n",
    "        selected_model = sample_model(p_t_13b, p_t_tiny)\n",
    "        selected_model_counts[selected_model] += 1\n",
    "\n",
    "        bleu_score = calculate_bleu(row[selected_model], row['label'])\n",
    "        total_sampled_bleu += bleu_score\n",
    "\n",
    "avg_sampled_bleu = total_sampled_bleu / num_rows\n",
    "\n",
    "print(f\"Average BLEU score for selected models: {avg_sampled_bleu}\")\n",
    "print(f\"Selected model counts: {selected_model_counts}\")"
   ]
  },
  {
   "cell_type": "code",
   "execution_count": null,
   "id": "371bda8e-1f3d-4de1-8362-68ab95f28051",
   "metadata": {},
   "outputs": [],
   "source": [
    "(938 * 527.870)/3000"
   ]
  },
  {
   "cell_type": "code",
   "execution_count": null,
   "id": "92dd0443-3316-4984-aed8-8ae166969ef6",
   "metadata": {},
   "outputs": [],
   "source": [
    "(2060 * 44.639)/3000"
   ]
  },
  {
   "cell_type": "code",
   "execution_count": null,
   "id": "8075e600-9d8b-4ee1-8169-49cfbdf1cc1f",
   "metadata": {},
   "outputs": [],
   "source": [
    "total_rouge_13b = 0\n",
    "total_rouge_7b = 0\n",
    "total_rouge_tiny = 0\n",
    "num_rows = 0\n",
    "\n",
    "for row in df_combined_outputs['cnn_dailymail']:\n",
    "    num_rows += 1\n",
    "    total_rouge_13b += calculate_rouge(row['13b'], row['label'])['rouge1']\n",
    "    total_rouge_7b += calculate_rouge(row['7b'], row['label'])['rouge1']\n",
    "    total_rouge_tiny += calculate_rouge(row['tiny'], row['label'])['rouge1']"
   ]
  },
  {
   "cell_type": "code",
   "execution_count": null,
   "id": "26d7f3ac-8e36-418b-9ef2-e3a6410004c0",
   "metadata": {},
   "outputs": [],
   "source": [
    "avg_rouge_13b = total_rouge_13b / num_rows\n",
    "avg_rouge_7b = total_rouge_7b / num_rows\n",
    "avg_rouge_tiny = total_rouge_tiny / num_rows\n",
    "\n",
    "print(f\"Avg ROUGE for 13B: {avg_rouge_13b}\")\n",
    "print(f\"Avg ROUGE for 7B: {avg_rouge_7b}\")\n",
    "print(f\"Avg ROUGE for Tiny: {avg_rouge_tiny}\")"
   ]
  },
  {
   "cell_type": "code",
   "execution_count": null,
   "id": "10515b0c-8457-4d77-8724-4795b335ce58",
   "metadata": {},
   "outputs": [],
   "source": [
    "h_tilde = .3125"
   ]
  },
  {
   "cell_type": "code",
   "execution_count": null,
   "id": "c6ae1038-19d2-41d1-8cbd-681a2875b2c3",
   "metadata": {},
   "outputs": [],
   "source": [
    "p_t_13b = (h_tilde - avg_rouge_tiny) / (avg_rouge_13b - avg_rouge_tiny)\n",
    "p_t_tiny = 1 - p_t_13b\n",
    "print(p_t_13b)\n",
    "print(p_t_tiny)"
   ]
  },
  {
   "cell_type": "code",
   "execution_count": null,
   "id": "86b43c8c-df2f-465c-ac35-febb8b0f3280",
   "metadata": {},
   "outputs": [],
   "source": [
    "total_sampled_rouge = 0\n",
    "selected_model_counts = {'13b': 0, 'tiny': 0}\n",
    "\n",
    "for row in df_combined_outputs['cnn_dailymail']:\n",
    "    if row['13b'] and row['tiny'] and row['label']:  \n",
    "        selected_model = sample_model(p_t_13b, p_t_tiny)\n",
    "        selected_model_counts[selected_model] += 1\n",
    "\n",
    "        rouge_score = calculate_rouge(row[selected_model], row['label'])\n",
    "        total_sampled_rouge += rouge_score['rouge1']\n",
    "\n",
    "avg_sampled_rouge = total_sampled_rouge / num_rows\n",
    "\n",
    "print(f\"Average ROUGE score for selected models: {avg_sampled_rouge}\")\n",
    "print(f\"Selected model counts: {selected_model_counts}\")"
   ]
  },
  {
   "cell_type": "code",
   "execution_count": null,
   "id": "208f529c-7241-4a96-a122-d75319ee8a7b",
   "metadata": {},
   "outputs": [],
   "source": [
    "(739 * 750.285)/3000"
   ]
  },
  {
   "cell_type": "code",
   "execution_count": null,
   "id": "db498b6c-66c8-4dcb-a40a-bde28317cd00",
   "metadata": {},
   "outputs": [],
   "source": [
    "(2220 * 142.08)/3000"
   ]
  },
  {
   "cell_type": "code",
   "execution_count": null,
   "id": "c770e424-72f4-4ced-bca1-18bc7b7a950a",
   "metadata": {},
   "outputs": [],
   "source": []
  }
 ],
 "metadata": {
  "kernelspec": {
   "display_name": "Python 3 (ipykernel)",
   "language": "python",
   "name": "python3"
  },
  "language_info": {
   "codemirror_mode": {
    "name": "ipython",
    "version": 3
   },
   "file_extension": ".py",
   "mimetype": "text/x-python",
   "name": "python",
   "nbconvert_exporter": "python",
   "pygments_lexer": "ipython3",
   "version": "3.8.10"
  }
 },
 "nbformat": 4,
 "nbformat_minor": 5
}
