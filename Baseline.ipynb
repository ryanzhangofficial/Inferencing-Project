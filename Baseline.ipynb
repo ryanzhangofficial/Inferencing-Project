{
 "cells": [
  {
   "cell_type": "code",
   "execution_count": 1,
   "id": "fdbe8a4f-024e-49ea-ab02-b24f03db7df6",
   "metadata": {},
   "outputs": [],
   "source": [
    "from framework.utilities.metrics import calculate_bleu, calculate_rouge\n",
    "import numpy as np"
   ]
  },
  {
   "cell_type": "code",
   "execution_count": 2,
   "id": "d145abe1-4ea5-4706-8fde-d6f905ce7de1",
   "metadata": {},
   "outputs": [
    {
     "data": {
      "text/html": [
       "<div>\n",
       "<style scoped>\n",
       "    .dataframe tbody tr th:only-of-type {\n",
       "        vertical-align: middle;\n",
       "    }\n",
       "\n",
       "    .dataframe tbody tr th {\n",
       "        vertical-align: top;\n",
       "    }\n",
       "\n",
       "    .dataframe thead th {\n",
       "        text-align: right;\n",
       "    }\n",
       "</style>\n",
       "<table border=\"1\" class=\"dataframe\">\n",
       "  <thead>\n",
       "    <tr style=\"text-align: right;\">\n",
       "      <th></th>\n",
       "      <th>wmt14</th>\n",
       "      <th>cnn_dailymail</th>\n",
       "      <th>gsm8k</th>\n",
       "    </tr>\n",
       "  </thead>\n",
       "  <tbody>\n",
       "    <tr>\n",
       "      <th>0</th>\n",
       "      <td>{'input_text': 'Gutach: Noch mehr Sicherheit f...</td>\n",
       "      <td>{'input_text': '(CNN)The Palestinian Authority...</td>\n",
       "      <td>{'input_text': None, '7b': None, 'tiny': None,...</td>\n",
       "    </tr>\n",
       "    <tr>\n",
       "      <th>1</th>\n",
       "      <td>{'input_text': 'Sie stehen keine 100 Meter von...</td>\n",
       "      <td>{'input_text': '(CNN)Never mind cats having ni...</td>\n",
       "      <td>{'input_text': None, '7b': None, 'tiny': None,...</td>\n",
       "    </tr>\n",
       "    <tr>\n",
       "      <th>2</th>\n",
       "      <td>{'input_text': 'Zwei Anlagen so nah beieinande...</td>\n",
       "      <td>{'input_text': '(CNN)If you've been following ...</td>\n",
       "      <td>{'input_text': None, '7b': None, 'tiny': None,...</td>\n",
       "    </tr>\n",
       "    <tr>\n",
       "      <th>3</th>\n",
       "      <td>{'input_text': 'Diese Frage hat Gutachs Bürger...</td>\n",
       "      <td>{'input_text': '(CNN)Five Americans who were m...</td>\n",
       "      <td>{'input_text': None, '7b': None, 'tiny': None,...</td>\n",
       "    </tr>\n",
       "    <tr>\n",
       "      <th>4</th>\n",
       "      <td>{'input_text': '\"Die Rathausampel ist damals i...</td>\n",
       "      <td>{'input_text': '(CNN)A Duke student has admitt...</td>\n",
       "      <td>{'input_text': None, '7b': None, 'tiny': None,...</td>\n",
       "    </tr>\n",
       "  </tbody>\n",
       "</table>\n",
       "</div>"
      ],
      "text/plain": [
       "                                               wmt14  \\\n",
       "0  {'input_text': 'Gutach: Noch mehr Sicherheit f...   \n",
       "1  {'input_text': 'Sie stehen keine 100 Meter von...   \n",
       "2  {'input_text': 'Zwei Anlagen so nah beieinande...   \n",
       "3  {'input_text': 'Diese Frage hat Gutachs Bürger...   \n",
       "4  {'input_text': '\"Die Rathausampel ist damals i...   \n",
       "\n",
       "                                       cnn_dailymail  \\\n",
       "0  {'input_text': '(CNN)The Palestinian Authority...   \n",
       "1  {'input_text': '(CNN)Never mind cats having ni...   \n",
       "2  {'input_text': '(CNN)If you've been following ...   \n",
       "3  {'input_text': '(CNN)Five Americans who were m...   \n",
       "4  {'input_text': '(CNN)A Duke student has admitt...   \n",
       "\n",
       "                                               gsm8k  \n",
       "0  {'input_text': None, '7b': None, 'tiny': None,...  \n",
       "1  {'input_text': None, '7b': None, 'tiny': None,...  \n",
       "2  {'input_text': None, '7b': None, 'tiny': None,...  \n",
       "3  {'input_text': None, '7b': None, 'tiny': None,...  \n",
       "4  {'input_text': None, '7b': None, 'tiny': None,...  "
      ]
     },
     "execution_count": 2,
     "metadata": {},
     "output_type": "execute_result"
    }
   ],
   "source": [
    "import pickle\n",
    "import pandas as pd\n",
    "\n",
    "with open('data/input_output_train', 'rb') as file:\n",
    "    combined_outputs = pickle.load(file)\n",
    "\n",
    "df_combined_outputs = pd.DataFrame(combined_outputs)\n",
    "df_combined_outputs.head()"
   ]
  },
  {
   "cell_type": "code",
   "execution_count": 19,
   "id": "2d506e22-d436-4701-8157-3ae18d03d942",
   "metadata": {},
   "outputs": [],
   "source": [
    "total_bleu_13b = 0\n",
    "total_bleu_7b = 0\n",
    "total_bleu_tiny = 0\n",
    "num_rows = 0\n",
    "\n",
    "for row in df_combined_outputs['wmt14']:\n",
    "    num_rows += 1\n",
    "    total_bleu_13b += calculate_bleu(row['13b'], row['label'])\n",
    "    total_bleu_7b += calculate_bleu(row['7b'], row['label'])\n",
    "    total_bleu_tiny += calculate_bleu(row['tiny'], row['label'])"
   ]
  },
  {
   "cell_type": "code",
   "execution_count": 20,
   "id": "20ead652-949d-4b94-a5f8-76234c407870",
   "metadata": {},
   "outputs": [
    {
     "name": "stdout",
     "output_type": "stream",
     "text": [
      "Avg BLEU for 13B: 0.5513241450960581\n",
      "Avg BLEU for 7B: 0.5636676927707647\n",
      "Avg BLEU for Tiny: 0.49071299218671666\n"
     ]
    }
   ],
   "source": [
    "avg_bleu_13b = total_bleu_13b / num_rows\n",
    "avg_bleu_7b = total_bleu_7b / num_rows\n",
    "avg_bleu_tiny = total_bleu_tiny / num_rows\n",
    "\n",
    "print(f\"Avg BLEU for 13B: {avg_bleu_13b}\")\n",
    "print(f\"Avg BLEU for 7B: {avg_bleu_7b}\")\n",
    "print(f\"Avg BLEU for Tiny: {avg_bleu_tiny}\")"
   ]
  },
  {
   "cell_type": "code",
   "execution_count": 21,
   "id": "5230087a-6d8b-4c3c-b856-3e8da78eae80",
   "metadata": {},
   "outputs": [],
   "source": [
    "h_tilde = .51"
   ]
  },
  {
   "cell_type": "code",
   "execution_count": 22,
   "id": "32480e82-5cc8-49c0-b74e-c47619b484fc",
   "metadata": {},
   "outputs": [],
   "source": [
    "p_t_13b = h_tilde / .551\n",
    "p_t_tiny = h_tilde / .491"
   ]
  },
  {
   "cell_type": "code",
   "execution_count": 23,
   "id": "0b3aec14-1c7d-4960-9b97-2a3b84401ac2",
   "metadata": {},
   "outputs": [
    {
     "name": "stdout",
     "output_type": "stream",
     "text": [
      "0.925589836660617\n",
      "1.0386965376782078\n"
     ]
    }
   ],
   "source": [
    "print(p_t_13b)\n",
    "print(p_t_tiny)"
   ]
  },
  {
   "cell_type": "code",
   "execution_count": 24,
   "id": "e20447b7-7604-4ad4-8aea-0a1df8287a28",
   "metadata": {},
   "outputs": [],
   "source": [
    "p_t_13b = (h_tilde - avg_bleu_tiny) / (avg_bleu_13b - avg_bleu_tiny)\n",
    "p_t_tiny = 1 - p_t_13b"
   ]
  },
  {
   "cell_type": "code",
   "execution_count": 25,
   "id": "e78b7b80-a1f8-4b4f-b2ce-f63cd65b6bbd",
   "metadata": {},
   "outputs": [
    {
     "name": "stdout",
     "output_type": "stream",
     "text": [
      "0.31820889205212305\n",
      "0.6817911079478769\n"
     ]
    }
   ],
   "source": [
    "print(p_t_13b)\n",
    "print(p_t_tiny)"
   ]
  },
  {
   "cell_type": "code",
   "execution_count": 6,
   "id": "363f17ab-5a83-47a5-8306-b2251072ac63",
   "metadata": {},
   "outputs": [],
   "source": [
    "def sample_model(p_13b, p_tiny):\n",
    "    return np.random.choice(['13b', 'tiny'], p=[p_13b, p_tiny])"
   ]
  },
  {
   "cell_type": "code",
   "execution_count": 27,
   "id": "1317ae77-6fa6-4963-867c-3414d548c116",
   "metadata": {},
   "outputs": [
    {
     "name": "stdout",
     "output_type": "stream",
     "text": [
      "Average BLEU score for selected models: 0.5085141289424104\n",
      "Selected model counts: {'13b': 938, 'tiny': 2060}\n"
     ]
    }
   ],
   "source": [
    "total_sampled_bleu = 0\n",
    "selected_model_counts = {'13b': 0, 'tiny': 0}\n",
    "\n",
    "for row in df_combined_outputs['wmt14']:\n",
    "    if row['13b'] and row['tiny'] and row['label']:  \n",
    "        selected_model = sample_model(p_t_13b, p_t_tiny)\n",
    "        selected_model_counts[selected_model] += 1\n",
    "\n",
    "        bleu_score = calculate_bleu(row[selected_model], row['label'])\n",
    "        total_sampled_bleu += bleu_score\n",
    "\n",
    "avg_sampled_bleu = total_sampled_bleu / num_rows\n",
    "\n",
    "print(f\"Average BLEU score for selected models: {avg_sampled_bleu}\")\n",
    "print(f\"Selected model counts: {selected_model_counts}\")"
   ]
  },
  {
   "cell_type": "code",
   "execution_count": 28,
   "id": "371bda8e-1f3d-4de1-8362-68ab95f28051",
   "metadata": {},
   "outputs": [
    {
     "data": {
      "text/plain": [
       "165.04735333333332"
      ]
     },
     "execution_count": 28,
     "metadata": {},
     "output_type": "execute_result"
    }
   ],
   "source": [
    "(938 * 527.870)/3000"
   ]
  },
  {
   "cell_type": "code",
   "execution_count": 29,
   "id": "92dd0443-3316-4984-aed8-8ae166969ef6",
   "metadata": {},
   "outputs": [
    {
     "data": {
      "text/plain": [
       "30.652113333333336"
      ]
     },
     "execution_count": 29,
     "metadata": {},
     "output_type": "execute_result"
    }
   ],
   "source": [
    "(2060 * 44.639)/3000"
   ]
  },
  {
   "cell_type": "code",
   "execution_count": 4,
   "id": "8075e600-9d8b-4ee1-8169-49cfbdf1cc1f",
   "metadata": {},
   "outputs": [],
   "source": [
    "total_rouge_13b = 0\n",
    "total_rouge_7b = 0\n",
    "total_rouge_tiny = 0\n",
    "num_rows = 0\n",
    "\n",
    "for row in df_combined_outputs['cnn_dailymail']:\n",
    "    num_rows += 1\n",
    "    total_rouge_13b += calculate_rouge(row['13b'], row['label'])['rouge1']\n",
    "    total_rouge_7b += calculate_rouge(row['7b'], row['label'])['rouge1']\n",
    "    total_rouge_tiny += calculate_rouge(row['tiny'], row['label'])['rouge1']"
   ]
  },
  {
   "cell_type": "code",
   "execution_count": 5,
   "id": "26d7f3ac-8e36-418b-9ef2-e3a6410004c0",
   "metadata": {},
   "outputs": [
    {
     "name": "stdout",
     "output_type": "stream",
     "text": [
      "Avg ROUGE for 13B: 0.32213102025411433\n",
      "Avg ROUGE for 7B: 0.32457467037783444\n",
      "Avg ROUGE for Tiny: 0.30924118236882664\n"
     ]
    }
   ],
   "source": [
    "avg_rouge_13b = total_rouge_13b / num_rows\n",
    "avg_rouge_7b = total_rouge_7b / num_rows\n",
    "avg_rouge_tiny = total_rouge_tiny / num_rows\n",
    "\n",
    "print(f\"Avg ROUGE for 13B: {avg_rouge_13b}\")\n",
    "print(f\"Avg ROUGE for 7B: {avg_rouge_7b}\")\n",
    "print(f\"Avg ROUGE for Tiny: {avg_rouge_tiny}\")"
   ]
  },
  {
   "cell_type": "code",
   "execution_count": 33,
   "id": "10515b0c-8457-4d77-8724-4795b335ce58",
   "metadata": {},
   "outputs": [],
   "source": [
    "h_tilde = .3125"
   ]
  },
  {
   "cell_type": "code",
   "execution_count": 29,
   "id": "c6ae1038-19d2-41d1-8cbd-681a2875b2c3",
   "metadata": {},
   "outputs": [
    {
     "name": "stdout",
     "output_type": "stream",
     "text": [
      "0.25282068402838\n",
      "0.74717931597162\n"
     ]
    }
   ],
   "source": [
    "p_t_13b = (h_tilde - avg_rouge_tiny) / (avg_rouge_13b - avg_rouge_tiny)\n",
    "p_t_tiny = 1 - p_t_13b\n",
    "print(p_t_13b)\n",
    "print(p_t_tiny)"
   ]
  },
  {
   "cell_type": "code",
   "execution_count": 30,
   "id": "86b43c8c-df2f-465c-ac35-febb8b0f3280",
   "metadata": {},
   "outputs": [
    {
     "name": "stdout",
     "output_type": "stream",
     "text": [
      "Average ROUGE score for selected models: 0.3084090454829778\n",
      "Selected model counts: {'13b': 739, 'tiny': 2220}\n"
     ]
    }
   ],
   "source": [
    "total_sampled_rouge = 0\n",
    "selected_model_counts = {'13b': 0, 'tiny': 0}\n",
    "\n",
    "for row in df_combined_outputs['cnn_dailymail']:\n",
    "    if row['13b'] and row['tiny'] and row['label']:  \n",
    "        selected_model = sample_model(p_t_13b, p_t_tiny)\n",
    "        selected_model_counts[selected_model] += 1\n",
    "\n",
    "        rouge_score = calculate_rouge(row[selected_model], row['label'])\n",
    "        total_sampled_rouge += rouge_score['rouge1']\n",
    "\n",
    "avg_sampled_rouge = total_sampled_rouge / num_rows\n",
    "\n",
    "print(f\"Average ROUGE score for selected models: {avg_sampled_rouge}\")\n",
    "print(f\"Selected model counts: {selected_model_counts}\")"
   ]
  },
  {
   "cell_type": "code",
   "execution_count": 31,
   "id": "208f529c-7241-4a96-a122-d75319ee8a7b",
   "metadata": {},
   "outputs": [
    {
     "data": {
      "text/plain": [
       "184.820205"
      ]
     },
     "execution_count": 31,
     "metadata": {},
     "output_type": "execute_result"
    }
   ],
   "source": [
    "(739 * 750.285)/3000"
   ]
  },
  {
   "cell_type": "code",
   "execution_count": 32,
   "id": "db498b6c-66c8-4dcb-a40a-bde28317cd00",
   "metadata": {},
   "outputs": [
    {
     "data": {
      "text/plain": [
       "105.13920000000002"
      ]
     },
     "execution_count": 32,
     "metadata": {},
     "output_type": "execute_result"
    }
   ],
   "source": [
    "(2220 * 142.08)/3000"
   ]
  },
  {
   "cell_type": "code",
   "execution_count": null,
   "id": "c770e424-72f4-4ced-bca1-18bc7b7a950a",
   "metadata": {},
   "outputs": [],
   "source": []
  }
 ],
 "metadata": {
  "kernelspec": {
   "display_name": "Python 3 (ipykernel)",
   "language": "python",
   "name": "python3"
  },
  "language_info": {
   "codemirror_mode": {
    "name": "ipython",
    "version": 3
   },
   "file_extension": ".py",
   "mimetype": "text/x-python",
   "name": "python",
   "nbconvert_exporter": "python",
   "pygments_lexer": "ipython3",
   "version": "3.8.10"
  }
 },
 "nbformat": 4,
 "nbformat_minor": 5
}
