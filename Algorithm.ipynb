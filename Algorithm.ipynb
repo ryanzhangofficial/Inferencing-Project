{
 "cells": [
  {
   "cell_type": "code",
   "execution_count": 1,
   "id": "559022b2-d0df-48bc-841c-7f6985b0c6e0",
   "metadata": {
    "scrolled": true
   },
   "outputs": [
    {
     "name": "stdout",
     "output_type": "stream",
     "text": [
      "Requirement already satisfied: transformers in /usr/local/lib/python3.8/dist-packages (4.44.2)\n",
      "Requirement already satisfied: torch in /usr/local/lib/python3.8/dist-packages (2.4.1)\n",
      "Requirement already satisfied: nltk in /usr/local/lib/python3.8/dist-packages (3.9.1)\n",
      "Requirement already satisfied: rouge_score in /usr/local/lib/python3.8/dist-packages (0.1.2)\n",
      "Requirement already satisfied: tqdm>=4.27 in /usr/local/lib/python3.8/dist-packages (from transformers) (4.66.5)\n",
      "Requirement already satisfied: tokenizers<0.20,>=0.19 in /usr/local/lib/python3.8/dist-packages (from transformers) (0.19.1)\n",
      "Requirement already satisfied: pyyaml>=5.1 in /usr/lib/python3/dist-packages (from transformers) (5.3.1)\n",
      "Requirement already satisfied: huggingface-hub<1.0,>=0.23.2 in /usr/local/lib/python3.8/dist-packages (from transformers) (0.24.7)\n",
      "Requirement already satisfied: numpy>=1.17 in /usr/local/lib/python3.8/dist-packages (from transformers) (1.24.4)\n",
      "Requirement already satisfied: regex!=2019.12.17 in /usr/local/lib/python3.8/dist-packages (from transformers) (2024.9.11)\n",
      "Requirement already satisfied: packaging>=20.0 in /usr/local/lib/python3.8/dist-packages (from transformers) (24.1)\n",
      "Requirement already satisfied: requests in /usr/local/lib/python3.8/dist-packages (from transformers) (2.32.3)\n",
      "Requirement already satisfied: safetensors>=0.4.1 in /usr/local/lib/python3.8/dist-packages (from transformers) (0.4.5)\n",
      "Requirement already satisfied: filelock in /usr/local/lib/python3.8/dist-packages (from transformers) (3.16.0)\n",
      "Requirement already satisfied: typing-extensions>=4.8.0 in /usr/local/lib/python3.8/dist-packages (from torch) (4.12.2)\n",
      "Requirement already satisfied: jinja2 in /usr/local/lib/python3.8/dist-packages (from torch) (3.1.4)\n",
      "Requirement already satisfied: sympy in /usr/local/lib/python3.8/dist-packages (from torch) (1.13.2)\n",
      "Requirement already satisfied: nvidia-cublas-cu12==12.1.3.1; platform_system == \"Linux\" and platform_machine == \"x86_64\" in /usr/local/lib/python3.8/dist-packages (from torch) (12.1.3.1)\n",
      "Requirement already satisfied: nvidia-nccl-cu12==2.20.5; platform_system == \"Linux\" and platform_machine == \"x86_64\" in /usr/local/lib/python3.8/dist-packages (from torch) (2.20.5)\n",
      "Requirement already satisfied: nvidia-nvtx-cu12==12.1.105; platform_system == \"Linux\" and platform_machine == \"x86_64\" in /usr/local/lib/python3.8/dist-packages (from torch) (12.1.105)\n",
      "Requirement already satisfied: nvidia-cufft-cu12==11.0.2.54; platform_system == \"Linux\" and platform_machine == \"x86_64\" in /usr/local/lib/python3.8/dist-packages (from torch) (11.0.2.54)\n",
      "Requirement already satisfied: fsspec in /usr/local/lib/python3.8/dist-packages (from torch) (2024.9.0)\n",
      "Requirement already satisfied: nvidia-cudnn-cu12==9.1.0.70; platform_system == \"Linux\" and platform_machine == \"x86_64\" in /usr/local/lib/python3.8/dist-packages (from torch) (9.1.0.70)\n",
      "Requirement already satisfied: nvidia-cuda-runtime-cu12==12.1.105; platform_system == \"Linux\" and platform_machine == \"x86_64\" in /usr/local/lib/python3.8/dist-packages (from torch) (12.1.105)\n",
      "Requirement already satisfied: nvidia-cuda-nvrtc-cu12==12.1.105; platform_system == \"Linux\" and platform_machine == \"x86_64\" in /usr/local/lib/python3.8/dist-packages (from torch) (12.1.105)\n",
      "Requirement already satisfied: networkx in /usr/local/lib/python3.8/dist-packages (from torch) (3.1)\n",
      "Requirement already satisfied: nvidia-cuda-cupti-cu12==12.1.105; platform_system == \"Linux\" and platform_machine == \"x86_64\" in /usr/local/lib/python3.8/dist-packages (from torch) (12.1.105)\n",
      "Requirement already satisfied: nvidia-curand-cu12==10.3.2.106; platform_system == \"Linux\" and platform_machine == \"x86_64\" in /usr/local/lib/python3.8/dist-packages (from torch) (10.3.2.106)\n",
      "Requirement already satisfied: nvidia-cusolver-cu12==11.4.5.107; platform_system == \"Linux\" and platform_machine == \"x86_64\" in /usr/local/lib/python3.8/dist-packages (from torch) (11.4.5.107)\n",
      "Requirement already satisfied: nvidia-cusparse-cu12==12.1.0.106; platform_system == \"Linux\" and platform_machine == \"x86_64\" in /usr/local/lib/python3.8/dist-packages (from torch) (12.1.0.106)\n",
      "Requirement already satisfied: triton==3.0.0; platform_system == \"Linux\" and platform_machine == \"x86_64\" and python_version < \"3.13\" in /usr/local/lib/python3.8/dist-packages (from torch) (3.0.0)\n",
      "Requirement already satisfied: joblib in /usr/local/lib/python3.8/dist-packages (from nltk) (1.4.2)\n",
      "Requirement already satisfied: click in /usr/lib/python3/dist-packages (from nltk) (7.0)\n",
      "Requirement already satisfied: six>=1.14.0 in /usr/lib/python3/dist-packages (from rouge_score) (1.14.0)\n",
      "Requirement already satisfied: absl-py in /usr/local/lib/python3.8/dist-packages (from rouge_score) (2.1.0)\n",
      "Requirement already satisfied: urllib3<3,>=1.21.1 in /usr/lib/python3/dist-packages (from requests->transformers) (1.25.8)\n",
      "Requirement already satisfied: charset-normalizer<4,>=2 in /usr/local/lib/python3.8/dist-packages (from requests->transformers) (3.3.2)\n",
      "Requirement already satisfied: idna<4,>=2.5 in /usr/lib/python3/dist-packages (from requests->transformers) (2.8)\n",
      "Requirement already satisfied: certifi>=2017.4.17 in /usr/lib/python3/dist-packages (from requests->transformers) (2019.11.28)\n",
      "Requirement already satisfied: MarkupSafe>=2.0 in /usr/local/lib/python3.8/dist-packages (from jinja2->torch) (2.1.5)\n",
      "Requirement already satisfied: mpmath<1.4,>=1.1.0 in /usr/local/lib/python3.8/dist-packages (from sympy->torch) (1.3.0)\n",
      "Requirement already satisfied: nvidia-nvjitlink-cu12 in /usr/local/lib/python3.8/dist-packages (from nvidia-cusolver-cu12==11.4.5.107; platform_system == \"Linux\" and platform_machine == \"x86_64\"->torch) (12.6.68)\n"
     ]
    }
   ],
   "source": [
    "!pip install transformers torch nltk rouge_score"
   ]
  },
  {
   "cell_type": "code",
   "execution_count": 1,
   "id": "f3eb85c2-3d8d-4591-8c4c-55fe2b8fa2f2",
   "metadata": {},
   "outputs": [],
   "source": [
    "import math\n",
    "import random\n",
    "import sys\n",
    "import os\n",
    "# from framework.utilities.models import inference    \n",
    "from framework.utilities.metrics import calculate_bleu, calculate_rouge\n",
    "import fastText\n",
    "from contextlib import contextmanager\n",
    "import time\n",
    "import json"
   ]
  },
  {
   "cell_type": "code",
   "execution_count": 2,
   "id": "8c35647b-894f-4627-b57d-330eba72e97d",
   "metadata": {},
   "outputs": [
    {
     "name": "stderr",
     "output_type": "stream",
     "text": [
      "[nltk_data] Downloading package punkt_tab to /root/nltk_data...\n",
      "[nltk_data]   Package punkt_tab is already up-to-date!\n"
     ]
    },
    {
     "data": {
      "text/plain": [
       "True"
      ]
     },
     "execution_count": 2,
     "metadata": {},
     "output_type": "execute_result"
    }
   ],
   "source": [
    "import nltk\n",
    "nltk.download('punkt_tab')"
   ]
  },
  {
   "cell_type": "code",
   "execution_count": 3,
   "id": "4d038580-deb8-4ade-a503-f54e18e9c802",
   "metadata": {},
   "outputs": [
    {
     "data": {
      "text/html": [
       "<div>\n",
       "<style scoped>\n",
       "    .dataframe tbody tr th:only-of-type {\n",
       "        vertical-align: middle;\n",
       "    }\n",
       "\n",
       "    .dataframe tbody tr th {\n",
       "        vertical-align: top;\n",
       "    }\n",
       "\n",
       "    .dataframe thead th {\n",
       "        text-align: right;\n",
       "    }\n",
       "</style>\n",
       "<table border=\"1\" class=\"dataframe\">\n",
       "  <thead>\n",
       "    <tr style=\"text-align: right;\">\n",
       "      <th></th>\n",
       "      <th>wmt14</th>\n",
       "      <th>cnn_dailymail</th>\n",
       "      <th>gsm8k</th>\n",
       "    </tr>\n",
       "  </thead>\n",
       "  <tbody>\n",
       "    <tr>\n",
       "      <th>0</th>\n",
       "      <td>{'input': 'Eine republikanische Strategie, um ...</td>\n",
       "      <td>{'input': '(CNN)Share, and your gift will be m...</td>\n",
       "      <td>{'input': 'Janet’s ducks lay 16 eggs per day. ...</td>\n",
       "    </tr>\n",
       "    <tr>\n",
       "      <th>1</th>\n",
       "      <td>{'input': 'Die Führungskräfte der Republikaner...</td>\n",
       "      <td>{'input': '(CNN)On the 6th of April 1996, San ...</td>\n",
       "      <td>{'input': 'A robe takes 2 bolts of blue fiber ...</td>\n",
       "    </tr>\n",
       "    <tr>\n",
       "      <th>2</th>\n",
       "      <td>{'input': 'Allerdings hält das Brennan Center ...</td>\n",
       "      <td>{'input': '(CNN)French striker Bafetimbi Gomis...</td>\n",
       "      <td>{'input': 'Josh decides to try flipping a hous...</td>\n",
       "    </tr>\n",
       "    <tr>\n",
       "      <th>3</th>\n",
       "      <td>{'input': 'Die Rechtsanwälte der Republikaner ...</td>\n",
       "      <td>{'input': '(CNN)It was an act of frustration p...</td>\n",
       "      <td>{'input': 'James decides to run 3 sprints 3 ti...</td>\n",
       "    </tr>\n",
       "    <tr>\n",
       "      <th>4</th>\n",
       "      <td>{'input': 'Eins ist sicher: diese neuen Bestim...</td>\n",
       "      <td>{'input': '(CNN)A Pennsylvania community is pu...</td>\n",
       "      <td>{'input': 'Every day, Wendi feeds each of her ...</td>\n",
       "    </tr>\n",
       "  </tbody>\n",
       "</table>\n",
       "</div>"
      ],
      "text/plain": [
       "                                               wmt14  \\\n",
       "0  {'input': 'Eine republikanische Strategie, um ...   \n",
       "1  {'input': 'Die Führungskräfte der Republikaner...   \n",
       "2  {'input': 'Allerdings hält das Brennan Center ...   \n",
       "3  {'input': 'Die Rechtsanwälte der Republikaner ...   \n",
       "4  {'input': 'Eins ist sicher: diese neuen Bestim...   \n",
       "\n",
       "                                       cnn_dailymail  \\\n",
       "0  {'input': '(CNN)Share, and your gift will be m...   \n",
       "1  {'input': '(CNN)On the 6th of April 1996, San ...   \n",
       "2  {'input': '(CNN)French striker Bafetimbi Gomis...   \n",
       "3  {'input': '(CNN)It was an act of frustration p...   \n",
       "4  {'input': '(CNN)A Pennsylvania community is pu...   \n",
       "\n",
       "                                               gsm8k  \n",
       "0  {'input': 'Janet’s ducks lay 16 eggs per day. ...  \n",
       "1  {'input': 'A robe takes 2 bolts of blue fiber ...  \n",
       "2  {'input': 'Josh decides to try flipping a hous...  \n",
       "3  {'input': 'James decides to run 3 sprints 3 ti...  \n",
       "4  {'input': 'Every day, Wendi feeds each of her ...  "
      ]
     },
     "execution_count": 3,
     "metadata": {},
     "output_type": "execute_result"
    }
   ],
   "source": [
    "import pickle\n",
    "import pandas as pd\n",
    "\n",
    "with open('data/combined_outputs.pkl', 'rb') as file:\n",
    "    combined_outputs = pickle.load(file)\n",
    "\n",
    "df_combined_outputs = pd.DataFrame(combined_outputs)\n",
    "df_combined_outputs.head()"
   ]
  },
  {
   "cell_type": "code",
   "execution_count": 4,
   "id": "147f54d5-e9f2-4812-b50b-d7045e7c14f0",
   "metadata": {},
   "outputs": [
    {
     "data": {
      "text/plain": [
       "3000"
      ]
     },
     "execution_count": 4,
     "metadata": {},
     "output_type": "execute_result"
    }
   ],
   "source": [
    "df_combined_outputs.size"
   ]
  },
  {
   "cell_type": "code",
   "execution_count": 5,
   "id": "22851f3c-bc40-4374-9a2f-04633425d8b8",
   "metadata": {},
   "outputs": [
    {
     "data": {
      "text/plain": [
       "{'input': 'Eine republikanische Strategie, um der Wiederwahl von Obama entgegenzutreten',\n",
       " 'label': 'A Republican strategy to counter the re-election of Obama',\n",
       " '7b': [\"A Republican Strategy to Avoid Obama's Reelection\"],\n",
       " 'tiny': [\"A Republican Strategy to Avoid Obama's Reelection\"],\n",
       " '13b': [\"A republican strategy to counter Obama's re-election\"]}"
      ]
     },
     "execution_count": 5,
     "metadata": {},
     "output_type": "execute_result"
    }
   ],
   "source": [
    "df_combined_outputs[\"wmt14\"][0]"
   ]
  },
  {
   "cell_type": "code",
   "execution_count": 6,
   "id": "7d94dfcd-5386-4429-ae96-850f21d473ff",
   "metadata": {},
   "outputs": [],
   "source": [
    "def algorithm(T, c):\n",
    "    l_predictor, s_predictor = None, None\n",
    "    results = []\n",
    "    \n",
    "    for t in range(1, T+1):\n",
    "        print(f\"Index: {t}\")\n",
    "        t_i = df_combined_outputs[\"cnn_dailymail\"][t][\"input\"]\n",
    "        t_e = df_combined_outputs[\"cnn_dailymail\"][t][\"label\"]\n",
    "\n",
    "        p_t = min(1, c/math.sqrt(t))\n",
    "        X_t = Bernoulli(p_t)\n",
    "        \n",
    "        if X_t == 1:\n",
    "            t_c = getResults(t, t_i, t_e)\n",
    "            l_predictor, s_predictor = sgdStep(t_c)\n",
    "            l_predictor, s_predictor = checkpoint(l_predictor, s_predictor, t, p_t)\n",
    "\n",
    "        output, t_acc = queryBest(t, t_i, t_e, l_predictor, s_predictor)\n",
    "        print(t_acc)\n",
    "        results.append({\n",
    "            'iteration': t,\n",
    "            'input': t_i,\n",
    "            'best_output': output,\n",
    "            'chosen_model_accuracy': t_acc\n",
    "        })\n",
    "\n",
    "    return results"
   ]
  },
  {
   "cell_type": "code",
   "execution_count": 7,
   "id": "9e3f4257-4e9b-49ba-ad82-312b64d73ad5",
   "metadata": {},
   "outputs": [],
   "source": [
    "def Bernoulli(p_t):\n",
    "    return random.random() < p_t "
   ]
  },
  {
   "cell_type": "code",
   "execution_count": 8,
   "id": "ff8f84c0-4552-4f62-bf95-19cddaed2bf3",
   "metadata": {},
   "outputs": [],
   "source": [
    "def queryBest(t, t_i, t_e, l_predictor, s_predictor):\n",
    "    l_acc, s_acc = predict(t_i, l_predictor, s_predictor)\n",
    "    if l_acc > s_acc: # use larger model, e.g. 7b llama\n",
    "        output = df_combined_outputs[\"cnn_dailymail\"][t][\"13b\"]\n",
    "    else: # use smaller model for all other cases, e.g. 3b llama\n",
    "        output =  df_combined_outputs[\"cnn_dailymail\"][t][\"tiny\"]\n",
    "\n",
    "    # return output, calculate_bleu(output[0], t_e)\n",
    "    return output, calculate_rouge(output[0], t_e)"
   ]
  },
  {
   "cell_type": "code",
   "execution_count": 9,
   "id": "df16dc77-e1db-4a51-a8bc-c1f76e85c479",
   "metadata": {},
   "outputs": [],
   "source": [
    "def sgdStep(t_c):\n",
    "    with open(\"fasttext_large.txt\", \"w\") as f:\n",
    "        f.write(f\"__label__{t_c['large_model_accuracy']} {t_c['input_text']}\\n\")\n",
    "    with open(\"fasttext_small.txt\", \"w\") as f:\n",
    "        f.write(f\"__label__{t_c['small_model_accuracy']} {t_c['input_text']}\\n\")\n",
    "\n",
    "    if os.path.exists(\"large_predictor.bin\"):\n",
    "        large_model_predictor = fastText.train_supervised(input=\"fasttext_large.txt\", epoch=1, lr=1.0, wordNgrams=2, inputModel=\"large_predictor.bin\")\n",
    "    else:\n",
    "        large_model_predictor = fastText.train_supervised(input=\"fasttext_large.txt\", epoch=1, lr=1.0, wordNgrams=2)\n",
    "\n",
    "    if os.path.exists(\"small_predictor.bin\"):\n",
    "        small_model_predictor = fastText.train_supervised(input=\"fasttext_small.txt\", epoch=1, lr=1.0, wordNgrams=2, inputModel=\"small_predictor.bin\")\n",
    "    else:\n",
    "        small_model_predictor = fastText.train_supervised(input=\"fasttext_small.txt\", epoch=1, lr=1.0, wordNgrams=2)\n",
    "\n",
    "    return large_model_predictor, small_model_predictor"
   ]
  },
  {
   "cell_type": "code",
   "execution_count": 10,
   "id": "55a0e73e-7a06-4071-9175-adbd53710be1",
   "metadata": {
    "scrolled": true
   },
   "outputs": [],
   "source": [
    "def predict(text, l_predictor, s_predictor):\n",
    "    l_predicted_label = l_predictor.predict(text)[0][0]\n",
    "    l_predicted_accuracy = int(round(float(l_predicted_label.replace('__label__', ''))))\n",
    "\n",
    "    s_predicted_label = s_predictor.predict(text)[0][0]\n",
    "    s_predicted_accuracy = int(round(float(s_predicted_label.replace('__label__', ''))))\n",
    "\n",
    "    return l_predicted_accuracy, s_predicted_accuracy"
   ]
  },
  {
   "cell_type": "code",
   "execution_count": 11,
   "id": "74d56eb4-a502-4583-961d-7b7c39eccd36",
   "metadata": {},
   "outputs": [],
   "source": [
    "def getResults(t, t_i, t_e):\n",
    "    s_output = df_combined_outputs[\"cnn_dailymail\"][t][\"tiny\"]\n",
    "    l_output = df_combined_outputs[\"cnn_dailymail\"][t][\"13b\"]\n",
    "    \n",
    "    # WMT14\n",
    "    # s_acc = calculate_bleu(s_output[0], t_e)\n",
    "    # l_acc = calculate_bleu(l_output[0], t_e)\n",
    "\n",
    "    # CNN Dailymail\n",
    "    s_acc = calculate_rouge(s_output[0], t_e)['rouge1']\n",
    "    l_acc = calculate_rouge(l_output[0], t_e)['rouge1']\n",
    "\n",
    "    return {\n",
    "        'input_text': t_i,\n",
    "        'large_model_accuracy': l_acc,\n",
    "        'small_model_accuracy': s_acc\n",
    "    }"
   ]
  },
  {
   "cell_type": "code",
   "execution_count": 12,
   "id": "a657f810-6521-4073-ab4d-bb1e7dee9648",
   "metadata": {},
   "outputs": [],
   "source": [
    "def checkpoint(l_predictor, s_predictor, t, p_t):\n",
    "    if p_t > 0.5:\n",
    "        if t % int(math.sqrt(t)) == 0:\n",
    "            print(\"Checkpoint\")\n",
    "            l_predictor, s_predictor = save_models(l_predictor, s_predictor)\n",
    "    else:\n",
    "        if t % max(1, int(1 / math.sqrt(t))) == 0:\n",
    "            print(\"Checkpoint\")\n",
    "            l_predictor, s_predictor = save_models(l_predictor, s_predictor)\n",
    "\n",
    "    return l_predictor, s_predictor"
   ]
  },
  {
   "cell_type": "code",
   "execution_count": 13,
   "id": "534194e3-df63-47f4-8aac-382813becd54",
   "metadata": {},
   "outputs": [],
   "source": [
    "def save_models(l_predictor, s_predictor):\n",
    "    if l_predictor:\n",
    "        l_predictor.save_model(\"large_predictor.bin\")\n",
    "    if s_predictor:\n",
    "        s_predictor.save_model(\"small_predictor.bin\")\n",
    "\n",
    "    return l_predictor, s_predictor"
   ]
  },
  {
   "cell_type": "code",
   "execution_count": 14,
   "id": "0aa759d8-058d-4dfb-bf54-edd84a9c993d",
   "metadata": {
    "scrolled": true
   },
   "outputs": [
    {
     "name": "stdout",
     "output_type": "stream",
     "text": [
      "Index: 1\n"
     ]
    },
    {
     "name": "stderr",
     "output_type": "stream",
     "text": [
      "Read 0M words\n",
      "Number of words:  693\n",
      "Number of labels: 1\n",
      "start training...\n",
      "Progress: 100.0% words/sec/thread:  260826 lr:  0.000000 loss:  0.000000 ETA:   0h 0m\n",
      "Read 0M words\n",
      "Number of words:  693\n",
      "Number of labels: 1\n",
      "start training...\n",
      "Progress: 100.0% words/sec/thread:  683256 lr:  0.000000 loss:  0.000000 ETA:   0h 0m\n"
     ]
    },
    {
     "name": "stdout",
     "output_type": "stream",
     "text": [
      "Checkpoint\n",
      "{'rouge1': 0.17475728155339806, 'rouge2': 0.05940594059405941, 'rougeL': 0.1553398058252427}\n",
      "Index: 2\n"
     ]
    },
    {
     "name": "stderr",
     "output_type": "stream",
     "text": [
      "Read 0M words\n",
      "Number of words:  281\n",
      "Number of labels: 1\n",
      "start training...\n",
      "Progress: 100.0% words/sec/thread:  287058 lr:  0.000000 loss:  0.000000 ETA:   0h 0m\n",
      "Read 0M words\n",
      "Number of words:  281\n",
      "Number of labels: 1\n",
      "start training...\n",
      "Progress: 100.0% words/sec/thread:  331848 lr:  0.000000 loss:  0.000000 ETA:   0h 0m\n"
     ]
    },
    {
     "name": "stdout",
     "output_type": "stream",
     "text": [
      "Checkpoint\n",
      "{'rouge1': 0.380952380952381, 'rouge2': 0.1359223300970874, 'rougeL': 0.22857142857142856}\n",
      "Index: 3\n"
     ]
    },
    {
     "name": "stderr",
     "output_type": "stream",
     "text": [
      "Read 0M words\n",
      "Number of words:  226\n",
      "Number of labels: 1\n",
      "start training...\n",
      "Progress: 100.0% words/sec/thread:  313353 lr:  0.000000 loss:  0.000000 ETA:   0h 0m\n",
      "Read 0M words\n",
      "Number of words:  226\n",
      "Number of labels: 1\n",
      "start training...\n",
      "Progress: 100.0% words/sec/thread:   52005 lr:  0.000000 loss:  0.000000 ETA:   0h 0m\n"
     ]
    },
    {
     "name": "stdout",
     "output_type": "stream",
     "text": [
      "Checkpoint\n",
      "{'rouge1': 0.2558139534883721, 'rouge2': 0.09523809523809523, 'rougeL': 0.1627906976744186}\n",
      "Index: 4\n"
     ]
    },
    {
     "name": "stderr",
     "output_type": "stream",
     "text": [
      "Read 0M words\n",
      "Number of words:  277\n",
      "Number of labels: 1\n",
      "start training...\n",
      "Progress: 100.0% words/sec/thread:  323008 lr:  0.000000 loss:  0.000000 ETA:   0h 0m\n",
      "Read 0M words\n",
      "Number of words:  277\n",
      "Number of labels: 1\n",
      "start training...\n",
      "Progress: 100.0% words/sec/thread:  354393 lr:  0.000000 loss:  0.000000 ETA:   0h 0m\n"
     ]
    },
    {
     "name": "stdout",
     "output_type": "stream",
     "text": [
      "Checkpoint\n",
      "{'rouge1': 0.21978021978021975, 'rouge2': 0.0898876404494382, 'rougeL': 0.10989010989010987}\n",
      "Index: 5\n"
     ]
    },
    {
     "name": "stderr",
     "output_type": "stream",
     "text": [
      "Read 0M words\n",
      "Number of words:  450\n",
      "Number of labels: 1\n",
      "start training...\n",
      "Progress: 100.0% words/sec/thread:  334918 lr:  0.000000 loss:  0.000000 ETA:   0h 0m\n",
      "Read 0M words\n",
      "Number of words:  450\n",
      "Number of labels: 1\n",
      "start training...\n",
      "Progress: 100.0% words/sec/thread:  495793 lr:  0.000000 loss:  0.000000 ETA:   0h 0m\n"
     ]
    },
    {
     "name": "stdout",
     "output_type": "stream",
     "text": [
      "{'rouge1': 0.21153846153846154, 'rouge2': 0.05882352941176471, 'rougeL': 0.17307692307692307}\n",
      "Index: 6\n"
     ]
    },
    {
     "name": "stderr",
     "output_type": "stream",
     "text": [
      "Read 0M words\n",
      "Number of words:  312\n",
      "Number of labels: 1\n",
      "start training...\n",
      "Progress: 100.0% words/sec/thread:  282684 lr:  0.000000 loss:  0.000000 ETA:   0h 0m\n",
      "Read 0M words\n",
      "Number of words:  312\n",
      "Number of labels: 1\n",
      "start training...\n",
      "Progress: 100.0% words/sec/thread:  354613 lr:  0.000000 loss:  0.000000 ETA:   0h 0m\n"
     ]
    },
    {
     "name": "stdout",
     "output_type": "stream",
     "text": [
      "Checkpoint\n",
      "{'rouge1': 0.2666666666666667, 'rouge2': 0.11650485436893204, 'rougeL': 0.20952380952380953}\n",
      "Index: 7\n"
     ]
    },
    {
     "name": "stderr",
     "output_type": "stream",
     "text": [
      "Read 0M words\n",
      "Number of words:  95\n",
      "Number of labels: 1\n",
      "start training...\n",
      "Progress: 100.0% words/sec/thread:   82239 lr:  0.000000 loss:  0.000000 ETA:   0h 0m\n",
      "Read 0M words\n",
      "Number of words:  95\n",
      "Number of labels: 1\n",
      "start training...\n",
      "Progress: 100.0% words/sec/thread:  124134 lr:  0.000000 loss:  0.000000 ETA:   0h 0m\n"
     ]
    },
    {
     "name": "stdout",
     "output_type": "stream",
     "text": [
      "{'rouge1': 0.32558139534883723, 'rouge2': 0.11904761904761905, 'rougeL': 0.186046511627907}\n",
      "Index: 8\n"
     ]
    },
    {
     "name": "stderr",
     "output_type": "stream",
     "text": [
      "Read 0M words\n",
      "Number of words:  271\n",
      "Number of labels: 1\n",
      "start training...\n",
      "Progress: 100.0% words/sec/thread:  271917 lr:  0.000000 loss:  0.000000 ETA:   0h 0m\n",
      "Read 0M words\n",
      "Number of words:  271\n",
      "Number of labels: 1\n",
      "start training...\n",
      "Progress: 100.0% words/sec/thread:  282434 lr:  0.000000 loss:  0.000000 ETA:   0h 0m\n"
     ]
    },
    {
     "name": "stdout",
     "output_type": "stream",
     "text": [
      "Checkpoint\n",
      "{'rouge1': 0.3725490196078431, 'rouge2': 0.22, 'rougeL': 0.23529411764705885}\n",
      "Index: 9\n"
     ]
    },
    {
     "name": "stderr",
     "output_type": "stream",
     "text": [
      "Read 0M words\n",
      "Number of words:  240\n",
      "Number of labels: 1\n",
      "start training...\n",
      "Progress: 100.0% words/sec/thread:  330510 lr:  0.000000 loss:  0.000000 ETA:   0h 0m\n",
      "Read 0M words\n",
      "Number of words:  240\n",
      "Number of labels: 1\n",
      "start training...\n",
      "Progress: 100.0% words/sec/thread:  351108 lr:  0.000000 loss:  0.000000 ETA:   0h 0m\n"
     ]
    },
    {
     "name": "stdout",
     "output_type": "stream",
     "text": [
      "Checkpoint\n",
      "{'rouge1': 0.23300970873786403, 'rouge2': 0.0594059405940594, 'rougeL': 0.13592233009708737}\n",
      "Index: 10\n"
     ]
    },
    {
     "name": "stderr",
     "output_type": "stream",
     "text": [
      "Read 0M words\n",
      "Number of words:  141\n",
      "Number of labels: 1\n",
      "start training...\n",
      "Progress: 100.0% words/sec/thread:  138588 lr:  0.000000 loss:  0.000000 ETA:   0h 0m\n",
      "Read 0M words\n",
      "Number of words:  141\n",
      "Number of labels: 1\n",
      "start training...\n",
      "Progress: 100.0% words/sec/thread:  160516 lr:  0.000000 loss:  0.000000 ETA:   0h 0m\n"
     ]
    },
    {
     "name": "stdout",
     "output_type": "stream",
     "text": [
      "{'rouge1': 0.37837837837837834, 'rouge2': 0.18348623853211013, 'rougeL': 0.2882882882882883}\n",
      "Index: 11\n"
     ]
    },
    {
     "name": "stderr",
     "output_type": "stream",
     "text": [
      "Read 0M words\n",
      "Number of words:  220\n",
      "Number of labels: 1\n",
      "start training...\n",
      "Progress: 100.0% words/sec/thread:  262724 lr:  0.000000 loss:  0.000000 ETA:   0h 0m\n",
      "Read 0M words\n",
      "Number of words:  220\n",
      "Number of labels: 1\n",
      "start training...\n",
      "Progress: 100.0% words/sec/thread:  238106 lr:  0.000000 loss:  0.000000 ETA:   0h 0m\n"
     ]
    },
    {
     "name": "stdout",
     "output_type": "stream",
     "text": [
      "{'rouge1': 0.39252336448598135, 'rouge2': 0.0761904761904762, 'rougeL': 0.22429906542056072}\n",
      "Index: 12\n"
     ]
    },
    {
     "name": "stderr",
     "output_type": "stream",
     "text": [
      "Read 0M words\n",
      "Number of words:  183\n",
      "Number of labels: 1\n",
      "start training...\n",
      "Progress: 100.0% words/sec/thread:  158373 lr:  0.000000 loss:  0.000000 ETA:   0h 0m\n",
      "Read 0M words\n",
      "Number of words:  183\n",
      "Number of labels: 1\n",
      "start training...\n",
      "Progress: 100.0% words/sec/thread:  168022 lr:  0.000000 loss:  0.000000 ETA:   0h 0m\n"
     ]
    },
    {
     "name": "stdout",
     "output_type": "stream",
     "text": [
      "Checkpoint\n",
      "{'rouge1': 0.24489795918367346, 'rouge2': 0.0625, 'rougeL': 0.18367346938775508}\n",
      "Index: 13\n"
     ]
    },
    {
     "name": "stderr",
     "output_type": "stream",
     "text": [
      "Read 0M words\n",
      "Number of words:  160\n",
      "Number of labels: 1\n",
      "start training...\n",
      "Progress: 100.0% words/sec/thread:  153719 lr:  0.000000 loss:  0.000000 ETA:   0h 0m\n",
      "Read 0M words\n",
      "Number of words:  160\n",
      "Number of labels: 1\n",
      "start training...\n",
      "Progress: 100.0% words/sec/thread:  172391 lr:  0.000000 loss:  0.000000 ETA:   0h 0m\n"
     ]
    },
    {
     "name": "stdout",
     "output_type": "stream",
     "text": [
      "{'rouge1': 0.5357142857142857, 'rouge2': 0.2962962962962963, 'rougeL': 0.42857142857142855}\n",
      "Index: 14\n"
     ]
    },
    {
     "name": "stderr",
     "output_type": "stream",
     "text": [
      "Read 0M words\n",
      "Number of words:  139\n",
      "Number of labels: 1\n",
      "start training...\n",
      "Progress: 100.0% words/sec/thread:  163327 lr:  0.000000 loss:  0.000000 ETA:   0h 0m\n",
      "Read 0M words\n",
      "Number of words:  139\n",
      "Number of labels: 1\n",
      "start training...\n",
      "Progress: 100.0% words/sec/thread:  134781 lr:  0.000000 loss:  0.000000 ETA:   0h 0m\n"
     ]
    },
    {
     "name": "stdout",
     "output_type": "stream",
     "text": [
      "{'rouge1': 0.26229508196721313, 'rouge2': 0.03333333333333333, 'rougeL': 0.18032786885245902}\n",
      "Index: 15\n"
     ]
    },
    {
     "name": "stderr",
     "output_type": "stream",
     "text": [
      "Read 0M words\n",
      "Number of words:  176\n",
      "Number of labels: 1\n",
      "start training...\n",
      "Progress: 100.0% words/sec/thread:   95720 lr:  0.000000 loss:  0.000000 ETA:   0h 0m\n",
      "Read 0M words\n",
      "Number of words:  176\n",
      "Number of labels: 1\n",
      "start training...\n",
      "Progress: 100.0% words/sec/thread:  148839 lr:  0.000000 loss:  0.000000 ETA:   0h 0m\n"
     ]
    },
    {
     "name": "stdout",
     "output_type": "stream",
     "text": [
      "Checkpoint\n",
      "{'rouge1': 0.49484536082474234, 'rouge2': 0.23157894736842105, 'rougeL': 0.288659793814433}\n",
      "Index: 16\n"
     ]
    },
    {
     "name": "stderr",
     "output_type": "stream",
     "text": [
      "Read 0M words\n",
      "Number of words:  126\n",
      "Number of labels: 1\n",
      "start training...\n",
      "Progress: 100.0% words/sec/thread:  149686 lr:  0.000000 loss:  0.000000 ETA:   0h 0m\n",
      "Read 0M words\n",
      "Number of words:  126\n",
      "Number of labels: 1\n",
      "start training...\n",
      "Progress: 100.0% words/sec/thread:  100067 lr:  0.000000 loss:  0.000000 ETA:   0h 0m\n"
     ]
    },
    {
     "name": "stdout",
     "output_type": "stream",
     "text": [
      "Checkpoint\n",
      "{'rouge1': 0.5882352941176471, 'rouge2': 0.33333333333333337, 'rougeL': 0.38235294117647056}\n",
      "Index: 17\n"
     ]
    },
    {
     "name": "stderr",
     "output_type": "stream",
     "text": [
      "Read 0M words\n",
      "Number of words:  236\n",
      "Number of labels: 1\n",
      "start training...\n",
      "Progress: 100.0% words/sec/thread:  272230 lr:  0.000000 loss:  0.000000 ETA:   0h 0m\n",
      "Read 0M words\n",
      "Number of words:  236\n",
      "Number of labels: 1\n",
      "start training...\n",
      "Progress: 100.0% words/sec/thread:  138753 lr:  0.000000 loss:  0.000000 ETA:   0h 0m\n"
     ]
    },
    {
     "name": "stdout",
     "output_type": "stream",
     "text": [
      "{'rouge1': 0.4285714285714285, 'rouge2': 0.125, 'rougeL': 0.22448979591836732}\n",
      "Index: 18\n"
     ]
    },
    {
     "name": "stderr",
     "output_type": "stream",
     "text": [
      "Read 0M words\n",
      "Number of words:  449\n",
      "Number of labels: 1\n",
      "start training...\n",
      "Progress: 100.0% words/sec/thread:  505761 lr:  0.000000 loss:  0.000000 ETA:   0h 0m\n",
      "Read 0M words\n",
      "Number of words:  449\n",
      "Number of labels: 1\n",
      "start training...\n",
      "Progress: 100.0% words/sec/thread:  407772 lr:  0.000000 loss:  0.000000 ETA:   0h 0m\n"
     ]
    },
    {
     "name": "stdout",
     "output_type": "stream",
     "text": [
      "{'rouge1': 0.27586206896551724, 'rouge2': 0.07017543859649121, 'rougeL': 0.17241379310344826}\n",
      "Index: 19\n"
     ]
    },
    {
     "name": "stderr",
     "output_type": "stream",
     "text": [
      "Read 0M words\n",
      "Number of words:  335\n",
      "Number of labels: 1\n",
      "start training...\n",
      "Progress: 100.0% words/sec/thread:  358619 lr:  0.000000 loss:  0.000000 ETA:   0h 0m\n",
      "Read 0M words\n",
      "Number of words:  335\n",
      "Number of labels: 1\n",
      "start training...\n",
      "Progress: 100.0% words/sec/thread:  310588 lr:  0.000000 loss:  0.000000 ETA:   0h 0m\n"
     ]
    },
    {
     "name": "stdout",
     "output_type": "stream",
     "text": [
      "{'rouge1': 0.24742268041237112, 'rouge2': 0.06315789473684211, 'rougeL': 0.2061855670103093}\n",
      "Index: 20\n"
     ]
    },
    {
     "name": "stderr",
     "output_type": "stream",
     "text": [
      "Read 0M words\n",
      "Number of words:  100\n",
      "Number of labels: 1\n",
      "start training...\n",
      "Progress: 100.0% words/sec/thread:  125333 lr:  0.000000 loss:  0.000000 ETA:   0h 0m\n",
      "Read 0M words\n",
      "Number of words:  100\n",
      "Number of labels: 1\n",
      "start training...\n",
      "Progress: 100.0% words/sec/thread:   88735 lr:  0.000000 loss:  0.000000 ETA:   0h 0m\n"
     ]
    },
    {
     "name": "stdout",
     "output_type": "stream",
     "text": [
      "Checkpoint\n",
      "{'rouge1': 0.42592592592592593, 'rouge2': 0.1320754716981132, 'rougeL': 0.2037037037037037}\n",
      "Index: 21\n"
     ]
    },
    {
     "name": "stderr",
     "output_type": "stream",
     "text": [
      "Read 0M words\n",
      "Number of words:  65\n",
      "Number of labels: 1\n",
      "start training...\n",
      "Progress: 100.0% words/sec/thread:   63185 lr:  0.000000 loss:  0.000000 ETA:   0h 0m\n",
      "Read 0M words\n",
      "Number of words:  65\n",
      "Number of labels: 1\n",
      "start training...\n",
      "Progress: 100.0% words/sec/thread:   39396 lr:  0.000000 loss:  0.000000 ETA:   0h 0m\n"
     ]
    },
    {
     "name": "stdout",
     "output_type": "stream",
     "text": [
      "{'rouge1': 0.2278481012658228, 'rouge2': 0.1038961038961039, 'rougeL': 0.20253164556962025}\n",
      "Index: 22\n"
     ]
    },
    {
     "name": "stderr",
     "output_type": "stream",
     "text": [
      "Read 0M words\n",
      "Number of words:  150\n",
      "Number of labels: 1\n",
      "start training...\n",
      "Progress: 100.0% words/sec/thread:  134808 lr:  0.000000 loss:  0.000000 ETA:   0h 0m\n",
      "Read 0M words\n",
      "Number of words:  150\n",
      "Number of labels: 1\n",
      "start training...\n",
      "Progress: 100.0% words/sec/thread:   79710 lr:  0.000000 loss:  0.000000 ETA:   0h 0m\n"
     ]
    },
    {
     "name": "stdout",
     "output_type": "stream",
     "text": [
      "{'rouge1': 0.379746835443038, 'rouge2': 0.28571428571428575, 'rougeL': 0.32911392405063294}\n",
      "Index: 23\n"
     ]
    },
    {
     "name": "stderr",
     "output_type": "stream",
     "text": [
      "Read 0M words\n",
      "Number of words:  297\n",
      "Number of labels: 1\n",
      "start training...\n",
      "Progress: 100.0% words/sec/thread:  277047 lr:  0.000000 loss:  0.000000 ETA:   0h 0m\n",
      "Read 0M words\n",
      "Number of words:  297\n",
      "Number of labels: 1\n",
      "start training...\n",
      "Progress: 100.0% words/sec/thread:  352253 lr:  0.000000 loss:  0.000000 ETA:   0h 0m\n"
     ]
    },
    {
     "name": "stdout",
     "output_type": "stream",
     "text": [
      "{'rouge1': 0.2765957446808511, 'rouge2': 0.1956521739130435, 'rougeL': 0.2765957446808511}\n",
      "Index: 24\n"
     ]
    },
    {
     "name": "stderr",
     "output_type": "stream",
     "text": [
      "Read 0M words\n",
      "Number of words:  292\n",
      "Number of labels: 1\n",
      "start training...\n",
      "Progress: 100.0% words/sec/thread:  175500 lr:  0.000000 loss:  0.000000 ETA:   0h 0m\n",
      "Read 0M words\n",
      "Number of words:  292\n",
      "Number of labels: 1\n",
      "start training...\n",
      "Progress: 100.0% words/sec/thread:  243733 lr:  0.000000 loss:  0.000000 ETA:   0h 0m\n"
     ]
    },
    {
     "name": "stdout",
     "output_type": "stream",
     "text": [
      "Checkpoint\n",
      "{'rouge1': 0.48148148148148157, 'rouge2': 0.22641509433962265, 'rougeL': 0.4074074074074075}\n",
      "Index: 25\n"
     ]
    },
    {
     "name": "stderr",
     "output_type": "stream",
     "text": [
      "Read 0M words\n",
      "Number of words:  204\n",
      "Number of labels: 1\n",
      "start training...\n",
      "Progress: 100.0% words/sec/thread:  211545 lr:  0.000000 loss:  0.000000 ETA:   0h 0m\n",
      "Read 0M words\n",
      "Number of words:  204\n",
      "Number of labels: 1\n",
      "start training...\n",
      "Progress: 100.0% words/sec/thread:  119431 lr:  0.000000 loss:  0.000000 ETA:   0h 0m\n"
     ]
    },
    {
     "name": "stdout",
     "output_type": "stream",
     "text": [
      "Checkpoint\n",
      "{'rouge1': 0.3695652173913043, 'rouge2': 0.13333333333333333, 'rougeL': 0.21739130434782608}\n",
      "Index: 26\n"
     ]
    },
    {
     "name": "stderr",
     "output_type": "stream",
     "text": [
      "Read 0M words\n",
      "Number of words:  178\n",
      "Number of labels: 1\n",
      "start training...\n",
      "Progress: 100.0% words/sec/thread:  222361 lr:  0.000000 loss:  0.000000 ETA:   0h 0m\n",
      "Read 0M words\n",
      "Number of words:  178\n",
      "Number of labels: 1\n",
      "start training...\n",
      "Progress: 100.0% words/sec/thread:  194061 lr:  0.000000 loss:  0.000000 ETA:   0h 0m\n"
     ]
    },
    {
     "name": "stdout",
     "output_type": "stream",
     "text": [
      "{'rouge1': 0.33962264150943394, 'rouge2': 0.1346153846153846, 'rougeL': 0.2830188679245283}\n",
      "Index: 27\n"
     ]
    },
    {
     "name": "stderr",
     "output_type": "stream",
     "text": [
      "Read 0M words\n",
      "Number of words:  114\n",
      "Number of labels: 1\n",
      "start training...\n",
      "Progress: 100.0% words/sec/thread:  109463 lr:  0.000000 loss:  0.000000 ETA:   0h 0m\n",
      "Read 0M words\n",
      "Number of words:  114\n",
      "Number of labels: 1\n",
      "start training...\n",
      "Progress: 100.0% words/sec/thread:  122550 lr:  0.000000 loss:  0.000000 ETA:   0h 0m\n"
     ]
    },
    {
     "name": "stdout",
     "output_type": "stream",
     "text": [
      "{'rouge1': 0.4166666666666667, 'rouge2': 0.276595744680851, 'rougeL': 0.37499999999999994}\n",
      "Index: 28\n"
     ]
    },
    {
     "name": "stderr",
     "output_type": "stream",
     "text": [
      "Read 0M words\n",
      "Number of words:  107\n",
      "Number of labels: 1\n",
      "start training...\n",
      "Progress: 100.0% words/sec/thread:   92464 lr:  0.000000 loss:  0.000000 ETA:   0h 0m\n",
      "Read 0M words\n",
      "Number of words:  107\n",
      "Number of labels: 1\n",
      "start training...\n",
      "Progress: 100.0% words/sec/thread:  162636 lr:  0.000000 loss:  0.000000 ETA:   0h 0m\n"
     ]
    },
    {
     "name": "stdout",
     "output_type": "stream",
     "text": [
      "{'rouge1': 0.4074074074074074, 'rouge2': 0.18867924528301885, 'rougeL': 0.25925925925925924}\n",
      "Index: 29\n"
     ]
    },
    {
     "name": "stderr",
     "output_type": "stream",
     "text": [
      "Read 0M words\n",
      "Number of words:  224\n",
      "Number of labels: 1\n",
      "start training...\n",
      "Progress: 100.0% words/sec/thread:  191656 lr:  0.000000 loss:  0.000000 ETA:   0h 0m\n",
      "Read 0M words\n",
      "Number of words:  224\n",
      "Number of labels: 1\n",
      "start training...\n",
      "Progress: 100.0% words/sec/thread:  153524 lr:  0.000000 loss:  0.000000 ETA:   0h 0m\n"
     ]
    },
    {
     "name": "stdout",
     "output_type": "stream",
     "text": [
      "{'rouge1': 0.3725490196078432, 'rouge2': 0.09999999999999999, 'rougeL': 0.23529411764705882}\n",
      "Index: 30\n"
     ]
    },
    {
     "name": "stderr",
     "output_type": "stream",
     "text": [
      "Read 0M words\n",
      "Number of words:  442\n",
      "Number of labels: 1\n",
      "start training...\n",
      "Progress: 100.0% words/sec/thread:  394202 lr:  0.000000 loss:  0.000000 ETA:   0h 0m\n",
      "Read 0M words\n",
      "Number of words:  442\n",
      "Number of labels: 1\n",
      "start training...\n",
      "Progress: 100.0% words/sec/thread:  511138 lr:  0.000000 loss:  0.000000 ETA:   0h 0m\n"
     ]
    },
    {
     "name": "stdout",
     "output_type": "stream",
     "text": [
      "Checkpoint\n",
      "{'rouge1': 0.3392857142857143, 'rouge2': 0.07272727272727274, 'rougeL': 0.17857142857142858}\n",
      "Index: 31\n"
     ]
    },
    {
     "name": "stderr",
     "output_type": "stream",
     "text": [
      "Read 0M words\n",
      "Number of words:  194\n",
      "Number of labels: 1\n",
      "start training...\n",
      "Progress: 100.0% words/sec/thread:  211994 lr:  0.000000 loss:  0.000000 ETA:   0h 0m\n",
      "Read 0M words\n",
      "Number of words:  194\n",
      "Number of labels: 1\n",
      "start training...\n",
      "Progress: 100.0% words/sec/thread:  202958 lr:  0.000000 loss:  0.000000 ETA:   0h 0m\n"
     ]
    },
    {
     "name": "stdout",
     "output_type": "stream",
     "text": [
      "{'rouge1': 0.35294117647058826, 'rouge2': 0.14457831325301204, 'rougeL': 0.18823529411764706}\n",
      "Index: 32\n"
     ]
    },
    {
     "name": "stderr",
     "output_type": "stream",
     "text": [
      "Read 0M words\n",
      "Number of words:  117\n",
      "Number of labels: 1\n",
      "start training...\n",
      "Progress: 100.0% words/sec/thread:   60929 lr:  0.000000 loss:  0.000000 ETA:   0h 0m\n",
      "Read 0M words\n",
      "Number of words:  117\n",
      "Number of labels: 1\n",
      "start training...\n",
      "Progress: 100.0% words/sec/thread:   72893 lr:  0.000000 loss:  0.000000 ETA:   0h 0m\n"
     ]
    },
    {
     "name": "stdout",
     "output_type": "stream",
     "text": [
      "{'rouge1': 0.2417582417582418, 'rouge2': 0.0449438202247191, 'rougeL': 0.15384615384615385}\n",
      "Index: 33\n",
      "{'rouge1': 0.1616161616161616, 'rouge2': 0.0, 'rougeL': 0.0808080808080808}\n",
      "Index: 34\n",
      "{'rouge1': 0.36893203883495146, 'rouge2': 0.1386138613861386, 'rougeL': 0.25242718446601947}\n",
      "Index: 35\n"
     ]
    },
    {
     "name": "stderr",
     "output_type": "stream",
     "text": [
      "Read 0M words\n",
      "Number of words:  435\n",
      "Number of labels: 1\n",
      "start training...\n",
      "Progress: 100.0% words/sec/thread:  572133 lr:  0.000000 loss:  0.000000 ETA:   0h 0m\n",
      "Read 0M words\n",
      "Number of words:  435\n",
      "Number of labels: 1\n",
      "start training...\n",
      "Progress: 100.0% words/sec/thread:  547161 lr:  0.000000 loss:  0.000000 ETA:   0h 0m\n"
     ]
    },
    {
     "name": "stdout",
     "output_type": "stream",
     "text": [
      "Checkpoint\n",
      "{'rouge1': 0.17391304347826086, 'rouge2': 0.02222222222222222, 'rougeL': 0.10869565217391305}\n",
      "Index: 36\n"
     ]
    },
    {
     "name": "stderr",
     "output_type": "stream",
     "text": [
      "Read 0M words\n",
      "Number of words:  259\n",
      "Number of labels: 1\n",
      "start training...\n",
      "Progress: 100.0% words/sec/thread:  296385 lr:  0.000000 loss:  0.000000 ETA:   0h 0m\n",
      "Read 0M words\n",
      "Number of words:  259\n",
      "Number of labels: 1\n",
      "start training...\n",
      "Progress: 100.0% words/sec/thread:  292767 lr:  0.000000 loss:  0.000000 ETA:   0h 0m\n"
     ]
    },
    {
     "name": "stdout",
     "output_type": "stream",
     "text": [
      "Checkpoint\n",
      "{'rouge1': 0.3409090909090909, 'rouge2': 0.06976744186046512, 'rougeL': 0.18181818181818182}\n",
      "Index: 37\n"
     ]
    },
    {
     "name": "stderr",
     "output_type": "stream",
     "text": [
      "Read 0M words\n",
      "Number of words:  247\n",
      "Number of labels: 1\n",
      "start training...\n",
      "Progress: 100.0% words/sec/thread:  244438 lr:  0.000000 loss:  0.000000 ETA:   0h 0m\n",
      "Read 0M words\n",
      "Number of words:  247\n",
      "Number of labels: 1\n",
      "start training...\n",
      "Progress: 100.0% words/sec/thread:  180029 lr:  0.000000 loss:  0.000000 ETA:   0h 0m\n"
     ]
    },
    {
     "name": "stdout",
     "output_type": "stream",
     "text": [
      "{'rouge1': 0.30357142857142855, 'rouge2': 0.05454545454545454, 'rougeL': 0.125}\n",
      "Index: 38\n"
     ]
    },
    {
     "name": "stderr",
     "output_type": "stream",
     "text": [
      "Read 0M words\n",
      "Number of words:  137\n",
      "Number of labels: 1\n",
      "start training...\n",
      "Progress: 100.0% words/sec/thread:   93040 lr:  0.000000 loss:  0.000000 ETA:   0h 0m\n",
      "Read 0M words\n",
      "Number of words:  137\n",
      "Number of labels: 1\n",
      "start training...\n",
      "Progress: 100.0% words/sec/thread:   95638 lr:  0.000000 loss:  0.000000 ETA:   0h 0m\n"
     ]
    },
    {
     "name": "stdout",
     "output_type": "stream",
     "text": [
      "{'rouge1': 0.09876543209876543, 'rouge2': 0.0, 'rougeL': 0.07407407407407407}\n",
      "Index: 39\n"
     ]
    },
    {
     "name": "stderr",
     "output_type": "stream",
     "text": [
      "Read 0M words\n",
      "Number of words:  758\n",
      "Number of labels: 1\n",
      "start training...\n",
      "Progress: 100.0% words/sec/thread:  678047 lr:  0.000000 loss:  0.000000 ETA:   0h 0m\n",
      "Read 0M words\n",
      "Number of words:  758\n",
      "Number of labels: 1\n",
      "start training...\n",
      "Progress: 100.0% words/sec/thread:  634148 lr:  0.000000 loss:  0.000000 ETA:   0h 0m\n"
     ]
    },
    {
     "name": "stdout",
     "output_type": "stream",
     "text": [
      "{'rouge1': 0.21276595744680854, 'rouge2': 0.021739130434782608, 'rougeL': 0.12765957446808512}\n",
      "Index: 40\n"
     ]
    },
    {
     "name": "stderr",
     "output_type": "stream",
     "text": [
      "Read 0M words\n",
      "Number of words:  78\n",
      "Number of labels: 1\n",
      "start training...\n",
      "Progress: 100.0% words/sec/thread:  122013 lr:  0.000000 loss:  0.000000 ETA:   0h 0m\n",
      "Read 0M words\n",
      "Number of words:  78\n",
      "Number of labels: 1\n",
      "start training...\n",
      "Progress: 100.0% words/sec/thread:  110106 lr:  0.000000 loss:  0.000000 ETA:   0h 0m\n"
     ]
    },
    {
     "name": "stdout",
     "output_type": "stream",
     "text": [
      "{'rouge1': 0.5217391304347826, 'rouge2': 0.4, 'rougeL': 0.45652173913043476}\n",
      "Index: 41\n"
     ]
    },
    {
     "name": "stderr",
     "output_type": "stream",
     "text": [
      "Read 0M words\n",
      "Number of words:  302\n",
      "Number of labels: 1\n",
      "start training...\n",
      "Progress: 100.0% words/sec/thread:  360563 lr:  0.000000 loss:  0.000000 ETA:   0h 0m\n",
      "Read 0M words\n",
      "Number of words:  302\n",
      "Number of labels: 1\n",
      "start training...\n",
      "Progress: 100.0% words/sec/thread:  242899 lr:  0.000000 loss:  0.000000 ETA:   0h 0m\n"
     ]
    },
    {
     "name": "stdout",
     "output_type": "stream",
     "text": [
      "{'rouge1': 0.3614457831325301, 'rouge2': 0.24691358024691357, 'rougeL': 0.19277108433734938}\n",
      "Index: 42\n"
     ]
    },
    {
     "name": "stderr",
     "output_type": "stream",
     "text": [
      "Read 0M words\n",
      "Number of words:  533\n",
      "Number of labels: 1\n",
      "start training...\n",
      "Progress: 100.0% words/sec/thread:  598366 lr:  0.000000 loss:  0.000000 ETA:   0h 0m\n",
      "Read 0M words\n",
      "Number of words:  533\n",
      "Number of labels: 1\n",
      "start training...\n",
      "Progress: 100.0% words/sec/thread:  548206 lr:  0.000000 loss:  0.000000 ETA:   0h 0m\n"
     ]
    },
    {
     "name": "stdout",
     "output_type": "stream",
     "text": [
      "Checkpoint\n",
      "{'rouge1': 0.20202020202020202, 'rouge2': 0.02061855670103093, 'rougeL': 0.14141414141414144}\n",
      "Index: 43\n"
     ]
    },
    {
     "name": "stderr",
     "output_type": "stream",
     "text": [
      "Read 0M words\n",
      "Number of words:  436\n",
      "Number of labels: 1\n",
      "start training...\n",
      "Progress: 100.0% words/sec/thread:  533790 lr:  0.000000 loss:  0.000000 ETA:   0h 0m\n",
      "Read 0M words\n",
      "Number of words:  436\n",
      "Number of labels: 1\n",
      "start training...\n",
      "Progress: 100.0% words/sec/thread:  362703 lr:  0.000000 loss:  0.000000 ETA:   0h 0m\n"
     ]
    },
    {
     "name": "stdout",
     "output_type": "stream",
     "text": [
      "{'rouge1': 0.2882882882882883, 'rouge2': 0.03669724770642202, 'rougeL': 0.19819819819819817}\n",
      "Index: 44\n"
     ]
    },
    {
     "name": "stderr",
     "output_type": "stream",
     "text": [
      "Read 0M words\n",
      "Number of words:  210\n",
      "Number of labels: 1\n",
      "start training...\n",
      "Progress: 100.0% words/sec/thread:  213080 lr:  0.000000 loss:  0.000000 ETA:   0h 0m\n",
      "Read 0M words\n",
      "Number of words:  210\n",
      "Number of labels: 1\n",
      "start training...\n",
      "Progress: 100.0% words/sec/thread:  257562 lr:  0.000000 loss:  0.000000 ETA:   0h 0m\n"
     ]
    },
    {
     "name": "stdout",
     "output_type": "stream",
     "text": [
      "{'rouge1': 0.2280701754385965, 'rouge2': 0.03571428571428571, 'rougeL': 0.15789473684210528}\n",
      "Index: 45\n"
     ]
    },
    {
     "name": "stderr",
     "output_type": "stream",
     "text": [
      "Read 0M words\n",
      "Number of words:  193\n",
      "Number of labels: 1\n",
      "start training...\n",
      "Progress: 100.0% words/sec/thread:  199629 lr:  0.000000 loss:  0.000000 ETA:   0h 0m\n",
      "Read 0M words\n",
      "Number of words:  193\n",
      "Number of labels: 1\n",
      "start training...\n",
      "Progress: 100.0% words/sec/thread:  251117 lr:  0.000000 loss:  0.000000 ETA:   0h 0m\n"
     ]
    },
    {
     "name": "stdout",
     "output_type": "stream",
     "text": [
      "{'rouge1': 0.5, 'rouge2': 0.2452830188679245, 'rougeL': 0.3148148148148148}\n",
      "Index: 46\n"
     ]
    },
    {
     "name": "stderr",
     "output_type": "stream",
     "text": [
      "Read 0M words\n",
      "Number of words:  179\n",
      "Number of labels: 1\n",
      "start training...\n",
      "Progress: 100.0% words/sec/thread:  156987 lr:  0.000000 loss:  0.000000 ETA:   0h 0m\n",
      "Read 0M words\n",
      "Number of words:  179\n",
      "Number of labels: 1\n",
      "start training...\n",
      "Progress: 100.0% words/sec/thread:  231286 lr:  0.000000 loss:  0.000000 ETA:   0h 0m\n"
     ]
    },
    {
     "name": "stdout",
     "output_type": "stream",
     "text": [
      "{'rouge1': 0.3505154639175258, 'rouge2': 0.06315789473684211, 'rougeL': 0.20618556701030927}\n",
      "Index: 47\n"
     ]
    },
    {
     "name": "stderr",
     "output_type": "stream",
     "text": [
      "Read 0M words\n",
      "Number of words:  289\n",
      "Number of labels: 1\n",
      "start training...\n",
      "Progress: 100.0% words/sec/thread:  417189 lr:  0.000000 loss:  0.000000 ETA:   0h 0m\n",
      "Read 0M words\n",
      "Number of words:  289\n",
      "Number of labels: 1\n",
      "start training...\n",
      "Progress: 100.0% words/sec/thread:  376344 lr:  0.000000 loss:  0.000000 ETA:   0h 0m\n"
     ]
    },
    {
     "name": "stdout",
     "output_type": "stream",
     "text": [
      "{'rouge1': 0.22448979591836735, 'rouge2': 0.10416666666666664, 'rougeL': 0.20408163265306126}\n",
      "Index: 48\n",
      "{'rouge1': 0.46153846153846156, 'rouge2': 0.2745098039215686, 'rougeL': 0.24999999999999994}\n",
      "Index: 49\n",
      "{'rouge1': 0.25, 'rouge2': 0.08510638297872342, 'rougeL': 0.14583333333333331}\n",
      "Index: 50\n",
      "{'rouge1': 0.5818181818181818, 'rouge2': 0.33333333333333326, 'rougeL': 0.3090909090909091}\n",
      "Index: 51\n"
     ]
    },
    {
     "name": "stderr",
     "output_type": "stream",
     "text": [
      "Read 0M words\n",
      "Number of words:  575\n",
      "Number of labels: 1\n",
      "start training...\n",
      "Progress: 100.0% words/sec/thread:  566748 lr:  0.000000 loss:  0.000000 ETA:   0h 0m\n",
      "Read 0M words\n",
      "Number of words:  575\n",
      "Number of labels: 1\n",
      "start training...\n",
      "Progress: 100.0% words/sec/thread:  636572 lr:  0.000000 loss:  0.000000 ETA:   0h 0m\n"
     ]
    },
    {
     "name": "stdout",
     "output_type": "stream",
     "text": [
      "{'rouge1': 0.42105263157894735, 'rouge2': 0.17857142857142858, 'rougeL': 0.2807017543859649}\n",
      "Index: 52\n",
      "{'rouge1': 0.2637362637362637, 'rouge2': 0.02247191011235955, 'rougeL': 0.10989010989010989}\n",
      "Index: 53\n",
      "{'rouge1': 0.14414414414414414, 'rouge2': 0.0, 'rougeL': 0.09009009009009009}\n",
      "Index: 54\n"
     ]
    },
    {
     "name": "stderr",
     "output_type": "stream",
     "text": [
      "Read 0M words\n",
      "Number of words:  428\n",
      "Number of labels: 1\n",
      "start training...\n",
      "Progress: 100.0% words/sec/thread:  566846 lr:  0.000000 loss:  0.000000 ETA:   0h 0m\n",
      "Read 0M words\n",
      "Number of words:  428\n",
      "Number of labels: 1\n",
      "start training...\n",
      "Progress: 100.0% words/sec/thread:  549443 lr:  0.000000 loss:  0.000000 ETA:   0h 0m\n"
     ]
    },
    {
     "name": "stdout",
     "output_type": "stream",
     "text": [
      "{'rouge1': 0.23008849557522124, 'rouge2': 0.036036036036036036, 'rougeL': 0.15929203539823006}\n",
      "Index: 55\n"
     ]
    },
    {
     "name": "stderr",
     "output_type": "stream",
     "text": [
      "Read 0M words\n",
      "Number of words:  260\n",
      "Number of labels: 1\n",
      "start training...\n",
      "Progress: 100.0% words/sec/thread:  314155 lr:  0.000000 loss:  0.000000 ETA:   0h 0m\n",
      "Read 0M words\n",
      "Number of words:  260\n",
      "Number of labels: 1\n",
      "start training...\n",
      "Progress: 100.0% words/sec/thread:  268828 lr:  0.000000 loss:  0.000000 ETA:   0h 0m\n"
     ]
    },
    {
     "name": "stdout",
     "output_type": "stream",
     "text": [
      "{'rouge1': 0.42857142857142855, 'rouge2': 0.12727272727272726, 'rougeL': 0.30357142857142855}\n",
      "Index: 56\n",
      "{'rouge1': 0.32258064516129037, 'rouge2': 0.1758241758241758, 'rougeL': 0.25806451612903225}\n",
      "Index: 57\n",
      "{'rouge1': 0.3564356435643564, 'rouge2': 0.12121212121212122, 'rougeL': 0.23762376237623759}\n",
      "Index: 58\n"
     ]
    },
    {
     "name": "stderr",
     "output_type": "stream",
     "text": [
      "Read 0M words\n",
      "Number of words:  197\n",
      "Number of labels: 1\n",
      "start training...\n",
      "Progress: 100.0% words/sec/thread:  145023 lr:  0.000000 loss:  0.000000 ETA:   0h 0m\n",
      "Read 0M words\n",
      "Number of words:  197\n",
      "Number of labels: 1\n",
      "start training...\n",
      "Progress: 100.0% words/sec/thread:  177595 lr:  0.000000 loss:  0.000000 ETA:   0h 0m\n"
     ]
    },
    {
     "name": "stdout",
     "output_type": "stream",
     "text": [
      "{'rouge1': 0.5263157894736842, 'rouge2': 0.27027027027027023, 'rougeL': 0.4210526315789473}\n",
      "Index: 59\n"
     ]
    },
    {
     "name": "stderr",
     "output_type": "stream",
     "text": [
      "Read 0M words\n",
      "Number of words:  464\n",
      "Number of labels: 1\n",
      "start training...\n",
      "Progress: 100.0% words/sec/thread:  492751 lr:  0.000000 loss:  0.000000 ETA:   0h 0m\n",
      "Read 0M words\n",
      "Number of words:  464\n",
      "Number of labels: 1\n",
      "start training...\n",
      "Progress: 100.0% words/sec/thread:  530087 lr:  0.000000 loss:  0.000000 ETA:   0h 0m\n"
     ]
    },
    {
     "name": "stdout",
     "output_type": "stream",
     "text": [
      "{'rouge1': 0.25688073394495414, 'rouge2': 0.07476635514018691, 'rougeL': 0.16513761467889906}\n",
      "Index: 60\n",
      "{'rouge1': 0.11570247933884296, 'rouge2': 0.01680672268907563, 'rougeL': 0.06611570247933884}\n",
      "Index: 61\n"
     ]
    },
    {
     "name": "stderr",
     "output_type": "stream",
     "text": [
      "Read 0M words\n",
      "Number of words:  319\n",
      "Number of labels: 1\n",
      "start training...\n",
      "Progress: 100.0% words/sec/thread:  347740 lr:  0.000000 loss:  0.000000 ETA:   0h 0m\n",
      "Read 0M words\n",
      "Number of words:  319\n",
      "Number of labels: 1\n",
      "start training...\n",
      "Progress: 100.0% words/sec/thread:  333370 lr:  0.000000 loss:  0.000000 ETA:   0h 0m\n"
     ]
    },
    {
     "name": "stdout",
     "output_type": "stream",
     "text": [
      "{'rouge1': 0.5233644859813085, 'rouge2': 0.1714285714285714, 'rougeL': 0.35514018691588783}\n",
      "Index: 62\n",
      "{'rouge1': 0.3414634146341463, 'rouge2': 0.1322314049586777, 'rougeL': 0.22764227642276424}\n",
      "Index: 63\n",
      "{'rouge1': 0.3111111111111111, 'rouge2': 0.045454545454545456, 'rougeL': 0.2222222222222222}\n",
      "Index: 64\n"
     ]
    },
    {
     "name": "stderr",
     "output_type": "stream",
     "text": [
      "Read 0M words\n",
      "Number of words:  343\n",
      "Number of labels: 1\n",
      "start training...\n",
      "Progress: 100.0% words/sec/thread:  488711 lr:  0.000000 loss:  0.000000 ETA:   0h 0m\n",
      "Read 0M words\n",
      "Number of words:  343\n",
      "Number of labels: 1\n",
      "start training...\n",
      "Progress: 100.0% words/sec/thread:  374958 lr:  0.000000 loss:  0.000000 ETA:   0h 0m\n"
     ]
    },
    {
     "name": "stdout",
     "output_type": "stream",
     "text": [
      "Checkpoint\n",
      "{'rouge1': 0.42592592592592593, 'rouge2': 0.18867924528301885, 'rougeL': 0.20370370370370372}\n",
      "Index: 65\n"
     ]
    },
    {
     "name": "stderr",
     "output_type": "stream",
     "text": [
      "Read 0M words\n",
      "Number of words:  415\n",
      "Number of labels: 1\n",
      "start training...\n",
      "Progress: 100.0% words/sec/thread:  509952 lr:  0.000000 loss:  0.000000 ETA:   0h 0m\n",
      "Read 0M words\n",
      "Number of words:  415\n",
      "Number of labels: 1\n",
      "start training...\n",
      "Progress: 100.0% words/sec/thread:  529526 lr:  0.000000 loss:  0.000000 ETA:   0h 0m\n"
     ]
    },
    {
     "name": "stdout",
     "output_type": "stream",
     "text": [
      "{'rouge1': 0.3333333333333333, 'rouge2': 0.05357142857142857, 'rougeL': 0.17543859649122806}\n",
      "Index: 66\n"
     ]
    },
    {
     "name": "stderr",
     "output_type": "stream",
     "text": [
      "Read 0M words\n",
      "Number of words:  227\n",
      "Number of labels: 1\n",
      "start training...\n",
      "Progress: 100.0% words/sec/thread:  147336 lr:  0.000000 loss:  0.000000 ETA:   0h 0m\n",
      "Read 0M words\n",
      "Number of words:  227\n",
      "Number of labels: 1\n",
      "start training...\n",
      "Progress: 100.0% words/sec/thread:  186412 lr:  0.000000 loss:  0.000000 ETA:   0h 0m\n"
     ]
    },
    {
     "name": "stdout",
     "output_type": "stream",
     "text": [
      "{'rouge1': 0.23214285714285715, 'rouge2': 0.09090909090909091, 'rougeL': 0.1607142857142857}\n",
      "Index: 67\n",
      "{'rouge1': 0.043421052631578944, 'rouge2': 0.013175230566534916, 'rougeL': 0.031578947368421054}\n",
      "Index: 68\n",
      "{'rouge1': 0.32, 'rouge2': 0.04081632653061224, 'rougeL': 0.14}\n",
      "Index: 69\n",
      "{'rouge1': 0.31999999999999995, 'rouge2': 0.08130081300813007, 'rougeL': 0.15999999999999998}\n",
      "Index: 70\n",
      "{'rouge1': 0.47244094488188976, 'rouge2': 0.22399999999999998, 'rougeL': 0.3307086614173228}\n",
      "Index: 71\n",
      "{'rouge1': 0.39603960396039606, 'rouge2': 0.202020202020202, 'rougeL': 0.3564356435643564}\n",
      "Index: 72\n"
     ]
    },
    {
     "name": "stderr",
     "output_type": "stream",
     "text": [
      "Read 0M words\n",
      "Number of words:  230\n",
      "Number of labels: 1\n",
      "start training...\n",
      "Progress: 100.0% words/sec/thread:  327860 lr:  0.000000 loss:  0.000000 ETA:   0h 0m\n",
      "Read 0M words\n",
      "Number of words:  230\n",
      "Number of labels: 1\n",
      "start training...\n",
      "Progress: 100.0% words/sec/thread:  317061 lr:  0.000000 loss:  0.000000 ETA:   0h 0m\n"
     ]
    },
    {
     "name": "stdout",
     "output_type": "stream",
     "text": [
      "Checkpoint\n",
      "{'rouge1': 0.18947368421052632, 'rouge2': 0.08602150537634409, 'rougeL': 0.10526315789473684}\n",
      "Index: 73\n",
      "{'rouge1': 0.4660194174757281, 'rouge2': 0.19801980198019803, 'rougeL': 0.34951456310679613}\n",
      "Index: 74\n",
      "{'rouge1': 0.3571428571428571, 'rouge2': 0.16363636363636366, 'rougeL': 0.21428571428571427}\n",
      "Index: 75\n",
      "{'rouge1': 0.1568627450980392, 'rouge2': 0.060000000000000005, 'rougeL': 0.1568627450980392}\n",
      "Index: 76\n",
      "{'rouge1': 0.35714285714285715, 'rouge2': 0.09090909090909091, 'rougeL': 0.19642857142857142}\n",
      "Index: 77\n"
     ]
    },
    {
     "name": "stderr",
     "output_type": "stream",
     "text": [
      "Read 0M words\n",
      "Number of words:  438\n",
      "Number of labels: 1\n",
      "start training...\n",
      "Progress: 100.0% words/sec/thread:  625232 lr:  0.000000 loss:  0.000000 ETA:   0h 0m\n",
      "Read 0M words\n",
      "Number of words:  438\n",
      "Number of labels: 1\n",
      "start training...\n",
      "Progress: 100.0% words/sec/thread:  493371 lr:  0.000000 loss:  0.000000 ETA:   0h 0m\n"
     ]
    },
    {
     "name": "stdout",
     "output_type": "stream",
     "text": [
      "{'rouge1': 0.25000000000000006, 'rouge2': 0.05454545454545454, 'rougeL': 0.1607142857142857}\n",
      "Index: 78\n"
     ]
    },
    {
     "name": "stderr",
     "output_type": "stream",
     "text": [
      "Read 0M words\n",
      "Number of words:  506\n",
      "Number of labels: 1\n",
      "start training...\n",
      "Progress: 100.0% words/sec/thread:  632526 lr:  0.000000 loss:  0.000000 ETA:   0h 0m\n",
      "Read 0M words\n",
      "Number of words:  506\n",
      "Number of labels: 1\n",
      "start training...\n",
      "Progress: 100.0% words/sec/thread:  473660 lr:  0.000000 loss:  0.000000 ETA:   0h 0m\n"
     ]
    },
    {
     "name": "stdout",
     "output_type": "stream",
     "text": [
      "{'rouge1': 0.3541666666666667, 'rouge2': 0.12765957446808507, 'rougeL': 0.22916666666666666}\n",
      "Index: 79\n",
      "{'rouge1': 0.247787610619469, 'rouge2': 0.018018018018018018, 'rougeL': 0.1415929203539823}\n",
      "Index: 80\n"
     ]
    },
    {
     "name": "stderr",
     "output_type": "stream",
     "text": [
      "Read 0M words\n",
      "Number of words:  475\n",
      "Number of labels: 1\n",
      "start training...\n",
      "Progress: 100.0% words/sec/thread:  674689 lr:  0.000000 loss:  0.000000 ETA:   0h 0m\n",
      "Read 0M words\n",
      "Number of words:  475\n",
      "Number of labels: 1\n",
      "start training...\n",
      "Progress: 100.0% words/sec/thread:  651177 lr:  0.000000 loss:  0.000000 ETA:   0h 0m\n"
     ]
    },
    {
     "name": "stdout",
     "output_type": "stream",
     "text": [
      "Checkpoint\n",
      "{'rouge1': 0.19047619047619047, 'rouge2': 0.0, 'rougeL': 0.13333333333333333}\n",
      "Index: 81\n",
      "{'rouge1': 0.198019801980198, 'rouge2': 0.0202020202020202, 'rougeL': 0.1188118811881188}\n",
      "Index: 82\n"
     ]
    },
    {
     "name": "stderr",
     "output_type": "stream",
     "text": [
      "Read 0M words\n",
      "Number of words:  250\n",
      "Number of labels: 1\n",
      "start training...\n",
      "Progress: 100.0% words/sec/thread:  253933 lr:  0.000000 loss:  0.000000 ETA:   0h 0m\n",
      "Read 0M words\n",
      "Number of words:  250\n",
      "Number of labels: 1\n",
      "start training...\n",
      "Progress: 100.0% words/sec/thread:  233277 lr:  0.000000 loss:  0.000000 ETA:   0h 0m\n"
     ]
    },
    {
     "name": "stdout",
     "output_type": "stream",
     "text": [
      "{'rouge1': 0.32608695652173914, 'rouge2': 0.13333333333333333, 'rougeL': 0.21739130434782608}\n",
      "Index: 83\n",
      "{'rouge1': 0.24175824175824173, 'rouge2': 0.15730337078651685, 'rougeL': 0.21978021978021975}\n",
      "Index: 84\n",
      "{'rouge1': 0.2626262626262626, 'rouge2': 0.14432989690721648, 'rougeL': 0.24242424242424243}\n",
      "Index: 85\n"
     ]
    },
    {
     "name": "stderr",
     "output_type": "stream",
     "text": [
      "Read 0M words\n",
      "Number of words:  367\n",
      "Number of labels: 1\n",
      "start training...\n",
      "Progress: 100.0% words/sec/thread:  449271 lr:  0.000000 loss:  0.000000 ETA:   0h 0m\n",
      "Read 0M words\n",
      "Number of words:  367\n",
      "Number of labels: 1\n",
      "start training...\n",
      "Progress: 100.0% words/sec/thread:  433767 lr:  0.000000 loss:  0.000000 ETA:   0h 0m\n"
     ]
    },
    {
     "name": "stdout",
     "output_type": "stream",
     "text": [
      "{'rouge1': 0.22222222222222224, 'rouge2': 0.04545454545454545, 'rougeL': 0.13333333333333333}\n",
      "Index: 86\n"
     ]
    },
    {
     "name": "stderr",
     "output_type": "stream",
     "text": [
      "Read 0M words\n",
      "Number of words:  673\n",
      "Number of labels: 1\n",
      "start training...\n",
      "Progress: 100.0% words/sec/thread:  702008 lr:  0.000000 loss:  0.000000 ETA:   0h 0m\n",
      "Read 0M words\n",
      "Number of words:  673\n",
      "Number of labels: 1\n",
      "start training...\n",
      "Progress: 100.0% words/sec/thread:  631057 lr:  0.000000 loss:  0.000000 ETA:   0h 0m\n"
     ]
    },
    {
     "name": "stdout",
     "output_type": "stream",
     "text": [
      "{'rouge1': 0.1935483870967742, 'rouge2': 0.021978021978021976, 'rougeL': 0.12903225806451613}\n",
      "Index: 87\n",
      "{'rouge1': 0.3434343434343435, 'rouge2': 0.10309278350515465, 'rougeL': 0.24242424242424246}\n",
      "Index: 88\n"
     ]
    },
    {
     "name": "stderr",
     "output_type": "stream",
     "text": [
      "Read 0M words\n",
      "Number of words:  406\n",
      "Number of labels: 1\n",
      "start training...\n",
      "Progress: 100.0% words/sec/thread:  514032 lr:  0.000000 loss:  0.000000 ETA:   0h 0m\n",
      "Read 0M words\n",
      "Number of words:  406\n",
      "Number of labels: 1\n",
      "start training...\n",
      "Progress: 100.0% words/sec/thread:  512461 lr:  0.000000 loss:  0.000000 ETA:   0h 0m\n"
     ]
    },
    {
     "name": "stdout",
     "output_type": "stream",
     "text": [
      "{'rouge1': 0.3300970873786408, 'rouge2': 0.07920792079207921, 'rougeL': 0.1553398058252427}\n",
      "Index: 89\n",
      "{'rouge1': 0.24, 'rouge2': 0.12244897959183673, 'rougeL': 0.22000000000000003}\n",
      "Index: 90\n",
      "{'rouge1': 0.1443298969072165, 'rouge2': 0.021052631578947364, 'rougeL': 0.12371134020618556}\n",
      "Index: 91\n"
     ]
    },
    {
     "name": "stderr",
     "output_type": "stream",
     "text": [
      "Read 0M words\n",
      "Number of words:  329\n",
      "Number of labels: 1\n",
      "start training...\n",
      "Progress: 100.0% words/sec/thread:  374840 lr:  0.000000 loss:  0.000000 ETA:   0h 0m\n",
      "Read 0M words\n",
      "Number of words:  329\n",
      "Number of labels: 1\n",
      "start training...\n",
      "Progress: 100.0% words/sec/thread:  355299 lr:  0.000000 loss:  0.000000 ETA:   0h 0m\n"
     ]
    },
    {
     "name": "stdout",
     "output_type": "stream",
     "text": [
      "{'rouge1': 0.31578947368421056, 'rouge2': 0.19354838709677422, 'rougeL': 0.16842105263157894}\n",
      "Index: 92\n"
     ]
    },
    {
     "name": "stderr",
     "output_type": "stream",
     "text": [
      "Read 0M words\n",
      "Number of words:  332\n",
      "Number of labels: 1\n",
      "start training...\n",
      "Progress: 100.0% words/sec/thread:  404985 lr:  0.000000 loss:  0.000000 ETA:   0h 0m\n",
      "Read 0M words\n",
      "Number of words:  332\n",
      "Number of labels: 1\n",
      "start training...\n",
      "Progress: 100.0% words/sec/thread:  375871 lr:  0.000000 loss:  0.000000 ETA:   0h 0m\n"
     ]
    },
    {
     "name": "stdout",
     "output_type": "stream",
     "text": [
      "{'rouge1': 0.505050505050505, 'rouge2': 0.18556701030927836, 'rougeL': 0.3636363636363636}\n",
      "Index: 93\n"
     ]
    },
    {
     "name": "stderr",
     "output_type": "stream",
     "text": [
      "Read 0M words\n",
      "Number of words:  365\n",
      "Number of labels: 1\n",
      "start training...\n",
      "Progress: 100.0% words/sec/thread:  396920 lr:  0.000000 loss:  0.000000 ETA:   0h 0m\n",
      "Read 0M words\n",
      "Number of words:  365\n",
      "Number of labels: 1\n",
      "start training...\n",
      "Progress: 100.0% words/sec/thread:  262531 lr:  0.000000 loss:  0.000000 ETA:   0h 0m\n"
     ]
    },
    {
     "name": "stdout",
     "output_type": "stream",
     "text": [
      "{'rouge1': 0.08888888888888889, 'rouge2': 0.0, 'rougeL': 0.06666666666666667}\n",
      "Index: 94\n"
     ]
    },
    {
     "name": "stderr",
     "output_type": "stream",
     "text": [
      "Read 0M words\n",
      "Number of words:  220\n",
      "Number of labels: 1\n",
      "start training...\n",
      "Progress: 100.0% words/sec/thread:  174200 lr:  0.000000 loss:  0.000000 ETA:   0h 0m\n",
      "Read 0M words\n",
      "Number of words:  220\n",
      "Number of labels: 1\n",
      "start training...\n",
      "Progress: 100.0% words/sec/thread:  214646 lr:  0.000000 loss:  0.000000 ETA:   0h 0m\n"
     ]
    },
    {
     "name": "stdout",
     "output_type": "stream",
     "text": [
      "{'rouge1': 0.22916666666666663, 'rouge2': 0.0425531914893617, 'rougeL': 0.10416666666666667}\n",
      "Index: 95\n"
     ]
    },
    {
     "name": "stderr",
     "output_type": "stream",
     "text": [
      "Read 0M words\n",
      "Number of words:  113\n",
      "Number of labels: 1\n",
      "start training...\n",
      "Progress: 100.0% words/sec/thread:  115187 lr:  0.000000 loss:  0.000000 ETA:   0h 0m\n",
      "Read 0M words\n",
      "Number of words:  113\n",
      "Number of labels: 1\n",
      "start training...\n",
      "Progress: 100.0% words/sec/thread:   72732 lr:  0.000000 loss:  0.000000 ETA:   0h 0m\n"
     ]
    },
    {
     "name": "stdout",
     "output_type": "stream",
     "text": [
      "{'rouge1': 0.39622641509433965, 'rouge2': 0.15384615384615385, 'rougeL': 0.32075471698113206}\n",
      "Index: 96\n",
      "{'rouge1': 0.6666666666666667, 'rouge2': 0.5901639344262294, 'rougeL': 0.5396825396825397}\n",
      "Index: 97\n"
     ]
    },
    {
     "name": "stderr",
     "output_type": "stream",
     "text": [
      "Read 0M words\n",
      "Number of words:  214\n",
      "Number of labels: 1\n",
      "start training...\n",
      "Progress: 100.0% words/sec/thread:  313953 lr:  0.000000 loss:  0.000000 ETA:   0h 0m\n",
      "Read 0M words\n",
      "Number of words:  214\n",
      "Number of labels: 1\n",
      "start training...\n",
      "Progress: 100.0% words/sec/thread:  226014 lr:  0.000000 loss:  0.000000 ETA:   0h 0m\n"
     ]
    },
    {
     "name": "stdout",
     "output_type": "stream",
     "text": [
      "{'rouge1': 0.2061855670103093, 'rouge2': 0.042105263157894736, 'rougeL': 0.10309278350515465}\n",
      "Index: 98\n",
      "{'rouge1': 0.2181818181818182, 'rouge2': 0.037037037037037035, 'rougeL': 0.1272727272727273}\n",
      "Index: 99\n"
     ]
    },
    {
     "name": "stderr",
     "output_type": "stream",
     "text": [
      "Read 0M words\n",
      "Number of words:  715\n",
      "Number of labels: 1\n",
      "start training...\n",
      "Progress: 100.0% words/sec/thread:  682937 lr:  0.000000 loss:  0.000000 ETA:   0h 0m\n",
      "Read 0M words\n",
      "Number of words:  715\n",
      "Number of labels: 1\n",
      "start training...\n",
      "Progress: 100.0% words/sec/thread:  761867 lr:  0.000000 loss:  0.000000 ETA:   0h 0m\n"
     ]
    },
    {
     "name": "stdout",
     "output_type": "stream",
     "text": [
      "Checkpoint\n",
      "{'rouge1': 0.02666666666666667, 'rouge2': 0.004005340453938585, 'rougeL': 0.019999999999999997}\n",
      "Index: 100\n",
      "{'rouge1': 0.3364485981308411, 'rouge2': 0.1333333333333333, 'rougeL': 0.26168224299065423}\n",
      "Index: 101\n",
      "{'rouge1': 0.3564356435643564, 'rouge2': 0.1414141414141414, 'rougeL': 0.29702970297029707}\n",
      "Index: 102\n"
     ]
    },
    {
     "name": "stderr",
     "output_type": "stream",
     "text": [
      "Read 0M words\n",
      "Number of words:  305\n",
      "Number of labels: 1\n",
      "start training...\n",
      "Progress: 100.0% words/sec/thread:  356689 lr:  0.000000 loss:  0.000000 ETA:   0h 0m\n",
      "Read 0M words\n",
      "Number of words:  305\n",
      "Number of labels: 1\n",
      "start training...\n",
      "Progress: 100.0% words/sec/thread:  418823 lr:  0.000000 loss:  0.000000 ETA:   0h 0m\n"
     ]
    },
    {
     "name": "stdout",
     "output_type": "stream",
     "text": [
      "Checkpoint\n",
      "{'rouge1': 0.31683168316831684, 'rouge2': 0.08080808080808081, 'rougeL': 0.17821782178217824}\n",
      "Index: 103\n",
      "{'rouge1': 0.5333333333333333, 'rouge2': 0.19417475728155337, 'rougeL': 0.3238095238095238}\n",
      "Index: 104\n",
      "{'rouge1': 0.28571428571428575, 'rouge2': 0.10416666666666667, 'rougeL': 0.24489795918367346}\n",
      "Index: 105\n"
     ]
    },
    {
     "name": "stderr",
     "output_type": "stream",
     "text": [
      "Read 0M words\n",
      "Number of words:  150\n",
      "Number of labels: 1\n",
      "start training...\n",
      "Progress: 100.0% words/sec/thread:  141059 lr:  0.000000 loss:  0.000000 ETA:   0h 0m\n",
      "Read 0M words\n",
      "Number of words:  150\n",
      "Number of labels: 1\n",
      "start training...\n",
      "Progress: 100.0% words/sec/thread:  165146 lr:  0.000000 loss:  0.000000 ETA:   0h 0m\n"
     ]
    },
    {
     "name": "stdout",
     "output_type": "stream",
     "text": [
      "Checkpoint\n",
      "{'rouge1': 0.2888888888888889, 'rouge2': 0.13636363636363635, 'rougeL': 0.17777777777777778}\n",
      "Index: 106\n",
      "{'rouge1': 0.5391304347826086, 'rouge2': 0.4247787610619469, 'rougeL': 0.46956521739130436}\n",
      "Index: 107\n",
      "{'rouge1': 0.136986301369863, 'rouge2': 0.05633802816901408, 'rougeL': 0.1095890410958904}\n",
      "Index: 108\n"
     ]
    },
    {
     "name": "stderr",
     "output_type": "stream",
     "text": [
      "Read 0M words\n",
      "Number of words:  156\n",
      "Number of labels: 1\n",
      "start training...\n",
      "Progress: 100.0% words/sec/thread:  114161 lr:  0.000000 loss:  0.000000 ETA:   0h 0m\n",
      "Read 0M words\n",
      "Number of words:  156\n",
      "Number of labels: 1\n",
      "start training...\n",
      "Progress: 100.0% words/sec/thread:  151929 lr:  0.000000 loss:  0.000000 ETA:   0h 0m\n"
     ]
    },
    {
     "name": "stdout",
     "output_type": "stream",
     "text": [
      "Checkpoint\n",
      "{'rouge1': 0.25742574257425743, 'rouge2': 0.0808080808080808, 'rougeL': 0.13861386138613863}\n",
      "Index: 109\n",
      "{'rouge1': 0.276595744680851, 'rouge2': 0.10869565217391305, 'rougeL': 0.2553191489361702}\n",
      "Index: 110\n"
     ]
    },
    {
     "name": "stderr",
     "output_type": "stream",
     "text": [
      "Read 0M words\n",
      "Number of words:  702\n",
      "Number of labels: 1\n",
      "start training...\n",
      "Progress: 100.0% words/sec/thread:  855644 lr:  0.000000 loss:  0.000000 ETA:   0h 0m\n",
      "Read 0M words\n",
      "Number of words:  702\n",
      "Number of labels: 1\n",
      "start training...\n",
      "Progress: 100.0% words/sec/thread:  816715 lr:  0.000000 loss:  0.000000 ETA:   0h 0m\n"
     ]
    },
    {
     "name": "stdout",
     "output_type": "stream",
     "text": [
      "Checkpoint\n",
      "{'rouge1': 0.022429906542056073, 'rouge2': 0.006238303181534622, 'rougeL': 0.019937694704049845}\n",
      "Index: 111\n",
      "{'rouge1': 0.24175824175824173, 'rouge2': 0.08988764044943819, 'rougeL': 0.15384615384615385}\n",
      "Index: 112\n",
      "{'rouge1': 0.4444444444444445, 'rouge2': 0.20253164556962025, 'rougeL': 0.2962962962962963}\n",
      "Index: 113\n",
      "{'rouge1': 0.5656565656565656, 'rouge2': 0.32989690721649484, 'rougeL': 0.4444444444444445}\n",
      "Index: 114\n"
     ]
    },
    {
     "name": "stderr",
     "output_type": "stream",
     "text": [
      "Read 0M words\n",
      "Number of words:  425\n",
      "Number of labels: 1\n",
      "start training...\n",
      "Progress: 100.0% words/sec/thread:  544010 lr:  0.000000 loss:  0.000000 ETA:   0h 0m\n",
      "Read 0M words\n",
      "Number of words:  425\n",
      "Number of labels: 1\n",
      "start training...\n",
      "Progress: 100.0% words/sec/thread:  311350 lr:  0.000000 loss:  0.000000 ETA:   0h 0m\n"
     ]
    },
    {
     "name": "stdout",
     "output_type": "stream",
     "text": [
      "Checkpoint\n",
      "{'rouge1': 0.17582417582417584, 'rouge2': 0.06741573033707865, 'rougeL': 0.17582417582417584}\n",
      "Index: 115\n",
      "{'rouge1': 0.4807692307692307, 'rouge2': 0.3333333333333333, 'rougeL': 0.4615384615384615}\n",
      "Index: 116\n"
     ]
    },
    {
     "name": "stderr",
     "output_type": "stream",
     "text": [
      "Read 0M words\n",
      "Number of words:  223\n",
      "Number of labels: 1\n",
      "start training...\n",
      "Progress: 100.0% words/sec/thread:  147893 lr:  0.000000 loss:  0.000000 ETA:   0h 0m\n",
      "Read 0M words\n",
      "Number of words:  223\n",
      "Number of labels: 1\n",
      "start training...\n",
      "Progress: 100.0% words/sec/thread:  238500 lr:  0.000000 loss:  0.000000 ETA:   0h 0m\n"
     ]
    },
    {
     "name": "stdout",
     "output_type": "stream",
     "text": [
      "Checkpoint\n",
      "{'rouge1': 0.26506024096385544, 'rouge2': 0.1234567901234568, 'rougeL': 0.21686746987951808}\n",
      "Index: 117\n"
     ]
    },
    {
     "name": "stderr",
     "output_type": "stream",
     "text": [
      "Read 0M words\n",
      "Number of words:  611\n",
      "Number of labels: 1\n",
      "start training...\n",
      "Progress: 100.0% words/sec/thread:  610876 lr:  0.000000 loss:  0.000000 ETA:   0h 0m\n",
      "Read 0M words\n",
      "Number of words:  611\n",
      "Number of labels: 1\n",
      "start training...\n",
      "Progress: 100.0% words/sec/thread:  574734 lr:  0.000000 loss:  0.000000 ETA:   0h 0m\n"
     ]
    },
    {
     "name": "stdout",
     "output_type": "stream",
     "text": [
      "Checkpoint\n",
      "{'rouge1': 0.0784313725490196, 'rouge2': 0.02, 'rougeL': 0.058823529411764705}\n",
      "Index: 118\n",
      "{'rouge1': 0.22680412371134023, 'rouge2': 0.042105263157894736, 'rougeL': 0.12371134020618556}\n",
      "Index: 119\n",
      "{'rouge1': 0.18032786885245902, 'rouge2': 0.016666666666666666, 'rougeL': 0.09836065573770493}\n",
      "Index: 120\n",
      "{'rouge1': 0.1590909090909091, 'rouge2': 0.023255813953488372, 'rougeL': 0.09090909090909091}\n",
      "Index: 121\n"
     ]
    },
    {
     "name": "stderr",
     "output_type": "stream",
     "text": [
      "Read 0M words\n",
      "Number of words:  133\n",
      "Number of labels: 1\n",
      "start training...\n",
      "Progress: 100.0% words/sec/thread:   94103 lr:  0.000000 loss:  0.000000 ETA:   0h 0m\n",
      "Read 0M words\n",
      "Number of words:  133\n",
      "Number of labels: 1\n",
      "start training...\n",
      "Progress: 100.0% words/sec/thread:  143332 lr:  0.000000 loss:  0.000000 ETA:   0h 0m\n"
     ]
    },
    {
     "name": "stdout",
     "output_type": "stream",
     "text": [
      "Checkpoint\n",
      "{'rouge1': 0.5633802816901408, 'rouge2': 0.2898550724637681, 'rougeL': 0.4225352112676057}\n",
      "Index: 122\n"
     ]
    },
    {
     "name": "stderr",
     "output_type": "stream",
     "text": [
      "Read 0M words\n",
      "Number of words:  293\n",
      "Number of labels: 1\n",
      "start training...\n",
      "Progress: 100.0% words/sec/thread:  301862 lr:  0.000000 loss:  0.000000 ETA:   0h 0m\n",
      "Read 0M words\n",
      "Number of words:  293\n",
      "Number of labels: 1\n",
      "start training...\n",
      "Progress: 100.0% words/sec/thread:  317537 lr:  0.000000 loss:  0.000000 ETA:   0h 0m\n"
     ]
    },
    {
     "name": "stdout",
     "output_type": "stream",
     "text": [
      "Checkpoint\n",
      "{'rouge1': 0.4313725490196078, 'rouge2': 0.28, 'rougeL': 0.4117647058823529}\n",
      "Index: 123\n",
      "{'rouge1': 0.2413793103448276, 'rouge2': 0.05263157894736842, 'rougeL': 0.15517241379310348}\n",
      "Index: 124\n"
     ]
    },
    {
     "name": "stderr",
     "output_type": "stream",
     "text": [
      "Read 0M words\n",
      "Number of words:  448\n",
      "Number of labels: 1\n",
      "start training...\n",
      "Progress: 100.0% words/sec/thread:  370699 lr:  0.000000 loss:  0.000000 ETA:   0h 0m\n",
      "Read 0M words\n",
      "Number of words:  448\n",
      "Number of labels: 1\n",
      "start training...\n",
      "Progress: 100.0% words/sec/thread:  333132 lr:  0.000000 loss:  0.000000 ETA:   0h 0m\n"
     ]
    },
    {
     "name": "stdout",
     "output_type": "stream",
     "text": [
      "Checkpoint\n",
      "{'rouge1': 0.2608695652173913, 'rouge2': 0.13333333333333333, 'rougeL': 0.2391304347826087}\n",
      "Index: 125\n",
      "{'rouge1': 0.32258064516129037, 'rouge2': 0.1758241758241758, 'rougeL': 0.2795698924731183}\n",
      "Index: 126\n",
      "{'rouge1': 0.3370786516853933, 'rouge2': 0.06896551724137931, 'rougeL': 0.22471910112359547}\n",
      "Index: 127\n"
     ]
    },
    {
     "name": "stderr",
     "output_type": "stream",
     "text": [
      "Read 0M words\n",
      "Number of words:  208\n",
      "Number of labels: 1\n",
      "start training...\n",
      "Progress: 100.0% words/sec/thread:  231287 lr:  0.000000 loss:  0.000000 ETA:   0h 0m\n",
      "Read 0M words\n",
      "Number of words:  208\n",
      "Number of labels: 1\n",
      "start training...\n",
      "Progress: 100.0% words/sec/thread:  195443 lr:  0.000000 loss:  0.000000 ETA:   0h 0m\n"
     ]
    },
    {
     "name": "stdout",
     "output_type": "stream",
     "text": [
      "Checkpoint\n",
      "{'rouge1': 0.24561403508771928, 'rouge2': 0.05357142857142857, 'rougeL': 0.15789473684210525}\n",
      "Index: 128\n",
      "{'rouge1': 0.36, 'rouge2': 0.1836734693877551, 'rougeL': 0.19999999999999998}\n",
      "Index: 129\n"
     ]
    },
    {
     "name": "stderr",
     "output_type": "stream",
     "text": [
      "Read 0M words\n",
      "Number of words:  266\n",
      "Number of labels: 1\n",
      "start training...\n",
      "Progress: 100.0% words/sec/thread:  272054 lr:  0.000000 loss:  0.000000 ETA:   0h 0m\n",
      "Read 0M words\n",
      "Number of words:  266\n",
      "Number of labels: 1\n",
      "start training...\n",
      "Progress: 100.0% words/sec/thread:  218080 lr:  0.000000 loss:  0.000000 ETA:   0h 0m\n"
     ]
    },
    {
     "name": "stdout",
     "output_type": "stream",
     "text": [
      "Checkpoint\n",
      "{'rouge1': 0.18749999999999997, 'rouge2': 0.0851063829787234, 'rougeL': 0.14583333333333334}\n",
      "Index: 130\n",
      "{'rouge1': 0.45098039215686275, 'rouge2': 0.24, 'rougeL': 0.29411764705882354}\n",
      "Index: 131\n"
     ]
    },
    {
     "name": "stderr",
     "output_type": "stream",
     "text": [
      "Read 0M words\n",
      "Number of words:  418\n",
      "Number of labels: 1\n",
      "start training...\n",
      "Progress: 100.0% words/sec/thread:  570327 lr:  0.000000 loss:  0.000000 ETA:   0h 0m\n",
      "Read 0M words\n",
      "Number of words:  418\n",
      "Number of labels: 1\n",
      "start training...\n",
      "Progress: 100.0% words/sec/thread:  516052 lr:  0.000000 loss:  0.000000 ETA:   0h 0m\n"
     ]
    },
    {
     "name": "stdout",
     "output_type": "stream",
     "text": [
      "Checkpoint\n",
      "{'rouge1': 0.4077669902912621, 'rouge2': 0.13861386138613863, 'rougeL': 0.21359223300970873}\n",
      "Index: 132\n"
     ]
    },
    {
     "name": "stderr",
     "output_type": "stream",
     "text": [
      "Read 0M words\n",
      "Number of words:  143\n",
      "Number of labels: 1\n",
      "start training...\n",
      "Progress: 100.0% words/sec/thread:  153358 lr:  0.000000 loss:  0.000000 ETA:   0h 0m\n",
      "Read 0M words\n",
      "Number of words:  143\n",
      "Number of labels: 1\n",
      "start training...\n",
      "Progress: 100.0% words/sec/thread:  178803 lr:  0.000000 loss:  0.000000 ETA:   0h 0m\n"
     ]
    },
    {
     "name": "stdout",
     "output_type": "stream",
     "text": [
      "Checkpoint\n",
      "{'rouge1': 0.22950819672131145, 'rouge2': 0.016666666666666666, 'rougeL': 0.14754098360655737}\n",
      "Index: 133\n"
     ]
    },
    {
     "name": "stderr",
     "output_type": "stream",
     "text": [
      "Read 0M words\n",
      "Number of words:  445\n",
      "Number of labels: 1\n",
      "start training...\n",
      "Progress: 100.0% words/sec/thread:  491357 lr:  0.000000 loss:  0.000000 ETA:   0h 0m\n",
      "Read 0M words\n",
      "Number of words:  445\n",
      "Number of labels: 1\n",
      "start training...\n",
      "Progress: 100.0% words/sec/thread:  411758 lr:  0.000000 loss:  0.000000 ETA:   0h 0m\n"
     ]
    },
    {
     "name": "stdout",
     "output_type": "stream",
     "text": [
      "Checkpoint\n",
      "{'rouge1': 0.37499999999999994, 'rouge2': 0.19148936170212763, 'rougeL': 0.2916666666666667}\n",
      "Index: 134\n",
      "{'rouge1': 0.24742268041237112, 'rouge2': 0.08421052631578947, 'rougeL': 0.20618556701030927}\n",
      "Index: 135\n"
     ]
    },
    {
     "name": "stderr",
     "output_type": "stream",
     "text": [
      "Read 0M words\n",
      "Number of words:  416\n",
      "Number of labels: 1\n",
      "start training...\n",
      "Progress: 100.0% words/sec/thread:  406315 lr:  0.000000 loss:  0.000000 ETA:   0h 0m\n",
      "Read 0M words\n",
      "Number of words:  416\n",
      "Number of labels: 1\n",
      "start training...\n",
      "Progress: 100.0% words/sec/thread:  317626 lr:  0.000000 loss:  0.000000 ETA:   0h 0m\n"
     ]
    },
    {
     "name": "stdout",
     "output_type": "stream",
     "text": [
      "Checkpoint\n",
      "{'rouge1': 0.1894736842105263, 'rouge2': 0.06451612903225806, 'rougeL': 0.10526315789473684}\n",
      "Index: 136\n"
     ]
    },
    {
     "name": "stderr",
     "output_type": "stream",
     "text": [
      "Read 0M words\n",
      "Number of words:  80\n",
      "Number of labels: 1\n",
      "start training...\n",
      "Progress: 100.0% words/sec/thread:   74407 lr:  0.000000 loss:  0.000000 ETA:   0h 0m\n",
      "Read 0M words\n",
      "Number of words:  80\n",
      "Number of labels: 1\n",
      "start training...\n",
      "Progress: 100.0% words/sec/thread:  171151 lr:  0.000000 loss:  0.000000 ETA:   0h 0m0m\n"
     ]
    },
    {
     "name": "stdout",
     "output_type": "stream",
     "text": [
      "Checkpoint\n",
      "{'rouge1': 0.32499999999999996, 'rouge2': 0.1282051282051282, 'rougeL': 0.22500000000000003}\n",
      "Index: 137\n",
      "{'rouge1': 0.27522935779816515, 'rouge2': 0.07476635514018691, 'rougeL': 0.14678899082568805}\n",
      "Index: 138\n"
     ]
    },
    {
     "name": "stderr",
     "output_type": "stream",
     "text": [
      "Read 0M words\n",
      "Number of words:  188\n",
      "Number of labels: 1\n",
      "start training...\n",
      "Progress: 100.0% words/sec/thread:  187431 lr:  0.000000 loss:  0.000000 ETA:   0h 0m\n",
      "Read 0M words\n",
      "Number of words:  188\n",
      "Number of labels: 1\n",
      "start training...\n",
      "Progress: 100.0% words/sec/thread:  250034 lr:  0.000000 loss:  0.000000 ETA:   0h 0m\n"
     ]
    },
    {
     "name": "stdout",
     "output_type": "stream",
     "text": [
      "Checkpoint\n",
      "{'rouge1': 0.3333333333333333, 'rouge2': 0.09090909090909091, 'rougeL': 0.2444444444444444}\n",
      "Index: 139\n"
     ]
    },
    {
     "name": "stderr",
     "output_type": "stream",
     "text": [
      "Read 0M words\n",
      "Number of words:  525\n",
      "Number of labels: 1\n",
      "start training...\n",
      "Progress: 100.0% words/sec/thread:  547325 lr:  0.000000 loss:  0.000000 ETA:   0h 0m\n",
      "Read 0M words\n",
      "Number of words:  525\n",
      "Number of labels: 1\n",
      "start training...\n",
      "Progress: 100.0% words/sec/thread:  683526 lr:  0.000000 loss:  0.000000 ETA:   0h 0m\n"
     ]
    },
    {
     "name": "stdout",
     "output_type": "stream",
     "text": [
      "Checkpoint\n",
      "{'rouge1': 0.4036697247706422, 'rouge2': 0.1308411214953271, 'rougeL': 0.22018348623853212}\n",
      "Index: 140\n"
     ]
    },
    {
     "name": "stderr",
     "output_type": "stream",
     "text": [
      "Read 0M words\n",
      "Number of words:  113\n",
      "Number of labels: 1\n",
      "start training...\n",
      "Progress: 100.0% words/sec/thread:   92241 lr:  0.000000 loss:  0.000000 ETA:   0h 0m\n",
      "Read 0M words\n",
      "Number of words:  113\n",
      "Number of labels: 1\n",
      "start training...\n",
      "Progress: 100.0% words/sec/thread:   50768 lr:  0.000000 loss:  0.000000 ETA:   0h 0m\n"
     ]
    },
    {
     "name": "stdout",
     "output_type": "stream",
     "text": [
      "Checkpoint\n",
      "{'rouge1': 0.4329896907216495, 'rouge2': 0.16842105263157897, 'rougeL': 0.26804123711340205}\n",
      "Index: 141\n"
     ]
    },
    {
     "name": "stderr",
     "output_type": "stream",
     "text": [
      "Read 0M words\n",
      "Number of words:  308\n",
      "Number of labels: 1\n",
      "start training...\n",
      "Progress: 100.0% words/sec/thread:  408018 lr:  0.000000 loss:  0.000000 ETA:   0h 0m\n",
      "Read 0M words\n",
      "Number of words:  308\n",
      "Number of labels: 1\n",
      "start training...\n",
      "Progress: 100.0% words/sec/thread:  412245 lr:  0.000000 loss:  0.000000 ETA:   0h 0m\n"
     ]
    },
    {
     "name": "stdout",
     "output_type": "stream",
     "text": [
      "Checkpoint\n",
      "{'rouge1': 0.34951456310679613, 'rouge2': 0.15841584158415842, 'rougeL': 0.21359223300970875}\n",
      "Index: 142\n",
      "{'rouge1': 0.5, 'rouge2': 0.3720930232558139, 'rougeL': 0.4772727272727273}\n",
      "Index: 143\n",
      "{'rouge1': 0.29545454545454547, 'rouge2': 0.2325581395348837, 'rougeL': 0.29545454545454547}\n",
      "Index: 144\n"
     ]
    },
    {
     "name": "stderr",
     "output_type": "stream",
     "text": [
      "Read 0M words\n",
      "Number of words:  363\n",
      "Number of labels: 1\n",
      "start training...\n",
      "Progress: 100.0% words/sec/thread:  488948 lr:  0.000000 loss:  0.000000 ETA:   0h 0m\n",
      "Read 0M words\n",
      "Number of words:  363\n",
      "Number of labels: 1\n",
      "start training...\n",
      "Progress: 100.0% words/sec/thread:  458913 lr:  0.000000 loss:  0.000000 ETA:   0h 0m\n"
     ]
    },
    {
     "name": "stdout",
     "output_type": "stream",
     "text": [
      "Checkpoint\n",
      "{'rouge1': 0.31683168316831684, 'rouge2': 0.16161616161616163, 'rougeL': 0.198019801980198}\n",
      "Index: 145\n",
      "{'rouge1': 0.3404255319148936, 'rouge2': 0.17391304347826086, 'rougeL': 0.2765957446808511}\n",
      "Index: 146\n"
     ]
    },
    {
     "name": "stderr",
     "output_type": "stream",
     "text": [
      "Read 0M words\n",
      "Number of words:  476\n",
      "Number of labels: 1\n",
      "start training...\n",
      "Progress: 100.0% words/sec/thread:  782866 lr:  0.000000 loss:  0.000000 ETA:   0h 0m\n",
      "Read 0M words\n",
      "Number of words:  476\n",
      "Number of labels: 1\n",
      "start training...\n",
      "Progress: 100.0% words/sec/thread:  613775 lr:  0.000000 loss:  0.000000 ETA:   0h 0m\n"
     ]
    },
    {
     "name": "stdout",
     "output_type": "stream",
     "text": [
      "Checkpoint\n",
      "{'rouge1': 0.2935779816513761, 'rouge2': 0.09345794392523364, 'rougeL': 0.14678899082568805}\n",
      "Index: 147\n",
      "{'rouge1': 0.26804123711340205, 'rouge2': 0.042105263157894736, 'rougeL': 0.16494845360824745}\n",
      "Index: 148\n",
      "{'rouge1': 0.25287356321839083, 'rouge2': 0.047058823529411764, 'rougeL': 0.2298850574712644}\n",
      "Index: 149\n"
     ]
    },
    {
     "name": "stderr",
     "output_type": "stream",
     "text": [
      "Read 0M words\n",
      "Number of words:  312\n",
      "Number of labels: 1\n",
      "start training...\n",
      "Progress: 100.0% words/sec/thread:  473057 lr:  0.000000 loss:  0.000000 ETA:   0h 0m\n",
      "Read 0M words\n",
      "Number of words:  312\n",
      "Number of labels: 1\n",
      "start training...\n",
      "Progress: 100.0% words/sec/thread:  382642 lr:  0.000000 loss:  0.000000 ETA:   0h 0m\n"
     ]
    },
    {
     "name": "stdout",
     "output_type": "stream",
     "text": [
      "Checkpoint\n",
      "{'rouge1': 0.31404958677685957, 'rouge2': 0.11764705882352942, 'rougeL': 0.19834710743801653}\n",
      "Index: 150\n",
      "{'rouge1': 0.19565217391304343, 'rouge2': 0.11111111111111112, 'rougeL': 0.17391304347826086}\n",
      "Index: 151\n",
      "{'rouge1': 0.3666666666666667, 'rouge2': 0.23728813559322035, 'rougeL': 0.25}\n",
      "Index: 152\n"
     ]
    },
    {
     "name": "stderr",
     "output_type": "stream",
     "text": [
      "Read 0M words\n",
      "Number of words:  75\n",
      "Number of labels: 1\n",
      "start training...\n",
      "Progress: 100.0% words/sec/thread:  103889 lr:  0.000000 loss:  0.000000 ETA:   0h 0m\n",
      "Read 0M words\n",
      "Number of words:  75\n",
      "Number of labels: 1\n",
      "start training...\n",
      "Progress: 100.0% words/sec/thread:   44763 lr:  0.000000 loss:  0.000000 ETA:   0h 0m\n"
     ]
    },
    {
     "name": "stdout",
     "output_type": "stream",
     "text": [
      "Checkpoint\n",
      "{'rouge1': 0.2580645161290323, 'rouge2': 0.0879120879120879, 'rougeL': 0.12903225806451615}\n",
      "Index: 153\n",
      "{'rouge1': 0.3373493975903614, 'rouge2': 0.14814814814814814, 'rougeL': 0.2650602409638554}\n",
      "Index: 154\n",
      "{'rouge1': 0.1935483870967742, 'rouge2': 0.04395604395604396, 'rougeL': 0.15053763440860216}\n",
      "Index: 155\n",
      "{'rouge1': 0.44000000000000006, 'rouge2': 0.28571428571428564, 'rougeL': 0.36}\n",
      "Index: 156\n",
      "{'rouge1': 0.30769230769230765, 'rouge2': 0.019607843137254905, 'rougeL': 0.17307692307692307}\n",
      "Index: 157\n",
      "{'rouge1': 0.2365591397849462, 'rouge2': 0.02197802197802198, 'rougeL': 0.12903225806451613}\n",
      "Index: 158\n",
      "{'rouge1': 0.16216216216216217, 'rouge2': 0.0, 'rougeL': 0.09009009009009009}\n",
      "Index: 159\n"
     ]
    },
    {
     "name": "stderr",
     "output_type": "stream",
     "text": [
      "Read 0M words\n",
      "Number of words:  249\n",
      "Number of labels: 1\n",
      "start training...\n",
      "Progress: 100.0% words/sec/thread:  190891 lr:  0.000000 loss:  0.000000 ETA:   0h 0m\n",
      "Read 0M words\n",
      "Number of words:  249\n",
      "Number of labels: 1\n",
      "start training...\n",
      "Progress: 100.0% words/sec/thread:  365480 lr:  0.000000 loss:  0.000000 ETA:   0h 0m\n"
     ]
    },
    {
     "name": "stdout",
     "output_type": "stream",
     "text": [
      "Checkpoint\n",
      "{'rouge1': 0.3305785123966942, 'rouge2': 0.05042016806722689, 'rougeL': 0.21487603305785125}\n",
      "Index: 160\n",
      "{'rouge1': 0.36170212765957455, 'rouge2': 0.19565217391304351, 'rougeL': 0.23404255319148934}\n",
      "Index: 161\n"
     ]
    },
    {
     "name": "stderr",
     "output_type": "stream",
     "text": [
      "Read 0M words\n",
      "Number of words:  353\n",
      "Number of labels: 1\n",
      "start training...\n",
      "Progress: 100.0% words/sec/thread:  359350 lr:  0.000000 loss:  0.000000 ETA:   0h 0m\n",
      "Read 0M words\n",
      "Number of words:  353\n",
      "Number of labels: 1\n",
      "start training...\n",
      "Progress: 100.0% words/sec/thread:  240596 lr:  0.000000 loss:  0.000000 ETA:   0h 0m\n"
     ]
    },
    {
     "name": "stdout",
     "output_type": "stream",
     "text": [
      "Checkpoint\n",
      "{'rouge1': 0.10256410256410256, 'rouge2': 0.017391304347826087, 'rougeL': 0.08547008547008547}\n",
      "Index: 162\n",
      "{'rouge1': 0.09433962264150943, 'rouge2': 0.0, 'rougeL': 0.05660377358490566}\n",
      "Index: 163\n",
      "{'rouge1': 0.22950819672131148, 'rouge2': 0.03333333333333333, 'rougeL': 0.13114754098360656}\n",
      "Index: 164\n"
     ]
    },
    {
     "name": "stderr",
     "output_type": "stream",
     "text": [
      "Read 0M words\n",
      "Number of words:  159\n",
      "Number of labels: 1\n",
      "start training...\n",
      "Progress: 100.0% words/sec/thread:   88099 lr:  0.000000 loss:  0.000000 ETA:   0h 0m\n",
      "Read 0M words\n",
      "Number of words:  159\n",
      "Number of labels: 1\n",
      "start training...\n",
      "Progress: 100.0% words/sec/thread:  190563 lr:  0.000000 loss:  0.000000 ETA:   0h 0m\n"
     ]
    },
    {
     "name": "stdout",
     "output_type": "stream",
     "text": [
      "Checkpoint\n",
      "{'rouge1': 0.2752293577981651, 'rouge2': 0.07476635514018692, 'rougeL': 0.18348623853211007}\n",
      "Index: 165\n"
     ]
    },
    {
     "name": "stderr",
     "output_type": "stream",
     "text": [
      "Read 0M words\n",
      "Number of words:  448\n",
      "Number of labels: 1\n",
      "start training...\n",
      "Progress: 100.0% words/sec/thread:  457895 lr:  0.000000 loss:  0.000000 ETA:   0h 0m\n",
      "Read 0M words\n",
      "Number of words:  448\n",
      "Number of labels: 1\n",
      "start training...\n",
      "Progress: 100.0% words/sec/thread:  428896 lr:  0.000000 loss:  0.000000 ETA:   0h 0m\n"
     ]
    },
    {
     "name": "stdout",
     "output_type": "stream",
     "text": [
      "Checkpoint\n",
      "{'rouge1': 0.2653061224489796, 'rouge2': 0.08333333333333333, 'rougeL': 0.16326530612244897}\n",
      "Index: 166\n"
     ]
    },
    {
     "name": "stderr",
     "output_type": "stream",
     "text": [
      "Read 0M words\n",
      "Number of words:  300\n",
      "Number of labels: 1\n",
      "start training...\n",
      "Progress: 100.0% words/sec/thread:  321481 lr:  0.000000 loss:  0.000000 ETA:   0h 0m\n",
      "Read 0M words\n",
      "Number of words:  300\n",
      "Number of labels: 1\n",
      "start training...\n",
      "Progress: 100.0% words/sec/thread:  328974 lr:  0.000000 loss:  0.000000 ETA:   0h 0m\n"
     ]
    },
    {
     "name": "stdout",
     "output_type": "stream",
     "text": [
      "Checkpoint\n",
      "{'rouge1': 0.15841584158415842, 'rouge2': 0.0, 'rougeL': 0.1188118811881188}\n",
      "Index: 167\n",
      "{'rouge1': 0.21428571428571427, 'rouge2': 0.07272727272727274, 'rougeL': 0.125}\n",
      "Index: 168\n"
     ]
    },
    {
     "name": "stderr",
     "output_type": "stream",
     "text": [
      "Read 0M words\n",
      "Number of words:  518\n",
      "Number of labels: 1\n",
      "start training...\n",
      "Progress: 100.0% words/sec/thread:  431456 lr:  0.000000 loss:  0.000000 ETA:   0h 0m\n",
      "Read 0M words\n",
      "Number of words:  518\n",
      "Number of labels: 1\n",
      "start training...\n",
      "Progress: 100.0% words/sec/thread:  544072 lr:  0.000000 loss:  0.000000 ETA:   0h 0m\n"
     ]
    },
    {
     "name": "stdout",
     "output_type": "stream",
     "text": [
      "Checkpoint\n",
      "{'rouge1': 0.14141414141414144, 'rouge2': 0.020618556701030927, 'rougeL': 0.12121212121212123}\n",
      "Index: 169\n"
     ]
    },
    {
     "name": "stderr",
     "output_type": "stream",
     "text": [
      "Read 0M words\n",
      "Number of words:  426\n",
      "Number of labels: 1\n",
      "start training...\n",
      "Progress: 100.0% words/sec/thread:  390570 lr:  0.000000 loss:  0.000000 ETA:   0h 0m\n",
      "Read 0M words\n",
      "Number of words:  426\n",
      "Number of labels: 1\n",
      "start training...\n",
      "Progress: 100.0% words/sec/thread:  394526 lr:  0.000000 loss:  0.000000 ETA:   0h 0m\n"
     ]
    },
    {
     "name": "stdout",
     "output_type": "stream",
     "text": [
      "Checkpoint\n",
      "{'rouge1': 0.27272727272727276, 'rouge2': 0.07407407407407407, 'rougeL': 0.19999999999999998}\n",
      "Index: 170\n"
     ]
    },
    {
     "name": "stderr",
     "output_type": "stream",
     "text": [
      "Read 0M words\n",
      "Number of words:  234\n",
      "Number of labels: 1\n",
      "start training...\n",
      "Progress: 100.0% words/sec/thread:  382308 lr:  0.000000 loss:  0.000000 ETA:   0h 0m\n",
      "Read 0M words\n",
      "Number of words:  234\n",
      "Number of labels: 1\n",
      "start training...\n",
      "Progress: 100.0% words/sec/thread:  335189 lr:  0.000000 loss:  0.000000 ETA:   0h 0m\n"
     ]
    },
    {
     "name": "stdout",
     "output_type": "stream",
     "text": [
      "Checkpoint\n",
      "{'rouge1': 0.30952380952380953, 'rouge2': 0.1951219512195122, 'rougeL': 0.2619047619047619}\n",
      "Index: 171\n",
      "{'rouge1': 0.25806451612903225, 'rouge2': 0.04395604395604396, 'rougeL': 0.15053763440860216}\n",
      "Index: 172\n"
     ]
    },
    {
     "name": "stderr",
     "output_type": "stream",
     "text": [
      "Read 0M words\n",
      "Number of words:  205\n",
      "Number of labels: 1\n",
      "start training...\n",
      "Progress: 100.0% words/sec/thread:  220186 lr:  0.000000 loss:  0.000000 ETA:   0h 0m\n",
      "Read 0M words\n",
      "Number of words:  205\n",
      "Number of labels: 1\n",
      "start training...\n",
      "Progress: 100.0% words/sec/thread:  213382 lr:  0.000000 loss:  0.000000 ETA:   0h 0m\n"
     ]
    },
    {
     "name": "stdout",
     "output_type": "stream",
     "text": [
      "Checkpoint\n",
      "{'rouge1': 0.34951456310679613, 'rouge2': 0.21782178217821782, 'rougeL': 0.33009708737864074}\n",
      "Index: 173\n",
      "{'rouge1': 0.2586206896551724, 'rouge2': 0.03508771929824562, 'rougeL': 0.10344827586206898}\n",
      "Index: 174\n"
     ]
    },
    {
     "name": "stderr",
     "output_type": "stream",
     "text": [
      "Read 0M words\n",
      "Number of words:  606\n",
      "Number of labels: 1\n",
      "start training...\n",
      "Progress: 100.0% words/sec/thread:  572140 lr:  0.000000 loss:  0.000000 ETA:   0h 0m\n",
      "Read 0M words\n",
      "Number of words:  606\n",
      "Number of labels: 1\n",
      "start training...\n",
      "Progress: 100.0% words/sec/thread:  644931 lr:  0.000000 loss:  0.000000 ETA:   0h 0m\n"
     ]
    },
    {
     "name": "stdout",
     "output_type": "stream",
     "text": [
      "Checkpoint\n",
      "{'rouge1': 0.66, 'rouge2': 0.4693877551020409, 'rougeL': 0.54}\n",
      "Index: 175\n"
     ]
    },
    {
     "name": "stderr",
     "output_type": "stream",
     "text": [
      "Read 0M words\n",
      "Number of words:  230\n",
      "Number of labels: 1\n",
      "start training...\n",
      "Progress: 100.0% words/sec/thread:  312751 lr:  0.000000 loss:  0.000000 ETA:   0h 0m\n",
      "Read 0M words\n",
      "Number of words:  230\n",
      "Number of labels: 1\n",
      "start training...\n",
      "Progress: 100.0% words/sec/thread:  233794 lr:  0.000000 loss:  0.000000 ETA:   0h 0m\n"
     ]
    },
    {
     "name": "stdout",
     "output_type": "stream",
     "text": [
      "Checkpoint\n",
      "{'rouge1': 0.18867924528301885, 'rouge2': 0.0, 'rougeL': 0.11320754716981131}\n",
      "Index: 176\n",
      "{'rouge1': 0.380952380952381, 'rouge2': 0.1941747572815534, 'rougeL': 0.2857142857142857}\n",
      "Index: 177\n",
      "{'rouge1': 0.1834862385321101, 'rouge2': 0.018691588785046728, 'rougeL': 0.09174311926605505}\n",
      "Index: 178\n"
     ]
    },
    {
     "name": "stderr",
     "output_type": "stream",
     "text": [
      "Read 0M words\n",
      "Number of words:  522\n",
      "Number of labels: 1\n",
      "start training...\n",
      "Progress: 100.0% words/sec/thread:  525609 lr:  0.000000 loss:  0.000000 ETA:   0h 0m\n",
      "Read 0M words\n",
      "Number of words:  522\n",
      "Number of labels: 1\n",
      "start training...\n",
      "Progress: 100.0% words/sec/thread:  521125 lr:  0.000000 loss:  0.000000 ETA:   0h 0m\n"
     ]
    },
    {
     "name": "stdout",
     "output_type": "stream",
     "text": [
      "Checkpoint\n",
      "{'rouge1': 0.1941747572815534, 'rouge2': 0.019801980198019802, 'rougeL': 0.0970873786407767}\n",
      "Index: 179\n",
      "{'rouge1': 0.24444444444444446, 'rouge2': 0.09090909090909091, 'rougeL': 0.2}\n",
      "Index: 180\n",
      "{'rouge1': 0.25688073394495414, 'rouge2': 0.037383177570093455, 'rougeL': 0.18348623853211007}\n",
      "Index: 181\n"
     ]
    },
    {
     "name": "stderr",
     "output_type": "stream",
     "text": [
      "Read 0M words\n",
      "Number of words:  180\n",
      "Number of labels: 1\n",
      "start training...\n",
      "Progress: 100.0% words/sec/thread:  150250 lr:  0.000000 loss:  0.000000 ETA:   0h 0m\n",
      "Read 0M words\n",
      "Number of words:  180\n",
      "Number of labels: 1\n",
      "start training...\n",
      "Progress: 100.0% words/sec/thread:  109602 lr:  0.000000 loss:  0.000000 ETA:   0h 0m\n"
     ]
    },
    {
     "name": "stdout",
     "output_type": "stream",
     "text": [
      "Checkpoint\n",
      "{'rouge1': 0.23157894736842105, 'rouge2': 0.021505376344086023, 'rougeL': 0.10526315789473685}\n",
      "Index: 182\n",
      "{'rouge1': 0.36363636363636365, 'rouge2': 0.16279069767441862, 'rougeL': 0.25}\n",
      "Index: 183\n"
     ]
    },
    {
     "name": "stderr",
     "output_type": "stream",
     "text": [
      "Read 0M words\n",
      "Number of words:  420\n",
      "Number of labels: 1\n",
      "start training...\n",
      "Progress: 100.0% words/sec/thread:  396029 lr:  0.000000 loss:  0.000000 ETA:   0h 0m\n",
      "Read 0M words\n",
      "Number of words:  420\n",
      "Number of labels: 1\n",
      "start training...\n",
      "Progress: 100.0% words/sec/thread:  231535 lr:  0.000000 loss:  0.000000 ETA:   0h 0m\n"
     ]
    },
    {
     "name": "stdout",
     "output_type": "stream",
     "text": [
      "Checkpoint\n",
      "{'rouge1': 0.25742574257425743, 'rouge2': 0.10101010101010101, 'rougeL': 0.1782178217821782}\n",
      "Index: 184\n",
      "{'rouge1': 0.5137614678899082, 'rouge2': 0.28037383177570097, 'rougeL': 0.2935779816513761}\n",
      "Index: 185\n",
      "{'rouge1': 0.5, 'rouge2': 0.2830188679245283, 'rougeL': 0.3333333333333333}\n",
      "Index: 186\n"
     ]
    },
    {
     "name": "stderr",
     "output_type": "stream",
     "text": [
      "Read 0M words\n",
      "Number of words:  551\n",
      "Number of labels: 1\n",
      "start training...\n",
      "Progress: 100.0% words/sec/thread:  441076 lr:  0.000000 loss:  0.000000 ETA:   0h 0m\n",
      "Read 0M words\n",
      "Number of words:  551\n",
      "Number of labels: 1\n",
      "start training...\n",
      "Progress: 100.0% words/sec/thread:  394369 lr:  0.000000 loss:  0.000000 ETA:   0h 0m\n"
     ]
    },
    {
     "name": "stdout",
     "output_type": "stream",
     "text": [
      "Checkpoint\n",
      "{'rouge1': 0.24074074074074076, 'rouge2': 0.07547169811320756, 'rougeL': 0.1111111111111111}\n",
      "Index: 187\n"
     ]
    },
    {
     "name": "stderr",
     "output_type": "stream",
     "text": [
      "Read 0M words\n",
      "Number of words:  488\n",
      "Number of labels: 1\n",
      "start training...\n",
      "Progress: 100.0% words/sec/thread:  460449 lr:  0.000000 loss:  0.000000 ETA:   0h 0m\n",
      "Read 0M words\n",
      "Number of words:  488\n",
      "Number of labels: 1\n",
      "start training...\n",
      "Progress: 100.0% words/sec/thread:  436672 lr:  0.000000 loss:  0.000000 ETA:   0h 0m\n"
     ]
    },
    {
     "name": "stdout",
     "output_type": "stream",
     "text": [
      "Checkpoint\n",
      "{'rouge1': 0.2909090909090909, 'rouge2': 0.09259259259259259, 'rougeL': 0.18181818181818185}\n",
      "Index: 188\n",
      "{'rouge1': 0.35714285714285715, 'rouge2': 0.14545454545454545, 'rougeL': 0.26785714285714285}\n",
      "Index: 189\n"
     ]
    },
    {
     "name": "stderr",
     "output_type": "stream",
     "text": [
      "Read 0M words\n",
      "Number of words:  686\n",
      "Number of labels: 1\n",
      "start training...\n",
      "Progress: 100.0% words/sec/thread:  863097 lr:  0.000000 loss:  0.000000 ETA:   0h 0m\n",
      "Read 0M words\n",
      "Number of words:  686\n",
      "Number of labels: 1\n",
      "start training...\n",
      "Progress: 100.0% words/sec/thread:  762273 lr:  0.000000 loss:  0.000000 ETA:   0h 0m\n"
     ]
    },
    {
     "name": "stdout",
     "output_type": "stream",
     "text": [
      "Checkpoint\n",
      "{'rouge1': 0.040268456375838924, 'rouge2': 0.016129032258064516, 'rougeL': 0.022818791946308727}\n",
      "Index: 190\n"
     ]
    },
    {
     "name": "stderr",
     "output_type": "stream",
     "text": [
      "Read 0M words\n",
      "Number of words:  222\n",
      "Number of labels: 1\n",
      "start training...\n",
      "Progress: 100.0% words/sec/thread:  382180 lr:  0.000000 loss:  0.000000 ETA:   0h 0m\n",
      "Read 0M words\n",
      "Number of words:  222\n",
      "Number of labels: 1\n",
      "start training...\n",
      "Progress: 100.0% words/sec/thread:  300863 lr:  0.000000 loss:  0.000000 ETA:   0h 0m\n"
     ]
    },
    {
     "name": "stdout",
     "output_type": "stream",
     "text": [
      "Checkpoint\n",
      "{'rouge1': 0.09411764705882353, 'rouge2': 0.0, 'rougeL': 0.07058823529411765}\n",
      "Index: 191\n"
     ]
    },
    {
     "name": "stderr",
     "output_type": "stream",
     "text": [
      "Read 0M words\n",
      "Number of words:  400\n",
      "Number of labels: 1\n",
      "start training...\n",
      "Progress: 100.0% words/sec/thread:  420330 lr:  0.000000 loss:  0.000000 ETA:   0h 0m\n",
      "Read 0M words\n",
      "Number of words:  400\n",
      "Number of labels: 1\n",
      "start training...\n",
      "Progress: 100.0% words/sec/thread:  310473 lr:  0.000000 loss:  0.000000 ETA:   0h 0m\n"
     ]
    },
    {
     "name": "stdout",
     "output_type": "stream",
     "text": [
      "Checkpoint\n",
      "{'rouge1': 0.23529411764705882, 'rouge2': 0.039999999999999994, 'rougeL': 0.13725490196078433}\n",
      "Index: 192\n",
      "{'rouge1': 0.3820224719101123, 'rouge2': 0.22988505747126436, 'rougeL': 0.33707865168539325}\n",
      "Index: 193\n",
      "{'rouge1': 0.32258064516129026, 'rouge2': 0.1758241758241758, 'rougeL': 0.27956989247311825}\n",
      "Index: 194\n",
      "{'rouge1': 0.27586206896551724, 'rouge2': 0.07058823529411765, 'rougeL': 0.2298850574712644}\n",
      "Index: 195\n",
      "{'rouge1': 0.23076923076923075, 'rouge2': 0.058823529411764705, 'rougeL': 0.1346153846153846}\n",
      "Index: 196\n",
      "{'rouge1': 0.46938775510204084, 'rouge2': 0.20833333333333331, 'rougeL': 0.32653061224489793}\n",
      "Index: 197\n"
     ]
    },
    {
     "name": "stderr",
     "output_type": "stream",
     "text": [
      "Read 0M words\n",
      "Number of words:  387\n",
      "Number of labels: 1\n",
      "start training...\n",
      "Progress: 100.0% words/sec/thread:  484833 lr:  0.000000 loss:  0.000000 ETA:   0h 0m\n",
      "Read 0M words\n",
      "Number of words:  387\n",
      "Number of labels: 1\n",
      "start training...\n",
      "Progress: 100.0% words/sec/thread:  418074 lr:  0.000000 loss:  0.000000 ETA:   0h 0m\n"
     ]
    },
    {
     "name": "stdout",
     "output_type": "stream",
     "text": [
      "Checkpoint\n",
      "{'rouge1': 0.4424778761061947, 'rouge2': 0.18018018018018014, 'rougeL': 0.26548672566371684}\n",
      "Index: 198\n",
      "{'rouge1': 0.24561403508771928, 'rouge2': 0.07142857142857144, 'rougeL': 0.17543859649122803}\n",
      "Index: 199\n",
      "{'rouge1': 0.31999999999999995, 'rouge2': 0.09756097560975609, 'rougeL': 0.176}\n",
      "Index: 200\n",
      "{'rouge1': 0.28070175438596495, 'rouge2': 0.07142857142857142, 'rougeL': 0.1929824561403509}\n",
      "Index: 201\n",
      "{'rouge1': 0.2828282828282829, 'rouge2': 0.061855670103092786, 'rougeL': 0.20202020202020202}\n",
      "Index: 202\n",
      "{'rouge1': 0.41509433962264153, 'rouge2': 0.19230769230769232, 'rougeL': 0.2830188679245283}\n",
      "Index: 203\n",
      "{'rouge1': 0.2926829268292683, 'rouge2': 0.06611570247933883, 'rougeL': 0.19512195121951217}\n",
      "Index: 204\n",
      "{'rouge1': 0.4752475247524752, 'rouge2': 0.30303030303030304, 'rougeL': 0.43564356435643553}\n",
      "Index: 205\n"
     ]
    },
    {
     "name": "stderr",
     "output_type": "stream",
     "text": [
      "Read 0M words\n",
      "Number of words:  611\n",
      "Number of labels: 1\n",
      "start training...\n",
      "Progress: 100.0% words/sec/thread:  496091 lr:  0.000000 loss:  0.000000 ETA:   0h 0m\n",
      "Read 0M words\n",
      "Number of words:  611\n",
      "Number of labels: 1\n",
      "start training...\n",
      "Progress: 100.0% words/sec/thread:  634373 lr:  0.000000 loss:  0.000000 ETA:   0h 0m\n"
     ]
    },
    {
     "name": "stdout",
     "output_type": "stream",
     "text": [
      "Checkpoint\n",
      "{'rouge1': 0.2376237623762376, 'rouge2': 0.0808080808080808, 'rougeL': 0.19801980198019803}\n",
      "Index: 206\n"
     ]
    },
    {
     "name": "stderr",
     "output_type": "stream",
     "text": [
      "Read 0M words\n",
      "Number of words:  490\n",
      "Number of labels: 1\n",
      "start training...\n",
      "Progress: 100.0% words/sec/thread:  542800 lr:  0.000000 loss:  0.000000 ETA:   0h 0m\n",
      "Read 0M words\n",
      "Number of words:  490\n",
      "Number of labels: 1\n",
      "start training...\n",
      "Progress: 100.0% words/sec/thread:  580184 lr:  0.000000 loss:  0.000000 ETA:   0h 0m\n"
     ]
    },
    {
     "name": "stdout",
     "output_type": "stream",
     "text": [
      "Checkpoint\n",
      "{'rouge1': 0.28, 'rouge2': 0.16326530612244897, 'rougeL': 0.24}\n",
      "Index: 207\n",
      "{'rouge1': 0.3571428571428572, 'rouge2': 0.14545454545454545, 'rougeL': 0.19642857142857145}\n",
      "Index: 208\n",
      "{'rouge1': 0.32653061224489793, 'rouge2': 0.0625, 'rougeL': 0.22448979591836735}\n",
      "Index: 209\n",
      "{'rouge1': 0.375, 'rouge2': 0.19148936170212766, 'rougeL': 0.25}\n",
      "Index: 210\n",
      "{'rouge1': 0.3157894736842105, 'rouge2': 0.125, 'rougeL': 0.22807017543859648}\n",
      "Index: 211\n"
     ]
    },
    {
     "name": "stderr",
     "output_type": "stream",
     "text": [
      "Read 0M words\n",
      "Number of words:  261\n",
      "Number of labels: 1\n",
      "start training...\n",
      "Progress: 100.0% words/sec/thread:  245927 lr:  0.000000 loss:  0.000000 ETA:   0h 0m\n",
      "Read 0M words\n",
      "Number of words:  261\n",
      "Number of labels: 1\n",
      "start training...\n",
      "Progress: 100.0% words/sec/thread:  225378 lr:  0.000000 loss:  0.000000 ETA:   0h 0m\n"
     ]
    },
    {
     "name": "stdout",
     "output_type": "stream",
     "text": [
      "Checkpoint\n",
      "{'rouge1': 0.35185185185185186, 'rouge2': 0.1509433962264151, 'rougeL': 0.24074074074074076}\n",
      "Index: 212\n",
      "{'rouge1': 0.4727272727272727, 'rouge2': 0.2777777777777778, 'rougeL': 0.39999999999999997}\n",
      "Index: 213\n",
      "{'rouge1': 0.23913043478260868, 'rouge2': 0.13333333333333333, 'rougeL': 0.2173913043478261}\n",
      "Index: 214\n"
     ]
    },
    {
     "name": "stderr",
     "output_type": "stream",
     "text": [
      "Read 0M words\n",
      "Number of words:  413\n",
      "Number of labels: 1\n",
      "start training...\n",
      "Progress: 100.0% words/sec/thread:  489785 lr:  0.000000 loss:  0.000000 ETA:   0h 0m\n",
      "Read 0M words\n",
      "Number of words:  413\n",
      "Number of labels: 1\n",
      "start training...\n",
      "Progress: 100.0% words/sec/thread:  505726 lr:  0.000000 loss:  0.000000 ETA:   0h 0m\n"
     ]
    },
    {
     "name": "stdout",
     "output_type": "stream",
     "text": [
      "Checkpoint\n",
      "{'rouge1': 0.18, 'rouge2': 0.0, 'rougeL': 0.12}\n",
      "Index: 215\n",
      "{'rouge1': 0.2828282828282829, 'rouge2': 0.10309278350515463, 'rougeL': 0.26262626262626265}\n",
      "Index: 216\n",
      "{'rouge1': 0.4912280701754386, 'rouge2': 0.21428571428571427, 'rougeL': 0.31578947368421045}\n",
      "Index: 217\n"
     ]
    },
    {
     "name": "stderr",
     "output_type": "stream",
     "text": [
      "Read 0M words\n",
      "Number of words:  529\n",
      "Number of labels: 1\n",
      "start training...\n",
      "Progress: 100.0% words/sec/thread:  594118 lr:  0.000000 loss:  0.000000 ETA:   0h 0m\n",
      "Read 0M words\n",
      "Number of words:  529\n",
      "Number of labels: 1\n",
      "start training...\n",
      "Progress: 100.0% words/sec/thread:  681694 lr:  0.000000 loss:  0.000000 ETA:   0h 0m\n"
     ]
    },
    {
     "name": "stdout",
     "output_type": "stream",
     "text": [
      "Checkpoint\n",
      "{'rouge1': 0.288135593220339, 'rouge2': 0.08620689655172413, 'rougeL': 0.22033898305084745}\n",
      "Index: 218\n",
      "{'rouge1': 0.13592233009708737, 'rouge2': 0.019801980198019802, 'rougeL': 0.0970873786407767}\n",
      "Index: 219\n",
      "{'rouge1': 0.14432989690721648, 'rouge2': 0.0631578947368421, 'rougeL': 0.14432989690721648}\n",
      "Index: 220\n",
      "{'rouge1': 0.23214285714285718, 'rouge2': 0.01818181818181818, 'rougeL': 0.125}\n",
      "Index: 221\n",
      "{'rouge1': 0.2363636363636364, 'rouge2': 0.037037037037037035, 'rougeL': 0.16363636363636366}\n",
      "Index: 222\n"
     ]
    },
    {
     "name": "stderr",
     "output_type": "stream",
     "text": [
      "Read 0M words\n",
      "Number of words:  319\n",
      "Number of labels: 1\n",
      "start training...\n",
      "Progress: 100.0% words/sec/thread:  493514 lr:  0.000000 loss:  0.000000 ETA:   0h 0m\n",
      "Read 0M words\n",
      "Number of words:  319\n",
      "Number of labels: 1\n",
      "start training...\n",
      "Progress: 100.0% words/sec/thread:  356487 lr:  0.000000 loss:  0.000000 ETA:   0h 0m\n"
     ]
    },
    {
     "name": "stdout",
     "output_type": "stream",
     "text": [
      "Checkpoint\n",
      "{'rouge1': 0.3888888888888889, 'rouge2': 0.11320754716981131, 'rougeL': 0.2037037037037037}\n",
      "Index: 223\n"
     ]
    },
    {
     "name": "stderr",
     "output_type": "stream",
     "text": [
      "Read 0M words\n",
      "Number of words:  365\n",
      "Number of labels: 1\n",
      "start training...\n",
      "Progress: 100.0% words/sec/thread:  356772 lr:  0.000000 loss:  0.000000 ETA:   0h 0m\n",
      "Read 0M words\n",
      "Number of words:  365\n",
      "Number of labels: 1\n",
      "start training...\n",
      "Progress: 100.0% words/sec/thread:  411524 lr:  0.000000 loss:  0.000000 ETA:   0h 0m\n"
     ]
    },
    {
     "name": "stdout",
     "output_type": "stream",
     "text": [
      "Checkpoint\n",
      "{'rouge1': 0.406015037593985, 'rouge2': 0.12213740458015267, 'rougeL': 0.22556390977443608}\n",
      "Index: 224\n"
     ]
    },
    {
     "name": "stderr",
     "output_type": "stream",
     "text": [
      "Read 0M words\n",
      "Number of words:  466\n",
      "Number of labels: 1\n",
      "start training...\n",
      "Progress: 100.0% words/sec/thread:  449730 lr:  0.000000 loss:  0.000000 ETA:   0h 0m\n",
      "Read 0M words\n",
      "Number of words:  466\n",
      "Number of labels: 1\n",
      "start training...\n",
      "Progress: 100.0% words/sec/thread:  454528 lr:  0.000000 loss:  0.000000 ETA:   0h 0m\n"
     ]
    },
    {
     "name": "stdout",
     "output_type": "stream",
     "text": [
      "Checkpoint\n",
      "{'rouge1': 0.2095238095238095, 'rouge2': 0.0, 'rougeL': 0.11428571428571428}\n",
      "Index: 225\n",
      "{'rouge1': 0.3023255813953488, 'rouge2': 0.14285714285714288, 'rougeL': 0.20930232558139536}\n",
      "Index: 226\n"
     ]
    },
    {
     "name": "stderr",
     "output_type": "stream",
     "text": [
      "Read 0M words\n",
      "Number of words:  229\n",
      "Number of labels: 1\n",
      "start training...\n",
      "Progress: 100.0% words/sec/thread:  299919 lr:  0.000000 loss:  0.000000 ETA:   0h 0m\n",
      "Read 0M words\n",
      "Number of words:  229\n",
      "Number of labels: 1\n",
      "start training...\n",
      "Progress: 100.0% words/sec/thread:  224051 lr:  0.000000 loss:  0.000000 ETA:   0h 0m\n"
     ]
    },
    {
     "name": "stdout",
     "output_type": "stream",
     "text": [
      "Checkpoint\n",
      "{'rouge1': 0.37254901960784315, 'rouge2': 0.14, 'rougeL': 0.196078431372549}\n",
      "Index: 227\n",
      "{'rouge1': 0.34862385321100914, 'rouge2': 0.07476635514018691, 'rougeL': 0.2018348623853211}\n",
      "Index: 228\n"
     ]
    },
    {
     "name": "stderr",
     "output_type": "stream",
     "text": [
      "Read 0M words\n",
      "Number of words:  382\n",
      "Number of labels: 1\n",
      "start training...\n",
      "Progress: 100.0% words/sec/thread:  461438 lr:  0.000000 loss:  0.000000 ETA:   0h 0m\n",
      "Read 0M words\n",
      "Number of words:  382\n",
      "Number of labels: 1\n",
      "start training...\n",
      "Progress: 100.0% words/sec/thread:  534783 lr:  0.000000 loss:  0.000000 ETA:   0h 0m\n"
     ]
    },
    {
     "name": "stdout",
     "output_type": "stream",
     "text": [
      "Checkpoint\n",
      "{'rouge1': 0.1346153846153846, 'rouge2': 0.0196078431372549, 'rougeL': 0.07692307692307691}\n",
      "Index: 229\n"
     ]
    },
    {
     "name": "stderr",
     "output_type": "stream",
     "text": [
      "Read 0M words\n",
      "Number of words:  458\n",
      "Number of labels: 1\n",
      "start training...\n",
      "Progress: 100.0% words/sec/thread:  418238 lr:  0.000000 loss:  0.000000 ETA:   0h 0m\n",
      "Read 0M words\n",
      "Number of words:  458\n",
      "Number of labels: 1\n",
      "start training...\n",
      "Progress: 100.0% words/sec/thread:  492411 lr:  0.000000 loss:  0.000000 ETA:   0h 0m\n"
     ]
    },
    {
     "name": "stdout",
     "output_type": "stream",
     "text": [
      "Checkpoint\n",
      "{'rouge1': 0.3404255319148936, 'rouge2': 0.10869565217391304, 'rougeL': 0.2765957446808511}\n",
      "Index: 230\n",
      "{'rouge1': 0.3125, 'rouge2': 0.03225806451612903, 'rougeL': 0.21875}\n",
      "Index: 231\n",
      "{'rouge1': 0.32967032967032966, 'rouge2': 0.15730337078651685, 'rougeL': 0.2417582417582418}\n",
      "Index: 232\n"
     ]
    },
    {
     "name": "stderr",
     "output_type": "stream",
     "text": [
      "Read 0M words\n",
      "Number of words:  399\n",
      "Number of labels: 1\n",
      "start training...\n",
      "Progress: 100.0% words/sec/thread:  557804 lr:  0.000000 loss:  0.000000 ETA:   0h 0m\n",
      "Read 0M words\n",
      "Number of words:  399\n",
      "Number of labels: 1\n",
      "start training...\n",
      "Progress: 100.0% words/sec/thread:  495628 lr:  0.000000 loss:  0.000000 ETA:   0h 0m\n"
     ]
    },
    {
     "name": "stdout",
     "output_type": "stream",
     "text": [
      "Checkpoint\n",
      "{'rouge1': 0.2786885245901639, 'rouge2': 0.08333333333333333, 'rougeL': 0.18032786885245905}\n",
      "Index: 233\n"
     ]
    },
    {
     "name": "stderr",
     "output_type": "stream",
     "text": [
      "Read 0M words\n",
      "Number of words:  353\n",
      "Number of labels: 1\n",
      "start training...\n",
      "Progress: 100.0% words/sec/thread:  352426 lr:  0.000000 loss:  0.000000 ETA:   0h 0m\n",
      "Read 0M words\n",
      "Number of words:  353\n",
      "Number of labels: 1\n",
      "start training...\n",
      "Progress: 100.0% words/sec/thread:  355074 lr:  0.000000 loss:  0.000000 ETA:   0h 0m\n"
     ]
    },
    {
     "name": "stdout",
     "output_type": "stream",
     "text": [
      "Checkpoint\n",
      "{'rouge1': 0.14285714285714285, 'rouge2': 0.0, 'rougeL': 0.08163265306122448}\n",
      "Index: 234\n",
      "{'rouge1': 0.2888888888888889, 'rouge2': 0.022727272727272728, 'rougeL': 0.15555555555555556}\n",
      "Index: 235\n",
      "{'rouge1': 0.32478632478632474, 'rouge2': 0.1391304347826087, 'rougeL': 0.2564102564102564}\n",
      "Index: 236\n",
      "{'rouge1': 0.2857142857142857, 'rouge2': 0.10256410256410256, 'rougeL': 0.18487394957983191}\n",
      "Index: 237\n",
      "{'rouge1': 0.3853211009174312, 'rouge2': 0.1495327102803738, 'rougeL': 0.3119266055045872}\n",
      "Index: 238\n",
      "{'rouge1': 0.41904761904761906, 'rouge2': 0.17475728155339806, 'rougeL': 0.28571428571428575}\n",
      "Index: 239\n",
      "{'rouge1': 0.3404255319148936, 'rouge2': 0.08695652173913043, 'rougeL': 0.19148936170212766}\n",
      "Index: 240\n"
     ]
    },
    {
     "name": "stderr",
     "output_type": "stream",
     "text": [
      "Read 0M words\n",
      "Number of words:  313\n",
      "Number of labels: 1\n",
      "start training...\n",
      "Progress: 100.0% words/sec/thread:  249399 lr:  0.000000 loss:  0.000000 ETA:   0h 0m\n",
      "Read 0M words\n",
      "Number of words:  313\n",
      "Number of labels: 1\n",
      "start training...\n",
      "Progress: 100.0% words/sec/thread:  353492 lr:  0.000000 loss:  0.000000 ETA:   0h 0m\n"
     ]
    },
    {
     "name": "stdout",
     "output_type": "stream",
     "text": [
      "Checkpoint\n",
      "{'rouge1': 0.36538461538461536, 'rouge2': 0.1372549019607843, 'rougeL': 0.15384615384615385}\n",
      "Index: 241\n",
      "{'rouge1': 0.40559440559440557, 'rouge2': 0.08510638297872342, 'rougeL': 0.19580419580419578}\n",
      "Index: 242\n",
      "{'rouge1': 0.4299065420560747, 'rouge2': 0.20952380952380953, 'rougeL': 0.29906542056074764}\n",
      "Index: 243\n",
      "{'rouge1': 0.4077669902912622, 'rouge2': 0.21782178217821782, 'rougeL': 0.34951456310679613}\n",
      "Index: 244\n"
     ]
    },
    {
     "name": "stderr",
     "output_type": "stream",
     "text": [
      "Read 0M words\n",
      "Number of words:  671\n",
      "Number of labels: 1\n",
      "start training...\n",
      "Progress: 100.0% words/sec/thread:  668221 lr:  0.000000 loss:  0.000000 ETA:   0h 0m\n",
      "Read 0M words\n",
      "Number of words:  671\n",
      "Number of labels: 1\n",
      "start training...\n",
      "Progress: 100.0% words/sec/thread:  599388 lr:  0.000000 loss:  0.000000 ETA:   0h 0m\n"
     ]
    },
    {
     "name": "stdout",
     "output_type": "stream",
     "text": [
      "Checkpoint\n",
      "{'rouge1': 0.3177570093457944, 'rouge2': 0.15238095238095237, 'rougeL': 0.16822429906542055}\n",
      "Index: 245\n"
     ]
    },
    {
     "name": "stderr",
     "output_type": "stream",
     "text": [
      "Read 0M words\n",
      "Number of words:  204\n",
      "Number of labels: 1\n",
      "start training...\n",
      "Progress: 100.0% words/sec/thread:  217396 lr:  0.000000 loss:  0.000000 ETA:   0h 0m\n",
      "Read 0M words\n",
      "Number of words:  204\n",
      "Number of labels: 1\n",
      "start training...\n",
      "Progress: 100.0% words/sec/thread:  218197 lr:  0.000000 loss:  0.000000 ETA:   0h 0m\n"
     ]
    },
    {
     "name": "stdout",
     "output_type": "stream",
     "text": [
      "Checkpoint\n",
      "{'rouge1': 0.3125, 'rouge2': 0.10638297872340426, 'rougeL': 0.1875}\n",
      "Index: 246\n",
      "{'rouge1': 0.31775700934579443, 'rouge2': 0.0761904761904762, 'rougeL': 0.1869158878504673}\n",
      "Index: 247\n"
     ]
    },
    {
     "name": "stderr",
     "output_type": "stream",
     "text": [
      "Read 0M words\n",
      "Number of words:  167\n",
      "Number of labels: 1\n",
      "start training...\n",
      "Progress: 100.0% words/sec/thread:  160020 lr:  0.000000 loss:  0.000000 ETA:   0h 0m\n",
      "Read 0M words\n",
      "Number of words:  167\n",
      "Number of labels: 1\n",
      "start training...\n",
      "Progress: 100.0% words/sec/thread:  115614 lr:  0.000000 loss:  0.000000 ETA:   0h 0m\n"
     ]
    },
    {
     "name": "stdout",
     "output_type": "stream",
     "text": [
      "Checkpoint\n",
      "{'rouge1': 0.33707865168539325, 'rouge2': 0.11494252873563221, 'rougeL': 0.17977528089887643}\n",
      "Index: 248\n",
      "{'rouge1': 0.1951219512195122, 'rouge2': 0.09999999999999999, 'rougeL': 0.14634146341463417}\n",
      "Index: 249\n"
     ]
    },
    {
     "name": "stderr",
     "output_type": "stream",
     "text": [
      "Read 0M words\n",
      "Number of words:  228\n",
      "Number of labels: 1\n",
      "start training...\n",
      "Progress: 100.0% words/sec/thread:  263438 lr:  0.000000 loss:  0.000000 ETA:   0h 0m\n",
      "Read 0M words\n",
      "Number of words:  228\n",
      "Number of labels: 1\n",
      "start training...\n",
      "Progress: 100.0% words/sec/thread:  324424 lr:  0.000000 loss:  0.000000 ETA:   0h 0m\n"
     ]
    },
    {
     "name": "stdout",
     "output_type": "stream",
     "text": [
      "Checkpoint\n",
      "{'rouge1': 0.40350877192982454, 'rouge2': 0.125, 'rougeL': 0.24561403508771928}\n",
      "Index: 250\n",
      "{'rouge1': 0.3368421052631579, 'rouge2': 0.10752688172043011, 'rougeL': 0.1894736842105263}\n",
      "Index: 251\n",
      "{'rouge1': 0.4193548387096775, 'rouge2': 0.11475409836065574, 'rougeL': 0.22580645161290325}\n",
      "Index: 252\n",
      "{'rouge1': 0.4444444444444445, 'rouge2': 0.22727272727272724, 'rougeL': 0.26666666666666666}\n",
      "Index: 253\n",
      "{'rouge1': 0.3571428571428571, 'rouge2': 0.10909090909090909, 'rougeL': 0.19642857142857142}\n",
      "Index: 254\n",
      "{'rouge1': 0.2376237623762376, 'rouge2': 0.10101010101010101, 'rougeL': 0.1782178217821782}\n",
      "Index: 255\n",
      "{'rouge1': 0.3913043478260869, 'rouge2': 0.26666666666666666, 'rougeL': 0.2826086956521739}\n",
      "Index: 256\n"
     ]
    },
    {
     "name": "stderr",
     "output_type": "stream",
     "text": [
      "Read 0M words\n",
      "Number of words:  191\n",
      "Number of labels: 1\n",
      "start training...\n",
      "Progress: 100.0% words/sec/thread:  142315 lr:  0.000000 loss:  0.000000 ETA:   0h 0m\n",
      "Read 0M words\n",
      "Number of words:  191\n",
      "Number of labels: 1\n",
      "start training...\n",
      "Progress: 100.0% words/sec/thread:  236269 lr:  0.000000 loss:  0.000000 ETA:   0h 0m\n"
     ]
    },
    {
     "name": "stdout",
     "output_type": "stream",
     "text": [
      "Checkpoint\n",
      "{'rouge1': 0.2469135802469136, 'rouge2': 0.0759493670886076, 'rougeL': 0.1728395061728395}\n",
      "Index: 257\n",
      "{'rouge1': 0.18461538461538463, 'rouge2': 0.0, 'rougeL': 0.09230769230769231}\n",
      "Index: 258\n"
     ]
    },
    {
     "name": "stderr",
     "output_type": "stream",
     "text": [
      "Read 0M words\n",
      "Number of words:  281\n",
      "Number of labels: 1\n",
      "start training...\n",
      "Progress: 100.0% words/sec/thread:  229134 lr:  0.000000 loss:  0.000000 ETA:   0h 0m\n",
      "Read 0M words\n",
      "Number of words:  281\n",
      "Number of labels: 1\n",
      "start training...\n",
      "Progress: 100.0% words/sec/thread:  294774 lr:  0.000000 loss:  0.000000 ETA:   0h 0m\n"
     ]
    },
    {
     "name": "stdout",
     "output_type": "stream",
     "text": [
      "Checkpoint\n",
      "{'rouge1': 0.2826086956521739, 'rouge2': 0.13333333333333336, 'rougeL': 0.1956521739130435}\n",
      "Index: 259\n"
     ]
    },
    {
     "name": "stderr",
     "output_type": "stream",
     "text": [
      "Read 0M words\n",
      "Number of words:  418\n",
      "Number of labels: 1\n",
      "start training...\n",
      "Progress: 100.0% words/sec/thread:  348096 lr:  0.000000 loss:  0.000000 ETA:   0h 0m\n",
      "Read 0M words\n",
      "Number of words:  418\n",
      "Number of labels: 1\n",
      "start training...\n",
      "Progress: 100.0% words/sec/thread:  293644 lr:  0.000000 loss:  0.000000 ETA:   0h 0m\n"
     ]
    },
    {
     "name": "stdout",
     "output_type": "stream",
     "text": [
      "Checkpoint\n",
      "{'rouge1': 0.3541666666666667, 'rouge2': 0.1276595744680851, 'rougeL': 0.25}\n",
      "Index: 260\n",
      "{'rouge1': 0.23853211009174313, 'rouge2': 0.05607476635514018, 'rougeL': 0.1651376146788991}\n",
      "Index: 261\n",
      "{'rouge1': 0.19047619047619047, 'rouge2': 0.0, 'rougeL': 0.07619047619047618}\n",
      "Index: 262\n"
     ]
    },
    {
     "name": "stderr",
     "output_type": "stream",
     "text": [
      "Read 0M words\n",
      "Number of words:  399\n",
      "Number of labels: 1\n",
      "start training...\n",
      "Progress: 100.0% words/sec/thread:  296512 lr:  0.000000 loss:  0.000000 ETA:   0h 0m\n",
      "Read 0M words\n",
      "Number of words:  399\n",
      "Number of labels: 1\n",
      "start training...\n",
      "Progress: 100.0% words/sec/thread:  255995 lr:  0.000000 loss:  0.000000 ETA:   0h 0m\n"
     ]
    },
    {
     "name": "stdout",
     "output_type": "stream",
     "text": [
      "Checkpoint\n",
      "{'rouge1': 0.47787610619469034, 'rouge2': 0.1981981981981982, 'rougeL': 0.3185840707964602}\n",
      "Index: 263\n",
      "{'rouge1': 0.5, 'rouge2': 0.35555555555555557, 'rougeL': 0.3695652173913043}\n",
      "Index: 264\n",
      "{'rouge1': 0.39252336448598135, 'rouge2': 0.1523809523809524, 'rougeL': 0.24299065420560745}\n",
      "Index: 265\n",
      "{'rouge1': 0.3225806451612903, 'rouge2': 0.1758241758241758, 'rougeL': 0.27956989247311825}\n",
      "Index: 266\n",
      "{'rouge1': 0.47422680412371127, 'rouge2': 0.3157894736842105, 'rougeL': 0.3505154639175258}\n",
      "Index: 267\n",
      "{'rouge1': 0.2619047619047619, 'rouge2': 0.0975609756097561, 'rougeL': 0.21428571428571427}\n",
      "Index: 268\n"
     ]
    },
    {
     "name": "stderr",
     "output_type": "stream",
     "text": [
      "Read 0M words\n",
      "Number of words:  706\n",
      "Number of labels: 1\n",
      "start training...\n",
      "Progress: 100.0% words/sec/thread:  819839 lr:  0.000000 loss:  0.000000 ETA:   0h 0m\n",
      "Read 0M words\n",
      "Number of words:  706\n",
      "Number of labels: 1\n",
      "start training...\n",
      "Progress: 100.0% words/sec/thread:  691059 lr:  0.000000 loss:  0.000000 ETA:   0h 0m\n"
     ]
    },
    {
     "name": "stdout",
     "output_type": "stream",
     "text": [
      "Checkpoint\n",
      "{'rouge1': 0.0525657071339174, 'rouge2': 0.020050125313283207, 'rougeL': 0.03504380475594493}\n",
      "Index: 269\n",
      "{'rouge1': 0.4266666666666667, 'rouge2': 0.30136986301369867, 'rougeL': 0.3466666666666667}\n",
      "Index: 270\n",
      "{'rouge1': 0.3695652173913044, 'rouge2': 0.13333333333333333, 'rougeL': 0.2391304347826087}\n",
      "Index: 271\n",
      "{'rouge1': 0.22916666666666663, 'rouge2': 0.08510638297872342, 'rougeL': 0.20833333333333331}\n",
      "Index: 272\n"
     ]
    },
    {
     "name": "stderr",
     "output_type": "stream",
     "text": [
      "Read 0M words\n",
      "Number of words:  265\n",
      "Number of labels: 1\n",
      "start training...\n",
      "Progress: 100.0% words/sec/thread:  210713 lr:  0.000000 loss:  0.000000 ETA:   0h 0m\n",
      "Read 0M words\n",
      "Number of words:  265\n",
      "Number of labels: 1\n",
      "start training...\n",
      "Progress: 100.0% words/sec/thread:  362868 lr:  0.000000 loss:  0.000000 ETA:   0h 0m\n"
     ]
    },
    {
     "name": "stdout",
     "output_type": "stream",
     "text": [
      "Checkpoint\n",
      "{'rouge1': 0.3272727272727273, 'rouge2': 0.16666666666666666, 'rougeL': 0.2545454545454545}\n",
      "Index: 273\n",
      "{'rouge1': 0.35514018691588783, 'rouge2': 0.17142857142857143, 'rougeL': 0.2990654205607477}\n",
      "Index: 274\n",
      "{'rouge1': 0.36974789915966383, 'rouge2': 0.23931623931623933, 'rougeL': 0.2857142857142857}\n",
      "Index: 275\n"
     ]
    },
    {
     "name": "stderr",
     "output_type": "stream",
     "text": [
      "Read 0M words\n",
      "Number of words:  225\n",
      "Number of labels: 1\n",
      "start training...\n",
      "Progress: 100.0% words/sec/thread:  286236 lr:  0.000000 loss:  0.000000 ETA:   0h 0m\n",
      "Read 0M words\n",
      "Number of words:  225\n",
      "Number of labels: 1\n",
      "start training...\n",
      "Progress: 100.0% words/sec/thread:  253717 lr:  0.000000 loss:  0.000000 ETA:   0h 0m\n"
     ]
    },
    {
     "name": "stdout",
     "output_type": "stream",
     "text": [
      "Checkpoint\n",
      "{'rouge1': 0.4545454545454545, 'rouge2': 0.20370370370370372, 'rougeL': 0.3454545454545454}\n",
      "Index: 276\n",
      "{'rouge1': 0.20833333333333334, 'rouge2': 0.06382978723404253, 'rougeL': 0.16666666666666666}\n",
      "Index: 277\n"
     ]
    },
    {
     "name": "stderr",
     "output_type": "stream",
     "text": [
      "Read 0M words\n",
      "Number of words:  441\n",
      "Number of labels: 1\n",
      "start training...\n",
      "Progress: 100.0% words/sec/thread:  429919 lr:  0.000000 loss:  0.000000 ETA:   0h 0m\n",
      "Read 0M words\n",
      "Number of words:  441\n",
      "Number of labels: 1\n",
      "start training...\n",
      "Progress: 100.0% words/sec/thread:  485607 lr:  0.000000 loss:  0.000000 ETA:   0h 0m\n"
     ]
    },
    {
     "name": "stdout",
     "output_type": "stream",
     "text": [
      "Checkpoint\n",
      "{'rouge1': 0.20689655172413796, 'rouge2': 0.023529411764705882, 'rougeL': 0.1149425287356322}\n",
      "Index: 278\n",
      "{'rouge1': 0.3333333333333333, 'rouge2': 0.09999999999999999, 'rougeL': 0.27450980392156865}\n",
      "Index: 279\n",
      "{'rouge1': 0.25, 'rouge2': 0.0, 'rougeL': 0.1875}\n",
      "Index: 280\n",
      "{'rouge1': 0.2912621359223301, 'rouge2': 0.09900990099009901, 'rougeL': 0.1941747572815534}\n",
      "Index: 281\n",
      "{'rouge1': 0.2931034482758621, 'rouge2': 0.08771929824561404, 'rougeL': 0.13793103448275862}\n",
      "Index: 282\n"
     ]
    },
    {
     "name": "stderr",
     "output_type": "stream",
     "text": [
      "Read 0M words\n",
      "Number of words:  425\n",
      "Number of labels: 1\n",
      "start training...\n",
      "Progress: 100.0% words/sec/thread:  446593 lr:  0.000000 loss:  0.000000 ETA:   0h 0m\n",
      "Read 0M words\n",
      "Number of words:  425\n",
      "Number of labels: 1\n",
      "start training...\n",
      "Progress: 100.0% words/sec/thread:  435848 lr:  0.000000 loss:  0.000000 ETA:   0h 0m\n"
     ]
    },
    {
     "name": "stdout",
     "output_type": "stream",
     "text": [
      "Checkpoint\n",
      "{'rouge1': 0.2692307692307692, 'rouge2': 0.07843137254901959, 'rougeL': 0.17307692307692307}\n",
      "Index: 283\n",
      "{'rouge1': 0.29629629629629634, 'rouge2': 0.09433962264150944, 'rougeL': 0.16666666666666669}\n",
      "Index: 284\n",
      "{'rouge1': 0.2, 'rouge2': 0.0, 'rougeL': 0.13333333333333333}\n",
      "Index: 285\n",
      "{'rouge1': 0.35416666666666663, 'rouge2': 0.19148936170212763, 'rougeL': 0.3125}\n",
      "Index: 286\n"
     ]
    },
    {
     "name": "stderr",
     "output_type": "stream",
     "text": [
      "Read 0M words\n",
      "Number of words:  178\n",
      "Number of labels: 1\n",
      "start training...\n",
      "Progress: 100.0% words/sec/thread:  204259 lr:  0.000000 loss:  0.000000 ETA:   0h 0m\n",
      "Read 0M words\n",
      "Number of words:  178\n",
      "Number of labels: 1\n",
      "start training...\n",
      "Progress: 100.0% words/sec/thread:  121632 lr:  0.000000 loss:  0.000000 ETA:   0h 0m\n"
     ]
    },
    {
     "name": "stdout",
     "output_type": "stream",
     "text": [
      "Checkpoint\n",
      "{'rouge1': 0.22, 'rouge2': 0.04081632653061225, 'rougeL': 0.14}\n",
      "Index: 287\n"
     ]
    },
    {
     "name": "stderr",
     "output_type": "stream",
     "text": [
      "Read 0M words\n",
      "Number of words:  315\n",
      "Number of labels: 1\n",
      "start training...\n",
      "Progress: 100.0% words/sec/thread:  340276 lr:  0.000000 loss:  0.000000 ETA:   0h 0m\n",
      "Read 0M words\n",
      "Number of words:  315\n",
      "Number of labels: 1\n",
      "start training...\n",
      "Progress: 100.0% words/sec/thread:  423210 lr:  0.000000 loss:  0.000000 ETA:   0h 0m\n"
     ]
    },
    {
     "name": "stdout",
     "output_type": "stream",
     "text": [
      "Checkpoint\n",
      "{'rouge1': 0.3272727272727273, 'rouge2': 0.16666666666666669, 'rougeL': 0.2}\n",
      "Index: 288\n"
     ]
    },
    {
     "name": "stderr",
     "output_type": "stream",
     "text": [
      "Read 0M words\n",
      "Number of words:  717\n",
      "Number of labels: 1\n",
      "start training...\n",
      "Progress: 100.0% words/sec/thread:  756032 lr:  0.000000 loss:  0.000000 ETA:   0h 0m\n",
      "Read 0M words\n",
      "Number of words:  717\n",
      "Number of labels: 1\n",
      "start training...\n",
      "Progress: 100.0% words/sec/thread:  711273 lr:  0.000000 loss:  0.000000 ETA:   0h 0m\n"
     ]
    },
    {
     "name": "stdout",
     "output_type": "stream",
     "text": [
      "Checkpoint\n",
      "{'rouge1': 0.01158301158301158, 'rouge2': 0.001288659793814433, 'rougeL': 0.010296010296010296}\n",
      "Index: 289\n",
      "{'rouge1': 0.19230769230769232, 'rouge2': 0.0196078431372549, 'rougeL': 0.09615384615384616}\n",
      "Index: 290\n"
     ]
    },
    {
     "name": "stderr",
     "output_type": "stream",
     "text": [
      "Read 0M words\n",
      "Number of words:  303\n",
      "Number of labels: 1\n",
      "start training...\n",
      "Progress: 100.0% words/sec/thread:  399269 lr:  0.000000 loss:  0.000000 ETA:   0h 0m\n",
      "Read 0M words\n",
      "Number of words:  303\n",
      "Number of labels: 1\n",
      "start training...\n",
      "Progress: 100.0% words/sec/thread:  368250 lr:  0.000000 loss:  0.000000 ETA:   0h 0m\n"
     ]
    },
    {
     "name": "stdout",
     "output_type": "stream",
     "text": [
      "Checkpoint\n",
      "{'rouge1': 0.2857142857142857, 'rouge2': 0.11650485436893203, 'rougeL': 0.22857142857142856}\n",
      "Index: 291\n",
      "{'rouge1': 0.25862068965517243, 'rouge2': 0.03508771929824561, 'rougeL': 0.1206896551724138}\n",
      "Index: 292\n"
     ]
    },
    {
     "name": "stderr",
     "output_type": "stream",
     "text": [
      "Read 0M words\n",
      "Number of words:  534\n",
      "Number of labels: 1\n",
      "start training...\n",
      "Progress: 100.0% words/sec/thread:  570916 lr:  0.000000 loss:  0.000000 ETA:   0h 0m\n",
      "Read 0M words\n",
      "Number of words:  534\n",
      "Number of labels: 1\n",
      "start training...\n",
      "Progress: 100.0% words/sec/thread:  611499 lr:  0.000000 loss:  0.000000 ETA:   0h 0m\n"
     ]
    },
    {
     "name": "stdout",
     "output_type": "stream",
     "text": [
      "Checkpoint\n",
      "{'rouge1': 0.2828282828282828, 'rouge2': 0.08247422680412371, 'rougeL': 0.20202020202020204}\n",
      "Index: 293\n"
     ]
    },
    {
     "name": "stderr",
     "output_type": "stream",
     "text": [
      "Read 0M words\n",
      "Number of words:  227\n",
      "Number of labels: 1\n",
      "start training...\n",
      "Progress: 100.0% words/sec/thread:  194162 lr:  0.000000 loss:  0.000000 ETA:   0h 0m\n",
      "Read 0M words\n",
      "Number of words:  227\n",
      "Number of labels: 1\n",
      "start training...\n",
      "Progress: 100.0% words/sec/thread:  241140 lr:  0.000000 loss:  0.000000 ETA:   0h 0m\n"
     ]
    },
    {
     "name": "stdout",
     "output_type": "stream",
     "text": [
      "Checkpoint\n",
      "{'rouge1': 0.5094339622641509, 'rouge2': 0.21153846153846154, 'rougeL': 0.3584905660377358}\n",
      "Index: 294\n",
      "{'rouge1': 0.26315789473684215, 'rouge2': 0.16216216216216217, 'rougeL': 0.23684210526315788}\n",
      "Index: 295\n",
      "{'rouge1': 0.3939393939393939, 'rouge2': 0.18749999999999997, 'rougeL': 0.3333333333333333}\n",
      "Index: 296\n"
     ]
    },
    {
     "name": "stderr",
     "output_type": "stream",
     "text": [
      "Read 0M words\n",
      "Number of words:  246\n",
      "Number of labels: 1\n",
      "start training...\n",
      "Progress: 100.0% words/sec/thread:  262021 lr:  0.000000 loss:  0.000000 ETA:   0h 0m\n",
      "Read 0M words\n",
      "Number of words:  246\n",
      "Number of labels: 1\n",
      "start training...\n",
      "Progress: 100.0% words/sec/thread:  193200 lr:  0.000000 loss:  0.000000 ETA:   0h 0m\n"
     ]
    },
    {
     "name": "stdout",
     "output_type": "stream",
     "text": [
      "Checkpoint\n",
      "{'rouge1': 0.26168224299065423, 'rouge2': 0.0, 'rougeL': 0.13084112149532712}\n",
      "Index: 297\n"
     ]
    },
    {
     "name": "stderr",
     "output_type": "stream",
     "text": [
      "Read 0M words\n",
      "Number of words:  482\n",
      "Number of labels: 1\n",
      "start training...\n",
      "Progress: 100.0% words/sec/thread:  525423 lr:  0.000000 loss:  0.000000 ETA:   0h 0m\n",
      "Read 0M words\n",
      "Number of words:  482\n",
      "Number of labels: 1\n",
      "start training...\n",
      "Progress: 100.0% words/sec/thread:  567262 lr:  0.000000 loss:  0.000000 ETA:   0h 0m\n"
     ]
    },
    {
     "name": "stdout",
     "output_type": "stream",
     "text": [
      "Checkpoint\n",
      "{'rouge1': 0.36507936507936506, 'rouge2': 0.16129032258064516, 'rougeL': 0.2698412698412698}\n",
      "Index: 298\n",
      "{'rouge1': 0.3333333333333333, 'rouge2': 0.09090909090909091, 'rougeL': 0.24444444444444446}\n",
      "Index: 299\n"
     ]
    },
    {
     "name": "stderr",
     "output_type": "stream",
     "text": [
      "Read 0M words\n",
      "Number of words:  324\n",
      "Number of labels: 1\n",
      "start training...\n",
      "Progress: 100.0% words/sec/thread:  397983 lr:  0.000000 loss:  0.000000 ETA:   0h 0m\n",
      "Read 0M words\n",
      "Number of words:  324\n",
      "Number of labels: 1\n",
      "start training...\n",
      "Progress: 100.0% words/sec/thread:  321395 lr:  0.000000 loss:  0.000000 ETA:   0h 0m\n"
     ]
    },
    {
     "name": "stdout",
     "output_type": "stream",
     "text": [
      "Checkpoint\n",
      "{'rouge1': 0.1794871794871795, 'rouge2': 0.02631578947368421, 'rougeL': 0.10256410256410256}\n",
      "Index: 300\n",
      "{'rouge1': 0.19130434782608696, 'rouge2': 0.017699115044247787, 'rougeL': 0.12173913043478263}\n",
      "Index: 301\n",
      "{'rouge1': 0.14141414141414144, 'rouge2': 0.0, 'rougeL': 0.08080808080808081}\n",
      "Index: 302\n"
     ]
    },
    {
     "name": "stderr",
     "output_type": "stream",
     "text": [
      "Read 0M words\n",
      "Number of words:  664\n",
      "Number of labels: 1\n",
      "start training...\n",
      "Progress: 100.0% words/sec/thread:  674351 lr:  0.000000 loss:  0.000000 ETA:   0h 0m\n",
      "Read 0M words\n",
      "Number of words:  664\n",
      "Number of labels: 1\n",
      "start training...\n",
      "Progress: 100.0% words/sec/thread:  769088 lr:  0.000000 loss:  0.000000 ETA:   0h 0m\n"
     ]
    },
    {
     "name": "stdout",
     "output_type": "stream",
     "text": [
      "Checkpoint\n",
      "{'rouge1': 0.2978723404255319, 'rouge2': 0.06521739130434782, 'rougeL': 0.1914893617021277}\n",
      "Index: 303\n"
     ]
    },
    {
     "name": "stderr",
     "output_type": "stream",
     "text": [
      "Read 0M words\n",
      "Number of words:  662\n",
      "Number of labels: 1\n",
      "start training...\n",
      "Progress: 100.0% words/sec/thread:  742612 lr:  0.000000 loss:  0.000000 ETA:   0h 0m\n",
      "Read 0M words\n",
      "Number of words:  662\n",
      "Number of labels: 1\n",
      "start training...\n",
      "Progress: 100.0% words/sec/thread:  632062 lr:  0.000000 loss:  0.000000 ETA:   0h 0m\n"
     ]
    },
    {
     "name": "stdout",
     "output_type": "stream",
     "text": [
      "Checkpoint\n",
      "{'rouge1': 0.26, 'rouge2': 0.10204081632653061, 'rougeL': 0.2}\n",
      "Index: 304\n",
      "{'rouge1': 0.27956989247311825, 'rouge2': 0.10989010989010989, 'rougeL': 0.23655913978494625}\n",
      "Index: 305\n",
      "{'rouge1': 0.38532110091743116, 'rouge2': 0.11214953271028039, 'rougeL': 0.29357798165137616}\n",
      "Index: 306\n"
     ]
    },
    {
     "name": "stderr",
     "output_type": "stream",
     "text": [
      "Read 0M words\n",
      "Number of words:  552\n",
      "Number of labels: 1\n",
      "start training...\n",
      "Progress: 100.0% words/sec/thread:  617892 lr:  0.000000 loss:  0.000000 ETA:   0h 0m\n",
      "Read 0M words\n",
      "Number of words:  552\n",
      "Number of labels: 1\n",
      "start training...\n",
      "Progress: 100.0% words/sec/thread:  721842 lr:  0.000000 loss:  0.000000 ETA:   0h 0m\n"
     ]
    },
    {
     "name": "stdout",
     "output_type": "stream",
     "text": [
      "Checkpoint\n",
      "{'rouge1': 0.18750000000000003, 'rouge2': 0.06382978723404256, 'rougeL': 0.125}\n",
      "Index: 307\n",
      "{'rouge1': 0.25, 'rouge2': 0.05454545454545454, 'rougeL': 0.16071428571428573}\n",
      "Index: 308\n"
     ]
    },
    {
     "name": "stderr",
     "output_type": "stream",
     "text": [
      "Read 0M words\n",
      "Number of words:  167\n",
      "Number of labels: 1\n",
      "start training...\n",
      "Progress: 100.0% words/sec/thread:  182162 lr:  0.000000 loss:  0.000000 ETA:   0h 0m\n",
      "Read 0M words\n",
      "Number of words:  167\n",
      "Number of labels: 1\n",
      "start training...\n",
      "Progress: 100.0% words/sec/thread:  187247 lr:  0.000000 loss:  0.000000 ETA:   0h 0m\n"
     ]
    },
    {
     "name": "stdout",
     "output_type": "stream",
     "text": [
      "Checkpoint\n",
      "{'rouge1': 0.5205479452054794, 'rouge2': 0.28169014084507044, 'rougeL': 0.4109589041095891}\n",
      "Index: 309\n",
      "{'rouge1': 0.18333333333333335, 'rouge2': 0.01694915254237288, 'rougeL': 0.13333333333333333}\n",
      "Index: 310\n",
      "{'rouge1': 0.3137254901960784, 'rouge2': 0.08, 'rougeL': 0.23529411764705882}\n",
      "Index: 311\n"
     ]
    },
    {
     "name": "stderr",
     "output_type": "stream",
     "text": [
      "Read 0M words\n",
      "Number of words:  627\n",
      "Number of labels: 1\n",
      "start training...\n",
      "Progress: 100.0% words/sec/thread:  602021 lr:  0.000000 loss:  0.000000 ETA:   0h 0m\n",
      "Read 0M words\n",
      "Number of words:  627\n",
      "Number of labels: 1\n",
      "start training...\n",
      "Progress: 100.0% words/sec/thread:  573267 lr:  0.000000 loss:  0.000000 ETA:   0h 0m\n"
     ]
    },
    {
     "name": "stdout",
     "output_type": "stream",
     "text": [
      "Checkpoint\n",
      "{'rouge1': 0.22608695652173913, 'rouge2': 0.035398230088495575, 'rougeL': 0.1391304347826087}\n",
      "Index: 312\n"
     ]
    },
    {
     "name": "stderr",
     "output_type": "stream",
     "text": [
      "Read 0M words\n",
      "Number of words:  288\n",
      "Number of labels: 1\n",
      "start training...\n",
      "Progress: 100.0% words/sec/thread:  324811 lr:  0.000000 loss:  0.000000 ETA:   0h 0m\n",
      "Read 0M words\n",
      "Number of words:  288\n",
      "Number of labels: 1\n",
      "start training...\n",
      "Progress: 100.0% words/sec/thread:  327000 lr:  0.000000 loss:  0.000000 ETA:   0h 0m\n"
     ]
    },
    {
     "name": "stdout",
     "output_type": "stream",
     "text": [
      "Checkpoint\n",
      "{'rouge1': 0.4102564102564103, 'rouge2': 0.034782608695652174, 'rougeL': 0.20512820512820515}\n",
      "Index: 313\n",
      "{'rouge1': 0.25806451612903225, 'rouge2': 0.10989010989010987, 'rougeL': 0.23655913978494625}\n",
      "Index: 314\n",
      "{'rouge1': 0.20689655172413796, 'rouge2': 0.047058823529411764, 'rougeL': 0.13793103448275862}\n",
      "Index: 315\n",
      "{'rouge1': 0.3770491803278689, 'rouge2': 0.1, 'rougeL': 0.24590163934426232}\n",
      "Index: 316\n",
      "{'rouge1': 0.29629629629629634, 'rouge2': 0.03773584905660377, 'rougeL': 0.2222222222222222}\n",
      "Index: 317\n",
      "{'rouge1': 0.18823529411764708, 'rouge2': 0.024096385542168676, 'rougeL': 0.11764705882352941}\n",
      "Index: 318\n",
      "{'rouge1': 0.4166666666666667, 'rouge2': 0.1702127659574468, 'rougeL': 0.29166666666666663}\n",
      "Index: 319\n",
      "{'rouge1': 0.3925233644859813, 'rouge2': 0.15238095238095237, 'rougeL': 0.28037383177570097}\n",
      "Index: 320\n",
      "{'rouge1': 0.3564356435643565, 'rouge2': 0.0808080808080808, 'rougeL': 0.21782178217821782}\n",
      "Index: 321\n"
     ]
    },
    {
     "name": "stderr",
     "output_type": "stream",
     "text": [
      "Read 0M words\n",
      "Number of words:  274\n",
      "Number of labels: 1\n",
      "start training...\n",
      "Progress: 100.0% words/sec/thread:  361792 lr:  0.000000 loss:  0.000000 ETA:   0h 0m\n",
      "Read 0M words\n",
      "Number of words:  274\n",
      "Number of labels: 1\n",
      "start training...\n",
      "Progress: 100.0% words/sec/thread:  140429 lr:  0.000000 loss:  0.000000 ETA:   0h 0m\n"
     ]
    },
    {
     "name": "stdout",
     "output_type": "stream",
     "text": [
      "Checkpoint\n",
      "{'rouge1': 0.24242424242424243, 'rouge2': 0.08247422680412371, 'rougeL': 0.1616161616161616}\n",
      "Index: 322\n",
      "{'rouge1': 0.3333333333333333, 'rouge2': 0.13999999999999999, 'rougeL': 0.17647058823529413}\n",
      "Index: 323\n",
      "{'rouge1': 0.125, 'rouge2': 0.02127659574468085, 'rougeL': 0.125}\n",
      "Index: 324\n",
      "{'rouge1': 0.4821428571428571, 'rouge2': 0.18181818181818182, 'rougeL': 0.23214285714285712}\n",
      "Index: 325\n"
     ]
    },
    {
     "name": "stderr",
     "output_type": "stream",
     "text": [
      "Read 0M words\n",
      "Number of words:  330\n",
      "Number of labels: 1\n",
      "start training...\n",
      "Progress: 100.0% words/sec/thread:  309366 lr:  0.000000 loss:  0.000000 ETA:   0h 0m\n",
      "Read 0M words\n",
      "Number of words:  330\n",
      "Number of labels: 1\n",
      "start training...\n",
      "Progress: 100.0% words/sec/thread:  329930 lr:  0.000000 loss:  0.000000 ETA:   0h 0m\n"
     ]
    },
    {
     "name": "stdout",
     "output_type": "stream",
     "text": [
      "Checkpoint\n",
      "{'rouge1': 0.3076923076923077, 'rouge2': 0.0898876404494382, 'rougeL': 0.17582417582417584}\n",
      "Index: 326\n",
      "{'rouge1': 0.29357798165137616, 'rouge2': 0.01869158878504673, 'rougeL': 0.18348623853211007}\n",
      "Index: 327\n",
      "{'rouge1': 0.19148936170212766, 'rouge2': 0.043478260869565216, 'rougeL': 0.10638297872340426}\n",
      "Index: 328\n",
      "{'rouge1': 0.3296703296703297, 'rouge2': 0.04494382022471911, 'rougeL': 0.1758241758241758}\n",
      "Index: 329\n",
      "{'rouge1': 0.32692307692307687, 'rouge2': 0.1568627450980392, 'rougeL': 0.23076923076923075}\n",
      "Index: 330\n",
      "{'rouge1': 0.39215686274509803, 'rouge2': 0.18, 'rougeL': 0.25490196078431376}\n",
      "Index: 331\n"
     ]
    },
    {
     "name": "stderr",
     "output_type": "stream",
     "text": [
      "Read 0M words\n",
      "Number of words:  192\n",
      "Number of labels: 1\n",
      "start training...\n",
      "Progress: 100.0% words/sec/thread:  222136 lr:  0.000000 loss:  0.000000 ETA:   0h 0m\n",
      "Read 0M words\n",
      "Number of words:  192\n",
      "Number of labels: 1\n",
      "start training...\n",
      "Progress: 100.0% words/sec/thread:  196145 lr:  0.000000 loss:  0.000000 ETA:   0h 0m\n"
     ]
    },
    {
     "name": "stdout",
     "output_type": "stream",
     "text": [
      "Checkpoint\n",
      "{'rouge1': 0.16216216216216217, 'rouge2': 0.027777777777777776, 'rougeL': 0.13513513513513514}\n",
      "Index: 332\n",
      "{'rouge1': 0.5283018867924527, 'rouge2': 0.25, 'rougeL': 0.37735849056603776}\n",
      "Index: 333\n",
      "{'rouge1': 0.41904761904761906, 'rouge2': 0.19417475728155337, 'rougeL': 0.32380952380952377}\n",
      "Index: 334\n",
      "{'rouge1': 0.40322580645161293, 'rouge2': 0.11475409836065574, 'rougeL': 0.1774193548387097}\n",
      "Index: 335\n",
      "{'rouge1': 0.2631578947368421, 'rouge2': 0.07142857142857142, 'rougeL': 0.14035087719298245}\n",
      "Index: 336\n"
     ]
    },
    {
     "name": "stderr",
     "output_type": "stream",
     "text": [
      "Read 0M words\n",
      "Number of words:  611\n",
      "Number of labels: 1\n",
      "start training...\n",
      "Progress: 100.0% words/sec/thread:  488886 lr:  0.000000 loss:  0.000000 ETA:   0h 0m\n",
      "Read 0M words\n",
      "Number of words:  611\n",
      "Number of labels: 1\n",
      "start training...\n",
      "Progress: 100.0% words/sec/thread:  673978 lr:  0.000000 loss:  0.000000 ETA:   0h 0m\n"
     ]
    },
    {
     "name": "stdout",
     "output_type": "stream",
     "text": [
      "Checkpoint\n",
      "{'rouge1': 0.21505376344086022, 'rouge2': 0.021978021978021976, 'rougeL': 0.12903225806451613}\n",
      "Index: 337\n",
      "{'rouge1': 0.2782608695652174, 'rouge2': 0.08849557522123894, 'rougeL': 0.17391304347826086}\n",
      "Index: 338\n"
     ]
    },
    {
     "name": "stderr",
     "output_type": "stream",
     "text": [
      "Read 0M words\n",
      "Number of words:  584\n",
      "Number of labels: 1\n",
      "start training...\n",
      "Progress: 100.0% words/sec/thread:  506393 lr:  0.000000 loss:  0.000000 ETA:   0h 0m\n",
      "Read 0M words\n",
      "Number of words:  584\n",
      "Number of labels: 1\n",
      "start training...\n",
      "Progress: 100.0% words/sec/thread:  649314 lr:  0.000000 loss:  0.000000 ETA:   0h 0m\n"
     ]
    },
    {
     "name": "stdout",
     "output_type": "stream",
     "text": [
      "Checkpoint\n",
      "{'rouge1': 0.4406779661016949, 'rouge2': 0.1206896551724138, 'rougeL': 0.288135593220339}\n",
      "Index: 339\n",
      "{'rouge1': 0.3170731707317073, 'rouge2': 0.075, 'rougeL': 0.21951219512195125}\n",
      "Index: 340\n",
      "{'rouge1': 0.11570247933884296, 'rouge2': 0.01680672268907563, 'rougeL': 0.06611570247933884}\n",
      "Index: 341\n",
      "{'rouge1': 0.2432432432432432, 'rouge2': 0.05555555555555555, 'rougeL': 0.2162162162162162}\n",
      "Index: 342\n",
      "{'rouge1': 0.3125, 'rouge2': 0.0425531914893617, 'rougeL': 0.18750000000000003}\n",
      "Index: 343\n",
      "{'rouge1': 0.36363636363636365, 'rouge2': 0.16494845360824745, 'rougeL': 0.20202020202020202}\n",
      "Index: 344\n",
      "{'rouge1': 0.22916666666666666, 'rouge2': 0.12765957446808512, 'rougeL': 0.16666666666666666}\n",
      "Index: 345\n"
     ]
    },
    {
     "name": "stderr",
     "output_type": "stream",
     "text": [
      "Read 0M words\n",
      "Number of words:  348\n",
      "Number of labels: 1\n",
      "start training...\n",
      "Progress: 100.0% words/sec/thread:  319608 lr:  0.000000 loss:  0.000000 ETA:   0h 0m\n",
      "Read 0M words\n",
      "Number of words:  348\n",
      "Number of labels: 1\n",
      "start training...\n",
      "Progress: 100.0% words/sec/thread:  446037 lr:  0.000000 loss:  0.000000 ETA:   0h 0m\n"
     ]
    },
    {
     "name": "stdout",
     "output_type": "stream",
     "text": [
      "Checkpoint\n",
      "{'rouge1': 0.2696629213483146, 'rouge2': 0.09195402298850576, 'rougeL': 0.22471910112359547}\n",
      "Index: 346\n",
      "{'rouge1': 0.3434343434343435, 'rouge2': 0.18556701030927833, 'rougeL': 0.20202020202020202}\n",
      "Index: 347\n",
      "{'rouge1': 0.40425531914893614, 'rouge2': 0.2826086956521739, 'rougeL': 0.36170212765957455}\n",
      "Index: 348\n",
      "{'rouge1': 0.1607142857142857, 'rouge2': 0.0, 'rougeL': 0.14285714285714285}\n",
      "Index: 349\n",
      "{'rouge1': 0.4854368932038835, 'rouge2': 0.1386138613861386, 'rougeL': 0.23300970873786406}\n",
      "Index: 350\n",
      "{'rouge1': 0.1864406779661017, 'rouge2': 0.05172413793103449, 'rougeL': 0.11864406779661017}\n",
      "Index: 351\n",
      "{'rouge1': 0.3454545454545454, 'rouge2': 0.05555555555555556, 'rougeL': 0.2545454545454545}\n",
      "Index: 352\n",
      "{'rouge1': 0.326530612244898, 'rouge2': 0.10416666666666666, 'rougeL': 0.28571428571428564}\n",
      "Index: 353\n"
     ]
    },
    {
     "name": "stderr",
     "output_type": "stream",
     "text": [
      "Read 0M words\n",
      "Number of words:  386\n",
      "Number of labels: 1\n",
      "start training...\n",
      "Progress: 100.0% words/sec/thread:  494643 lr:  0.000000 loss:  0.000000 ETA:   0h 0m\n",
      "Read 0M words\n",
      "Number of words:  386\n",
      "Number of labels: 1\n",
      "start training...\n",
      "Progress: 100.0% words/sec/thread:  393028 lr:  0.000000 loss:  0.000000 ETA:   0h 0m\n"
     ]
    },
    {
     "name": "stdout",
     "output_type": "stream",
     "text": [
      "Checkpoint\n",
      "{'rouge1': 0.39252336448598124, 'rouge2': 0.19047619047619047, 'rougeL': 0.28037383177570097}\n",
      "Index: 354\n",
      "{'rouge1': 0.11650485436893201, 'rouge2': 0.0, 'rougeL': 0.07766990291262137}\n",
      "Index: 355\n"
     ]
    },
    {
     "name": "stderr",
     "output_type": "stream",
     "text": [
      "Read 0M words\n",
      "Number of words:  730\n",
      "Number of labels: 1\n",
      "start training...\n",
      "Progress: 100.0% words/sec/thread:  878526 lr:  0.000000 loss:  0.000000 ETA:   0h 0m\n",
      "Read 0M words\n",
      "Number of words:  730\n",
      "Number of labels: 1\n",
      "start training...\n",
      "Progress: 100.0% words/sec/thread:  896835 lr:  0.000000 loss:  0.000000 ETA:   0h 0m\n"
     ]
    },
    {
     "name": "stdout",
     "output_type": "stream",
     "text": [
      "Checkpoint\n",
      "{'rouge1': 0.03519417475728155, 'rouge2': 0.009720534629404616, 'rougeL': 0.0279126213592233}\n",
      "Index: 356\n",
      "{'rouge1': 0.23728813559322035, 'rouge2': 0.08620689655172413, 'rougeL': 0.16949152542372883}\n",
      "Index: 357\n",
      "{'rouge1': 0.2962962962962963, 'rouge2': 0.03773584905660377, 'rougeL': 0.20370370370370372}\n",
      "Index: 358\n",
      "{'rouge1': 0.4, 'rouge2': 0.2465753424657534, 'rougeL': 0.26666666666666666}\n",
      "Index: 359\n",
      "{'rouge1': 0.38834951456310673, 'rouge2': 0.13861386138613863, 'rougeL': 0.23300970873786409}\n",
      "Index: 360\n",
      "{'rouge1': 0.21686746987951808, 'rouge2': 0.0, 'rougeL': 0.09638554216867469}\n",
      "Index: 361\n",
      "{'rouge1': 0.3157894736842105, 'rouge2': 0.15053763440860216, 'rougeL': 0.2526315789473684}\n",
      "Index: 362\n"
     ]
    },
    {
     "name": "stderr",
     "output_type": "stream",
     "text": [
      "Read 0M words\n",
      "Number of words:  152\n",
      "Number of labels: 1\n",
      "start training...\n",
      "Progress: 100.0% words/sec/thread:  172618 lr:  0.000000 loss:  0.000000 ETA:   0h 0m\n",
      "Read 0M words\n",
      "Number of words:  152\n",
      "Number of labels: 1\n",
      "start training...\n",
      "Progress: 100.0% words/sec/thread:   93788 lr:  0.000000 loss:  0.000000 ETA:   0h 0m\n"
     ]
    },
    {
     "name": "stdout",
     "output_type": "stream",
     "text": [
      "Checkpoint\n",
      "{'rouge1': 0.3058823529411765, 'rouge2': 0.1927710843373494, 'rougeL': 0.21176470588235294}\n",
      "Index: 363\n",
      "{'rouge1': 0.2962962962962963, 'rouge2': 0.05660377358490566, 'rougeL': 0.18518518518518517}\n",
      "Index: 364\n",
      "{'rouge1': 0.42718446601941745, 'rouge2': 0.297029702970297, 'rougeL': 0.2524271844660194}\n",
      "Index: 365\n",
      "{'rouge1': 0.3333333333333333, 'rouge2': 0.1702127659574468, 'rougeL': 0.2083333333333333}\n",
      "Index: 366\n",
      "{'rouge1': 0.36893203883495146, 'rouge2': 0.07920792079207921, 'rougeL': 0.13592233009708737}\n",
      "Index: 367\n",
      "{'rouge1': 0.35643564356435636, 'rouge2': 0.1212121212121212, 'rougeL': 0.2376237623762376}\n",
      "Index: 368\n",
      "{'rouge1': 0.41739130434782606, 'rouge2': 0.1769911504424779, 'rougeL': 0.22608695652173916}\n",
      "Index: 369\n",
      "{'rouge1': 0.23008849557522124, 'rouge2': 0.018018018018018018, 'rougeL': 0.1769911504424779}\n",
      "Index: 370\n",
      "{'rouge1': 0.22222222222222227, 'rouge2': 0.06185567010309278, 'rougeL': 0.1616161616161616}\n",
      "Index: 371\n",
      "{'rouge1': 0.45454545454545453, 'rouge2': 0.372093023255814, 'rougeL': 0.40909090909090906}\n",
      "Index: 372\n",
      "{'rouge1': 0.2765957446808511, 'rouge2': 0.06521739130434782, 'rougeL': 0.1702127659574468}\n",
      "Index: 373\n",
      "{'rouge1': 0.3595505617977528, 'rouge2': 0.04597701149425288, 'rougeL': 0.20224719101123598}\n",
      "Index: 374\n",
      "{'rouge1': 0.26666666666666666, 'rouge2': 0.045454545454545456, 'rougeL': 0.2}\n",
      "Index: 375\n",
      "{'rouge1': 0.36538461538461536, 'rouge2': 0.1568627450980392, 'rougeL': 0.28846153846153844}\n",
      "Index: 376\n",
      "{'rouge1': 0.24742268041237112, 'rouge2': 0.16842105263157897, 'rougeL': 0.24742268041237112}\n",
      "Index: 377\n",
      "{'rouge1': 0.26785714285714285, 'rouge2': 0.03636363636363636, 'rougeL': 0.21428571428571427}\n",
      "Index: 378\n",
      "{'rouge1': 0.26, 'rouge2': 0.04081632653061224, 'rougeL': 0.16}\n",
      "Index: 379\n",
      "{'rouge1': 0.2545454545454546, 'rouge2': 0.09259259259259259, 'rougeL': 0.16363636363636366}\n",
      "Index: 380\n",
      "{'rouge1': 0.3516483516483516, 'rouge2': 0.20224719101123595, 'rougeL': 0.24175824175824173}\n",
      "Index: 381\n"
     ]
    },
    {
     "name": "stderr",
     "output_type": "stream",
     "text": [
      "Read 0M words\n",
      "Number of words:  150\n",
      "Number of labels: 1\n",
      "start training...\n",
      "Progress: 100.0% words/sec/thread:  156159 lr:  0.000000 loss:  0.000000 ETA:   0h 0m\n",
      "Read 0M words\n",
      "Number of words:  150\n",
      "Number of labels: 1\n",
      "start training...\n",
      "Progress: 100.0% words/sec/thread:  170354 lr:  0.000000 loss:  0.000000 ETA:   0h 0m\n"
     ]
    },
    {
     "name": "stdout",
     "output_type": "stream",
     "text": [
      "Checkpoint\n",
      "{'rouge1': 0.16129032258064516, 'rouge2': 0.0, 'rougeL': 0.11290322580645161}\n",
      "Index: 382\n"
     ]
    },
    {
     "name": "stderr",
     "output_type": "stream",
     "text": [
      "Read 0M words\n",
      "Number of words:  360\n",
      "Number of labels: 1\n",
      "start training...\n",
      "Progress: 100.0% words/sec/thread:  459522 lr:  0.000000 loss:  0.000000 ETA:   0h 0m\n",
      "Read 0M words\n",
      "Number of words:  360\n",
      "Number of labels: 1\n",
      "start training...\n",
      "Progress: 100.0% words/sec/thread:  481231 lr:  0.000000 loss:  0.000000 ETA:   0h 0m\n"
     ]
    },
    {
     "name": "stdout",
     "output_type": "stream",
     "text": [
      "Checkpoint\n",
      "{'rouge1': 0.4485981308411215, 'rouge2': 0.1523809523809524, 'rougeL': 0.22429906542056074}\n",
      "Index: 383\n"
     ]
    },
    {
     "name": "stderr",
     "output_type": "stream",
     "text": [
      "Read 0M words\n",
      "Number of words:  665\n",
      "Number of labels: 1\n",
      "start training...\n",
      "Progress: 100.0% words/sec/thread:  587518 lr:  0.000000 loss:  0.000000 ETA:   0h 0m\n",
      "Read 0M words\n",
      "Number of words:  665\n",
      "Number of labels: 1\n",
      "start training...\n",
      "Progress: 100.0% words/sec/thread:  594625 lr:  0.000000 loss:  0.000000 ETA:   0h 0m\n"
     ]
    },
    {
     "name": "stdout",
     "output_type": "stream",
     "text": [
      "Checkpoint\n",
      "{'rouge1': 0.3106796116504854, 'rouge2': 0.039603960396039604, 'rougeL': 0.17475728155339806}\n",
      "Index: 384\n"
     ]
    },
    {
     "name": "stderr",
     "output_type": "stream",
     "text": [
      "Read 0M words\n",
      "Number of words:  346\n",
      "Number of labels: 1\n",
      "start training...\n",
      "Progress: 100.0% words/sec/thread:  332842 lr:  0.000000 loss:  0.000000 ETA:   0h 0m\n",
      "Read 0M words\n",
      "Number of words:  346\n",
      "Number of labels: 1\n",
      "start training...\n",
      "Progress: 100.0% words/sec/thread:  525438 lr:  0.000000 loss:  0.000000 ETA:   0h 0m\n"
     ]
    },
    {
     "name": "stdout",
     "output_type": "stream",
     "text": [
      "Checkpoint\n",
      "{'rouge1': 0.42105263157894735, 'rouge2': 0.125, 'rougeL': 0.2456140350877193}\n",
      "Index: 385\n",
      "{'rouge1': 0.24074074074074073, 'rouge2': 0.01886792452830189, 'rougeL': 0.12962962962962962}\n",
      "Index: 386\n",
      "{'rouge1': 0.10989010989010987, 'rouge2': 0.02247191011235955, 'rougeL': 0.04395604395604396}\n",
      "Index: 387\n",
      "{'rouge1': 0.2201834862385321, 'rouge2': 0.03738317757009346, 'rougeL': 0.18348623853211007}\n",
      "Index: 388\n"
     ]
    },
    {
     "name": "stderr",
     "output_type": "stream",
     "text": [
      "Read 0M words\n",
      "Number of words:  561\n",
      "Number of labels: 1\n",
      "start training...\n",
      "Progress: 100.0% words/sec/thread:  566763 lr:  0.000000 loss:  0.000000 ETA:   0h 0m\n",
      "Read 0M words\n",
      "Number of words:  561\n",
      "Number of labels: 1\n",
      "start training...\n",
      "Progress: 100.0% words/sec/thread:  555586 lr:  0.000000 loss:  0.000000 ETA:   0h 0m\n"
     ]
    },
    {
     "name": "stdout",
     "output_type": "stream",
     "text": [
      "Checkpoint\n",
      "{'rouge1': 0.2429906542056075, 'rouge2': 0.15238095238095237, 'rougeL': 0.22429906542056077}\n",
      "Index: 389\n",
      "{'rouge1': 0.11111111111111113, 'rouge2': 0.045454545454545456, 'rougeL': 0.08888888888888888}\n",
      "Index: 390\n"
     ]
    },
    {
     "name": "stderr",
     "output_type": "stream",
     "text": [
      "Read 0M words\n",
      "Number of words:  161\n",
      "Number of labels: 1\n",
      "start training...\n",
      "Progress: 100.0% words/sec/thread:  199282 lr:  0.000000 loss:  0.000000 ETA:   0h 0m\n",
      "Read 0M words\n",
      "Number of words:  161\n",
      "Number of labels: 1\n",
      "start training...\n",
      "Progress: 100.0% words/sec/thread:  170872 lr:  0.000000 loss:  0.000000 ETA:   0h 0m\n"
     ]
    },
    {
     "name": "stdout",
     "output_type": "stream",
     "text": [
      "Checkpoint\n",
      "{'rouge1': 0.3269230769230769, 'rouge2': 0.17647058823529413, 'rougeL': 0.1923076923076923}\n",
      "Index: 391\n",
      "{'rouge1': 0.3669724770642202, 'rouge2': 0.13084112149532712, 'rougeL': 0.25688073394495414}\n",
      "Index: 392\n"
     ]
    },
    {
     "name": "stderr",
     "output_type": "stream",
     "text": [
      "Read 0M words\n",
      "Number of words:  485\n",
      "Number of labels: 1\n",
      "start training...\n",
      "Progress: 100.0% words/sec/thread:  600370 lr:  0.000000 loss:  0.000000 ETA:   0h 0m\n",
      "Read 0M words\n",
      "Number of words:  485\n",
      "Number of labels: 1\n",
      "start training...\n",
      "Progress: 100.0% words/sec/thread:  537452 lr:  0.000000 loss:  0.000000 ETA:   0h 0m\n"
     ]
    },
    {
     "name": "stdout",
     "output_type": "stream",
     "text": [
      "Checkpoint\n",
      "{'rouge1': 0.2745098039215686, 'rouge2': 0.12, 'rougeL': 0.25490196078431376}\n",
      "Index: 393\n",
      "{'rouge1': 0.4107142857142857, 'rouge2': 0.10909090909090909, 'rougeL': 0.2857142857142857}\n",
      "Index: 394\n",
      "{'rouge1': 0.29166666666666663, 'rouge2': 0.10638297872340424, 'rougeL': 0.18750000000000003}\n",
      "Index: 395\n"
     ]
    },
    {
     "name": "stderr",
     "output_type": "stream",
     "text": [
      "Read 0M words\n",
      "Number of words:  394\n",
      "Number of labels: 1\n",
      "start training...\n",
      "Progress: 100.0% words/sec/thread:  364838 lr:  0.000000 loss:  0.000000 ETA:   0h 0m\n",
      "Read 0M words\n",
      "Number of words:  394\n",
      "Number of labels: 1\n",
      "start training...\n",
      "Progress: 100.0% words/sec/thread:  396622 lr:  0.000000 loss:  0.000000 ETA:   0h 0m\n"
     ]
    },
    {
     "name": "stdout",
     "output_type": "stream",
     "text": [
      "Checkpoint\n",
      "{'rouge1': 0.25, 'rouge2': 0.09803921568627451, 'rougeL': 0.15384615384615385}\n",
      "Index: 396\n",
      "{'rouge1': 0.3434343434343434, 'rouge2': 0.1443298969072165, 'rougeL': 0.26262626262626265}\n",
      "Index: 397\n",
      "{'rouge1': 0.42735042735042733, 'rouge2': 0.24347826086956523, 'rougeL': 0.15384615384615383}\n",
      "Index: 398\n",
      "{'rouge1': 0.12048192771084337, 'rouge2': 0.024691358024691357, 'rougeL': 0.0963855421686747}\n",
      "Index: 399\n",
      "{'rouge1': 0.2456140350877193, 'rouge2': 0.0892857142857143, 'rougeL': 0.14035087719298245}\n",
      "Index: 400\n"
     ]
    },
    {
     "name": "stderr",
     "output_type": "stream",
     "text": [
      "Read 0M words\n",
      "Number of words:  152\n",
      "Number of labels: 1\n",
      "start training...\n",
      "Progress: 100.0% words/sec/thread:   95301 lr:  0.000000 loss:  0.000000 ETA:   0h 0m\n",
      "Read 0M words\n",
      "Number of words:  152\n",
      "Number of labels: 1\n",
      "start training...\n",
      "Progress: 100.0% words/sec/thread:  184119 lr:  0.000000 loss:  0.000000 ETA:   0h 0m\n"
     ]
    },
    {
     "name": "stdout",
     "output_type": "stream",
     "text": [
      "Checkpoint\n",
      "{'rouge1': 0.3333333333333333, 'rouge2': 0.2272727272727273, 'rougeL': 0.28888888888888886}\n",
      "Index: 401\n",
      "{'rouge1': 0.3486238532110092, 'rouge2': 0.14953271028037382, 'rougeL': 0.1651376146788991}\n",
      "Index: 402\n"
     ]
    },
    {
     "name": "stderr",
     "output_type": "stream",
     "text": [
      "Read 0M words\n",
      "Number of words:  233\n",
      "Number of labels: 1\n",
      "start training...\n",
      "Progress: 100.0% words/sec/thread:  269054 lr:  0.000000 loss:  0.000000 ETA:   0h 0m\n",
      "Read 0M words\n",
      "Number of words:  233\n",
      "Number of labels: 1\n",
      "start training...\n",
      "Progress: 100.0% words/sec/thread:  300187 lr:  0.000000 loss:  0.000000 ETA:   0h 0m\n"
     ]
    },
    {
     "name": "stdout",
     "output_type": "stream",
     "text": [
      "Checkpoint\n",
      "{'rouge1': 0.2988505747126437, 'rouge2': 0.11764705882352941, 'rougeL': 0.22988505747126434}\n",
      "Index: 403\n"
     ]
    },
    {
     "name": "stderr",
     "output_type": "stream",
     "text": [
      "Read 0M words\n",
      "Number of words:  177\n",
      "Number of labels: 1\n",
      "start training...\n",
      "Progress: 100.0% words/sec/thread:  196958 lr:  0.000000 loss:  0.000000 ETA:   0h 0m\n",
      "Read 0M words\n",
      "Number of words:  177\n",
      "Number of labels: 1\n",
      "start training...\n",
      "Progress: 100.0% words/sec/thread:  129324 lr:  0.000000 loss:  0.000000 ETA:   0h 0m\n"
     ]
    },
    {
     "name": "stdout",
     "output_type": "stream",
     "text": [
      "Checkpoint\n",
      "{'rouge1': 0.5979381443298969, 'rouge2': 0.5263157894736842, 'rougeL': 0.4948453608247423}\n",
      "Index: 404\n"
     ]
    },
    {
     "name": "stderr",
     "output_type": "stream",
     "text": [
      "Read 0M words\n",
      "Number of words:  613\n",
      "Number of labels: 1\n",
      "start training...\n",
      "Progress: 100.0% words/sec/thread:  577515 lr:  0.000000 loss:  0.000000 ETA:   0h 0m\n",
      "Read 0M words\n",
      "Number of words:  613\n",
      "Number of labels: 1\n",
      "start training...\n",
      "Progress: 100.0% words/sec/thread:  556978 lr:  0.000000 loss:  0.000000 ETA:   0h 0m\n"
     ]
    },
    {
     "name": "stdout",
     "output_type": "stream",
     "text": [
      "Checkpoint\n",
      "{'rouge1': 0.2696629213483146, 'rouge2': 0.09195402298850573, 'rougeL': 0.15730337078651685}\n",
      "Index: 405\n",
      "{'rouge1': 0.247787610619469, 'rouge2': 0.07207207207207207, 'rougeL': 0.1415929203539823}\n",
      "Index: 406\n",
      "{'rouge1': 0.3269230769230769, 'rouge2': 0.1372549019607843, 'rougeL': 0.1923076923076923}\n",
      "Index: 407\n"
     ]
    },
    {
     "name": "stderr",
     "output_type": "stream",
     "text": [
      "Read 0M words\n",
      "Number of words:  315\n",
      "Number of labels: 1\n",
      "start training...\n",
      "Progress: 100.0% words/sec/thread:  361251 lr:  0.000000 loss:  0.000000 ETA:   0h 0m\n",
      "Read 0M words\n",
      "Number of words:  315\n",
      "Number of labels: 1\n",
      "start training...\n",
      "Progress: 100.0% words/sec/thread:  332545 lr:  0.000000 loss:  0.000000 ETA:   0h 0m\n"
     ]
    },
    {
     "name": "stdout",
     "output_type": "stream",
     "text": [
      "Checkpoint\n",
      "{'rouge1': 0.1607142857142857, 'rouge2': 0.01818181818181818, 'rougeL': 0.10714285714285714}\n",
      "Index: 408\n",
      "{'rouge1': 0.411214953271028, 'rouge2': 0.15238095238095237, 'rougeL': 0.24299065420560748}\n",
      "Index: 409\n",
      "{'rouge1': 0.25, 'rouge2': 0.15384615384615383, 'rougeL': 0.22499999999999998}\n",
      "Index: 410\n",
      "{'rouge1': 0.11650485436893203, 'rouge2': 0.0, 'rougeL': 0.0970873786407767}\n",
      "Index: 411\n",
      "{'rouge1': 0.22471910112359553, 'rouge2': 0.06896551724137931, 'rougeL': 0.1348314606741573}\n",
      "Index: 412\n",
      "{'rouge1': 0.24299065420560745, 'rouge2': 0.05714285714285715, 'rougeL': 0.1308411214953271}\n",
      "Index: 413\n",
      "{'rouge1': 0.25925925925925924, 'rouge2': 0.07547169811320756, 'rougeL': 0.2222222222222222}\n",
      "Index: 414\n",
      "{'rouge1': 0.3225806451612903, 'rouge2': 0.13186813186813187, 'rougeL': 0.23655913978494622}\n",
      "Index: 415\n",
      "{'rouge1': 0.04476629361421988, 'rouge2': 0.01977587343441002, 'rougeL': 0.03423304805793285}\n",
      "Index: 416\n"
     ]
    },
    {
     "name": "stderr",
     "output_type": "stream",
     "text": [
      "Read 0M words\n",
      "Number of words:  275\n",
      "Number of labels: 1\n",
      "start training...\n",
      "Progress: 100.0% words/sec/thread:  364108 lr:  0.000000 loss:  0.000000 ETA:   0h 0m\n",
      "Read 0M words\n",
      "Number of words:  275\n",
      "Number of labels: 1\n",
      "start training...\n",
      "Progress: 100.0% words/sec/thread:  312004 lr:  0.000000 loss:  0.000000 ETA:   0h 0m\n"
     ]
    },
    {
     "name": "stdout",
     "output_type": "stream",
     "text": [
      "Checkpoint\n",
      "{'rouge1': 0.30952380952380953, 'rouge2': 0.0975609756097561, 'rougeL': 0.19047619047619047}\n",
      "Index: 417\n",
      "{'rouge1': 0.34234234234234234, 'rouge2': 0.09174311926605504, 'rougeL': 0.23423423423423423}\n",
      "Index: 418\n"
     ]
    },
    {
     "name": "stderr",
     "output_type": "stream",
     "text": [
      "Read 0M words\n",
      "Number of words:  172\n",
      "Number of labels: 1\n",
      "start training...\n",
      "Progress: 100.0% words/sec/thread:  142646 lr:  0.000000 loss:  0.000000 ETA:   0h 0m\n",
      "Read 0M words\n",
      "Number of words:  172\n",
      "Number of labels: 1\n",
      "start training...\n",
      "Progress: 100.0% words/sec/thread:  185974 lr:  0.000000 loss:  0.000000 ETA:   0h 0m\n"
     ]
    },
    {
     "name": "stdout",
     "output_type": "stream",
     "text": [
      "Checkpoint\n",
      "{'rouge1': 0.26666666666666666, 'rouge2': 0.11363636363636363, 'rougeL': 0.15555555555555559}\n",
      "Index: 419\n",
      "{'rouge1': 0.1797752808988764, 'rouge2': 0.04597701149425287, 'rougeL': 0.1348314606741573}\n",
      "Index: 420\n"
     ]
    },
    {
     "name": "stderr",
     "output_type": "stream",
     "text": [
      "Read 0M words\n",
      "Number of words:  349\n",
      "Number of labels: 1\n",
      "start training...\n",
      "Progress: 100.0% words/sec/thread:  373782 lr:  0.000000 loss:  0.000000 ETA:   0h 0m\n",
      "Read 0M words\n",
      "Number of words:  349\n",
      "Number of labels: 1\n",
      "start training...\n",
      "Progress: 100.0% words/sec/thread:  436474 lr:  0.000000 loss:  0.000000 ETA:   0h 0m\n"
     ]
    },
    {
     "name": "stdout",
     "output_type": "stream",
     "text": [
      "Checkpoint\n",
      "{'rouge1': 0.3298969072164948, 'rouge2': 0.16842105263157892, 'rougeL': 0.20618556701030927}\n",
      "Index: 421\n"
     ]
    },
    {
     "name": "stderr",
     "output_type": "stream",
     "text": [
      "Read 0M words\n",
      "Number of words:  345\n",
      "Number of labels: 1\n",
      "start training...\n",
      "Progress: 100.0% words/sec/thread:  358028 lr:  0.000000 loss:  0.000000 ETA:   0h 0m\n",
      "Read 0M words\n",
      "Number of words:  345\n",
      "Number of labels: 1\n",
      "start training...\n",
      "Progress: 100.0% words/sec/thread:  335693 lr:  0.000000 loss:  0.000000 ETA:   0h 0m\n"
     ]
    },
    {
     "name": "stdout",
     "output_type": "stream",
     "text": [
      "Checkpoint\n",
      "{'rouge1': 0.4285714285714286, 'rouge2': 0.20833333333333331, 'rougeL': 0.30612244897959184}\n",
      "Index: 422\n",
      "{'rouge1': 0.4150943396226416, 'rouge2': 0.17307692307692307, 'rougeL': 0.2641509433962264}\n",
      "Index: 423\n"
     ]
    },
    {
     "name": "stderr",
     "output_type": "stream",
     "text": [
      "Read 0M words\n",
      "Number of words:  553\n",
      "Number of labels: 1\n",
      "start training...\n",
      "Progress: 100.0% words/sec/thread:  627945 lr:  0.000000 loss:  0.000000 ETA:   0h 0m\n",
      "Read 0M words\n",
      "Number of words:  553\n",
      "Number of labels: 1\n",
      "start training...\n",
      "Progress: 100.0% words/sec/thread:  560896 lr:  0.000000 loss:  0.000000 ETA:   0h 0m\n"
     ]
    },
    {
     "name": "stdout",
     "output_type": "stream",
     "text": [
      "Checkpoint\n",
      "{'rouge1': 0.2682926829268293, 'rouge2': 0.125, 'rougeL': 0.1951219512195122}\n",
      "Index: 424\n",
      "{'rouge1': 0.05146618791143028, 'rouge2': 0.026363091671659674, 'rougeL': 0.038300418910831836}\n",
      "Index: 425\n",
      "{'rouge1': 0.4193548387096774, 'rouge2': 0.3, 'rougeL': 0.3870967741935484}\n",
      "Index: 426\n",
      "{'rouge1': 0.18, 'rouge2': 0.02040816326530612, 'rougeL': 0.12}\n",
      "Index: 427\n",
      "{'rouge1': 0.25806451612903225, 'rouge2': 0.06593406593406592, 'rougeL': 0.10752688172043011}\n",
      "Index: 428\n"
     ]
    },
    {
     "name": "stderr",
     "output_type": "stream",
     "text": [
      "Read 0M words\n",
      "Number of words:  394\n",
      "Number of labels: 1\n",
      "start training...\n",
      "Progress: 100.0% words/sec/thread:  430811 lr:  0.000000 loss:  0.000000 ETA:   0h 0m\n",
      "Read 0M words\n",
      "Number of words:  394\n",
      "Number of labels: 1\n",
      "start training...\n",
      "Progress: 100.0% words/sec/thread:  359308 lr:  0.000000 loss:  0.000000 ETA:   0h 0m\n"
     ]
    },
    {
     "name": "stdout",
     "output_type": "stream",
     "text": [
      "Checkpoint\n",
      "{'rouge1': 0.11650485436893203, 'rouge2': 0.0, 'rougeL': 0.07766990291262135}\n",
      "Index: 429\n",
      "{'rouge1': 0.20618556701030924, 'rouge2': 0.042105263157894736, 'rougeL': 0.10309278350515462}\n",
      "Index: 430\n",
      "{'rouge1': 0.18367346938775508, 'rouge2': 0.04166666666666667, 'rougeL': 0.10204081632653063}\n",
      "Index: 431\n",
      "{'rouge1': 0.34951456310679613, 'rouge2': 0.039603960396039604, 'rougeL': 0.21359223300970875}\n",
      "Index: 432\n"
     ]
    },
    {
     "name": "stderr",
     "output_type": "stream",
     "text": [
      "Read 0M words\n",
      "Number of words:  256\n",
      "Number of labels: 1\n",
      "start training...\n",
      "Progress: 100.0% words/sec/thread:  320035 lr:  0.000000 loss:  0.000000 ETA:   0h 0m\n",
      "Read 0M words\n",
      "Number of words:  256\n",
      "Number of labels: 1\n",
      "start training...\n",
      "Progress: 100.0% words/sec/thread:  266158 lr:  0.000000 loss:  0.000000 ETA:   0h 0m\n"
     ]
    },
    {
     "name": "stdout",
     "output_type": "stream",
     "text": [
      "Checkpoint\n",
      "{'rouge1': 0.1473684210526316, 'rouge2': 0.043010752688172046, 'rougeL': 0.12631578947368421}\n",
      "Index: 433\n"
     ]
    },
    {
     "name": "stderr",
     "output_type": "stream",
     "text": [
      "Read 0M words\n",
      "Number of words:  496\n",
      "Number of labels: 1\n",
      "start training...\n",
      "Progress: 100.0% words/sec/thread:  347653 lr:  0.000000 loss:  0.000000 ETA:   0h 0m\n",
      "Read 0M words\n",
      "Number of words:  496\n",
      "Number of labels: 1\n",
      "start training...\n",
      "Progress: 100.0% words/sec/thread:  487917 lr:  0.000000 loss:  0.000000 ETA:   0h 0m\n"
     ]
    },
    {
     "name": "stdout",
     "output_type": "stream",
     "text": [
      "Checkpoint\n",
      "{'rouge1': 0.25196850393700787, 'rouge2': 0.06399999999999999, 'rougeL': 0.17322834645669294}\n",
      "Index: 434\n",
      "{'rouge1': 0.45977011494252873, 'rouge2': 0.3294117647058823, 'rougeL': 0.3448275862068965}\n",
      "Index: 435\n",
      "{'rouge1': 0.2077922077922078, 'rouge2': 0.10666666666666667, 'rougeL': 0.15584415584415584}\n",
      "Index: 436\n"
     ]
    },
    {
     "name": "stderr",
     "output_type": "stream",
     "text": [
      "Read 0M words\n",
      "Number of words:  341\n",
      "Number of labels: 1\n",
      "start training...\n",
      "Progress: 100.0% words/sec/thread:  424017 lr:  0.000000 loss:  0.000000 ETA:   0h 0m\n",
      "Read 0M words\n",
      "Number of words:  341\n",
      "Number of labels: 1\n",
      "start training...\n",
      "Progress: 100.0% words/sec/thread:  419063 lr:  0.000000 loss:  0.000000 ETA:   0h 0m\n"
     ]
    },
    {
     "name": "stdout",
     "output_type": "stream",
     "text": [
      "Checkpoint\n",
      "{'rouge1': 0.34285714285714286, 'rouge2': 0.08695652173913043, 'rougeL': 0.20000000000000004}\n",
      "Index: 437\n",
      "{'rouge1': 0.25, 'rouge2': 0.03636363636363636, 'rougeL': 0.1607142857142857}\n",
      "Index: 438\n",
      "{'rouge1': 0.2330097087378641, 'rouge2': 0.07920792079207921, 'rougeL': 0.15533980582524273}\n",
      "Index: 439\n",
      "{'rouge1': 0.061855670103092786, 'rouge2': 0.0440467997247075, 'rougeL': 0.05223367697594502}\n",
      "Index: 440\n",
      "{'rouge1': 0.5504587155963303, 'rouge2': 0.28037383177570097, 'rougeL': 0.33027522935779813}\n",
      "Index: 441\n",
      "{'rouge1': 0.2075471698113208, 'rouge2': 0.07692307692307693, 'rougeL': 0.1509433962264151}\n",
      "Index: 442\n",
      "{'rouge1': 0.22916666666666666, 'rouge2': 0.02127659574468085, 'rougeL': 0.12499999999999999}\n",
      "Index: 443\n",
      "{'rouge1': 0.1694915254237288, 'rouge2': 0.017241379310344827, 'rougeL': 0.1016949152542373}\n",
      "Index: 444\n",
      "{'rouge1': 0.24, 'rouge2': 0.06504065040650407, 'rougeL': 0.16}\n",
      "Index: 445\n",
      "{'rouge1': 0.32653061224489793, 'rouge2': 0.10416666666666667, 'rougeL': 0.16326530612244897}\n",
      "Index: 446\n",
      "{'rouge1': 0.26168224299065423, 'rouge2': 0.05714285714285714, 'rougeL': 0.18691588785046728}\n",
      "Index: 447\n",
      "{'rouge1': 0.12903225806451613, 'rouge2': 0.04395604395604395, 'rougeL': 0.10752688172043011}\n",
      "Index: 448\n",
      "{'rouge1': 0.38383838383838387, 'rouge2': 0.16494845360824745, 'rougeL': 0.3232323232323232}\n",
      "Index: 449\n",
      "{'rouge1': 0.2857142857142857, 'rouge2': 0.05454545454545454, 'rougeL': 0.14285714285714285}\n",
      "Index: 450\n"
     ]
    },
    {
     "name": "stderr",
     "output_type": "stream",
     "text": [
      "Read 0M words\n",
      "Number of words:  394\n",
      "Number of labels: 1\n",
      "start training...\n",
      "Progress: 100.0% words/sec/thread:  402171 lr:  0.000000 loss:  0.000000 ETA:   0h 0m\n",
      "Read 0M words\n",
      "Number of words:  394\n",
      "Number of labels: 1\n",
      "start training...\n",
      "Progress: 100.0% words/sec/thread:  460516 lr:  0.000000 loss:  0.000000 ETA:   0h 0m\n"
     ]
    },
    {
     "name": "stdout",
     "output_type": "stream",
     "text": [
      "Checkpoint\n",
      "{'rouge1': 0.29702970297029707, 'rouge2': 0.10101010101010101, 'rougeL': 0.23762376237623764}\n",
      "Index: 451\n",
      "{'rouge1': 0.3302752293577982, 'rouge2': 0.037383177570093455, 'rougeL': 0.18348623853211007}\n",
      "Index: 452\n",
      "{'rouge1': 0.12844036697247704, 'rouge2': 0.0, 'rougeL': 0.11009174311926606}\n",
      "Index: 453\n",
      "{'rouge1': 0.034255599472990776, 'rouge2': 0.01846965699208443, 'rougeL': 0.028985507246376812}\n",
      "Index: 454\n",
      "{'rouge1': 0.3529411764705882, 'rouge2': 0.14, 'rougeL': 0.3137254901960784}\n",
      "Index: 455\n",
      "{'rouge1': 0.24742268041237112, 'rouge2': 0.08421052631578947, 'rougeL': 0.16494845360824742}\n",
      "Index: 456\n",
      "{'rouge1': 0.4752475247524752, 'rouge2': 0.24242424242424246, 'rougeL': 0.3366336633663366}\n",
      "Index: 457\n",
      "{'rouge1': 0.12612612612612614, 'rouge2': 0.01834862385321101, 'rougeL': 0.07207207207207207}\n",
      "Index: 458\n",
      "{'rouge1': 0.3469387755102041, 'rouge2': 0.14583333333333334, 'rougeL': 0.22448979591836735}\n",
      "Index: 459\n",
      "{'rouge1': 0.46464646464646464, 'rouge2': 0.30927835051546393, 'rougeL': 0.42424242424242425}\n",
      "Index: 460\n",
      "{'rouge1': 0.30303030303030304, 'rouge2': 0.09230769230769231, 'rougeL': 0.16666666666666666}\n",
      "Index: 461\n"
     ]
    },
    {
     "name": "stderr",
     "output_type": "stream",
     "text": [
      "Read 0M words\n",
      "Number of words:  557\n",
      "Number of labels: 1\n",
      "start training...\n",
      "Progress: 100.0% words/sec/thread:  700971 lr:  0.000000 loss:  0.000000 ETA:   0h 0m\n",
      "Read 0M words\n",
      "Number of words:  557\n",
      "Number of labels: 1\n",
      "start training...\n",
      "Progress: 100.0% words/sec/thread:  456017 lr:  0.000000 loss:  0.000000 ETA:   0h 0m\n"
     ]
    },
    {
     "name": "stdout",
     "output_type": "stream",
     "text": [
      "Checkpoint\n",
      "{'rouge1': 0.22222222222222224, 'rouge2': 0.017391304347826084, 'rougeL': 0.13675213675213674}\n",
      "Index: 462\n",
      "{'rouge1': 0.4150943396226415, 'rouge2': 0.1923076923076923, 'rougeL': 0.3018867924528302}\n",
      "Index: 463\n"
     ]
    },
    {
     "name": "stderr",
     "output_type": "stream",
     "text": [
      "Read 0M words\n",
      "Number of words:  210\n",
      "Number of labels: 1\n",
      "start training...\n",
      "Progress: 100.0% words/sec/thread:  238388 lr:  0.000000 loss:  0.000000 ETA:   0h 0m\n",
      "Read 0M words\n",
      "Number of words:  210\n",
      "Number of labels: 1\n",
      "start training...\n",
      "Progress: 100.0% words/sec/thread:  190510 lr:  0.000000 loss:  0.000000 ETA:   0h 0m\n"
     ]
    },
    {
     "name": "stdout",
     "output_type": "stream",
     "text": [
      "Checkpoint\n",
      "{'rouge1': 0.47524752475247534, 'rouge2': 0.16161616161616163, 'rougeL': 0.198019801980198}\n",
      "Index: 464\n",
      "{'rouge1': 0.31404958677685946, 'rouge2': 0.10084033613445378, 'rougeL': 0.21487603305785125}\n",
      "Index: 465\n"
     ]
    },
    {
     "name": "stderr",
     "output_type": "stream",
     "text": [
      "Read 0M words\n",
      "Number of words:  422\n",
      "Number of labels: 1\n",
      "start training...\n",
      "Progress: 100.0% words/sec/thread:  616753 lr:  0.000000 loss:  0.000000 ETA:   0h 0m\n",
      "Read 0M words\n",
      "Number of words:  422\n",
      "Number of labels: 1\n",
      "start training...\n",
      "Progress: 100.0% words/sec/thread:  445892 lr:  0.000000 loss:  0.000000 ETA:   0h 0m\n"
     ]
    },
    {
     "name": "stdout",
     "output_type": "stream",
     "text": [
      "Checkpoint\n",
      "{'rouge1': 0.20408163265306126, 'rouge2': 0.0, 'rougeL': 0.163265306122449}\n",
      "Index: 466\n",
      "{'rouge1': 0.4, 'rouge2': 0.28205128205128205, 'rougeL': 0.325}\n",
      "Index: 467\n",
      "{'rouge1': 0.05669083717864205, 'rouge2': 0.02772277227722772, 'rougeL': 0.03955174686882004}\n",
      "Index: 468\n",
      "{'rouge1': 0.17777777777777778, 'rouge2': 0.11363636363636365, 'rougeL': 0.17777777777777778}\n",
      "Index: 469\n",
      "{'rouge1': 0.45528455284552843, 'rouge2': 0.1652892561983471, 'rougeL': 0.2926829268292683}\n",
      "Index: 470\n"
     ]
    },
    {
     "name": "stderr",
     "output_type": "stream",
     "text": [
      "Read 0M words\n",
      "Number of words:  168\n",
      "Number of labels: 1\n",
      "start training...\n",
      "Progress: 100.0% words/sec/thread:  187765 lr:  0.000000 loss:  0.000000 ETA:   0h 0m\n",
      "Read 0M words\n",
      "Number of words:  168\n",
      "Number of labels: 1\n",
      "start training...\n",
      "Progress: 100.0% words/sec/thread:  113281 lr:  0.000000 loss:  0.000000 ETA:   0h 0m\n"
     ]
    },
    {
     "name": "stdout",
     "output_type": "stream",
     "text": [
      "Checkpoint\n",
      "{'rouge1': 0.41304347826086957, 'rouge2': 0.28888888888888886, 'rougeL': 0.28260869565217395}\n",
      "Index: 471\n"
     ]
    },
    {
     "name": "stderr",
     "output_type": "stream",
     "text": [
      "Read 0M words\n",
      "Number of words:  445\n",
      "Number of labels: 1\n",
      "start training...\n",
      "Progress: 100.0% words/sec/thread:  540420 lr:  0.000000 loss:  0.000000 ETA:   0h 0m\n",
      "Read 0M words\n",
      "Number of words:  445\n",
      "Number of labels: 1\n",
      "start training...\n",
      "Progress: 100.0% words/sec/thread:  390062 lr:  0.000000 loss:  0.000000 ETA:   0h 0m\n"
     ]
    },
    {
     "name": "stdout",
     "output_type": "stream",
     "text": [
      "Checkpoint\n",
      "{'rouge1': 0.15789473684210525, 'rouge2': 0.0, 'rougeL': 0.13157894736842105}\n",
      "Index: 472\n",
      "{'rouge1': 0.2385321100917431, 'rouge2': 0.037383177570093455, 'rougeL': 0.14678899082568805}\n",
      "Index: 473\n"
     ]
    },
    {
     "name": "stderr",
     "output_type": "stream",
     "text": [
      "Read 0M words\n",
      "Number of words:  507\n",
      "Number of labels: 1\n",
      "start training...\n",
      "Progress: 100.0% words/sec/thread:  569697 lr:  0.000000 loss:  0.000000 ETA:   0h 0m\n",
      "Read 0M words\n",
      "Number of words:  507\n",
      "Number of labels: 1\n",
      "start training...\n",
      "Progress: 100.0% words/sec/thread:  493035 lr:  0.000000 loss:  0.000000 ETA:   0h 0m\n"
     ]
    },
    {
     "name": "stdout",
     "output_type": "stream",
     "text": [
      "Checkpoint\n",
      "{'rouge1': 0.14285714285714282, 'rouge2': 0.0625, 'rougeL': 0.14285714285714282}\n",
      "Index: 474\n",
      "{'rouge1': 0.21238938053097345, 'rouge2': 0.1081081081081081, 'rougeL': 0.1415929203539823}\n",
      "Index: 475\n",
      "{'rouge1': 0.29213483146067415, 'rouge2': 0.06896551724137931, 'rougeL': 0.22471910112359555}\n",
      "Index: 476\n",
      "{'rouge1': 0.37254901960784315, 'rouge2': 0.19999999999999998, 'rougeL': 0.3137254901960785}\n",
      "Index: 477\n",
      "{'rouge1': 0.2696629213483146, 'rouge2': 0.09195402298850575, 'rougeL': 0.20224719101123595}\n",
      "Index: 478\n",
      "{'rouge1': 0.41904761904761906, 'rouge2': 0.1553398058252427, 'rougeL': 0.2857142857142857}\n",
      "Index: 479\n",
      "{'rouge1': 0.27906976744186046, 'rouge2': 0.023809523809523808, 'rougeL': 0.23255813953488372}\n",
      "Index: 480\n",
      "{'rouge1': 0.31683168316831684, 'rouge2': 0.0808080808080808, 'rougeL': 0.1782178217821782}\n",
      "Index: 481\n",
      "{'rouge1': 0.2, 'rouge2': 0.0, 'rougeL': 0.13333333333333333}\n",
      "Index: 482\n",
      "{'rouge1': 0.45762711864406785, 'rouge2': 0.1724137931034483, 'rougeL': 0.28813559322033894}\n",
      "Index: 483\n",
      "{'rouge1': 0.2448979591836735, 'rouge2': 0.0625, 'rougeL': 0.12244897959183675}\n",
      "Index: 484\n",
      "{'rouge1': 0.18750000000000003, 'rouge2': 0.0, 'rougeL': 0.125}\n",
      "Index: 485\n",
      "{'rouge1': 0.02448979591836735, 'rouge2': 0.009536784741144414, 'rougeL': 0.02040816326530612}\n",
      "Index: 486\n",
      "{'rouge1': 0.18823529411764706, 'rouge2': 0.04819277108433735, 'rougeL': 0.16470588235294117}\n",
      "Index: 487\n"
     ]
    },
    {
     "name": "stderr",
     "output_type": "stream",
     "text": [
      "Read 0M words\n",
      "Number of words:  427\n",
      "Number of labels: 1\n",
      "start training...\n",
      "Progress: 100.0% words/sec/thread:  556354 lr:  0.000000 loss:  0.000000 ETA:   0h 0m\n",
      "Read 0M words\n",
      "Number of words:  427\n",
      "Number of labels: 1\n",
      "start training...\n",
      "Progress: 100.0% words/sec/thread:  539503 lr:  0.000000 loss:  0.000000 ETA:   0h 0m\n"
     ]
    },
    {
     "name": "stdout",
     "output_type": "stream",
     "text": [
      "Checkpoint\n",
      "{'rouge1': 0.32989690721649484, 'rouge2': 0.23157894736842105, 'rougeL': 0.24742268041237112}\n",
      "Index: 488\n",
      "{'rouge1': 0.2882882882882883, 'rouge2': 0.11009174311926605, 'rougeL': 0.18018018018018017}\n",
      "Index: 489\n"
     ]
    },
    {
     "name": "stderr",
     "output_type": "stream",
     "text": [
      "Read 0M words\n",
      "Number of words:  100\n",
      "Number of labels: 1\n",
      "start training...\n",
      "Progress: 100.0% words/sec/thread:  133360 lr:  0.000000 loss:  0.000000 ETA:   0h 0m\n",
      "Read 0M words\n",
      "Number of words:  100\n",
      "Number of labels: 1\n",
      "start training...\n",
      "Progress: 100.0% words/sec/thread:  138342 lr:  0.000000 loss:  0.000000 ETA:   0h 0m\n"
     ]
    },
    {
     "name": "stdout",
     "output_type": "stream",
     "text": [
      "Checkpoint\n",
      "{'rouge1': 0.23076923076923075, 'rouge2': 0.15789473684210525, 'rougeL': 0.1794871794871795}\n",
      "Index: 490\n"
     ]
    },
    {
     "name": "stderr",
     "output_type": "stream",
     "text": [
      "Read 0M words\n",
      "Number of words:  148\n",
      "Number of labels: 1\n",
      "start training...\n",
      "Progress: 100.0% words/sec/thread:  121616 lr:  0.000000 loss:  0.000000 ETA:   0h 0m\n",
      "Read 0M words\n",
      "Number of words:  148\n",
      "Number of labels: 1\n",
      "start training...\n",
      "Progress: 100.0% words/sec/thread:   86151 lr:  0.000000 loss:  0.000000 ETA:   0h 0m\n"
     ]
    },
    {
     "name": "stdout",
     "output_type": "stream",
     "text": [
      "Checkpoint\n",
      "{'rouge1': 0.27083333333333337, 'rouge2': 0.06382978723404255, 'rougeL': 0.14583333333333331}\n",
      "Index: 491\n"
     ]
    },
    {
     "name": "stderr",
     "output_type": "stream",
     "text": [
      "Read 0M words\n",
      "Number of words:  274\n",
      "Number of labels: 1\n",
      "start training...\n",
      "Progress: 100.0% words/sec/thread:  352121 lr:  0.000000 loss:  0.000000 ETA:   0h 0m\n",
      "Read 0M words\n",
      "Number of words:  274\n",
      "Number of labels: 1\n",
      "start training...\n",
      "Progress: 100.0% words/sec/thread:  315296 lr:  0.000000 loss:  0.000000 ETA:   0h 0m\n"
     ]
    },
    {
     "name": "stdout",
     "output_type": "stream",
     "text": [
      "Checkpoint\n",
      "{'rouge1': 0.16666666666666669, 'rouge2': 0.10638297872340426, 'rougeL': 0.16666666666666669}\n",
      "Index: 492\n"
     ]
    },
    {
     "name": "stderr",
     "output_type": "stream",
     "text": [
      "Read 0M words\n",
      "Number of words:  553\n",
      "Number of labels: 1\n",
      "start training...\n",
      "Progress: 100.0% words/sec/thread:  639852 lr:  0.000000 loss:  0.000000 ETA:   0h 0m\n",
      "Read 0M words\n",
      "Number of words:  553\n",
      "Number of labels: 1\n",
      "start training...\n",
      "Progress: 100.0% words/sec/thread:  686524 lr:  0.000000 loss:  0.000000 ETA:   0h 0m\n"
     ]
    },
    {
     "name": "stdout",
     "output_type": "stream",
     "text": [
      "Checkpoint\n",
      "{'rouge1': 0.36363636363636365, 'rouge2': 0.030769230769230767, 'rougeL': 0.196969696969697}\n",
      "Index: 493\n",
      "{'rouge1': 0.336283185840708, 'rouge2': 0.05405405405405405, 'rougeL': 0.15929203539823011}\n",
      "Index: 494\n",
      "{'rouge1': 0.21818181818181817, 'rouge2': 0.01851851851851852, 'rougeL': 0.1272727272727273}\n",
      "Index: 495\n"
     ]
    },
    {
     "name": "stderr",
     "output_type": "stream",
     "text": [
      "Read 0M words\n",
      "Number of words:  221\n",
      "Number of labels: 1\n",
      "start training...\n",
      "Progress: 100.0% words/sec/thread:  199952 lr:  0.000000 loss:  0.000000 ETA:   0h 0m\n",
      "Read 0M words\n",
      "Number of words:  221\n",
      "Number of labels: 1\n",
      "start training...\n",
      "Progress: 100.0% words/sec/thread:  151550 lr:  0.000000 loss:  0.000000 ETA:   0h 0m\n"
     ]
    },
    {
     "name": "stdout",
     "output_type": "stream",
     "text": [
      "Checkpoint\n",
      "{'rouge1': 0.23076923076923075, 'rouge2': 0.13725490196078433, 'rougeL': 0.17307692307692307}\n",
      "Index: 496\n",
      "{'rouge1': 0.3541666666666667, 'rouge2': 0.19148936170212766, 'rougeL': 0.20833333333333334}\n",
      "Index: 497\n",
      "{'rouge1': 0.39999999999999997, 'rouge2': 0.22448979591836737, 'rougeL': 0.32}\n",
      "Index: 498\n",
      "{'rouge1': 0.2795698924731183, 'rouge2': 0.17582417582417584, 'rougeL': 0.23655913978494625}\n",
      "Index: 499\n",
      "{'rouge1': 0.33644859813084116, 'rouge2': 0.11428571428571428, 'rougeL': 0.28037383177570097}\n",
      "Index: 500\n",
      "{'rouge1': 0.38260869565217387, 'rouge2': 0.15929203539823011, 'rougeL': 0.2608695652173913}\n",
      "Index: 501\n"
     ]
    },
    {
     "name": "stderr",
     "output_type": "stream",
     "text": [
      "Read 0M words\n",
      "Number of words:  154\n",
      "Number of labels: 1\n",
      "start training...\n",
      "Progress: 100.0% words/sec/thread:  153692 lr:  0.000000 loss:  0.000000 ETA:   0h 0m\n",
      "Read 0M words\n",
      "Number of words:  154\n",
      "Number of labels: 1\n",
      "start training...\n",
      "Progress: 100.0% words/sec/thread:  147956 lr:  0.000000 loss:  0.000000 ETA:   0h 0m\n"
     ]
    },
    {
     "name": "stdout",
     "output_type": "stream",
     "text": [
      "Checkpoint\n",
      "{'rouge1': 0.367816091954023, 'rouge2': 0.23529411764705882, 'rougeL': 0.29885057471264365}\n",
      "Index: 502\n"
     ]
    },
    {
     "name": "stderr",
     "output_type": "stream",
     "text": [
      "Read 0M words\n",
      "Number of words:  110\n",
      "Number of labels: 1\n",
      "start training...\n",
      "Progress: 100.0% words/sec/thread:  108155 lr:  0.000000 loss:  0.000000 ETA:   0h 0m\n",
      "Read 0M words\n",
      "Number of words:  110\n",
      "Number of labels: 1\n",
      "start training...\n",
      "Progress: 100.0% words/sec/thread:  117352 lr:  0.000000 loss:  0.000000 ETA:   0h 0m\n"
     ]
    },
    {
     "name": "stdout",
     "output_type": "stream",
     "text": [
      "Checkpoint\n",
      "{'rouge1': 0.5098039215686274, 'rouge2': 0.326530612244898, 'rougeL': 0.3529411764705882}\n",
      "Index: 503\n",
      "{'rouge1': 0.3076923076923077, 'rouge2': 0.09523809523809523, 'rougeL': 0.1846153846153846}\n",
      "Index: 504\n"
     ]
    },
    {
     "name": "stderr",
     "output_type": "stream",
     "text": [
      "Read 0M words\n",
      "Number of words:  423\n",
      "Number of labels: 1\n",
      "start training...\n",
      "Progress: 100.0% words/sec/thread:  423757 lr:  0.000000 loss:  0.000000 ETA:   0h 0m\n",
      "Read 0M words\n",
      "Number of words:  423\n",
      "Number of labels: 1\n",
      "start training...\n",
      "Progress: 100.0% words/sec/thread:  414487 lr:  0.000000 loss:  0.000000 ETA:   0h 0m\n"
     ]
    },
    {
     "name": "stdout",
     "output_type": "stream",
     "text": [
      "Checkpoint\n",
      "{'rouge1': 0.41379310344827586, 'rouge2': 0.15789473684210525, 'rougeL': 0.24137931034482757}\n",
      "Index: 505\n",
      "{'rouge1': 0.4230769230769231, 'rouge2': 0.19607843137254902, 'rougeL': 0.3461538461538462}\n",
      "Index: 506\n",
      "{'rouge1': 0.18556701030927836, 'rouge2': 0.042105263157894736, 'rougeL': 0.16494845360824742}\n",
      "Index: 507\n",
      "{'rouge1': 0.4693877551020407, 'rouge2': 0.25, 'rougeL': 0.34693877551020413}\n",
      "Index: 508\n",
      "{'rouge1': 0.23404255319148937, 'rouge2': 0.043478260869565216, 'rougeL': 0.14893617021276595}\n",
      "Index: 509\n"
     ]
    },
    {
     "name": "stderr",
     "output_type": "stream",
     "text": [
      "Read 0M words\n",
      "Number of words:  446\n",
      "Number of labels: 1\n",
      "start training...\n",
      "Progress: 100.0% words/sec/thread:  495529 lr:  0.000000 loss:  0.000000 ETA:   0h 0m\n",
      "Read 0M words\n",
      "Number of words:  446\n",
      "Number of labels: 1\n",
      "start training...\n",
      "Progress: 100.0% words/sec/thread:  561477 lr:  0.000000 loss:  0.000000 ETA:   0h 0m\n"
     ]
    },
    {
     "name": "stdout",
     "output_type": "stream",
     "text": [
      "Checkpoint\n",
      "{'rouge1': 0.3063063063063063, 'rouge2': 0.07339449541284404, 'rougeL': 0.18018018018018017}\n",
      "Index: 510\n",
      "{'rouge1': 0.14678899082568808, 'rouge2': 0.018691588785046728, 'rougeL': 0.09174311926605505}\n",
      "Index: 511\n"
     ]
    },
    {
     "name": "stderr",
     "output_type": "stream",
     "text": [
      "Read 0M words\n",
      "Number of words:  686\n",
      "Number of labels: 1\n",
      "start training...\n",
      "Progress: 100.0% words/sec/thread:  625564 lr:  0.000000 loss:  0.000000 ETA:   0h 0m\n",
      "Read 0M words\n",
      "Number of words:  686\n",
      "Number of labels: 1\n",
      "start training...\n",
      "Progress: 100.0% words/sec/thread:  656215 lr:  0.000000 loss:  0.000000 ETA:   0h 0m\n"
     ]
    },
    {
     "name": "stdout",
     "output_type": "stream",
     "text": [
      "Checkpoint\n",
      "{'rouge1': 0.04029550033579584, 'rouge2': 0.01344989912575656, 'rougeL': 0.0335795836131632}\n",
      "Index: 512\n",
      "{'rouge1': 0.26804123711340205, 'rouge2': 0.021052631578947368, 'rougeL': 0.20618556701030927}\n",
      "Index: 513\n",
      "{'rouge1': 0.4086021505376344, 'rouge2': 0.24175824175824173, 'rougeL': 0.3655913978494624}\n",
      "Index: 514\n",
      "{'rouge1': 0.2826086956521739, 'rouge2': 0.08888888888888888, 'rougeL': 0.13043478260869565}\n",
      "Index: 515\n",
      "{'rouge1': 0.20833333333333331, 'rouge2': 0.06382978723404256, 'rougeL': 0.12500000000000003}\n",
      "Index: 516\n",
      "{'rouge1': 0.26168224299065423, 'rouge2': 0.0380952380952381, 'rougeL': 0.16822429906542055}\n",
      "Index: 517\n",
      "{'rouge1': 0.04887459807073955, 'rouge2': 0.0206052801030264, 'rougeL': 0.033440514469453377}\n",
      "Index: 518\n",
      "{'rouge1': 0.31683168316831684, 'rouge2': 0.1414141414141414, 'rougeL': 0.09900990099009901}\n",
      "Index: 519\n"
     ]
    },
    {
     "name": "stderr",
     "output_type": "stream",
     "text": [
      "Read 0M words\n",
      "Number of words:  386\n",
      "Number of labels: 1\n",
      "start training...\n",
      "Progress: 100.0% words/sec/thread:  354367 lr:  0.000000 loss:  0.000000 ETA:   0h 0m\n",
      "Read 0M words\n",
      "Number of words:  386\n",
      "Number of labels: 1\n",
      "start training...\n",
      "Progress: 100.0% words/sec/thread:  324206 lr:  0.000000 loss:  0.000000 ETA:   0h 0m\n"
     ]
    },
    {
     "name": "stdout",
     "output_type": "stream",
     "text": [
      "Checkpoint\n",
      "{'rouge1': 0.24074074074074078, 'rouge2': 0.03773584905660377, 'rougeL': 0.12962962962962965}\n",
      "Index: 520\n",
      "{'rouge1': 0.13636363636363635, 'rouge2': 0.023255813953488372, 'rougeL': 0.09090909090909091}\n",
      "Index: 521\n",
      "{'rouge1': 0.3023255813953489, 'rouge2': 0.09523809523809523, 'rougeL': 0.18604651162790697}\n",
      "Index: 522\n"
     ]
    },
    {
     "name": "stderr",
     "output_type": "stream",
     "text": [
      "Read 0M words\n",
      "Number of words:  224\n",
      "Number of labels: 1\n",
      "start training...\n",
      "Progress: 100.0% words/sec/thread:  246872 lr:  0.000000 loss:  0.000000 ETA:   0h 0m\n",
      "Read 0M words\n",
      "Number of words:  224\n",
      "Number of labels: 1\n",
      "start training...\n",
      "Progress: 100.0% words/sec/thread:  205387 lr:  0.000000 loss:  0.000000 ETA:   0h 0m\n"
     ]
    },
    {
     "name": "stdout",
     "output_type": "stream",
     "text": [
      "Checkpoint\n",
      "{'rouge1': 0.32812499999999994, 'rouge2': 0.12698412698412698, 'rougeL': 0.265625}\n",
      "Index: 523\n",
      "{'rouge1': 0.3106796116504854, 'rouge2': 0.0594059405940594, 'rougeL': 0.17475728155339804}\n",
      "Index: 524\n",
      "{'rouge1': 0.3518518518518519, 'rouge2': 0.15094339622641512, 'rougeL': 0.18518518518518517}\n",
      "Index: 525\n",
      "{'rouge1': 0.27083333333333337, 'rouge2': 0.06382978723404255, 'rougeL': 0.1875}\n",
      "Index: 526\n",
      "{'rouge1': 0.31496062992125984, 'rouge2': 0.112, 'rougeL': 0.2047244094488189}\n",
      "Index: 527\n",
      "{'rouge1': 0.22916666666666666, 'rouge2': 0.0425531914893617, 'rougeL': 0.14583333333333334}\n",
      "Index: 528\n",
      "{'rouge1': 0.3218390804597701, 'rouge2': 0.09411764705882353, 'rougeL': 0.1839080459770115}\n",
      "Index: 529\n",
      "{'rouge1': 0.15384615384615383, 'rouge2': 0.034782608695652174, 'rougeL': 0.10256410256410256}\n",
      "Index: 530\n",
      "{'rouge1': 0.2653061224489796, 'rouge2': 0.041666666666666664, 'rougeL': 0.163265306122449}\n",
      "Index: 531\n",
      "{'rouge1': 0.30357142857142855, 'rouge2': 0.07272727272727272, 'rougeL': 0.1607142857142857}\n",
      "Index: 532\n",
      "{'rouge1': 0.18803418803418803, 'rouge2': 0.034782608695652174, 'rougeL': 0.08547008547008546}\n",
      "Index: 533\n",
      "{'rouge1': 0.37623762376237624, 'rouge2': 0.0808080808080808, 'rougeL': 0.19801980198019803}\n",
      "Index: 534\n",
      "{'rouge1': 0.27722772277227725, 'rouge2': 0.10101010101010102, 'rougeL': 0.2376237623762376}\n",
      "Index: 535\n",
      "{'rouge1': 0.20689655172413793, 'rouge2': 0.07058823529411765, 'rougeL': 0.16091954022988503}\n",
      "Index: 536\n",
      "{'rouge1': 0.36893203883495146, 'rouge2': 0.11881188118811882, 'rougeL': 0.2330097087378641}\n",
      "Index: 537\n",
      "{'rouge1': 0.44000000000000006, 'rouge2': 0.163265306122449, 'rougeL': 0.22000000000000003}\n",
      "Index: 538\n"
     ]
    },
    {
     "name": "stderr",
     "output_type": "stream",
     "text": [
      "Read 0M words\n",
      "Number of words:  338\n",
      "Number of labels: 1\n",
      "start training...\n",
      "Progress: 100.0% words/sec/thread:  221833 lr:  0.000000 loss:  0.000000 ETA:   0h 0m\n",
      "Read 0M words\n",
      "Number of words:  338\n",
      "Number of labels: 1\n",
      "start training...\n",
      "Progress: 100.0% words/sec/thread:  320296 lr:  0.000000 loss:  0.000000 ETA:   0h 0m\n"
     ]
    },
    {
     "name": "stdout",
     "output_type": "stream",
     "text": [
      "Checkpoint\n",
      "{'rouge1': 0.26373626373626374, 'rouge2': 0.04494382022471911, 'rougeL': 0.15384615384615383}\n",
      "Index: 539\n"
     ]
    },
    {
     "name": "stderr",
     "output_type": "stream",
     "text": [
      "Read 0M words\n",
      "Number of words:  736\n",
      "Number of labels: 1\n",
      "start training...\n",
      "Progress: 100.0% words/sec/thread:  499029 lr:  0.000000 loss:  0.000000 ETA:   0h 0m\n",
      "Read 0M words\n",
      "Number of words:  736\n",
      "Number of labels: 1\n",
      "start training...\n",
      "Progress: 100.0% words/sec/thread:  658906 lr:  0.000000 loss:  0.000000 ETA:   0h 0m\n"
     ]
    },
    {
     "name": "stdout",
     "output_type": "stream",
     "text": [
      "Checkpoint\n",
      "{'rouge1': 0.5087719298245614, 'rouge2': 0.23214285714285715, 'rougeL': 0.3684210526315789}\n",
      "Index: 540\n",
      "{'rouge1': 0.2095238095238095, 'rouge2': 0.038834951456310676, 'rougeL': 0.13333333333333333}\n",
      "Index: 541\n",
      "{'rouge1': 0.17475728155339804, 'rouge2': 0.0, 'rougeL': 0.0970873786407767}\n",
      "Index: 542\n"
     ]
    },
    {
     "name": "stderr",
     "output_type": "stream",
     "text": [
      "Read 0M words\n",
      "Number of words:  423\n",
      "Number of labels: 1\n",
      "start training...\n",
      "Progress: 100.0% words/sec/thread:  420547 lr:  0.000000 loss:  0.000000 ETA:   0h 0m\n",
      "Read 0M words\n",
      "Number of words:  423\n",
      "Number of labels: 1\n",
      "start training...\n",
      "Progress: 100.0% words/sec/thread:  488977 lr:  0.000000 loss:  0.000000 ETA:   0h 0m\n"
     ]
    },
    {
     "name": "stdout",
     "output_type": "stream",
     "text": [
      "Checkpoint\n",
      "{'rouge1': 0.22988505747126436, 'rouge2': 0.09411764705882353, 'rougeL': 0.16091954022988506}\n",
      "Index: 543\n"
     ]
    },
    {
     "name": "stderr",
     "output_type": "stream",
     "text": [
      "Read 0M words\n",
      "Number of words:  240\n",
      "Number of labels: 1\n",
      "start training...\n",
      "Progress: 100.0% words/sec/thread:  309970 lr:  0.000000 loss:  0.000000 ETA:   0h 0m\n",
      "Read 0M words\n",
      "Number of words:  240\n",
      "Number of labels: 1\n",
      "start training...\n",
      "Progress: 100.0% words/sec/thread:  298139 lr:  0.000000 loss:  0.000000 ETA:   0h 0m\n"
     ]
    },
    {
     "name": "stdout",
     "output_type": "stream",
     "text": [
      "Checkpoint\n",
      "{'rouge1': 0.3595505617977528, 'rouge2': 0.13793103448275862, 'rougeL': 0.20224719101123595}\n",
      "Index: 544\n",
      "{'rouge1': 0.3269230769230769, 'rouge2': 0.0784313725490196, 'rougeL': 0.21153846153846156}\n",
      "Index: 545\n"
     ]
    },
    {
     "name": "stderr",
     "output_type": "stream",
     "text": [
      "Read 0M words\n",
      "Number of words:  476\n",
      "Number of labels: 1\n",
      "start training...\n",
      "Progress: 100.0% words/sec/thread:  471364 lr:  0.000000 loss:  0.000000 ETA:   0h 0m\n",
      "Read 0M words\n",
      "Number of words:  476\n",
      "Number of labels: 1\n",
      "start training...\n",
      "Progress: 100.0% words/sec/thread:  487611 lr:  0.000000 loss:  0.000000 ETA:   0h 0m\n"
     ]
    },
    {
     "name": "stdout",
     "output_type": "stream",
     "text": [
      "Checkpoint\n",
      "{'rouge1': 0.20202020202020204, 'rouge2': 0.020618556701030927, 'rougeL': 0.12121212121212119}\n",
      "Index: 546\n",
      "{'rouge1': 0.3516483516483517, 'rouge2': 0.0898876404494382, 'rougeL': 0.26373626373626374}\n",
      "Index: 547\n"
     ]
    },
    {
     "name": "stderr",
     "output_type": "stream",
     "text": [
      "Read 0M words\n",
      "Number of words:  659\n",
      "Number of labels: 1\n",
      "start training...\n",
      "Progress: 100.0% words/sec/thread:  723924 lr:  0.000000 loss:  0.000000 ETA:   0h 0m\n",
      "Read 0M words\n",
      "Number of words:  659\n",
      "Number of labels: 1\n",
      "start training...\n",
      "Progress: 100.0% words/sec/thread:  596429 lr:  0.000000 loss:  0.000000 ETA:   0h 0m\n"
     ]
    },
    {
     "name": "stdout",
     "output_type": "stream",
     "text": [
      "Checkpoint\n",
      "{'rouge1': 0.22033898305084745, 'rouge2': 0.06896551724137931, 'rougeL': 0.11864406779661017}\n",
      "Index: 548\n",
      "{'rouge1': 0.4074074074074075, 'rouge2': 0.15094339622641506, 'rougeL': 0.24074074074074078}\n",
      "Index: 549\n",
      "{'rouge1': 0.16822429906542055, 'rouge2': 0.019047619047619046, 'rougeL': 0.09345794392523364}\n",
      "Index: 550\n",
      "{'rouge1': 0.40384615384615385, 'rouge2': 0.1764705882352941, 'rougeL': 0.1923076923076923}\n",
      "Index: 551\n",
      "{'rouge1': 0.17204301075268816, 'rouge2': 0.02197802197802198, 'rougeL': 0.1290322580645161}\n",
      "Index: 552\n",
      "{'rouge1': 0.2222222222222222, 'rouge2': 0.045454545454545456, 'rougeL': 0.13333333333333333}\n",
      "Index: 553\n"
     ]
    },
    {
     "name": "stderr",
     "output_type": "stream",
     "text": [
      "Read 0M words\n",
      "Number of words:  240\n",
      "Number of labels: 1\n",
      "start training...\n",
      "Progress: 100.0% words/sec/thread:  221080 lr:  0.000000 loss:  0.000000 ETA:   0h 0m\n",
      "Read 0M words\n",
      "Number of words:  240\n",
      "Number of labels: 1\n",
      "start training...\n",
      "Progress: 100.0% words/sec/thread:  216462 lr:  0.000000 loss:  0.000000 ETA:   0h 0m\n"
     ]
    },
    {
     "name": "stdout",
     "output_type": "stream",
     "text": [
      "Checkpoint\n",
      "{'rouge1': 0.6274509803921569, 'rouge2': 0.42000000000000004, 'rougeL': 0.39215686274509803}\n",
      "Index: 554\n",
      "{'rouge1': 0.1935483870967742, 'rouge2': 0.02197802197802198, 'rougeL': 0.15053763440860216}\n",
      "Index: 555\n",
      "{'rouge1': 0.35416666666666674, 'rouge2': 0.19148936170212766, 'rougeL': 0.22916666666666666}\n",
      "Index: 556\n"
     ]
    },
    {
     "name": "stderr",
     "output_type": "stream",
     "text": [
      "Read 0M words\n",
      "Number of words:  499\n",
      "Number of labels: 1\n",
      "start training...\n",
      "Progress: 100.0% words/sec/thread:  542028 lr:  0.000000 loss:  0.000000 ETA:   0h 0m\n",
      "Read 0M words\n",
      "Number of words:  499\n",
      "Number of labels: 1\n",
      "start training...\n",
      "Progress: 100.0% words/sec/thread:  669698 lr:  0.000000 loss:  0.000000 ETA:   0h 0m\n"
     ]
    },
    {
     "name": "stdout",
     "output_type": "stream",
     "text": [
      "Checkpoint\n",
      "{'rouge1': 0.17582417582417584, 'rouge2': 0.02247191011235955, 'rougeL': 0.08791208791208792}\n",
      "Index: 557\n"
     ]
    },
    {
     "name": "stderr",
     "output_type": "stream",
     "text": [
      "Read 0M words\n",
      "Number of words:  233\n",
      "Number of labels: 1\n",
      "start training...\n",
      "Progress: 100.0% words/sec/thread:  263845 lr:  0.000000 loss:  0.000000 ETA:   0h 0m\n",
      "Read 0M words\n",
      "Number of words:  233\n",
      "Number of labels: 1\n",
      "start training...\n",
      "Progress: 100.0% words/sec/thread:  286740 lr:  0.000000 loss:  0.000000 ETA:   0h 0m\n"
     ]
    },
    {
     "name": "stdout",
     "output_type": "stream",
     "text": [
      "Checkpoint\n",
      "{'rouge1': 0.23404255319148934, 'rouge2': 0.06521739130434784, 'rougeL': 0.14893617021276595}\n",
      "Index: 558\n",
      "{'rouge1': 0.24242424242424243, 'rouge2': 0.061855670103092786, 'rougeL': 0.12121212121212122}\n",
      "Index: 559\n",
      "{'rouge1': 0.21739130434782608, 'rouge2': 0.044444444444444446, 'rougeL': 0.17391304347826086}\n",
      "Index: 560\n",
      "{'rouge1': 0.20370370370370372, 'rouge2': 0.09433962264150944, 'rougeL': 0.11111111111111112}\n",
      "Index: 561\n"
     ]
    },
    {
     "name": "stderr",
     "output_type": "stream",
     "text": [
      "Read 0M words\n",
      "Number of words:  238\n",
      "Number of labels: 1\n",
      "start training...\n",
      "Progress: 100.0% words/sec/thread:  311891 lr:  0.000000 loss:  0.000000 ETA:   0h 0m\n",
      "Read 0M words\n",
      "Number of words:  238\n",
      "Number of labels: 1\n",
      "start training...\n",
      "Progress: 100.0% words/sec/thread:  283023 lr:  0.000000 loss:  0.000000 ETA:   0h 0m\n"
     ]
    },
    {
     "name": "stdout",
     "output_type": "stream",
     "text": [
      "Checkpoint\n",
      "{'rouge1': 0.4660194174757281, 'rouge2': 0.15841584158415842, 'rougeL': 0.2524271844660194}\n",
      "Index: 562\n",
      "{'rouge1': 0.43010752688172044, 'rouge2': 0.10989010989010987, 'rougeL': 0.23655913978494625}\n",
      "Index: 563\n"
     ]
    },
    {
     "name": "stderr",
     "output_type": "stream",
     "text": [
      "Read 0M words\n",
      "Number of words:  276\n",
      "Number of labels: 1\n",
      "start training...\n",
      "Progress: 100.0% words/sec/thread:  312064 lr:  0.000000 loss:  0.000000 ETA:   0h 0m\n",
      "Read 0M words\n",
      "Number of words:  276\n",
      "Number of labels: 1\n",
      "start training...\n",
      "Progress: 100.0% words/sec/thread:  163980 lr:  0.000000 loss:  0.000000 ETA:   0h 0m\n"
     ]
    },
    {
     "name": "stdout",
     "output_type": "stream",
     "text": [
      "Checkpoint\n",
      "{'rouge1': 0.24637681159420288, 'rouge2': 0.014705882352941176, 'rougeL': 0.11594202898550723}\n",
      "Index: 564\n",
      "{'rouge1': 0.3404255319148936, 'rouge2': 0.08695652173913043, 'rougeL': 0.19148936170212766}\n",
      "Index: 565\n",
      "{'rouge1': 0.4545454545454546, 'rouge2': 0.24074074074074073, 'rougeL': 0.34545454545454546}\n",
      "Index: 566\n",
      "{'rouge1': 0.38383838383838387, 'rouge2': 0.14432989690721648, 'rougeL': 0.22222222222222227}\n",
      "Index: 567\n"
     ]
    },
    {
     "name": "stderr",
     "output_type": "stream",
     "text": [
      "Read 0M words\n",
      "Number of words:  729\n",
      "Number of labels: 1\n",
      "start training...\n",
      "Progress: 100.0% words/sec/thread:  642523 lr:  0.000000 loss:  0.000000 ETA:   0h 0m\n",
      "Read 0M words\n",
      "Number of words:  729\n",
      "Number of labels: 1\n",
      "start training...\n",
      "Progress: 100.0% words/sec/thread:  775649 lr:  0.000000 loss:  0.000000 ETA:   0h 0m\n"
     ]
    },
    {
     "name": "stdout",
     "output_type": "stream",
     "text": [
      "Checkpoint\n",
      "{'rouge1': 0.34693877551020413, 'rouge2': 0.14583333333333331, 'rougeL': 0.1836734693877551}\n",
      "Index: 568\n",
      "{'rouge1': 0.26666666666666666, 'rouge2': 0.045454545454545456, 'rougeL': 0.15555555555555556}\n",
      "Index: 569\n",
      "{'rouge1': 0.23404255319148937, 'rouge2': 0.021739130434782608, 'rougeL': 0.19148936170212766}\n",
      "Index: 570\n",
      "{'rouge1': 0.3010752688172043, 'rouge2': 0.15384615384615383, 'rougeL': 0.17204301075268819}\n",
      "Index: 571\n"
     ]
    },
    {
     "name": "stderr",
     "output_type": "stream",
     "text": [
      "Read 0M words\n",
      "Number of words:  218\n",
      "Number of labels: 1\n",
      "start training...\n",
      "Progress: 100.0% words/sec/thread:  293379 lr:  0.000000 loss:  0.000000 ETA:   0h 0m\n",
      "Read 0M words\n",
      "Number of words:  218\n",
      "Number of labels: 1\n",
      "start training...\n",
      "Progress: 100.0% words/sec/thread:  287414 lr:  0.000000 loss:  0.000000 ETA:   0h 0m\n"
     ]
    },
    {
     "name": "stdout",
     "output_type": "stream",
     "text": [
      "Checkpoint\n",
      "{'rouge1': 0.2474226804123711, 'rouge2': 0.06315789473684211, 'rougeL': 0.14432989690721648}\n",
      "Index: 572\n",
      "{'rouge1': 0.2037037037037037, 'rouge2': 0.07547169811320754, 'rougeL': 0.1111111111111111}\n",
      "Index: 573\n",
      "{'rouge1': 0.3442622950819672, 'rouge2': 0.11666666666666665, 'rougeL': 0.21311475409836064}\n",
      "Index: 574\n",
      "{'rouge1': 0.18556701030927836, 'rouge2': 0.0, 'rougeL': 0.12371134020618557}\n",
      "Index: 575\n"
     ]
    },
    {
     "name": "stderr",
     "output_type": "stream",
     "text": [
      "Read 0M words\n",
      "Number of words:  177\n",
      "Number of labels: 1\n",
      "start training...\n",
      "Progress: 100.0% words/sec/thread:  223831 lr:  0.000000 loss:  0.000000 ETA:   0h 0m\n",
      "Read 0M words\n",
      "Number of words:  177\n",
      "Number of labels: 1\n",
      "start training...\n",
      "Progress: 100.0% words/sec/thread:  170779 lr:  0.000000 loss:  0.000000 ETA:   0h 0m\n"
     ]
    },
    {
     "name": "stdout",
     "output_type": "stream",
     "text": [
      "Checkpoint\n",
      "{'rouge1': 0.462962962962963, 'rouge2': 0.1509433962264151, 'rougeL': 0.20370370370370372}\n",
      "Index: 576\n",
      "{'rouge1': 0.31250000000000006, 'rouge2': 0.0851063829787234, 'rougeL': 0.16666666666666666}\n",
      "Index: 577\n"
     ]
    },
    {
     "name": "stderr",
     "output_type": "stream",
     "text": [
      "Read 0M words\n",
      "Number of words:  348\n",
      "Number of labels: 1\n",
      "start training...\n",
      "Progress: 100.0% words/sec/thread:  503532 lr:  0.000000 loss:  0.000000 ETA:   0h 0m\n",
      "Read 0M words\n",
      "Number of words:  348\n",
      "Number of labels: 1\n",
      "start training...\n",
      "Progress: 100.0% words/sec/thread:  376251 lr:  0.000000 loss:  0.000000 ETA:   0h 0m\n"
     ]
    },
    {
     "name": "stdout",
     "output_type": "stream",
     "text": [
      "Checkpoint\n",
      "{'rouge1': 0.3389830508474576, 'rouge2': 0.10344827586206898, 'rougeL': 0.1864406779661017}\n",
      "Index: 578\n"
     ]
    },
    {
     "name": "stderr",
     "output_type": "stream",
     "text": [
      "Read 0M words\n",
      "Number of words:  266\n",
      "Number of labels: 1\n",
      "start training...\n",
      "Progress: 100.0% words/sec/thread:  353864 lr:  0.000000 loss:  0.000000 ETA:   0h 0m\n",
      "Read 0M words\n",
      "Number of words:  266\n",
      "Number of labels: 1\n",
      "start training...\n",
      "Progress: 100.0% words/sec/thread:  253093 lr:  0.000000 loss:  0.000000 ETA:   0h 0m\n"
     ]
    },
    {
     "name": "stdout",
     "output_type": "stream",
     "text": [
      "Checkpoint\n",
      "{'rouge1': 0.2909090909090909, 'rouge2': 0.05555555555555555, 'rougeL': 0.2181818181818182}\n",
      "Index: 579\n"
     ]
    },
    {
     "name": "stderr",
     "output_type": "stream",
     "text": [
      "Read 0M words\n",
      "Number of words:  398\n",
      "Number of labels: 1\n",
      "start training...\n",
      "Progress: 100.0% words/sec/thread:  456384 lr:  0.000000 loss:  0.000000 ETA:   0h 0m\n",
      "Read 0M words\n",
      "Number of words:  398\n",
      "Number of labels: 1\n",
      "start training...\n",
      "Progress: 100.0% words/sec/thread:  254281 lr:  0.000000 loss:  0.000000 ETA:   0h 0m\n"
     ]
    },
    {
     "name": "stdout",
     "output_type": "stream",
     "text": [
      "Checkpoint\n",
      "{'rouge1': 0.4444444444444444, 'rouge2': 0.27848101265822783, 'rougeL': 0.37037037037037046}\n",
      "Index: 580\n",
      "{'rouge1': 0.30769230769230765, 'rouge2': 0.08695652173913043, 'rougeL': 0.15384615384615383}\n",
      "Index: 581\n",
      "{'rouge1': 0.2857142857142857, 'rouge2': 0.029411764705882353, 'rougeL': 0.20000000000000004}\n",
      "Index: 582\n",
      "{'rouge1': 0.5148514851485149, 'rouge2': 0.2828282828282828, 'rougeL': 0.39603960396039606}\n",
      "Index: 583\n",
      "{'rouge1': 0.4403669724770642, 'rouge2': 0.14953271028037382, 'rougeL': 0.2385321100917431}\n",
      "Index: 584\n",
      "{'rouge1': 0.3564356435643564, 'rouge2': 0.1616161616161616, 'rougeL': 0.21782178217821785}\n",
      "Index: 585\n"
     ]
    },
    {
     "name": "stderr",
     "output_type": "stream",
     "text": [
      "Read 0M words\n",
      "Number of words:  93\n",
      "Number of labels: 1\n",
      "start training...\n",
      "Progress: 100.0% words/sec/thread:  153062 lr:  0.000000 loss:  0.000000 ETA:   0h 0mm\n",
      "Read 0M words\n",
      "Number of words:  93\n",
      "Number of labels: 1\n",
      "start training...\n",
      "Progress: 100.0% words/sec/thread:  149178 lr:  0.000000 loss:  0.000000 ETA:   0h 0m\n"
     ]
    },
    {
     "name": "stdout",
     "output_type": "stream",
     "text": [
      "Checkpoint\n",
      "{'rouge1': 0.33707865168539325, 'rouge2': 0.09195402298850575, 'rougeL': 0.20224719101123598}\n",
      "Index: 586\n"
     ]
    },
    {
     "name": "stderr",
     "output_type": "stream",
     "text": [
      "Read 0M words\n",
      "Number of words:  402\n",
      "Number of labels: 1\n",
      "start training...\n",
      "Progress: 100.0% words/sec/thread:  351674 lr:  0.000000 loss:  0.000000 ETA:   0h 0m\n",
      "Read 0M words\n",
      "Number of words:  402\n",
      "Number of labels: 1\n",
      "start training...\n",
      "Progress: 100.0% words/sec/thread:  430610 lr:  0.000000 loss:  0.000000 ETA:   0h 0m\n"
     ]
    },
    {
     "name": "stdout",
     "output_type": "stream",
     "text": [
      "Checkpoint\n",
      "{'rouge1': 0.27586206896551724, 'rouge2': 0.07058823529411765, 'rougeL': 0.20689655172413793}\n",
      "Index: 587\n",
      "{'rouge1': 0.18749999999999997, 'rouge2': 0.0, 'rougeL': 0.14583333333333334}\n",
      "Index: 588\n",
      "{'rouge1': 0.2650602409638554, 'rouge2': 0.09876543209876544, 'rougeL': 0.1686746987951807}\n",
      "Index: 589\n"
     ]
    },
    {
     "name": "stderr",
     "output_type": "stream",
     "text": [
      "Read 0M words\n",
      "Number of words:  289\n",
      "Number of labels: 1\n",
      "start training...\n",
      "Progress: 100.0% words/sec/thread:  314587 lr:  0.000000 loss:  0.000000 ETA:   0h 0m\n",
      "Read 0M words\n",
      "Number of words:  289\n",
      "Number of labels: 1\n",
      "start training...\n",
      "Progress: 100.0% words/sec/thread:  304760 lr:  0.000000 loss:  0.000000 ETA:   0h 0m\n"
     ]
    },
    {
     "name": "stdout",
     "output_type": "stream",
     "text": [
      "Checkpoint\n",
      "{'rouge1': 0.3619047619047619, 'rouge2': 0.07766990291262135, 'rougeL': 0.22857142857142862}\n",
      "Index: 590\n",
      "{'rouge1': 0.14285714285714285, 'rouge2': 0.048780487804878044, 'rougeL': 0.11904761904761904}\n",
      "Index: 591\n",
      "{'rouge1': 0.2990654205607476, 'rouge2': 0.11428571428571428, 'rougeL': 0.24299065420560745}\n",
      "Index: 592\n",
      "{'rouge1': 0.17857142857142858, 'rouge2': 0.01818181818181818, 'rougeL': 0.08928571428571429}\n",
      "Index: 593\n",
      "{'rouge1': 0.37254901960784315, 'rouge2': 0.18, 'rougeL': 0.19607843137254904}\n",
      "Index: 594\n",
      "{'rouge1': 0.3655913978494624, 'rouge2': 0.13186813186813184, 'rougeL': 0.23655913978494625}\n",
      "Index: 595\n",
      "{'rouge1': 0.20833333333333334, 'rouge2': 0.0425531914893617, 'rougeL': 0.10416666666666667}\n",
      "Index: 596\n"
     ]
    },
    {
     "name": "stderr",
     "output_type": "stream",
     "text": [
      "Read 0M words\n",
      "Number of words:  336\n",
      "Number of labels: 1\n",
      "start training...\n",
      "Progress: 100.0% words/sec/thread:  344328 lr:  0.000000 loss:  0.000000 ETA:   0h 0m\n",
      "Read 0M words\n",
      "Number of words:  336\n",
      "Number of labels: 1\n",
      "start training...\n",
      "Progress: 100.0% words/sec/thread:  399829 lr:  0.000000 loss:  0.000000 ETA:   0h 0m\n"
     ]
    },
    {
     "name": "stdout",
     "output_type": "stream",
     "text": [
      "Checkpoint\n",
      "{'rouge1': 0.17777777777777776, 'rouge2': 0.045454545454545456, 'rougeL': 0.15555555555555556}\n",
      "Index: 597\n",
      "{'rouge1': 0.2156862745098039, 'rouge2': 0.04, 'rougeL': 0.15686274509803919}\n",
      "Index: 598\n",
      "{'rouge1': 0.22471910112359547, 'rouge2': 0.0689655172413793, 'rougeL': 0.1348314606741573}\n",
      "Index: 599\n",
      "{'rouge1': 0.48000000000000004, 'rouge2': 0.24489795918367346, 'rougeL': 0.18}\n",
      "Index: 600\n"
     ]
    },
    {
     "name": "stderr",
     "output_type": "stream",
     "text": [
      "Read 0M words\n",
      "Number of words:  314\n",
      "Number of labels: 1\n",
      "start training...\n",
      "Progress: 100.0% words/sec/thread:  355176 lr:  0.000000 loss:  0.000000 ETA:   0h 0m\n",
      "Read 0M words\n",
      "Number of words:  314\n",
      "Number of labels: 1\n",
      "start training...\n",
      "Progress: 100.0% words/sec/thread:  394465 lr:  0.000000 loss:  0.000000 ETA:   0h 0m\n"
     ]
    },
    {
     "name": "stdout",
     "output_type": "stream",
     "text": [
      "Checkpoint\n",
      "{'rouge1': 0.35514018691588783, 'rouge2': 0.1714285714285714, 'rougeL': 0.2616822429906542}\n",
      "Index: 601\n",
      "{'rouge1': 0.047186932849364795, 'rouge2': 0.02786190187764991, 'rougeL': 0.03871748336358136}\n",
      "Index: 602\n"
     ]
    },
    {
     "name": "stderr",
     "output_type": "stream",
     "text": [
      "Read 0M words\n",
      "Number of words:  336\n",
      "Number of labels: 1\n",
      "start training...\n",
      "Progress: 100.0% words/sec/thread:  326189 lr:  0.000000 loss:  0.000000 ETA:   0h 0m\n",
      "Read 0M words\n",
      "Number of words:  336\n",
      "Number of labels: 1\n",
      "start training...\n",
      "Progress: 100.0% words/sec/thread:  392707 lr:  0.000000 loss:  0.000000 ETA:   0h 0m\n"
     ]
    },
    {
     "name": "stdout",
     "output_type": "stream",
     "text": [
      "Checkpoint\n",
      "{'rouge1': 0.21782178217821777, 'rouge2': 0.0808080808080808, 'rougeL': 0.13861386138613863}\n",
      "Index: 603\n",
      "{'rouge1': 0.050420168067226885, 'rouge2': 0.04067321178120618, 'rougeL': 0.036414565826330535}\n",
      "Index: 604\n",
      "{'rouge1': 0.19298245614035087, 'rouge2': 0.01785714285714286, 'rougeL': 0.10526315789473685}\n",
      "Index: 605\n",
      "{'rouge1': 0.3508771929824562, 'rouge2': 0.14285714285714285, 'rougeL': 0.2105263157894737}\n",
      "Index: 606\n",
      "{'rouge1': 0.22222222222222224, 'rouge2': 0.061855670103092786, 'rougeL': 0.12121212121212119}\n",
      "Index: 607\n",
      "{'rouge1': 0.17475728155339806, 'rouge2': 0.0594059405940594, 'rougeL': 0.11650485436893204}\n",
      "Index: 608\n",
      "{'rouge1': 0.33928571428571436, 'rouge2': 0.10909090909090909, 'rougeL': 0.21428571428571427}\n",
      "Index: 609\n",
      "{'rouge1': 0.5217391304347826, 'rouge2': 0.2654867256637168, 'rougeL': 0.2782608695652174}\n",
      "Index: 610\n"
     ]
    },
    {
     "name": "stderr",
     "output_type": "stream",
     "text": [
      "Read 0M words\n",
      "Number of words:  519\n",
      "Number of labels: 1\n",
      "start training...\n",
      "Progress: 100.0% words/sec/thread:  551315 lr:  0.000000 loss:  0.000000 ETA:   0h 0m\n",
      "Read 0M words\n",
      "Number of words:  519\n",
      "Number of labels: 1\n",
      "start training...\n",
      "Progress: 100.0% words/sec/thread:  632399 lr:  0.000000 loss:  0.000000 ETA:   0h 0m\n"
     ]
    },
    {
     "name": "stdout",
     "output_type": "stream",
     "text": [
      "Checkpoint\n",
      "{'rouge1': 0.24590163934426232, 'rouge2': 0.06666666666666668, 'rougeL': 0.16393442622950818}\n",
      "Index: 611\n",
      "{'rouge1': 0.3076923076923077, 'rouge2': 0.015625, 'rougeL': 0.13846153846153847}\n",
      "Index: 612\n",
      "{'rouge1': 0.34146341463414637, 'rouge2': 0.22500000000000003, 'rougeL': 0.34146341463414637}\n",
      "Index: 613\n",
      "{'rouge1': 0.24742268041237112, 'rouge2': 0.042105263157894736, 'rougeL': 0.12371134020618556}\n",
      "Index: 614\n",
      "{'rouge1': 0.2, 'rouge2': 0.0, 'rougeL': 0.1111111111111111}\n",
      "Index: 615\n",
      "{'rouge1': 0.2247191011235955, 'rouge2': 0.11494252873563218, 'rougeL': 0.20224719101123595}\n",
      "Index: 616\n",
      "{'rouge1': 0.3673469387755102, 'rouge2': 0.22916666666666669, 'rougeL': 0.30612244897959184}\n",
      "Index: 617\n",
      "{'rouge1': 0.4, 'rouge2': 0.1836734693877551, 'rougeL': 0.22}\n",
      "Index: 618\n",
      "{'rouge1': 0.3838383838383838, 'rouge2': 0.288659793814433, 'rougeL': 0.3434343434343434}\n",
      "Index: 619\n",
      "{'rouge1': 0.4444444444444444, 'rouge2': 0.35051546391752575, 'rougeL': 0.4444444444444444}\n",
      "Index: 620\n",
      "{'rouge1': 0.4952380952380953, 'rouge2': 0.23300970873786406, 'rougeL': 0.3619047619047619}\n",
      "Index: 621\n",
      "{'rouge1': 0.3666666666666667, 'rouge2': 0.11864406779661017, 'rougeL': 0.15}\n",
      "Index: 622\n",
      "{'rouge1': 0.04067796610169491, 'rouge2': 0.03801765105227427, 'rougeL': 0.04067796610169491}\n",
      "Index: 623\n"
     ]
    },
    {
     "name": "stderr",
     "output_type": "stream",
     "text": [
      "Read 0M words\n",
      "Number of words:  223\n",
      "Number of labels: 1\n",
      "start training...\n",
      "Progress: 100.0% words/sec/thread:  313799 lr:  0.000000 loss:  0.000000 ETA:   0h 0m\n",
      "Read 0M words\n",
      "Number of words:  223\n",
      "Number of labels: 1\n",
      "start training...\n",
      "Progress: 100.0% words/sec/thread:  286394 lr:  0.000000 loss:  0.000000 ETA:   0h 0m\n"
     ]
    },
    {
     "name": "stdout",
     "output_type": "stream",
     "text": [
      "Checkpoint\n",
      "{'rouge1': 0.38775510204081626, 'rouge2': 0.16666666666666666, 'rougeL': 0.26530612244897955}\n",
      "Index: 624\n",
      "{'rouge1': 0.3571428571428571, 'rouge2': 0.10909090909090909, 'rougeL': 0.21428571428571427}\n",
      "Index: 625\n"
     ]
    },
    {
     "name": "stderr",
     "output_type": "stream",
     "text": [
      "Read 0M words\n",
      "Number of words:  801\n",
      "Number of labels: 1\n",
      "start training...\n",
      "Progress: 100.0% words/sec/thread:  793483 lr:  0.000000 loss:  0.000000 ETA:   0h 0m\n",
      "Read 0M words\n",
      "Number of words:  801\n",
      "Number of labels: 1\n",
      "start training...\n",
      "Progress: 100.0% words/sec/thread:  846929 lr:  0.000000 loss:  0.000000 ETA:   0h 0m\n"
     ]
    },
    {
     "name": "stdout",
     "output_type": "stream",
     "text": [
      "Checkpoint\n",
      "{'rouge1': 0.04792746113989637, 'rouge2': 0.01686121919584955, 'rougeL': 0.032383419689119175}\n",
      "Index: 626\n",
      "{'rouge1': 0.22448979591836732, 'rouge2': 0.125, 'rougeL': 0.16326530612244897}\n",
      "Index: 627\n",
      "{'rouge1': 0.3877551020408163, 'rouge2': 0.125, 'rougeL': 0.20408163265306123}\n",
      "Index: 628\n"
     ]
    },
    {
     "name": "stderr",
     "output_type": "stream",
     "text": [
      "Read 0M words\n",
      "Number of words:  408\n",
      "Number of labels: 1\n",
      "start training...\n",
      "Progress: 100.0% words/sec/thread:  432562 lr:  0.000000 loss:  0.000000 ETA:   0h 0m\n",
      "Read 0M words\n",
      "Number of words:  408\n",
      "Number of labels: 1\n",
      "start training...\n",
      "Progress: 100.0% words/sec/thread:  296832 lr:  0.000000 loss:  0.000000 ETA:   0h 0m\n"
     ]
    },
    {
     "name": "stdout",
     "output_type": "stream",
     "text": [
      "Checkpoint\n",
      "{'rouge1': 0.3846153846153846, 'rouge2': 0.19607843137254902, 'rougeL': 0.34615384615384615}\n",
      "Index: 629\n",
      "{'rouge1': 0.25806451612903225, 'rouge2': 0.0879120879120879, 'rougeL': 0.21505376344086022}\n",
      "Index: 630\n",
      "{'rouge1': 0.41025641025641024, 'rouge2': 0.1391304347826087, 'rougeL': 0.17094017094017094}\n",
      "Index: 631\n",
      "{'rouge1': 0.2201834862385321, 'rouge2': 0.01869158878504673, 'rougeL': 0.14678899082568808}\n",
      "Index: 632\n",
      "{'rouge1': 0.17777777777777776, 'rouge2': 0.06818181818181818, 'rougeL': 0.15555555555555556}\n",
      "Index: 633\n",
      "{'rouge1': 0.4166666666666667, 'rouge2': 0.1276595744680851, 'rougeL': 0.33333333333333337}\n",
      "Index: 634\n",
      "{'rouge1': 0.5333333333333333, 'rouge2': 0.22727272727272724, 'rougeL': 0.3333333333333333}\n",
      "Index: 635\n",
      "{'rouge1': 0.2912621359223301, 'rouge2': 0.0594059405940594, 'rougeL': 0.1747572815533981}\n",
      "Index: 636\n",
      "{'rouge1': 0.3440860215053763, 'rouge2': 0.21978021978021978, 'rougeL': 0.2795698924731183}\n",
      "Index: 637\n",
      "{'rouge1': 0.20952380952380953, 'rouge2': 0.019417475728155338, 'rougeL': 0.13333333333333333}\n",
      "Index: 638\n"
     ]
    },
    {
     "name": "stderr",
     "output_type": "stream",
     "text": [
      "Read 0M words\n",
      "Number of words:  246\n",
      "Number of labels: 1\n",
      "start training...\n",
      "Progress: 100.0% words/sec/thread:  266296 lr:  0.000000 loss:  0.000000 ETA:   0h 0m\n",
      "Read 0M words\n",
      "Number of words:  246\n",
      "Number of labels: 1\n",
      "start training...\n",
      "Progress: 100.0% words/sec/thread:  144815 lr:  0.000000 loss:  0.000000 ETA:   0h 0m\n"
     ]
    },
    {
     "name": "stdout",
     "output_type": "stream",
     "text": [
      "Checkpoint\n",
      "{'rouge1': 0.3010752688172043, 'rouge2': 0.10989010989010987, 'rougeL': 0.23655913978494625}\n",
      "Index: 639\n",
      "{'rouge1': 0.30434782608695654, 'rouge2': 0.13333333333333333, 'rougeL': 0.2391304347826087}\n",
      "Index: 640\n",
      "{'rouge1': 0.34862385321100914, 'rouge2': 0.13084112149532712, 'rougeL': 0.12844036697247704}\n",
      "Index: 641\n",
      "{'rouge1': 0.054470100651272946, 'rouge2': 0.026081802015411975, 'rougeL': 0.035523978685612786}\n",
      "Index: 642\n",
      "{'rouge1': 0.2727272727272727, 'rouge2': 0.11627906976744184, 'rougeL': 0.1590909090909091}\n",
      "Index: 643\n",
      "{'rouge1': 0.2777777777777778, 'rouge2': 0.11320754716981132, 'rougeL': 0.18518518518518515}\n",
      "Index: 644\n",
      "{'rouge1': 0.15053763440860216, 'rouge2': 0.06593406593406594, 'rougeL': 0.12903225806451613}\n",
      "Index: 645\n",
      "{'rouge1': 0.3225806451612903, 'rouge2': 0.17582417582417584, 'rougeL': 0.19354838709677416}\n",
      "Index: 646\n",
      "{'rouge1': 0.39622641509433965, 'rouge2': 0.17307692307692307, 'rougeL': 0.2830188679245283}\n",
      "Index: 647\n",
      "{'rouge1': 0.46153846153846156, 'rouge2': 0.24347826086956526, 'rougeL': 0.30769230769230765}\n",
      "Index: 648\n",
      "{'rouge1': 0.12962962962962962, 'rouge2': 0.0, 'rougeL': 0.09259259259259259}\n",
      "Index: 649\n"
     ]
    },
    {
     "name": "stderr",
     "output_type": "stream",
     "text": [
      "Read 0M words\n",
      "Number of words:  311\n",
      "Number of labels: 1\n",
      "start training...\n",
      "Progress: 100.0% words/sec/thread:  397285 lr:  0.000000 loss:  0.000000 ETA:   0h 0m\n",
      "Read 0M words\n",
      "Number of words:  311\n",
      "Number of labels: 1\n",
      "start training...\n",
      "Progress: 100.0% words/sec/thread:  218129 lr:  0.000000 loss:  0.000000 ETA:   0h 0m\n"
     ]
    },
    {
     "name": "stdout",
     "output_type": "stream",
     "text": [
      "Checkpoint\n",
      "{'rouge1': 0.3655913978494624, 'rouge2': 0.1978021978021978, 'rougeL': 0.3225806451612903}\n",
      "Index: 650\n",
      "{'rouge1': 0.30303030303030304, 'rouge2': 0.0824742268041237, 'rougeL': 0.24242424242424243}\n",
      "Index: 651\n",
      "{'rouge1': 0.46846846846846846, 'rouge2': 0.27522935779816515, 'rougeL': 0.3063063063063063}\n",
      "Index: 652\n",
      "{'rouge1': 0.38, 'rouge2': 0.12244897959183672, 'rougeL': 0.24}\n",
      "Index: 653\n",
      "{'rouge1': 0.5233644859813085, 'rouge2': 0.26666666666666666, 'rougeL': 0.411214953271028}\n",
      "Index: 654\n",
      "{'rouge1': 0.2545454545454545, 'rouge2': 0.07407407407407407, 'rougeL': 0.16363636363636364}\n",
      "Index: 655\n",
      "{'rouge1': 0.3269230769230769, 'rouge2': 0.0784313725490196, 'rougeL': 0.21153846153846154}\n",
      "Index: 656\n",
      "{'rouge1': 0.2549019607843137, 'rouge2': 0.08, 'rougeL': 0.15686274509803919}\n",
      "Index: 657\n"
     ]
    },
    {
     "name": "stderr",
     "output_type": "stream",
     "text": [
      "Read 0M words\n",
      "Number of words:  598\n",
      "Number of labels: 1\n",
      "start training...\n",
      "Progress: 100.0% words/sec/thread:  588984 lr:  0.000000 loss:  0.000000 ETA:   0h 0m\n",
      "Read 0M words\n",
      "Number of words:  598\n",
      "Number of labels: 1\n",
      "start training...\n",
      "Progress: 100.0% words/sec/thread:  577672 lr:  0.000000 loss:  0.000000 ETA:   0h 0m\n"
     ]
    },
    {
     "name": "stdout",
     "output_type": "stream",
     "text": [
      "Checkpoint\n",
      "{'rouge1': 0.3428571428571429, 'rouge2': 0.11650485436893203, 'rougeL': 0.2285714285714286}\n",
      "Index: 658\n"
     ]
    },
    {
     "name": "stderr",
     "output_type": "stream",
     "text": [
      "Read 0M words\n",
      "Number of words:  115\n",
      "Number of labels: 1\n",
      "start training...\n",
      "Progress: 100.0% words/sec/thread:  104087 lr:  0.000000 loss:  0.000000 ETA:   0h 0m\n",
      "Read 0M words\n",
      "Number of words:  115\n",
      "Number of labels: 1\n",
      "start training...\n",
      "Progress: 100.0% words/sec/thread:  155752 lr:  0.000000 loss:  0.000000 ETA:   0h 0m\n"
     ]
    },
    {
     "name": "stdout",
     "output_type": "stream",
     "text": [
      "Checkpoint\n",
      "{'rouge1': 0.18823529411764706, 'rouge2': 0.07228915662650602, 'rougeL': 0.16470588235294117}\n",
      "Index: 659\n",
      "{'rouge1': 0.16842105263157894, 'rouge2': 0.10752688172043011, 'rougeL': 0.16842105263157894}\n",
      "Index: 660\n",
      "{'rouge1': 0.27956989247311825, 'rouge2': 0.1758241758241758, 'rougeL': 0.1935483870967742}\n",
      "Index: 661\n",
      "{'rouge1': 0.09090909090909091, 'rouge2': 0.0, 'rougeL': 0.09090909090909091}\n",
      "Index: 662\n",
      "{'rouge1': 0.23214285714285712, 'rouge2': 0.03636363636363637, 'rougeL': 0.125}\n",
      "Index: 663\n",
      "{'rouge1': 0.4259259259259259, 'rouge2': 0.11320754716981131, 'rougeL': 0.25925925925925924}\n",
      "Index: 664\n",
      "{'rouge1': 0.1020408163265306, 'rouge2': 0.0, 'rougeL': 0.1020408163265306}\n",
      "Index: 665\n",
      "{'rouge1': 0.2626262626262626, 'rouge2': 0.12371134020618557, 'rougeL': 0.18181818181818182}\n",
      "Index: 666\n"
     ]
    },
    {
     "name": "stderr",
     "output_type": "stream",
     "text": [
      "Read 0M words\n",
      "Number of words:  545\n",
      "Number of labels: 1\n",
      "start training...\n",
      "Progress: 100.0% words/sec/thread:  431159 lr:  0.000000 loss:  0.000000 ETA:   0h 0m\n",
      "Read 0M words\n",
      "Number of words:  545\n",
      "Number of labels: 1\n",
      "start training...\n",
      "Progress: 100.0% words/sec/thread:  513170 lr:  0.000000 loss:  0.000000 ETA:   0h 0m\n"
     ]
    },
    {
     "name": "stdout",
     "output_type": "stream",
     "text": [
      "Checkpoint\n",
      "{'rouge1': 0.25, 'rouge2': 0.1276595744680851, 'rougeL': 0.16666666666666666}\n",
      "Index: 667\n",
      "{'rouge1': 0.43410852713178294, 'rouge2': 0.18897637795275588, 'rougeL': 0.2790697674418604}\n",
      "Index: 668\n",
      "{'rouge1': 0.574468085106383, 'rouge2': 0.41304347826086957, 'rougeL': 0.5106382978723405}\n",
      "Index: 669\n",
      "{'rouge1': 0.40476190476190477, 'rouge2': 0.14634146341463414, 'rougeL': 0.16666666666666666}\n",
      "Index: 670\n",
      "{'rouge1': 0.2325581395348837, 'rouge2': 0.11904761904761905, 'rougeL': 0.18604651162790697}\n",
      "Index: 671\n",
      "{'rouge1': 0.43697478991596644, 'rouge2': 0.15384615384615385, 'rougeL': 0.23529411764705885}\n",
      "Index: 672\n",
      "{'rouge1': 0.42307692307692313, 'rouge2': 0.29411764705882354, 'rougeL': 0.3846153846153846}\n",
      "Index: 673\n",
      "{'rouge1': 0.13861386138613863, 'rouge2': 0.0, 'rougeL': 0.099009900990099}\n",
      "Index: 674\n",
      "{'rouge1': 0.22222222222222224, 'rouge2': 0.02061855670103093, 'rougeL': 0.12121212121212122}\n",
      "Index: 675\n",
      "{'rouge1': 0.33587786259541985, 'rouge2': 0.07751937984496124, 'rougeL': 0.15267175572519084}\n",
      "Index: 676\n",
      "{'rouge1': 0.2173913043478261, 'rouge2': 0.044444444444444446, 'rougeL': 0.15217391304347827}\n",
      "Index: 677\n",
      "{'rouge1': 0.4, 'rouge2': 0.16260162601626013, 'rougeL': 0.24}\n",
      "Index: 678\n",
      "{'rouge1': 0.2828282828282828, 'rouge2': 0.08247422680412371, 'rougeL': 0.20202020202020204}\n",
      "Index: 679\n",
      "{'rouge1': 0.32380952380952377, 'rouge2': 0.11650485436893203, 'rougeL': 0.24761904761904763}\n",
      "Index: 680\n",
      "{'rouge1': 0.36734693877551017, 'rouge2': 0.14583333333333334, 'rougeL': 0.2857142857142857}\n",
      "Index: 681\n",
      "{'rouge1': 0.3953488372093023, 'rouge2': 0.16666666666666669, 'rougeL': 0.2093023255813954}\n",
      "Index: 682\n",
      "{'rouge1': 0.22764227642276422, 'rouge2': 0.06611570247933883, 'rougeL': 0.13008130081300812}\n",
      "Index: 683\n",
      "{'rouge1': 0.3888888888888889, 'rouge2': 0.11320754716981131, 'rougeL': 0.20370370370370372}\n",
      "Index: 684\n",
      "{'rouge1': 0.17543859649122806, 'rouge2': 0.03571428571428571, 'rougeL': 0.10526315789473684}\n",
      "Index: 685\n",
      "{'rouge1': 0.2978723404255319, 'rouge2': 0.17391304347826086, 'rougeL': 0.19148936170212766}\n",
      "Index: 686\n",
      "{'rouge1': 0.3170731707317073, 'rouge2': 0.12500000000000003, 'rougeL': 0.17073170731707316}\n",
      "Index: 687\n",
      "{'rouge1': 0.3636363636363637, 'rouge2': 0.14814814814814814, 'rougeL': 0.23636363636363636}\n",
      "Index: 688\n",
      "{'rouge1': 0.38297872340425526, 'rouge2': 0.1739130434782609, 'rougeL': 0.2765957446808511}\n",
      "Index: 689\n",
      "{'rouge1': 0.07792207792207792, 'rouge2': 0.0, 'rougeL': 0.05194805194805195}\n",
      "Index: 690\n",
      "{'rouge1': 0.2696629213483146, 'rouge2': 0.11494252873563217, 'rougeL': 0.11235955056179775}\n",
      "Index: 691\n",
      "{'rouge1': 0.3703703703703704, 'rouge2': 0.1509433962264151, 'rougeL': 0.20370370370370372}\n",
      "Index: 692\n",
      "{'rouge1': 0.1568627450980392, 'rouge2': 0.04, 'rougeL': 0.1372549019607843}\n",
      "Index: 693\n"
     ]
    },
    {
     "name": "stderr",
     "output_type": "stream",
     "text": [
      "Read 0M words\n",
      "Number of words:  354\n",
      "Number of labels: 1\n",
      "start training...\n",
      "Progress: 100.0% words/sec/thread:  466293 lr:  0.000000 loss:  0.000000 ETA:   0h 0m\n",
      "Read 0M words\n",
      "Number of words:  354\n",
      "Number of labels: 1\n",
      "start training...\n",
      "Progress: 100.0% words/sec/thread:  372936 lr:  0.000000 loss:  0.000000 ETA:   0h 0m\n"
     ]
    },
    {
     "name": "stdout",
     "output_type": "stream",
     "text": [
      "Checkpoint\n",
      "{'rouge1': 0.2828282828282828, 'rouge2': 0.10309278350515463, 'rougeL': 0.22222222222222224}\n",
      "Index: 694\n",
      "{'rouge1': 0.19780219780219782, 'rouge2': 0.06741573033707865, 'rougeL': 0.1758241758241758}\n",
      "Index: 695\n",
      "{'rouge1': 0.29357798165137616, 'rouge2': 0.1308411214953271, 'rougeL': 0.2018348623853211}\n",
      "Index: 696\n",
      "{'rouge1': 0.4666666666666667, 'rouge2': 0.34090909090909094, 'rougeL': 0.3111111111111111}\n",
      "Index: 697\n"
     ]
    },
    {
     "name": "stderr",
     "output_type": "stream",
     "text": [
      "Read 0M words\n",
      "Number of words:  116\n",
      "Number of labels: 1\n",
      "start training...\n",
      "Progress: 100.0% words/sec/thread:  158439 lr:  0.000000 loss:  0.000000 ETA:   0h 0m\n",
      "Read 0M words\n",
      "Number of words:  116\n",
      "Number of labels: 1\n",
      "start training...\n",
      "Progress: 100.0% words/sec/thread:   72478 lr:  0.000000 loss:  0.000000 ETA:   0h 0m\n"
     ]
    },
    {
     "name": "stdout",
     "output_type": "stream",
     "text": [
      "Checkpoint\n",
      "{'rouge1': 0.2588235294117647, 'rouge2': 0.1686746987951807, 'rougeL': 0.2588235294117647}\n",
      "Index: 698\n",
      "{'rouge1': 0.3035714285714286, 'rouge2': 0.1090909090909091, 'rougeL': 0.17857142857142858}\n",
      "Index: 699\n"
     ]
    },
    {
     "name": "stderr",
     "output_type": "stream",
     "text": [
      "Read 0M words\n",
      "Number of words:  475\n",
      "Number of labels: 1\n",
      "start training...\n",
      "Progress: 100.0% words/sec/thread:  541082 lr:  0.000000 loss:  0.000000 ETA:   0h 0m\n",
      "Read 0M words\n",
      "Number of words:  475\n",
      "Number of labels: 1\n",
      "start training...\n",
      "Progress: 100.0% words/sec/thread:  535608 lr:  0.000000 loss:  0.000000 ETA:   0h 0m\n"
     ]
    },
    {
     "name": "stdout",
     "output_type": "stream",
     "text": [
      "Checkpoint\n",
      "{'rouge1': 0.22916666666666666, 'rouge2': 0.12765957446808512, 'rougeL': 0.18750000000000003}\n",
      "Index: 700\n",
      "{'rouge1': 0.2105263157894737, 'rouge2': 0.02150537634408602, 'rougeL': 0.12631578947368421}\n",
      "Index: 701\n",
      "{'rouge1': 0.19565217391304346, 'rouge2': 0.044444444444444446, 'rougeL': 0.15217391304347824}\n",
      "Index: 702\n",
      "{'rouge1': 0.42718446601941745, 'rouge2': 0.17821782178217818, 'rougeL': 0.27184466019417475}\n",
      "Index: 703\n",
      "{'rouge1': 0.3291139240506329, 'rouge2': 0.12987012987012989, 'rougeL': 0.20253164556962025}\n",
      "Index: 704\n",
      "{'rouge1': 0.22764227642276422, 'rouge2': 0.06611570247933886, 'rougeL': 0.11382113821138211}\n",
      "Index: 705\n",
      "{'rouge1': 0.2280701754385965, 'rouge2': 0.05357142857142856, 'rougeL': 0.15789473684210525}\n",
      "Index: 706\n",
      "{'rouge1': 0.27522935779816515, 'rouge2': 0.056074766355140186, 'rougeL': 0.18348623853211007}\n",
      "Index: 707\n",
      "{'rouge1': 0.3516483516483516, 'rouge2': 0.11235955056179775, 'rougeL': 0.2417582417582418}\n",
      "Index: 708\n",
      "{'rouge1': 0.31343283582089554, 'rouge2': 0.07575757575757576, 'rougeL': 0.13432835820895522}\n",
      "Index: 709\n"
     ]
    },
    {
     "name": "stderr",
     "output_type": "stream",
     "text": [
      "Read 0M words\n",
      "Number of words:  415\n",
      "Number of labels: 1\n",
      "start training...\n",
      "Progress: 100.0% words/sec/thread:  382219 lr:  0.000000 loss:  0.000000 ETA:   0h 0m\n",
      "Read 0M words\n",
      "Number of words:  415\n",
      "Number of labels: 1\n",
      "start training...\n",
      "Progress: 100.0% words/sec/thread:  387682 lr:  0.000000 loss:  0.000000 ETA:   0h 0m\n"
     ]
    },
    {
     "name": "stdout",
     "output_type": "stream",
     "text": [
      "Checkpoint\n",
      "{'rouge1': 0.2830188679245283, 'rouge2': 0.09615384615384616, 'rougeL': 0.2075471698113208}\n",
      "Index: 710\n"
     ]
    },
    {
     "name": "stderr",
     "output_type": "stream",
     "text": [
      "Read 0M words\n",
      "Number of words:  337\n",
      "Number of labels: 1\n",
      "start training...\n",
      "Progress: 100.0% words/sec/thread:  353752 lr:  0.000000 loss:  0.000000 ETA:   0h 0m\n",
      "Read 0M words\n",
      "Number of words:  337\n",
      "Number of labels: 1\n",
      "start training...\n",
      "Progress: 100.0% words/sec/thread:  388378 lr:  0.000000 loss:  0.000000 ETA:   0h 0m\n"
     ]
    },
    {
     "name": "stdout",
     "output_type": "stream",
     "text": [
      "Checkpoint\n",
      "{'rouge1': 0.3333333333333333, 'rouge2': 0.04, 'rougeL': 0.19607843137254904}\n",
      "Index: 711\n",
      "{'rouge1': 0.275, 'rouge2': 0.07692307692307691, 'rougeL': 0.25}\n",
      "Index: 712\n",
      "{'rouge1': 0.30927835051546393, 'rouge2': 0.21052631578947367, 'rougeL': 0.24742268041237114}\n",
      "Index: 713\n"
     ]
    },
    {
     "name": "stderr",
     "output_type": "stream",
     "text": [
      "Read 0M words\n",
      "Number of words:  231\n",
      "Number of labels: 1\n",
      "start training...\n",
      "Progress: 100.0% words/sec/thread:  244356 lr:  0.000000 loss:  0.000000 ETA:   0h 0m\n",
      "Read 0M words\n",
      "Number of words:  231\n",
      "Number of labels: 1\n",
      "start training...\n",
      "Progress: 100.0% words/sec/thread:  234481 lr:  0.000000 loss:  0.000000 ETA:   0h 0m\n"
     ]
    },
    {
     "name": "stdout",
     "output_type": "stream",
     "text": [
      "Checkpoint\n",
      "{'rouge1': 0.29906542056074764, 'rouge2': 0.07619047619047618, 'rougeL': 0.205607476635514}\n",
      "Index: 714\n",
      "{'rouge1': 0.27184466019417475, 'rouge2': 0.0594059405940594, 'rougeL': 0.11650485436893204}\n",
      "Index: 715\n",
      "{'rouge1': 0.34782608695652173, 'rouge2': 0.1415929203539823, 'rougeL': 0.20869565217391303}\n",
      "Index: 716\n",
      "{'rouge1': 0.22448979591836735, 'rouge2': 0.020833333333333332, 'rougeL': 0.163265306122449}\n",
      "Index: 717\n",
      "{'rouge1': 0.3076923076923077, 'rouge2': 0.1391304347826087, 'rougeL': 0.2222222222222222}\n",
      "Index: 718\n",
      "{'rouge1': 0.4285714285714286, 'rouge2': 0.2291666666666667, 'rougeL': 0.30612244897959184}\n",
      "Index: 719\n",
      "{'rouge1': 0.27499999999999997, 'rouge2': 0.12820512820512822, 'rougeL': 0.15000000000000002}\n",
      "Index: 720\n",
      "{'rouge1': 0.2727272727272727, 'rouge2': 0.11627906976744187, 'rougeL': 0.22727272727272727}\n",
      "Index: 721\n"
     ]
    },
    {
     "name": "stderr",
     "output_type": "stream",
     "text": [
      "Read 0M words\n",
      "Number of words:  474\n",
      "Number of labels: 1\n",
      "start training...\n",
      "Progress: 100.0% words/sec/thread:  505069 lr:  0.000000 loss:  0.000000 ETA:   0h 0m\n",
      "Read 0M words\n",
      "Number of words:  474\n",
      "Number of labels: 1\n",
      "start training...\n",
      "Progress: 100.0% words/sec/thread:  541463 lr:  0.000000 loss:  0.000000 ETA:   0h 0m\n"
     ]
    },
    {
     "name": "stdout",
     "output_type": "stream",
     "text": [
      "Checkpoint\n",
      "{'rouge1': 0.3238095238095238, 'rouge2': 0.13592233009708737, 'rougeL': 0.19047619047619047}\n",
      "Index: 722\n",
      "{'rouge1': 0.0416367552045944, 'rouge2': 0.023005032350826744, 'rougeL': 0.03732950466618808}\n",
      "Index: 723\n",
      "{'rouge1': 0.2592592592592593, 'rouge2': 0.1320754716981132, 'rougeL': 0.22222222222222227}\n",
      "Index: 724\n",
      "{'rouge1': 0.2828282828282828, 'rouge2': 0.10309278350515463, 'rougeL': 0.22222222222222224}\n",
      "Index: 725\n",
      "{'rouge1': 0.14583333333333334, 'rouge2': 0.06382978723404255, 'rougeL': 0.08333333333333333}\n",
      "Index: 726\n",
      "{'rouge1': 0.2545454545454546, 'rouge2': 0.03703703703703703, 'rougeL': 0.10909090909090909}\n",
      "Index: 727\n",
      "{'rouge1': 0.432, 'rouge2': 0.13008130081300812, 'rougeL': 0.256}\n",
      "Index: 728\n",
      "{'rouge1': 0.42990654205607476, 'rouge2': 0.11428571428571428, 'rougeL': 0.2616822429906542}\n",
      "Index: 729\n",
      "{'rouge1': 0.14457831325301204, 'rouge2': 0.024691358024691357, 'rougeL': 0.12048192771084337}\n",
      "Index: 730\n"
     ]
    },
    {
     "name": "stderr",
     "output_type": "stream",
     "text": [
      "Read 0M words\n",
      "Number of words:  192\n",
      "Number of labels: 1\n",
      "start training...\n",
      "Progress: 100.0% words/sec/thread:  235309 lr:  0.000000 loss:  0.000000 ETA:   0h 0m\n",
      "Read 0M words\n",
      "Number of words:  192\n",
      "Number of labels: 1\n",
      "start training...\n",
      "Progress: 100.0% words/sec/thread:  153277 lr:  0.000000 loss:  0.000000 ETA:   0h 0m\n"
     ]
    },
    {
     "name": "stdout",
     "output_type": "stream",
     "text": [
      "Checkpoint\n",
      "{'rouge1': 0.5128205128205129, 'rouge2': 0.17391304347826086, 'rougeL': 0.358974358974359}\n",
      "Index: 731\n",
      "{'rouge1': 0.2745098039215686, 'rouge2': 0.1, 'rougeL': 0.1764705882352941}\n",
      "Index: 732\n",
      "{'rouge1': 0.20930232558139536, 'rouge2': 0.023809523809523808, 'rougeL': 0.1627906976744186}\n",
      "Index: 733\n"
     ]
    },
    {
     "name": "stderr",
     "output_type": "stream",
     "text": [
      "Read 0M words\n",
      "Number of words:  602\n",
      "Number of labels: 1\n",
      "start training...\n",
      "Progress: 100.0% words/sec/thread:  594177 lr:  0.000000 loss:  0.000000 ETA:   0h 0m\n",
      "Read 0M words\n",
      "Number of words:  602\n",
      "Number of labels: 1\n",
      "start training...\n",
      "Progress: 100.0% words/sec/thread:  576394 lr:  0.000000 loss:  0.000000 ETA:   0h 0m\n"
     ]
    },
    {
     "name": "stdout",
     "output_type": "stream",
     "text": [
      "Checkpoint\n",
      "{'rouge1': 0.09195402298850575, 'rouge2': 0.023529411764705885, 'rougeL': 0.06896551724137931}\n",
      "Index: 734\n",
      "{'rouge1': 0.3, 'rouge2': 0.12244897959183672, 'rougeL': 0.26}\n",
      "Index: 735\n",
      "{'rouge1': 0.38, 'rouge2': 0.12244897959183673, 'rougeL': 0.19999999999999998}\n",
      "Index: 736\n",
      "{'rouge1': 0.23157894736842102, 'rouge2': 0.08602150537634409, 'rougeL': 0.1473684210526316}\n",
      "Index: 737\n",
      "{'rouge1': 0.23404255319148937, 'rouge2': 0.04347826086956522, 'rougeL': 0.14893617021276595}\n",
      "Index: 738\n",
      "{'rouge1': 0.136986301369863, 'rouge2': 0.0, 'rougeL': 0.10958904109589042}\n",
      "Index: 739\n",
      "{'rouge1': 0.1523809523809524, 'rouge2': 0.019417475728155338, 'rougeL': 0.09523809523809522}\n",
      "Index: 740\n",
      "{'rouge1': 0.22727272727272727, 'rouge2': 0.09302325581395347, 'rougeL': 0.22727272727272727}\n",
      "Index: 741\n",
      "{'rouge1': 0.3486238532110092, 'rouge2': 0.1495327102803738, 'rougeL': 0.22018348623853212}\n",
      "Index: 742\n",
      "{'rouge1': 0.15789473684210525, 'rouge2': 0.017857142857142856, 'rougeL': 0.14035087719298248}\n",
      "Index: 743\n",
      "{'rouge1': 0.04512276045122761, 'rouge2': 0.01196013289036545, 'rougeL': 0.023888520238885203}\n",
      "Index: 744\n",
      "{'rouge1': 0.13043478260869565, 'rouge2': 0.0, 'rougeL': 0.10869565217391305}\n",
      "Index: 745\n"
     ]
    },
    {
     "name": "stderr",
     "output_type": "stream",
     "text": [
      "Read 0M words\n",
      "Number of words:  398\n",
      "Number of labels: 1\n",
      "start training...\n",
      "Progress: 100.0% words/sec/thread:  451867 lr:  0.000000 loss:  0.000000 ETA:   0h 0m\n",
      "Read 0M words\n",
      "Number of words:  398\n",
      "Number of labels: 1\n",
      "start training...\n",
      "Progress: 100.0% words/sec/thread:  454965 lr:  0.000000 loss:  0.000000 ETA:   0h 0m\n"
     ]
    },
    {
     "name": "stdout",
     "output_type": "stream",
     "text": [
      "Checkpoint\n",
      "{'rouge1': 0.3146067415730337, 'rouge2': 0.13793103448275865, 'rougeL': 0.24719101123595505}\n",
      "Index: 746\n"
     ]
    },
    {
     "name": "stderr",
     "output_type": "stream",
     "text": [
      "Read 0M words\n",
      "Number of words:  649\n",
      "Number of labels: 1\n",
      "start training...\n",
      "Progress: 100.0% words/sec/thread:  638538 lr:  0.000000 loss:  0.000000 ETA:   0h 0m\n",
      "Read 0M words\n",
      "Number of words:  649\n",
      "Number of labels: 1\n",
      "start training...\n",
      "Progress: 100.0% words/sec/thread:  622253 lr:  0.000000 loss:  0.000000 ETA:   0h 0m\n"
     ]
    },
    {
     "name": "stdout",
     "output_type": "stream",
     "text": [
      "Checkpoint\n",
      "{'rouge1': 0.23655913978494625, 'rouge2': 0.04395604395604395, 'rougeL': 0.15053763440860213}\n",
      "Index: 747\n"
     ]
    },
    {
     "name": "stderr",
     "output_type": "stream",
     "text": [
      "Read 0M words\n",
      "Number of words:  421\n",
      "Number of labels: 1\n",
      "start training...\n",
      "Progress: 100.0% words/sec/thread:  468675 lr:  0.000000 loss:  0.000000 ETA:   0h 0m\n",
      "Read 0M words\n",
      "Number of words:  421\n",
      "Number of labels: 1\n",
      "start training...\n",
      "Progress: 100.0% words/sec/thread:  414113 lr:  0.000000 loss:  0.000000 ETA:   0h 0m\n"
     ]
    },
    {
     "name": "stdout",
     "output_type": "stream",
     "text": [
      "Checkpoint\n",
      "{'rouge1': 0.30927835051546393, 'rouge2': 0.1473684210526316, 'rougeL': 0.26804123711340205}\n",
      "Index: 748\n",
      "{'rouge1': 0.30088495575221236, 'rouge2': 0.12612612612612614, 'rougeL': 0.21238938053097345}\n",
      "Index: 749\n",
      "{'rouge1': 0.22807017543859648, 'rouge2': 0.07142857142857142, 'rougeL': 0.17543859649122806}\n",
      "Index: 750\n",
      "{'rouge1': 0.30927835051546393, 'rouge2': 0.08421052631578947, 'rougeL': 0.22680412371134023}\n",
      "Index: 751\n"
     ]
    },
    {
     "name": "stderr",
     "output_type": "stream",
     "text": [
      "Read 0M words\n",
      "Number of words:  490\n",
      "Number of labels: 1\n",
      "start training...\n",
      "Progress: 100.0% words/sec/thread:  644227 lr:  0.000000 loss:  0.000000 ETA:   0h 0m\n",
      "Read 0M words\n",
      "Number of words:  490\n",
      "Number of labels: 1\n",
      "start training...\n",
      "Progress: 100.0% words/sec/thread:  623182 lr:  0.000000 loss:  0.000000 ETA:   0h 0m\n"
     ]
    },
    {
     "name": "stdout",
     "output_type": "stream",
     "text": [
      "Checkpoint\n",
      "{'rouge1': 0.21276595744680848, 'rouge2': 0.06521739130434782, 'rougeL': 0.14893617021276595}\n",
      "Index: 752\n",
      "{'rouge1': 0.028225806451612902, 'rouge2': 0.01211305518169583, 'rougeL': 0.024193548387096774}\n",
      "Index: 753\n",
      "{'rouge1': 0.43478260869565216, 'rouge2': 0.19999999999999998, 'rougeL': 0.2391304347826087}\n",
      "Index: 754\n",
      "{'rouge1': 0.2882882882882883, 'rouge2': 0.05504587155963303, 'rougeL': 0.19819819819819817}\n",
      "Index: 755\n",
      "{'rouge1': 0.3529411764705882, 'rouge2': 0.18803418803418803, 'rougeL': 0.3025210084033614}\n",
      "Index: 756\n",
      "{'rouge1': 0.21705426356589147, 'rouge2': 0.03149606299212598, 'rougeL': 0.12403100775193798}\n",
      "Index: 757\n"
     ]
    },
    {
     "name": "stderr",
     "output_type": "stream",
     "text": [
      "Read 0M words\n",
      "Number of words:  164\n",
      "Number of labels: 1\n",
      "start training...\n",
      "Progress: 100.0% words/sec/thread:  126719 lr:  0.000000 loss:  0.000000 ETA:   0h 0m\n",
      "Read 0M words\n",
      "Number of words:  164\n",
      "Number of labels: 1\n",
      "start training...\n",
      "Progress: 100.0% words/sec/thread:  176858 lr:  0.000000 loss:  0.000000 ETA:   0h 0m\n"
     ]
    },
    {
     "name": "stdout",
     "output_type": "stream",
     "text": [
      "Checkpoint\n",
      "{'rouge1': 0.31683168316831684, 'rouge2': 0.0808080808080808, 'rougeL': 0.19801980198019806}\n",
      "Index: 758\n",
      "{'rouge1': 0.2956521739130435, 'rouge2': 0.017699115044247787, 'rougeL': 0.1565217391304348}\n",
      "Index: 759\n"
     ]
    },
    {
     "name": "stderr",
     "output_type": "stream",
     "text": [
      "Read 0M words\n",
      "Number of words:  498\n",
      "Number of labels: 1\n",
      "start training...\n",
      "Progress: 100.0% words/sec/thread:  452450 lr:  0.000000 loss:  0.000000 ETA:   0h 0m\n",
      "Read 0M words\n",
      "Number of words:  498\n",
      "Number of labels: 1\n",
      "start training...\n",
      "Progress: 100.0% words/sec/thread:  679287 lr:  0.000000 loss:  0.000000 ETA:   0h 0m\n"
     ]
    },
    {
     "name": "stdout",
     "output_type": "stream",
     "text": [
      "Checkpoint\n",
      "{'rouge1': 0.28571428571428575, 'rouge2': 0.036363636363636355, 'rougeL': 0.16071428571428573}\n",
      "Index: 760\n",
      "{'rouge1': 0.03934871099050204, 'rouge2': 0.028532608695652176, 'rougeL': 0.035278154681139755}\n",
      "Index: 761\n",
      "{'rouge1': 0.4130434782608695, 'rouge2': 0.15555555555555556, 'rougeL': 0.26086956521739124}\n",
      "Index: 762\n",
      "{'rouge1': 0.3, 'rouge2': 0.10256410256410256, 'rougeL': 0.19999999999999998}\n",
      "Index: 763\n",
      "{'rouge1': 0.27184466019417475, 'rouge2': 0.039603960396039604, 'rougeL': 0.11650485436893201}\n",
      "Index: 764\n"
     ]
    },
    {
     "name": "stderr",
     "output_type": "stream",
     "text": [
      "Read 0M words\n",
      "Number of words:  343\n",
      "Number of labels: 1\n",
      "start training...\n",
      "Progress: 100.0% words/sec/thread:  413595 lr:  0.000000 loss:  0.000000 ETA:   0h 0m\n",
      "Read 0M words\n",
      "Number of words:  343\n",
      "Number of labels: 1\n",
      "start training...\n",
      "Progress: 100.0% words/sec/thread:  388021 lr:  0.000000 loss:  0.000000 ETA:   0h 0m\n"
     ]
    },
    {
     "name": "stdout",
     "output_type": "stream",
     "text": [
      "Checkpoint\n",
      "{'rouge1': 0.553191489361702, 'rouge2': 0.2608695652173913, 'rougeL': 0.2978723404255319}\n",
      "Index: 765\n",
      "{'rouge1': 0.4067796610169492, 'rouge2': 0.1724137931034483, 'rougeL': 0.25423728813559315}\n",
      "Index: 766\n",
      "{'rouge1': 0.23655913978494625, 'rouge2': 0.04395604395604395, 'rougeL': 0.15053763440860216}\n",
      "Index: 767\n"
     ]
    },
    {
     "name": "stderr",
     "output_type": "stream",
     "text": [
      "Read 0M words\n",
      "Number of words:  404\n",
      "Number of labels: 1\n",
      "start training...\n",
      "Progress: 100.0% words/sec/thread:  426979 lr:  0.000000 loss:  0.000000 ETA:   0h 0m\n",
      "Read 0M words\n",
      "Number of words:  404\n",
      "Number of labels: 1\n",
      "start training...\n",
      "Progress: 100.0% words/sec/thread:  243893 lr:  0.000000 loss:  0.000000 ETA:   0h 0m\n"
     ]
    },
    {
     "name": "stdout",
     "output_type": "stream",
     "text": [
      "Checkpoint\n",
      "{'rouge1': 0.33962264150943394, 'rouge2': 0.07692307692307691, 'rougeL': 0.18867924528301888}\n",
      "Index: 768\n"
     ]
    },
    {
     "name": "stderr",
     "output_type": "stream",
     "text": [
      "Read 0M words\n",
      "Number of words:  177\n",
      "Number of labels: 1\n",
      "start training...\n",
      "Progress: 100.0% words/sec/thread:  207366 lr:  0.000000 loss:  0.000000 ETA:   0h 0m\n",
      "Read 0M words\n",
      "Number of words:  177\n",
      "Number of labels: 1\n",
      "start training...\n",
      "Progress: 100.0% words/sec/thread:  126764 lr:  0.000000 loss:  0.000000 ETA:   0h 0m\n"
     ]
    },
    {
     "name": "stdout",
     "output_type": "stream",
     "text": [
      "Checkpoint\n",
      "{'rouge1': 0.23809523809523808, 'rouge2': 0.0, 'rougeL': 0.16666666666666666}\n",
      "Index: 769\n",
      "{'rouge1': 0.35398230088495575, 'rouge2': 0.05405405405405406, 'rougeL': 0.12389380530973454}\n",
      "Index: 770\n",
      "{'rouge1': 0.2588235294117647, 'rouge2': 0.07228915662650602, 'rougeL': 0.18823529411764706}\n",
      "Index: 771\n",
      "{'rouge1': 0.3666666666666667, 'rouge2': 0.13559322033898305, 'rougeL': 0.25}\n",
      "Index: 772\n",
      "{'rouge1': 0.37499999999999994, 'rouge2': 0.17021276595744683, 'rougeL': 0.25000000000000006}\n",
      "Index: 773\n",
      "{'rouge1': 0.2330097087378641, 'rouge2': 0.019801980198019802, 'rougeL': 0.11650485436893206}\n",
      "Index: 774\n",
      "{'rouge1': 0.09638554216867469, 'rouge2': 0.0, 'rougeL': 0.07228915662650602}\n",
      "Index: 775\n",
      "{'rouge1': 0.23404255319148937, 'rouge2': 0.10869565217391305, 'rougeL': 0.19148936170212763}\n",
      "Index: 776\n",
      "{'rouge1': 0.2597402597402597, 'rouge2': 0.0, 'rougeL': 0.15584415584415584}\n",
      "Index: 777\n",
      "{'rouge1': 0.12048192771084337, 'rouge2': 0.0, 'rougeL': 0.0963855421686747}\n",
      "Index: 778\n",
      "{'rouge1': 0.38202247191011235, 'rouge2': 0.09195402298850575, 'rougeL': 0.29213483146067415}\n",
      "Index: 779\n",
      "{'rouge1': 0.22033898305084745, 'rouge2': 0.08620689655172414, 'rougeL': 0.1864406779661017}\n",
      "Index: 780\n"
     ]
    },
    {
     "name": "stderr",
     "output_type": "stream",
     "text": [
      "Read 0M words\n",
      "Number of words:  432\n",
      "Number of labels: 1\n",
      "start training...\n",
      "Progress: 100.0% words/sec/thread:  450963 lr:  0.000000 loss:  0.000000 ETA:   0h 0m\n",
      "Read 0M words\n",
      "Number of words:  432\n",
      "Number of labels: 1\n",
      "start training...\n",
      "Progress: 100.0% words/sec/thread:  446115 lr:  0.000000 loss:  0.000000 ETA:   0h 0m\n"
     ]
    },
    {
     "name": "stdout",
     "output_type": "stream",
     "text": [
      "Checkpoint\n",
      "{'rouge1': 0.3008849557522124, 'rouge2': 0.05405405405405406, 'rougeL': 0.19469026548672566}\n",
      "Index: 781\n",
      "{'rouge1': 0.2736842105263158, 'rouge2': 0.10752688172043011, 'rougeL': 0.1894736842105263}\n",
      "Index: 782\n"
     ]
    },
    {
     "name": "stderr",
     "output_type": "stream",
     "text": [
      "Read 0M words\n",
      "Number of words:  298\n",
      "Number of labels: 1\n",
      "start training...\n",
      "Progress: 100.0% words/sec/thread:  392772 lr:  0.000000 loss:  0.000000 ETA:   0h 0m\n",
      "Read 0M words\n",
      "Number of words:  298\n",
      "Number of labels: 1\n",
      "start training...\n",
      "Progress: 100.0% words/sec/thread:  219125 lr:  0.000000 loss:  0.000000 ETA:   0h 0m\n"
     ]
    },
    {
     "name": "stdout",
     "output_type": "stream",
     "text": [
      "Checkpoint\n",
      "{'rouge1': 0.24719101123595505, 'rouge2': 0.09195402298850575, 'rougeL': 0.1348314606741573}\n",
      "Index: 783\n"
     ]
    },
    {
     "name": "stderr",
     "output_type": "stream",
     "text": [
      "Read 0M words\n",
      "Number of words:  269\n",
      "Number of labels: 1\n",
      "start training...\n",
      "Progress: 100.0% words/sec/thread:  350006 lr:  0.000000 loss:  0.000000 ETA:   0h 0m\n",
      "Read 0M words\n",
      "Number of words:  269\n",
      "Number of labels: 1\n",
      "start training...\n",
      "Progress: 100.0% words/sec/thread:  305106 lr:  0.000000 loss:  0.000000 ETA:   0h 0m\n"
     ]
    },
    {
     "name": "stdout",
     "output_type": "stream",
     "text": [
      "Checkpoint\n",
      "{'rouge1': 0.2641509433962264, 'rouge2': 0.09615384615384616, 'rougeL': 0.16981132075471697}\n",
      "Index: 784\n",
      "{'rouge1': 0.3111111111111111, 'rouge2': 0.022727272727272724, 'rougeL': 0.13333333333333333}\n",
      "Index: 785\n",
      "{'rouge1': 0.4444444444444445, 'rouge2': 0.4090909090909091, 'rougeL': 0.4444444444444445}\n",
      "Index: 786\n",
      "{'rouge1': 0.28800000000000003, 'rouge2': 0.032520325203252036, 'rougeL': 0.224}\n",
      "Index: 787\n"
     ]
    },
    {
     "name": "stderr",
     "output_type": "stream",
     "text": [
      "Read 0M words\n",
      "Number of words:  438\n",
      "Number of labels: 1\n",
      "start training...\n",
      "Progress: 100.0% words/sec/thread:  495736 lr:  0.000000 loss:  0.000000 ETA:   0h 0m\n",
      "Read 0M words\n",
      "Number of words:  438\n",
      "Number of labels: 1\n",
      "start training...\n",
      "Progress: 100.0% words/sec/thread:  484834 lr:  0.000000 loss:  0.000000 ETA:   0h 0m\n"
     ]
    },
    {
     "name": "stdout",
     "output_type": "stream",
     "text": [
      "Checkpoint\n",
      "{'rouge1': 0.5384615384615384, 'rouge2': 0.2549019607843137, 'rougeL': 0.3653846153846154}\n",
      "Index: 788\n",
      "{'rouge1': 0.2631578947368421, 'rouge2': 0.07142857142857144, 'rougeL': 0.1754385964912281}\n",
      "Index: 789\n",
      "{'rouge1': 0.18691588785046728, 'rouge2': 0.03809523809523809, 'rougeL': 0.09345794392523364}\n",
      "Index: 790\n"
     ]
    },
    {
     "name": "stderr",
     "output_type": "stream",
     "text": [
      "Read 0M words\n",
      "Number of words:  184\n",
      "Number of labels: 1\n",
      "start training...\n",
      "Progress: 100.0% words/sec/thread:  260277 lr:  0.000000 loss:  0.000000 ETA:   0h 0m\n",
      "Read 0M words\n",
      "Number of words:  184\n",
      "Number of labels: 1\n",
      "start training...\n",
      "Progress: 100.0% words/sec/thread:  290546 lr:  0.000000 loss:  0.000000 ETA:   0h 0m\n"
     ]
    },
    {
     "name": "stdout",
     "output_type": "stream",
     "text": [
      "Checkpoint\n",
      "{'rouge1': 0.2857142857142857, 'rouge2': 0.08333333333333333, 'rougeL': 0.2857142857142857}\n",
      "Index: 791\n"
     ]
    },
    {
     "name": "stderr",
     "output_type": "stream",
     "text": [
      "Read 0M words\n",
      "Number of words:  335\n",
      "Number of labels: 1\n",
      "start training...\n",
      "Progress: 100.0% words/sec/thread:  613087 lr:  0.000000 loss:  0.000000 ETA:   0h 0m\n",
      "Read 0M words\n",
      "Number of words:  335\n",
      "Number of labels: 1\n",
      "start training...\n",
      "Progress: 100.0% words/sec/thread:  405897 lr:  0.000000 loss:  0.000000 ETA:   0h 0m\n"
     ]
    },
    {
     "name": "stdout",
     "output_type": "stream",
     "text": [
      "Checkpoint\n",
      "{'rouge1': 0.2391304347826087, 'rouge2': 0.06666666666666667, 'rougeL': 0.1739130434782609}\n",
      "Index: 792\n",
      "{'rouge1': 0.4, 'rouge2': 0.16666666666666666, 'rougeL': 0.3090909090909091}\n",
      "Index: 793\n",
      "{'rouge1': 0.19148936170212766, 'rouge2': 0.043478260869565216, 'rougeL': 0.10638297872340424}\n",
      "Index: 794\n",
      "{'rouge1': 0.051470588235294115, 'rouge2': 0.023564064801178206, 'rougeL': 0.03676470588235294}\n",
      "Index: 795\n",
      "{'rouge1': 0.2708333333333333, 'rouge2': 0.0851063829787234, 'rougeL': 0.1875}\n",
      "Index: 796\n"
     ]
    },
    {
     "name": "stderr",
     "output_type": "stream",
     "text": [
      "Read 0M words\n",
      "Number of words:  591\n",
      "Number of labels: 1\n",
      "start training...\n",
      "Progress: 100.0% words/sec/thread:  568798 lr:  0.000000 loss:  0.000000 ETA:   0h 0m\n",
      "Read 0M words\n",
      "Number of words:  591\n",
      "Number of labels: 1\n",
      "start training...\n",
      "Progress: 100.0% words/sec/thread:  636097 lr:  0.000000 loss:  0.000000 ETA:   0h 0m\n"
     ]
    },
    {
     "name": "stdout",
     "output_type": "stream",
     "text": [
      "Checkpoint\n",
      "{'rouge1': 0.2127659574468085, 'rouge2': 0.021739130434782608, 'rougeL': 0.10638297872340426}\n",
      "Index: 797\n",
      "{'rouge1': 0.30927835051546393, 'rouge2': 0.25263157894736843, 'rougeL': 0.30927835051546393}\n",
      "Index: 798\n",
      "{'rouge1': 0.31578947368421056, 'rouge2': 0.03571428571428571, 'rougeL': 0.15789473684210528}\n",
      "Index: 799\n"
     ]
    },
    {
     "name": "stderr",
     "output_type": "stream",
     "text": [
      "Read 0M words\n",
      "Number of words:  525\n",
      "Number of labels: 1\n",
      "start training...\n",
      "Progress: 100.0% words/sec/thread:  496659 lr:  0.000000 loss:  0.000000 ETA:   0h 0m\n",
      "Read 0M words\n",
      "Number of words:  525\n",
      "Number of labels: 1\n",
      "start training...\n",
      "Progress: 100.0% words/sec/thread:  634785 lr:  0.000000 loss:  0.000000 ETA:   0h 0m\n"
     ]
    },
    {
     "name": "stdout",
     "output_type": "stream",
     "text": [
      "Checkpoint\n",
      "{'rouge1': 0.11009174311926606, 'rouge2': 0.0, 'rougeL': 0.09174311926605504}\n",
      "Index: 800\n",
      "{'rouge1': 0.044444444444444446, 'rouge2': 0.0, 'rougeL': 0.022222222222222223}\n",
      "Index: 801\n",
      "{'rouge1': 0.4464285714285714, 'rouge2': 0.2545454545454545, 'rougeL': 0.39285714285714285}\n",
      "Index: 802\n",
      "{'rouge1': 0.12631578947368421, 'rouge2': 0.0, 'rougeL': 0.06315789473684211}\n",
      "Index: 803\n",
      "{'rouge1': 0.34862385321100914, 'rouge2': 0.16822429906542055, 'rougeL': 0.22018348623853212}\n",
      "Index: 804\n",
      "{'rouge1': 0.29310344827586204, 'rouge2': 0.07017543859649124, 'rougeL': 0.17241379310344826}\n",
      "Index: 805\n",
      "{'rouge1': 0.4235294117647058, 'rouge2': 0.24096385542168675, 'rougeL': 0.3764705882352941}\n",
      "Index: 806\n"
     ]
    },
    {
     "name": "stderr",
     "output_type": "stream",
     "text": [
      "Read 0M words\n",
      "Number of words:  392\n",
      "Number of labels: 1\n",
      "start training...\n",
      "Progress: 100.0% words/sec/thread:  484031 lr:  0.000000 loss:  0.000000 ETA:   0h 0m\n",
      "Read 0M words\n",
      "Number of words:  392\n",
      "Number of labels: 1\n",
      "start training...\n",
      "Progress: 100.0% words/sec/thread:  464988 lr:  0.000000 loss:  0.000000 ETA:   0h 0m\n"
     ]
    },
    {
     "name": "stdout",
     "output_type": "stream",
     "text": [
      "Checkpoint\n",
      "{'rouge1': 0.2689075630252101, 'rouge2': 0.11965811965811966, 'rougeL': 0.15126050420168066}\n",
      "Index: 807\n",
      "{'rouge1': 0.4380952380952381, 'rouge2': 0.23300970873786409, 'rougeL': 0.32380952380952377}\n",
      "Index: 808\n",
      "{'rouge1': 0.30927835051546393, 'rouge2': 0.10526315789473682, 'rougeL': 0.24742268041237114}\n",
      "Index: 809\n",
      "{'rouge1': 0.2568807339449541, 'rouge2': 0.037383177570093455, 'rougeL': 0.12844036697247704}\n",
      "Index: 810\n",
      "{'rouge1': 0.42, 'rouge2': 0.12244897959183672, 'rougeL': 0.24000000000000005}\n",
      "Index: 811\n",
      "{'rouge1': 0.3962264150943396, 'rouge2': 0.11538461538461539, 'rougeL': 0.16981132075471697}\n",
      "Index: 812\n",
      "{'rouge1': 0.29126213592233013, 'rouge2': 0.07920792079207922, 'rougeL': 0.1941747572815534}\n",
      "Index: 813\n",
      "{'rouge1': 0.2142857142857143, 'rouge2': 0.07317073170731707, 'rougeL': 0.19047619047619047}\n",
      "Index: 814\n",
      "{'rouge1': 0.2526315789473684, 'rouge2': 0.02150537634408602, 'rougeL': 0.1263157894736842}\n",
      "Index: 815\n",
      "{'rouge1': 0.34285714285714286, 'rouge2': 0.1941747572815534, 'rougeL': 0.3047619047619048}\n",
      "Index: 816\n",
      "{'rouge1': 0.38, 'rouge2': 0.163265306122449, 'rougeL': 0.3}\n",
      "Index: 817\n"
     ]
    },
    {
     "name": "stderr",
     "output_type": "stream",
     "text": [
      "Read 0M words\n",
      "Number of words:  314\n",
      "Number of labels: 1\n",
      "start training...\n",
      "Progress: 100.0% words/sec/thread:  389216 lr:  0.000000 loss:  0.000000 ETA:   0h 0m\n",
      "Read 0M words\n",
      "Number of words:  314\n",
      "Number of labels: 1\n",
      "start training...\n",
      "Progress: 100.0% words/sec/thread:  275425 lr:  0.000000 loss:  0.000000 ETA:   0h 0m\n"
     ]
    },
    {
     "name": "stdout",
     "output_type": "stream",
     "text": [
      "Checkpoint\n",
      "{'rouge1': 0.25, 'rouge2': 0.03389830508474577, 'rougeL': 0.15}\n",
      "Index: 818\n",
      "{'rouge1': 0.40404040404040403, 'rouge2': 0.18556701030927833, 'rougeL': 0.303030303030303}\n",
      "Index: 819\n",
      "{'rouge1': 0.5769230769230769, 'rouge2': 0.4117647058823529, 'rougeL': 0.5192307692307693}\n",
      "Index: 820\n",
      "{'rouge1': 0.2782608695652174, 'rouge2': 0.08849557522123894, 'rougeL': 0.17391304347826086}\n",
      "Index: 821\n",
      "{'rouge1': 0.15053763440860218, 'rouge2': 0.0879120879120879, 'rougeL': 0.1075268817204301}\n",
      "Index: 822\n",
      "{'rouge1': 0.04338698390482855, 'rouge2': 0.023826208829712682, 'rougeL': 0.03079076277116865}\n",
      "Index: 823\n",
      "{'rouge1': 0.19607843137254904, 'rouge2': 0.08, 'rougeL': 0.1568627450980392}\n",
      "Index: 824\n",
      "{'rouge1': 0.10309278350515463, 'rouge2': 0.0, 'rougeL': 0.061855670103092786}\n",
      "Index: 825\n"
     ]
    },
    {
     "name": "stderr",
     "output_type": "stream",
     "text": [
      "Read 0M words\n",
      "Number of words:  536\n",
      "Number of labels: 1\n",
      "start training...\n",
      "Progress: 100.0% words/sec/thread:  613715 lr:  0.000000 loss:  0.000000 ETA:   0h 0m\n",
      "Read 0M words\n",
      "Number of words:  536\n",
      "Number of labels: 1\n",
      "start training...\n",
      "Progress: 100.0% words/sec/thread:  434757 lr:  0.000000 loss:  0.000000 ETA:   0h 0m\n"
     ]
    },
    {
     "name": "stdout",
     "output_type": "stream",
     "text": [
      "Checkpoint\n",
      "{'rouge1': 0.22448979591836735, 'rouge2': 0.020833333333333332, 'rougeL': 0.10204081632653061}\n",
      "Index: 826\n",
      "{'rouge1': 0.5625, 'rouge2': 0.40425531914893625, 'rougeL': 0.4791666666666667}\n",
      "Index: 827\n"
     ]
    },
    {
     "name": "stderr",
     "output_type": "stream",
     "text": [
      "Read 0M words\n",
      "Number of words:  549\n",
      "Number of labels: 1\n",
      "start training...\n",
      "Progress: 100.0% words/sec/thread:  488430 lr:  0.000000 loss:  0.000000 ETA:   0h 0m\n",
      "Read 0M words\n",
      "Number of words:  549\n",
      "Number of labels: 1\n",
      "start training...\n",
      "Progress: 100.0% words/sec/thread:  635112 lr:  0.000000 loss:  0.000000 ETA:   0h 0m\n"
     ]
    },
    {
     "name": "stdout",
     "output_type": "stream",
     "text": [
      "Checkpoint\n",
      "{'rouge1': 0.35714285714285715, 'rouge2': 0.12727272727272726, 'rougeL': 0.23214285714285715}\n",
      "Index: 828\n",
      "{'rouge1': 0.3539823008849558, 'rouge2': 0.10810810810810811, 'rougeL': 0.1946902654867257}\n",
      "Index: 829\n",
      "{'rouge1': 0.35000000000000003, 'rouge2': 0.13559322033898305, 'rougeL': 0.18333333333333332}\n",
      "Index: 830\n"
     ]
    },
    {
     "name": "stderr",
     "output_type": "stream",
     "text": [
      "Read 0M words\n",
      "Number of words:  146\n",
      "Number of labels: 1\n",
      "start training...\n",
      "Progress: 100.0% words/sec/thread:   86410 lr:  0.000000 loss:  0.000000 ETA:   0h 0m\n",
      "Read 0M words\n",
      "Number of words:  146\n",
      "Number of labels: 1\n",
      "start training...\n",
      "Progress: 100.0% words/sec/thread:  136725 lr:  0.000000 loss:  0.000000 ETA:   0h 0m\n"
     ]
    },
    {
     "name": "stdout",
     "output_type": "stream",
     "text": [
      "Checkpoint\n",
      "{'rouge1': 0.17073170731707316, 'rouge2': 0.0, 'rougeL': 0.09756097560975609}\n",
      "Index: 831\n",
      "{'rouge1': 0.19565217391304351, 'rouge2': 0.04444444444444444, 'rougeL': 0.08695652173913045}\n",
      "Index: 832\n",
      "{'rouge1': 0.3218390804597701, 'rouge2': 0.07058823529411766, 'rougeL': 0.1839080459770115}\n",
      "Index: 833\n",
      "{'rouge1': 0.14141414141414144, 'rouge2': 0.0, 'rougeL': 0.10101010101010101}\n",
      "Index: 834\n",
      "{'rouge1': 0.19354838709677422, 'rouge2': 0.0, 'rougeL': 0.15053763440860216}\n",
      "Index: 835\n",
      "{'rouge1': 0.20560747663551404, 'rouge2': 0.019047619047619053, 'rougeL': 0.14953271028037382}\n",
      "Index: 836\n",
      "{'rouge1': 0.2828282828282828, 'rouge2': 0.10309278350515463, 'rougeL': 0.12121212121212119}\n",
      "Index: 837\n",
      "{'rouge1': 0.03629293583927414, 'rouge2': 0.018170019467878, 'rougeL': 0.024627349319507455}\n",
      "Index: 838\n",
      "{'rouge1': 0.3225806451612903, 'rouge2': 0.10989010989010987, 'rougeL': 0.23655913978494622}\n",
      "Index: 839\n",
      "{'rouge1': 0.2222222222222222, 'rouge2': 0.056603773584905655, 'rougeL': 0.18518518518518517}\n",
      "Index: 840\n"
     ]
    },
    {
     "name": "stderr",
     "output_type": "stream",
     "text": [
      "Read 0M words\n",
      "Number of words:  376\n",
      "Number of labels: 1\n",
      "start training...\n",
      "Progress: 100.0% words/sec/thread:  452834 lr:  0.000000 loss:  0.000000 ETA:   0h 0m\n",
      "Read 0M words\n",
      "Number of words:  376\n",
      "Number of labels: 1\n",
      "start training...\n",
      "Progress: 100.0% words/sec/thread:  387686 lr:  0.000000 loss:  0.000000 ETA:   0h 0m\n"
     ]
    },
    {
     "name": "stdout",
     "output_type": "stream",
     "text": [
      "Checkpoint\n",
      "{'rouge1': 0.28865979381443296, 'rouge2': 0.042105263157894736, 'rougeL': 0.18556701030927833}\n",
      "Index: 841\n",
      "{'rouge1': 0.2988505747126437, 'rouge2': 0.18823529411764706, 'rougeL': 0.27586206896551724}\n",
      "Index: 842\n"
     ]
    },
    {
     "name": "stderr",
     "output_type": "stream",
     "text": [
      "Read 0M words\n",
      "Number of words:  458\n",
      "Number of labels: 1\n",
      "start training...\n",
      "Progress: 100.0% words/sec/thread:  493742 lr:  0.000000 loss:  0.000000 ETA:   0h 0m\n",
      "Read 0M words\n",
      "Number of words:  458\n",
      "Number of labels: 1\n",
      "start training...\n",
      "Progress: 100.0% words/sec/thread:  496619 lr:  0.000000 loss:  0.000000 ETA:   0h 0m\n"
     ]
    },
    {
     "name": "stdout",
     "output_type": "stream",
     "text": [
      "Checkpoint\n",
      "{'rouge1': 0.38596491228070173, 'rouge2': 0.21428571428571427, 'rougeL': 0.2807017543859649}\n",
      "Index: 843\n",
      "{'rouge1': 0.11320754716981131, 'rouge2': 0.0, 'rougeL': 0.09433962264150943}\n",
      "Index: 844\n",
      "{'rouge1': 0.23809523809523808, 'rouge2': 0.17073170731707316, 'rougeL': 0.23809523809523808}\n",
      "Index: 845\n"
     ]
    },
    {
     "name": "stderr",
     "output_type": "stream",
     "text": [
      "Read 0M words\n",
      "Number of words:  656\n",
      "Number of labels: 1\n",
      "start training...\n",
      "Progress: 100.0% words/sec/thread:  771001 lr:  0.000000 loss:  0.000000 ETA:   0h 0m\n",
      "Read 0M words\n",
      "Number of words:  656\n",
      "Number of labels: 1\n",
      "start training...\n",
      "Progress: 100.0% words/sec/thread:  797868 lr:  0.000000 loss:  0.000000 ETA:   0h 0m\n"
     ]
    },
    {
     "name": "stdout",
     "output_type": "stream",
     "text": [
      "Checkpoint\n",
      "{'rouge1': 0.03828972559029994, 'rouge2': 0.014057507987220448, 'rougeL': 0.03063178047223995}\n",
      "Index: 846\n",
      "{'rouge1': 0.20618556701030927, 'rouge2': 0.042105263157894736, 'rougeL': 0.12371134020618557}\n",
      "Index: 847\n",
      "{'rouge1': 0.35643564356435636, 'rouge2': 0.0808080808080808, 'rougeL': 0.19801980198019803}\n",
      "Index: 848\n",
      "{'rouge1': 0.16, 'rouge2': 0.027397260273972598, 'rougeL': 0.10666666666666667}\n",
      "Index: 849\n",
      "{'rouge1': 0.3695652173913043, 'rouge2': 0.1111111111111111, 'rougeL': 0.26086956521739135}\n",
      "Index: 850\n",
      "{'rouge1': 0.125, 'rouge2': 0.0, 'rougeL': 0.10416666666666664}\n",
      "Index: 851\n",
      "{'rouge1': 0.2469135802469136, 'rouge2': 0.050632911392405056, 'rougeL': 0.19753086419753085}\n",
      "Index: 852\n",
      "{'rouge1': 0.22471910112359553, 'rouge2': 0.04597701149425287, 'rougeL': 0.1348314606741573}\n",
      "Index: 853\n",
      "{'rouge1': 0.4403669724770642, 'rouge2': 0.1869158878504673, 'rougeL': 0.36697247706422015}\n",
      "Index: 854\n",
      "{'rouge1': 0.20930232558139533, 'rouge2': 0.07142857142857142, 'rougeL': 0.186046511627907}\n",
      "Index: 855\n",
      "{'rouge1': 0.24242424242424243, 'rouge2': 0.0824742268041237, 'rougeL': 0.18181818181818182}\n",
      "Index: 856\n"
     ]
    },
    {
     "name": "stderr",
     "output_type": "stream",
     "text": [
      "Read 0M words\n",
      "Number of words:  325\n",
      "Number of labels: 1\n",
      "start training...\n",
      "Progress: 100.0% words/sec/thread:  384838 lr:  0.000000 loss:  0.000000 ETA:   0h 0m\n",
      "Read 0M words\n",
      "Number of words:  325\n",
      "Number of labels: 1\n",
      "start training...\n",
      "Progress: 100.0% words/sec/thread:  352001 lr:  0.000000 loss:  0.000000 ETA:   0h 0m\n"
     ]
    },
    {
     "name": "stdout",
     "output_type": "stream",
     "text": [
      "Checkpoint\n",
      "{'rouge1': 0.17307692307692307, 'rouge2': 0.0392156862745098, 'rougeL': 0.11538461538461538}\n",
      "Index: 857\n",
      "{'rouge1': 0.41269841269841273, 'rouge2': 0.17741935483870966, 'rougeL': 0.30158730158730157}\n",
      "Index: 858\n",
      "{'rouge1': 0.2696629213483146, 'rouge2': 0.06896551724137931, 'rougeL': 0.20224719101123592}\n",
      "Index: 859\n",
      "{'rouge1': 0.15841584158415842, 'rouge2': 0.020202020202020204, 'rougeL': 0.1188118811881188}\n",
      "Index: 860\n",
      "{'rouge1': 0.05567153792623521, 'rouge2': 0.019512195121951216, 'rougeL': 0.038970076548364645}\n",
      "Index: 861\n"
     ]
    },
    {
     "name": "stderr",
     "output_type": "stream",
     "text": [
      "Read 0M words\n",
      "Number of words:  201\n",
      "Number of labels: 1\n",
      "start training...\n",
      "Progress: 100.0% words/sec/thread:  166266 lr:  0.000000 loss:  0.000000 ETA:   0h 0m\n",
      "Read 0M words\n",
      "Number of words:  201\n",
      "Number of labels: 1\n",
      "start training...\n",
      "Progress: 100.0% words/sec/thread:  227762 lr:  0.000000 loss:  0.000000 ETA:   0h 0m\n"
     ]
    },
    {
     "name": "stdout",
     "output_type": "stream",
     "text": [
      "Checkpoint\n",
      "{'rouge1': 0.1935483870967742, 'rouge2': 0.021978021978021976, 'rougeL': 0.15053763440860213}\n",
      "Index: 862\n",
      "{'rouge1': 0.3619047619047619, 'rouge2': 0.17475728155339806, 'rougeL': 0.22857142857142854}\n",
      "Index: 863\n",
      "{'rouge1': 0.28571428571428575, 'rouge2': 0.034188034188034185, 'rougeL': 0.15126050420168066}\n",
      "Index: 864\n",
      "{'rouge1': 0.5128205128205129, 'rouge2': 0.06956521739130433, 'rougeL': 0.25641025641025644}\n",
      "Index: 865\n",
      "{'rouge1': 0.4950495049504951, 'rouge2': 0.30303030303030304, 'rougeL': 0.37623762376237624}\n",
      "Index: 866\n",
      "{'rouge1': 0.3119266055045871, 'rouge2': 0.14953271028037382, 'rougeL': 0.18348623853211007}\n",
      "Index: 867\n",
      "{'rouge1': 0.30769230769230765, 'rouge2': 0.06956521739130435, 'rougeL': 0.22222222222222224}\n",
      "Index: 868\n",
      "{'rouge1': 0.125, 'rouge2': 0.0425531914893617, 'rougeL': 0.08333333333333334}\n",
      "Index: 869\n",
      "{'rouge1': 0.33999999999999997, 'rouge2': 0.06122448979591836, 'rougeL': 0.18}\n",
      "Index: 870\n",
      "{'rouge1': 0.19607843137254902, 'rouge2': 0.02, 'rougeL': 0.13725490196078433}\n",
      "Index: 871\n",
      "{'rouge1': 0.16666666666666669, 'rouge2': 0.06382978723404255, 'rougeL': 0.125}\n",
      "Index: 872\n"
     ]
    },
    {
     "name": "stderr",
     "output_type": "stream",
     "text": [
      "Read 0M words\n",
      "Number of words:  656\n",
      "Number of labels: 1\n",
      "start training...\n",
      "Progress: 100.0% words/sec/thread:  812982 lr:  0.000000 loss:  0.000000 ETA:   0h 0m\n",
      "Read 0M words\n",
      "Number of words:  656\n",
      "Number of labels: 1\n",
      "start training...\n",
      "Progress: 100.0% words/sec/thread:  785676 lr:  0.000000 loss:  0.000000 ETA:   0h 0m\n"
     ]
    },
    {
     "name": "stdout",
     "output_type": "stream",
     "text": [
      "Checkpoint\n",
      "{'rouge1': 0.030789825970548867, 'rouge2': 0.02546916890080429, 'rougeL': 0.024096385542168672}\n",
      "Index: 873\n",
      "{'rouge1': 0.27450980392156865, 'rouge2': 0.1, 'rougeL': 0.1764705882352941}\n",
      "Index: 874\n",
      "{'rouge1': 0.34234234234234234, 'rouge2': 0.12844036697247707, 'rougeL': 0.21621621621621623}\n",
      "Index: 875\n",
      "{'rouge1': 0.3260869565217391, 'rouge2': 0.08888888888888888, 'rougeL': 0.15217391304347827}\n",
      "Index: 876\n",
      "{'rouge1': 0.4255319148936171, 'rouge2': 0.21739130434782608, 'rougeL': 0.23404255319148937}\n",
      "Index: 877\n",
      "{'rouge1': 0.5000000000000001, 'rouge2': 0.2745098039215686, 'rougeL': 0.2692307692307692}\n",
      "Index: 878\n",
      "{'rouge1': 0.2222222222222222, 'rouge2': 0.08247422680412371, 'rougeL': 0.202020202020202}\n",
      "Index: 879\n",
      "{'rouge1': 0.23437499999999997, 'rouge2': 0.047619047619047616, 'rougeL': 0.125}\n",
      "Index: 880\n",
      "{'rouge1': 0.2882882882882883, 'rouge2': 0.18348623853211007, 'rougeL': 0.21621621621621623}\n",
      "Index: 881\n",
      "{'rouge1': 0.1836734693877551, 'rouge2': 0.041666666666666664, 'rougeL': 0.14285714285714285}\n",
      "Index: 882\n",
      "{'rouge1': 0.15492957746478875, 'rouge2': 0.014285714285714285, 'rougeL': 0.09859154929577464}\n",
      "Index: 883\n",
      "{'rouge1': 0.38834951456310673, 'rouge2': 0.0792079207920792, 'rougeL': 0.19417475728155337}\n",
      "Index: 884\n",
      "{'rouge1': 0.2857142857142857, 'rouge2': 0.04494382022471911, 'rougeL': 0.17582417582417584}\n",
      "Index: 885\n",
      "{'rouge1': 0.2, 'rouge2': 0.037037037037037035, 'rougeL': 0.16363636363636366}\n",
      "Index: 886\n"
     ]
    },
    {
     "name": "stderr",
     "output_type": "stream",
     "text": [
      "Read 0M words\n",
      "Number of words:  361\n",
      "Number of labels: 1\n",
      "start training...\n",
      "Progress: 100.0% words/sec/thread:  378210 lr:  0.000000 loss:  0.000000 ETA:   0h 0m\n",
      "Read 0M words\n",
      "Number of words:  361\n",
      "Number of labels: 1\n",
      "start training...\n",
      "Progress: 100.0% words/sec/thread:  418277 lr:  0.000000 loss:  0.000000 ETA:   0h 0m\n"
     ]
    },
    {
     "name": "stdout",
     "output_type": "stream",
     "text": [
      "Checkpoint\n",
      "{'rouge1': 0.42990654205607476, 'rouge2': 0.20952380952380953, 'rougeL': 0.3364485981308411}\n",
      "Index: 887\n",
      "{'rouge1': 0.45070422535211263, 'rouge2': 0.14285714285714288, 'rougeL': 0.323943661971831}\n",
      "Index: 888\n"
     ]
    },
    {
     "name": "stderr",
     "output_type": "stream",
     "text": [
      "Read 0M words\n",
      "Number of words:  289\n",
      "Number of labels: 1\n",
      "start training...\n",
      "Progress: 100.0% words/sec/thread:  277248 lr:  0.000000 loss:  0.000000 ETA:   0h 0m\n",
      "Read 0M words\n",
      "Number of words:  289\n",
      "Number of labels: 1\n",
      "start training...\n",
      "Progress: 100.0% words/sec/thread:  327003 lr:  0.000000 loss:  0.000000 ETA:   0h 0m\n"
     ]
    },
    {
     "name": "stdout",
     "output_type": "stream",
     "text": [
      "Checkpoint\n",
      "{'rouge1': 0.42105263157894735, 'rouge2': 0.17204301075268816, 'rougeL': 0.3368421052631579}\n",
      "Index: 889\n",
      "{'rouge1': 0.616822429906542, 'rouge2': 0.38095238095238093, 'rougeL': 0.411214953271028}\n",
      "Index: 890\n",
      "{'rouge1': 0.1702127659574468, 'rouge2': 0.021739130434782608, 'rougeL': 0.0851063829787234}\n",
      "Index: 891\n"
     ]
    },
    {
     "name": "stderr",
     "output_type": "stream",
     "text": [
      "Read 0M words\n",
      "Number of words:  664\n",
      "Number of labels: 1\n",
      "start training...\n",
      "Progress: 100.0% words/sec/thread:  840407 lr:  0.000000 loss:  0.000000 ETA:   0h 0m\n",
      "Read 0M words\n",
      "Number of words:  664\n",
      "Number of labels: 1\n",
      "start training...\n",
      "Progress: 100.0% words/sec/thread:  722662 lr:  0.000000 loss:  0.000000 ETA:   0h 0m\n"
     ]
    },
    {
     "name": "stdout",
     "output_type": "stream",
     "text": [
      "Checkpoint\n",
      "{'rouge1': 0.36697247706422015, 'rouge2': 0.14953271028037382, 'rougeL': 0.25688073394495414}\n",
      "Index: 892\n",
      "{'rouge1': 0.2947368421052632, 'rouge2': 0.17204301075268816, 'rougeL': 0.25263157894736843}\n",
      "Index: 893\n"
     ]
    },
    {
     "name": "stderr",
     "output_type": "stream",
     "text": [
      "Read 0M words\n",
      "Number of words:  396\n",
      "Number of labels: 1\n",
      "start training...\n",
      "Progress: 100.0% words/sec/thread:  523956 lr:  0.000000 loss:  0.000000 ETA:   0h 0m\n",
      "Read 0M words\n",
      "Number of words:  396\n",
      "Number of labels: 1\n",
      "start training...\n",
      "Progress: 100.0% words/sec/thread:  496317 lr:  0.000000 loss:  0.000000 ETA:   0h 0m\n"
     ]
    },
    {
     "name": "stdout",
     "output_type": "stream",
     "text": [
      "Checkpoint\n",
      "{'rouge1': 0.3833333333333333, 'rouge2': 0.20338983050847456, 'rougeL': 0.2666666666666666}\n",
      "Index: 894\n"
     ]
    },
    {
     "name": "stderr",
     "output_type": "stream",
     "text": [
      "Read 0M words\n",
      "Number of words:  172\n",
      "Number of labels: 1\n",
      "start training...\n",
      "Progress: 100.0% words/sec/thread:  169684 lr:  0.000000 loss:  0.000000 ETA:   0h 0m\n",
      "Read 0M words\n",
      "Number of words:  172\n",
      "Number of labels: 1\n",
      "start training...\n",
      "Progress: 100.0% words/sec/thread:  128329 lr:  0.000000 loss:  0.000000 ETA:   0h 0m\n"
     ]
    },
    {
     "name": "stdout",
     "output_type": "stream",
     "text": [
      "Checkpoint\n",
      "{'rouge1': 0.20183486238532108, 'rouge2': 0.056074766355140186, 'rougeL': 0.16513761467889906}\n",
      "Index: 895\n",
      "{'rouge1': 0.13953488372093023, 'rouge2': 0.07142857142857142, 'rougeL': 0.13953488372093023}\n",
      "Index: 896\n",
      "{'rouge1': 0.46153846153846156, 'rouge2': 0.2549019607843137, 'rougeL': 0.23076923076923078}\n",
      "Index: 897\n",
      "{'rouge1': 0.6086956521739131, 'rouge2': 0.3333333333333333, 'rougeL': 0.45652173913043476}\n",
      "Index: 898\n",
      "{'rouge1': 0.12121212121212122, 'rouge2': 0.020618556701030927, 'rougeL': 0.0808080808080808}\n",
      "Index: 899\n",
      "{'rouge1': 0.3770491803278688, 'rouge2': 0.05, 'rougeL': 0.19672131147540983}\n",
      "Index: 900\n",
      "{'rouge1': 0.3225806451612903, 'rouge2': 0.13186813186813187, 'rougeL': 0.23655913978494628}\n",
      "Index: 901\n",
      "{'rouge1': 0.24444444444444446, 'rouge2': 0.06818181818181818, 'rougeL': 0.22222222222222224}\n",
      "Index: 902\n",
      "{'rouge1': 0.06818181818181819, 'rouge2': 0.0, 'rougeL': 0.045454545454545456}\n",
      "Index: 903\n",
      "{'rouge1': 0.20202020202020202, 'rouge2': 0.04123711340206186, 'rougeL': 0.12121212121212123}\n",
      "Index: 904\n",
      "{'rouge1': 0.4, 'rouge2': 0.2650602409638554, 'rougeL': 0.3529411764705882}\n",
      "Index: 905\n",
      "{'rouge1': 0.30927835051546393, 'rouge2': 0.16842105263157894, 'rougeL': 0.22680412371134023}\n",
      "Index: 906\n"
     ]
    },
    {
     "name": "stderr",
     "output_type": "stream",
     "text": [
      "Read 0M words\n",
      "Number of words:  303\n",
      "Number of labels: 1\n",
      "start training...\n",
      "Progress: 100.0% words/sec/thread:  409103 lr:  0.000000 loss:  0.000000 ETA:   0h 0m\n",
      "Read 0M words\n",
      "Number of words:  303\n",
      "Number of labels: 1\n",
      "start training...\n",
      "Progress: 100.0% words/sec/thread:  448589 lr:  0.000000 loss:  0.000000 ETA:   0h 0m\n"
     ]
    },
    {
     "name": "stdout",
     "output_type": "stream",
     "text": [
      "Checkpoint\n",
      "{'rouge1': 0.25742574257425743, 'rouge2': 0.0404040404040404, 'rougeL': 0.13861386138613863}\n",
      "Index: 907\n"
     ]
    },
    {
     "name": "stderr",
     "output_type": "stream",
     "text": [
      "Read 0M words\n",
      "Number of words:  375\n",
      "Number of labels: 1\n",
      "start training...\n",
      "Progress: 100.0% words/sec/thread:  370892 lr:  0.000000 loss:  0.000000 ETA:   0h 0m\n",
      "Read 0M words\n",
      "Number of words:  375\n",
      "Number of labels: 1\n",
      "start training...\n",
      "Progress: 100.0% words/sec/thread:  399865 lr:  0.000000 loss:  0.000000 ETA:   0h 0m\n"
     ]
    },
    {
     "name": "stdout",
     "output_type": "stream",
     "text": [
      "Checkpoint\n",
      "{'rouge1': 0.20952380952380953, 'rouge2': 0.0, 'rougeL': 0.11428571428571428}\n",
      "Index: 908\n",
      "{'rouge1': 0.21052631578947367, 'rouge2': 0.06451612903225806, 'rougeL': 0.10526315789473684}\n",
      "Index: 909\n",
      "{'rouge1': 0.48739495798319327, 'rouge2': 0.3418803418803419, 'rougeL': 0.2857142857142857}\n",
      "Index: 910\n",
      "{'rouge1': 0.32989690721649484, 'rouge2': 0.10526315789473684, 'rougeL': 0.2474226804123712}\n",
      "Index: 911\n",
      "{'rouge1': 0.26785714285714285, 'rouge2': 0.05454545454545455, 'rougeL': 0.14285714285714288}\n",
      "Index: 912\n",
      "{'rouge1': 0.4210526315789474, 'rouge2': 0.23655913978494625, 'rougeL': 0.39999999999999997}\n",
      "Index: 913\n"
     ]
    },
    {
     "name": "stderr",
     "output_type": "stream",
     "text": [
      "Read 0M words\n",
      "Number of words:  593\n",
      "Number of labels: 1\n",
      "start training...\n",
      "Progress: 100.0% words/sec/thread:  598085 lr:  0.000000 loss:  0.000000 ETA:   0h 0m\n",
      "Read 0M words\n",
      "Number of words:  593\n",
      "Number of labels: 1\n",
      "start training...\n",
      "Progress: 100.0% words/sec/thread:  600090 lr:  0.000000 loss:  0.000000 ETA:   0h 0m\n"
     ]
    },
    {
     "name": "stdout",
     "output_type": "stream",
     "text": [
      "Checkpoint\n",
      "{'rouge1': 0.3035714285714286, 'rouge2': 0.1090909090909091, 'rougeL': 0.23214285714285715}\n",
      "Index: 914\n",
      "{'rouge1': 0.25742574257425743, 'rouge2': 0.04040404040404041, 'rougeL': 0.17821782178217824}\n",
      "Index: 915\n"
     ]
    },
    {
     "name": "stderr",
     "output_type": "stream",
     "text": [
      "Read 0M words\n",
      "Number of words:  236\n",
      "Number of labels: 1\n",
      "start training...\n",
      "Progress: 100.0% words/sec/thread:  307033 lr:  0.000000 loss:  0.000000 ETA:   0h 0m\n",
      "Read 0M words\n",
      "Number of words:  236\n",
      "Number of labels: 1\n",
      "start training...\n",
      "Progress: 100.0% words/sec/thread:  304332 lr:  0.000000 loss:  0.000000 ETA:   0h 0m\n"
     ]
    },
    {
     "name": "stdout",
     "output_type": "stream",
     "text": [
      "Checkpoint\n",
      "{'rouge1': 0.36036036036036034, 'rouge2': 0.1651376146788991, 'rougeL': 0.21621621621621623}\n",
      "Index: 916\n"
     ]
    },
    {
     "name": "stderr",
     "output_type": "stream",
     "text": [
      "Read 0M words\n",
      "Number of words:  463\n",
      "Number of labels: 1\n",
      "start training...\n",
      "Progress: 100.0% words/sec/thread:  364111 lr:  0.000000 loss:  0.000000 ETA:   0h 0m\n",
      "Read 0M words\n",
      "Number of words:  463\n",
      "Number of labels: 1\n",
      "start training...\n",
      "Progress: 100.0% words/sec/thread:  520793 lr:  0.000000 loss:  0.000000 ETA:   0h 0m\n"
     ]
    },
    {
     "name": "stdout",
     "output_type": "stream",
     "text": [
      "Checkpoint\n",
      "{'rouge1': 0.38095238095238093, 'rouge2': 0.1951219512195122, 'rougeL': 0.30952380952380953}\n",
      "Index: 917\n"
     ]
    },
    {
     "name": "stderr",
     "output_type": "stream",
     "text": [
      "Read 0M words\n",
      "Number of words:  279\n",
      "Number of labels: 1\n",
      "start training...\n",
      "Progress: 100.0% words/sec/thread:  289782 lr:  0.000000 loss:  0.000000 ETA:   0h 0m\n",
      "Read 0M words\n",
      "Number of words:  279\n",
      "Number of labels: 1\n",
      "start training...\n",
      "Progress: 100.0% words/sec/thread:  285318 lr:  0.000000 loss:  0.000000 ETA:   0h 0m\n"
     ]
    },
    {
     "name": "stdout",
     "output_type": "stream",
     "text": [
      "Checkpoint\n",
      "{'rouge1': 0.3564356435643565, 'rouge2': 0.2222222222222222, 'rougeL': 0.198019801980198}\n",
      "Index: 918\n"
     ]
    },
    {
     "name": "stderr",
     "output_type": "stream",
     "text": [
      "Read 0M words\n",
      "Number of words:  342\n",
      "Number of labels: 1\n",
      "start training...\n",
      "Progress: 100.0% words/sec/thread:  514554 lr:  0.000000 loss:  0.000000 ETA:   0h 0m\n",
      "Read 0M words\n",
      "Number of words:  342\n",
      "Number of labels: 1\n",
      "start training...\n",
      "Progress: 100.0% words/sec/thread:  404296 lr:  0.000000 loss:  0.000000 ETA:   0h 0m\n"
     ]
    },
    {
     "name": "stdout",
     "output_type": "stream",
     "text": [
      "Checkpoint\n",
      "{'rouge1': 0.1956521739130435, 'rouge2': 0.06666666666666667, 'rougeL': 0.15217391304347827}\n",
      "Index: 919\n",
      "{'rouge1': 0.3300970873786408, 'rouge2': 0.19801980198019803, 'rougeL': 0.21359223300970875}\n",
      "Index: 920\n",
      "{'rouge1': 0.33070866141732286, 'rouge2': 0.09599999999999999, 'rougeL': 0.14173228346456693}\n",
      "Index: 921\n",
      "{'rouge1': 0.08602150537634409, 'rouge2': 0.0, 'rougeL': 0.06451612903225806}\n",
      "Index: 922\n",
      "{'rouge1': 0.5294117647058824, 'rouge2': 0.208955223880597, 'rougeL': 0.2647058823529412}\n",
      "Index: 923\n"
     ]
    },
    {
     "name": "stderr",
     "output_type": "stream",
     "text": [
      "Read 0M words\n",
      "Number of words:  330\n",
      "Number of labels: 1\n",
      "start training...\n",
      "Progress: 100.0% words/sec/thread:  271031 lr:  0.000000 loss:  0.000000 ETA:   0h 0m\n",
      "Read 0M words\n",
      "Number of words:  330\n",
      "Number of labels: 1\n",
      "start training...\n",
      "Progress: 100.0% words/sec/thread:  315161 lr:  0.000000 loss:  0.000000 ETA:   0h 0m\n"
     ]
    },
    {
     "name": "stdout",
     "output_type": "stream",
     "text": [
      "Checkpoint\n",
      "{'rouge1': 0.4137931034482759, 'rouge2': 0.12280701754385964, 'rougeL': 0.22413793103448276}\n",
      "Index: 924\n",
      "{'rouge1': 0.20408163265306123, 'rouge2': 0.020833333333333332, 'rougeL': 0.14285714285714285}\n",
      "Index: 925\n",
      "{'rouge1': 0.2376237623762376, 'rouge2': 0.060606060606060615, 'rougeL': 0.1386138613861386}\n",
      "Index: 926\n",
      "{'rouge1': 0.33009708737864074, 'rouge2': 0.07920792079207921, 'rougeL': 0.23300970873786406}\n",
      "Index: 927\n",
      "{'rouge1': 0.339622641509434, 'rouge2': 0.11538461538461539, 'rougeL': 0.22641509433962262}\n",
      "Index: 928\n",
      "{'rouge1': 0.3956043956043956, 'rouge2': 0.15730337078651685, 'rougeL': 0.1758241758241758}\n",
      "Index: 929\n",
      "{'rouge1': 0.3409090909090909, 'rouge2': 0.18604651162790697, 'rougeL': 0.3181818181818182}\n",
      "Index: 930\n",
      "{'rouge1': 0.3488372093023256, 'rouge2': 0.23809523809523808, 'rougeL': 0.3255813953488372}\n",
      "Index: 931\n",
      "{'rouge1': 0.33333333333333337, 'rouge2': 0.07142857142857142, 'rougeL': 0.1754385964912281}\n",
      "Index: 932\n",
      "{'rouge1': 0.14893617021276595, 'rouge2': 0.021739130434782608, 'rougeL': 0.0851063829787234}\n",
      "Index: 933\n",
      "{'rouge1': 0.27906976744186046, 'rouge2': 0.11904761904761904, 'rougeL': 0.1627906976744186}\n",
      "Index: 934\n",
      "{'rouge1': 0.19607843137254904, 'rouge2': 0.02, 'rougeL': 0.11764705882352942}\n",
      "Index: 935\n",
      "{'rouge1': 0.2828282828282828, 'rouge2': 0.061855670103092786, 'rougeL': 0.18181818181818182}\n",
      "Index: 936\n",
      "{'rouge1': 0.24074074074074078, 'rouge2': 0.09433962264150943, 'rougeL': 0.18518518518518517}\n",
      "Index: 937\n",
      "{'rouge1': 0.26262626262626265, 'rouge2': 0.10309278350515463, 'rougeL': 0.18181818181818182}\n",
      "Index: 938\n",
      "{'rouge1': 0.19148936170212766, 'rouge2': 0.043478260869565216, 'rougeL': 0.14893617021276595}\n",
      "Index: 939\n"
     ]
    },
    {
     "name": "stderr",
     "output_type": "stream",
     "text": [
      "Read 0M words\n",
      "Number of words:  509\n",
      "Number of labels: 1\n",
      "start training...\n",
      "Progress: 100.0% words/sec/thread:  469037 lr:  0.000000 loss:  0.000000 ETA:   0h 0m\n",
      "Read 0M words\n",
      "Number of words:  509\n",
      "Number of labels: 1\n",
      "start training...\n",
      "Progress: 100.0% words/sec/thread:  540806 lr:  0.000000 loss:  0.000000 ETA:   0h 0m\n"
     ]
    },
    {
     "name": "stdout",
     "output_type": "stream",
     "text": [
      "Checkpoint\n",
      "{'rouge1': 0.25, 'rouge2': 0.05454545454545455, 'rougeL': 0.1607142857142857}\n",
      "Index: 940\n",
      "{'rouge1': 0.24561403508771928, 'rouge2': 0.08928571428571427, 'rougeL': 0.19298245614035087}\n",
      "Index: 941\n"
     ]
    },
    {
     "name": "stderr",
     "output_type": "stream",
     "text": [
      "Read 0M words\n",
      "Number of words:  288\n",
      "Number of labels: 1\n",
      "start training...\n",
      "Progress: 100.0% words/sec/thread:  383023 lr:  0.000000 loss:  0.000000 ETA:   0h 0m\n",
      "Read 0M words\n",
      "Number of words:  288\n",
      "Number of labels: 1\n",
      "start training...\n",
      "Progress: 100.0% words/sec/thread:  428623 lr:  0.000000 loss:  0.000000 ETA:   0h 0m\n"
     ]
    },
    {
     "name": "stdout",
     "output_type": "stream",
     "text": [
      "Checkpoint\n",
      "{'rouge1': 0.4821428571428572, 'rouge2': 0.4, 'rougeL': 0.4821428571428572}\n",
      "Index: 942\n",
      "{'rouge1': 0.12903225806451613, 'rouge2': 0.0, 'rougeL': 0.08602150537634408}\n",
      "Index: 943\n",
      "{'rouge1': 0.2894736842105263, 'rouge2': 0.08108108108108109, 'rougeL': 0.21052631578947364}\n",
      "Index: 944\n",
      "{'rouge1': 0.17582417582417584, 'rouge2': 0.02247191011235955, 'rougeL': 0.13186813186813187}\n",
      "Index: 945\n"
     ]
    },
    {
     "name": "stderr",
     "output_type": "stream",
     "text": [
      "Read 0M words\n",
      "Number of words:  96\n",
      "Number of labels: 1\n",
      "start training...\n",
      "Progress: 100.0% words/sec/thread:   59910 lr:  0.000000 loss:  0.000000 ETA:   0h 0m\n",
      "Read 0M words\n",
      "Number of words:  96\n",
      "Number of labels: 1\n",
      "start training...\n",
      "Progress: 100.0% words/sec/thread:   52675 lr:  0.000000 loss:  0.000000 ETA:   0h 0m\n"
     ]
    },
    {
     "name": "stdout",
     "output_type": "stream",
     "text": [
      "Checkpoint\n",
      "{'rouge1': 0.4615384615384615, 'rouge2': 0.38202247191011235, 'rougeL': 0.28571428571428564}\n",
      "Index: 946\n",
      "{'rouge1': 0.4782608695652174, 'rouge2': 0.2222222222222222, 'rougeL': 0.30434782608695654}\n",
      "Index: 947\n",
      "{'rouge1': 0.32258064516129037, 'rouge2': 0.10989010989010989, 'rougeL': 0.23655913978494625}\n",
      "Index: 948\n"
     ]
    },
    {
     "name": "stderr",
     "output_type": "stream",
     "text": [
      "Read 0M words\n",
      "Number of words:  703\n",
      "Number of labels: 1\n",
      "start training...\n",
      "Progress: 100.0% words/sec/thread:  641690 lr:  0.000000 loss:  0.000000 ETA:   0h 0m\n",
      "Read 0M words\n",
      "Number of words:  703\n",
      "Number of labels: 1\n",
      "start training...\n",
      "Progress: 100.0% words/sec/thread:  760350 lr:  0.000000 loss:  0.000000 ETA:   0h 0m\n"
     ]
    },
    {
     "name": "stdout",
     "output_type": "stream",
     "text": [
      "Checkpoint\n",
      "{'rouge1': 0.0247074122236671, 'rouge2': 0.010416666666666664, 'rougeL': 0.01950585175552666}\n",
      "Index: 949\n",
      "{'rouge1': 0.2568807339449541, 'rouge2': 0.1308411214953271, 'rougeL': 0.16513761467889906}\n",
      "Index: 950\n"
     ]
    },
    {
     "name": "stderr",
     "output_type": "stream",
     "text": [
      "Read 0M words\n",
      "Number of words:  367\n",
      "Number of labels: 1\n",
      "start training...\n",
      "Progress: 100.0% words/sec/thread:  461092 lr:  0.000000 loss:  0.000000 ETA:   0h 0m\n",
      "Read 0M words\n",
      "Number of words:  367\n",
      "Number of labels: 1\n",
      "start training...\n",
      "Progress: 100.0% words/sec/thread:  240224 lr:  0.000000 loss:  0.000000 ETA:   0h 0m\n"
     ]
    },
    {
     "name": "stdout",
     "output_type": "stream",
     "text": [
      "Checkpoint\n",
      "{'rouge1': 0.3770491803278688, 'rouge2': 0.16666666666666669, 'rougeL': 0.2950819672131147}\n",
      "Index: 951\n",
      "{'rouge1': 0.22222222222222224, 'rouge2': 0.08247422680412371, 'rougeL': 0.18181818181818182}\n",
      "Index: 952\n",
      "{'rouge1': 0.2376237623762376, 'rouge2': 0.0404040404040404, 'rougeL': 0.1782178217821782}\n",
      "Index: 953\n"
     ]
    },
    {
     "name": "stderr",
     "output_type": "stream",
     "text": [
      "Read 0M words\n",
      "Number of words:  179\n",
      "Number of labels: 1\n",
      "start training...\n",
      "Progress: 100.0% words/sec/thread:  107909 lr:  0.000000 loss:  0.000000 ETA:   0h 0m\n",
      "Read 0M words\n",
      "Number of words:  179\n",
      "Number of labels: 1\n",
      "start training...\n",
      "Progress: 100.0% words/sec/thread:  207627 lr:  0.000000 loss:  0.000000 ETA:   0h 0m\n"
     ]
    },
    {
     "name": "stdout",
     "output_type": "stream",
     "text": [
      "Checkpoint\n",
      "{'rouge1': 0.32, 'rouge2': 0.1643835616438356, 'rougeL': 0.26666666666666666}\n",
      "Index: 954\n",
      "{'rouge1': 0.34343434343434337, 'rouge2': 0.061855670103092786, 'rougeL': 0.16161616161616163}\n",
      "Index: 955\n",
      "{'rouge1': 0.41538461538461535, 'rouge2': 0.125, 'rougeL': 0.2}\n",
      "Index: 956\n"
     ]
    },
    {
     "name": "stderr",
     "output_type": "stream",
     "text": [
      "Read 0M words\n",
      "Number of words:  315\n",
      "Number of labels: 1\n",
      "start training...\n",
      "Progress: 100.0% words/sec/thread:  301931 lr:  0.000000 loss:  0.000000 ETA:   0h 0m\n",
      "Read 0M words\n",
      "Number of words:  315\n",
      "Number of labels: 1\n",
      "start training...\n",
      "Progress: 100.0% words/sec/thread:  333082 lr:  0.000000 loss:  0.000000 ETA:   0h 0m"
     ]
    },
    {
     "name": "stdout",
     "output_type": "stream",
     "text": [
      "Checkpoint\n"
     ]
    },
    {
     "name": "stderr",
     "output_type": "stream",
     "text": [
      " 0.000000 ETA:   0h 0m\n",
      "Read 0M words\n",
      "Number of words:  291\n",
      "Number of labels: 1\n"
     ]
    },
    {
     "name": "stdout",
     "output_type": "stream",
     "text": [
      "{'rouge1': 0.2916666666666667, 'rouge2': 0.0425531914893617, 'rougeL': 0.16666666666666666}\n",
      "Index: 957\n"
     ]
    },
    {
     "name": "stderr",
     "output_type": "stream",
     "text": [
      "start training...\n",
      "Progress: 100.0% words/sec/thread:  314870 lr:  0.000000 loss:  0.000000 ETA:   0h 0m\n",
      "Read 0M words\n",
      "Number of words:  291\n",
      "Number of labels: 1\n",
      "start training...\n",
      "Progress: 100.0% words/sec/thread:  275315 lr:  0.000000 loss:  0.000000 ETA:   0h 0m\n"
     ]
    },
    {
     "name": "stdout",
     "output_type": "stream",
     "text": [
      "Checkpoint\n",
      "{'rouge1': 0.28571428571428575, 'rouge2': 0.019417475728155338, 'rougeL': 0.15238095238095237}\n",
      "Index: 958\n",
      "{'rouge1': 0.22680412371134023, 'rouge2': 0.08421052631578949, 'rougeL': 0.14432989690721648}\n",
      "Index: 959\n",
      "{'rouge1': 0.2608695652173913, 'rouge2': 0.13333333333333333, 'rougeL': 0.21739130434782605}\n",
      "Index: 960\n",
      "{'rouge1': 0.22608695652173913, 'rouge2': 0.0, 'rougeL': 0.13913043478260867}\n",
      "Index: 961\n",
      "{'rouge1': 0.20833333333333334, 'rouge2': 0.0851063829787234, 'rougeL': 0.16666666666666666}\n",
      "Index: 962\n",
      "{'rouge1': 0.2352941176470588, 'rouge2': 0.034188034188034185, 'rougeL': 0.13445378151260504}\n",
      "Index: 963\n"
     ]
    },
    {
     "name": "stderr",
     "output_type": "stream",
     "text": [
      "Read 0M words\n",
      "Number of words:  628\n",
      "Number of labels: 1\n",
      "start training...\n",
      "Progress: 100.0% words/sec/thread:  633530 lr:  0.000000 loss:  0.000000 ETA:   0h 0m\n",
      "Read 0M words\n",
      "Number of words:  628\n",
      "Number of labels: 1\n",
      "start training...\n",
      "Progress: 100.0% words/sec/thread:  557404 lr:  0.000000 loss:  0.000000 ETA:   0h 0m\n"
     ]
    },
    {
     "name": "stdout",
     "output_type": "stream",
     "text": [
      "Checkpoint\n",
      "{'rouge1': 0.2882882882882883, 'rouge2': 0.09174311926605505, 'rougeL': 0.16216216216216214}\n",
      "Index: 964\n",
      "{'rouge1': 0.3008849557522124, 'rouge2': 0.09009009009009009, 'rougeL': 0.1415929203539823}\n",
      "Index: 965\n"
     ]
    },
    {
     "name": "stderr",
     "output_type": "stream",
     "text": [
      "Read 0M words\n",
      "Number of words:  677\n",
      "Number of labels: 1\n",
      "start training...\n",
      "Progress: 100.0% words/sec/thread:  601756 lr:  0.000000 loss:  0.000000 ETA:   0h 0m\n",
      "Read 0M words\n",
      "Number of words:  677\n",
      "Number of labels: 1\n",
      "start training...\n",
      "Progress: 100.0% words/sec/thread:  663490 lr:  0.000000 loss:  0.000000 ETA:   0h 0m\n"
     ]
    },
    {
     "name": "stdout",
     "output_type": "stream",
     "text": [
      "Checkpoint\n",
      "{'rouge1': 0.2772277227722772, 'rouge2': 0.04040404040404041, 'rougeL': 0.15841584158415842}\n",
      "Index: 966\n",
      "{'rouge1': 0.33043478260869563, 'rouge2': 0.08849557522123895, 'rougeL': 0.20869565217391303}\n",
      "Index: 967\n",
      "{'rouge1': 0.29213483146067415, 'rouge2': 0.06896551724137931, 'rougeL': 0.2247191011235955}\n",
      "Index: 968\n",
      "{'rouge1': 0.25, 'rouge2': 0.023255813953488375, 'rougeL': 0.15909090909090906}\n",
      "Index: 969\n",
      "{'rouge1': 0.4403669724770642, 'rouge2': 0.16822429906542055, 'rougeL': 0.2568807339449541}\n",
      "Index: 970\n",
      "{'rouge1': 0.13953488372093023, 'rouge2': 0.047619047619047616, 'rougeL': 0.13953488372093023}\n",
      "Index: 971\n",
      "{'rouge1': 0.21505376344086022, 'rouge2': 0.13186813186813184, 'rougeL': 0.21505376344086022}\n",
      "Index: 972\n",
      "{'rouge1': 0.2857142857142857, 'rouge2': 0.15730337078651685, 'rougeL': 0.26373626373626374}\n",
      "Index: 973\n",
      "{'rouge1': 0.425531914893617, 'rouge2': 0.10869565217391304, 'rougeL': 0.23404255319148934}\n",
      "Index: 974\n",
      "{'rouge1': 0.16091954022988506, 'rouge2': 0.047058823529411764, 'rougeL': 0.11494252873563217}\n",
      "Index: 975\n",
      "{'rouge1': 0.5470085470085471, 'rouge2': 0.3130434782608696, 'rougeL': 0.3076923076923077}\n",
      "Index: 976\n",
      "{'rouge1': 0.18, 'rouge2': 0.020408163265306124, 'rougeL': 0.13999999999999999}\n",
      "Index: 977\n",
      "{'rouge1': 0.32075471698113206, 'rouge2': 0.07692307692307691, 'rougeL': 0.1320754716981132}\n",
      "Index: 978\n"
     ]
    },
    {
     "name": "stderr",
     "output_type": "stream",
     "text": [
      "Read 0M words\n",
      "Number of words:  188\n",
      "Number of labels: 1\n",
      "start training...\n",
      "Progress: 100.0% words/sec/thread:  167329 lr:  0.000000 loss:  0.000000 ETA:   0h 0m\n",
      "Read 0M words\n",
      "Number of words:  188\n",
      "Number of labels: 1\n",
      "start training...\n",
      "Progress: 100.0% words/sec/thread:  171488 lr:  0.000000 loss:  0.000000 ETA:   0h 0m\n"
     ]
    },
    {
     "name": "stdout",
     "output_type": "stream",
     "text": [
      "Checkpoint\n",
      "{'rouge1': 0.2626262626262626, 'rouge2': 0.08247422680412371, 'rougeL': 0.1414141414141414}\n",
      "Index: 979\n"
     ]
    },
    {
     "name": "stderr",
     "output_type": "stream",
     "text": [
      "Read 0M words\n",
      "Number of words:  190\n",
      "Number of labels: 1\n",
      "start training...\n",
      "Progress: 100.0% words/sec/thread:  186763 lr:  0.000000 loss:  0.000000 ETA:   0h 0m\n",
      "Read 0M words\n",
      "Number of words:  190\n",
      "Number of labels: 1\n",
      "start training...\n",
      "Progress: 100.0% words/sec/thread:  191745 lr:  0.000000 loss:  0.000000 ETA:   0h 0m\n"
     ]
    },
    {
     "name": "stdout",
     "output_type": "stream",
     "text": [
      "Checkpoint\n",
      "{'rouge1': 0.2795698924731183, 'rouge2': 0.04395604395604395, 'rougeL': 0.17204301075268816}\n",
      "Index: 980\n",
      "{'rouge1': 0.2608695652173913, 'rouge2': 0.08888888888888888, 'rougeL': 0.15217391304347824}\n",
      "Index: 981\n",
      "{'rouge1': 0.35185185185185186, 'rouge2': 0.15094339622641512, 'rougeL': 0.24074074074074076}\n",
      "Index: 982\n"
     ]
    },
    {
     "name": "stderr",
     "output_type": "stream",
     "text": [
      "Read 0M words\n",
      "Number of words:  151\n",
      "Number of labels: 1\n",
      "start training...\n",
      "Progress: 100.0% words/sec/thread:  174852 lr:  0.000000 loss:  0.000000 ETA:   0h 0m\n",
      "Read 0M words\n",
      "Number of words:  151\n",
      "Number of labels: 1\n",
      "start training...\n",
      "Progress: 100.0% words/sec/thread:  211443 lr:  0.000000 loss:  0.000000 ETA:   0h 0m\n"
     ]
    },
    {
     "name": "stdout",
     "output_type": "stream",
     "text": [
      "Checkpoint\n",
      "{'rouge1': 0.3047619047619048, 'rouge2': 0.05825242718446603, 'rougeL': 0.19047619047619047}\n",
      "Index: 983\n",
      "{'rouge1': 0.33333333333333326, 'rouge2': 0.06, 'rougeL': 0.25490196078431376}\n",
      "Index: 984\n"
     ]
    },
    {
     "name": "stderr",
     "output_type": "stream",
     "text": [
      "Read 0M words\n",
      "Number of words:  356\n",
      "Number of labels: 1\n",
      "start training...\n",
      "Progress: 100.0% words/sec/thread:  516943 lr:  0.000000 loss:  0.000000 ETA:   0h 0m\n",
      "Read 0M words\n",
      "Number of words:  356\n",
      "Number of labels: 1\n",
      "start training...\n",
      "Progress: 100.0% words/sec/thread:  302849 lr:  0.000000 loss:  0.000000 ETA:   0h 0m\n"
     ]
    },
    {
     "name": "stdout",
     "output_type": "stream",
     "text": [
      "Checkpoint\n",
      "{'rouge1': 0.1739130434782609, 'rouge2': 0.044444444444444446, 'rougeL': 0.10869565217391305}\n",
      "Index: 985\n",
      "{'rouge1': 0.16822429906542055, 'rouge2': 0.0, 'rougeL': 0.09345794392523364}\n",
      "Index: 986\n",
      "{'rouge1': 0.2992125984251969, 'rouge2': 0.09599999999999999, 'rougeL': 0.17322834645669294}\n",
      "Index: 987\n"
     ]
    },
    {
     "name": "stderr",
     "output_type": "stream",
     "text": [
      "Read 0M words\n",
      "Number of words:  223\n",
      "Number of labels: 1\n",
      "start training...\n",
      "Progress: 100.0% words/sec/thread:  260217 lr:  0.000000 loss:  0.000000 ETA:   0h 0m\n",
      "Read 0M words\n",
      "Number of words:  223\n",
      "Number of labels: 1\n",
      "start training...\n",
      "Progress: 100.0% words/sec/thread:  135636 lr:  0.000000 loss:  0.000000 ETA:   0h 0m\n"
     ]
    },
    {
     "name": "stdout",
     "output_type": "stream",
     "text": [
      "Checkpoint\n",
      "{'rouge1': 0.4680851063829787, 'rouge2': 0.26086956521739135, 'rougeL': 0.4042553191489362}\n",
      "Index: 988\n",
      "{'rouge1': 0.29411764705882354, 'rouge2': 0.06, 'rougeL': 0.21568627450980393}\n",
      "Index: 989\n",
      "{'rouge1': 0.4339622641509434, 'rouge2': 0.23076923076923078, 'rougeL': 0.2830188679245283}\n",
      "Index: 990\n"
     ]
    },
    {
     "name": "stderr",
     "output_type": "stream",
     "text": [
      "Read 0M words\n",
      "Number of words:  399\n",
      "Number of labels: 1\n",
      "start training...\n",
      "Progress: 100.0% words/sec/thread:  425703 lr:  0.000000 loss:  0.000000 ETA:   0h 0m\n",
      "Read 0M words\n",
      "Number of words:  399\n",
      "Number of labels: 1\n",
      "start training...\n",
      "Progress: 100.0% words/sec/thread:  434511 lr:  0.000000 loss:  0.000000 ETA:   0h 0m\n"
     ]
    },
    {
     "name": "stdout",
     "output_type": "stream",
     "text": [
      "Checkpoint\n"
     ]
    },
    {
     "name": "stderr",
     "output_type": "stream",
     "text": [
      "IOPub data rate exceeded.\n",
      "The Jupyter server will temporarily stop sending output\n",
      "to the client in order to avoid crashing it.\n",
      "To change this limit, set the config variable\n",
      "`--ServerApp.iopub_data_rate_limit`.\n",
      "\n",
      "Current values:\n",
      "ServerApp.iopub_data_rate_limit=1000000.0 (bytes/sec)\n",
      "ServerApp.rate_limit_window=3.0 (secs)\n",
      "\n"
     ]
    }
   ],
   "source": [
    "results = algorithm(999, 5)\n",
    "print(results)"
   ]
  },
  {
   "cell_type": "code",
   "execution_count": 15,
   "id": "08f570a8-dfa8-417a-858f-5d17275d909b",
   "metadata": {},
   "outputs": [],
   "source": [
    "# with open('data/wmt14_results.json', 'w') as f:\n",
    "#     json.dump(results, f, indent=4)"
   ]
  },
  {
   "cell_type": "code",
   "execution_count": 15,
   "id": "b4818926-d0b9-4554-b689-015d35b0e216",
   "metadata": {},
   "outputs": [],
   "source": [
    "with open('data/cnndailymail_results.json', 'w') as f:\n",
    "    json.dump(results, f, indent=4)"
   ]
  },
  {
   "cell_type": "code",
   "execution_count": 4,
   "id": "05f803c9-0796-41a2-a0f5-ea4a24906668",
   "metadata": {
    "scrolled": true
   },
   "outputs": [
    {
     "name": "stdout",
     "output_type": "stream",
     "text": [
      "0.05312123894060139\n",
      "0.2982895720543635\n",
      "0.2830956597218095\n",
      "0.708587641194393\n",
      "0.06775875292600428\n",
      "0.20377924119043478\n",
      "0.15209404090446677\n",
      "0.3033668865762665\n",
      "0.5131275135405763\n",
      "0.5028248236576276\n"
     ]
    }
   ],
   "source": [
    "import json\n",
    "\n",
    "with open('data/wmt14_results.json', 'r') as f:\n",
    "    data = json.load(f)\n",
    "\n",
    "for result in data[:10]:\n",
    "    print(result['chosen_model_accuracy'])"
   ]
  },
  {
   "cell_type": "code",
   "execution_count": 5,
   "id": "200e54a1-ff42-40b0-acfb-36fdfbcc405a",
   "metadata": {},
   "outputs": [
    {
     "data": {
      "text/plain": [
       "0.18766023212954513"
      ]
     },
     "execution_count": 5,
     "metadata": {},
     "output_type": "execute_result"
    }
   ],
   "source": [
    "total = 0\n",
    "num_results = len(data)\n",
    "\n",
    "for result in data:\n",
    "    total += result['chosen_model_accuracy']\n",
    "\n",
    "total / num_results"
   ]
  },
  {
   "cell_type": "code",
   "execution_count": 16,
   "id": "885488a4-662f-49fb-9aa9-d4bec5f66cf3",
   "metadata": {},
   "outputs": [],
   "source": [
    "with open('data/cnndailymail_results.json', 'r') as f:\n",
    "    data = json.load(f)"
   ]
  },
  {
   "cell_type": "code",
   "execution_count": 17,
   "id": "d3296c62-d69f-4531-9c20-24935ba4b1c6",
   "metadata": {},
   "outputs": [
    {
     "name": "stdout",
     "output_type": "stream",
     "text": [
      "Average ROUGE-1: 0.2937870737089562\n",
      "Average ROUGE-2: 0.10789698165405123\n",
      "Average ROUGE-L: 0.19841589354653624\n"
     ]
    }
   ],
   "source": [
    "rouge1_total = 0\n",
    "rouge2_total = 0\n",
    "rougeL_total = 0\n",
    "\n",
    "num_results = len(data)\n",
    "\n",
    "for result in data:\n",
    "    rouge1_total += result['chosen_model_accuracy']['rouge1']\n",
    "    rouge2_total += result['chosen_model_accuracy']['rouge2']\n",
    "    rougeL_total += result['chosen_model_accuracy']['rougeL']\n",
    "\n",
    "rouge1_avg = rouge1_total / num_results\n",
    "rouge2_avg = rouge2_total / num_results\n",
    "rougeL_avg = rougeL_total / num_results\n",
    "\n",
    "print(f\"Average ROUGE-1: {rouge1_avg}\")\n",
    "print(f\"Average ROUGE-2: {rouge2_avg}\")\n",
    "print(f\"Average ROUGE-L: {rougeL_avg}\")"
   ]
  },
  {
   "cell_type": "code",
   "execution_count": null,
   "id": "24211535-1fae-4a68-b78b-1d84e6ceaa21",
   "metadata": {},
   "outputs": [],
   "source": []
  }
 ],
 "metadata": {
  "kernelspec": {
   "display_name": "Python 3 (ipykernel)",
   "language": "python",
   "name": "python3"
  },
  "language_info": {
   "codemirror_mode": {
    "name": "ipython",
    "version": 3
   },
   "file_extension": ".py",
   "mimetype": "text/x-python",
   "name": "python",
   "nbconvert_exporter": "python",
   "pygments_lexer": "ipython3",
   "version": "3.8.10"
  }
 },
 "nbformat": 4,
 "nbformat_minor": 5
}
