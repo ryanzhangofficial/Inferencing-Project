{
 "cells": [
  {
   "cell_type": "code",
   "execution_count": 17,
   "id": "f3eb85c2-3d8d-4591-8c4c-55fe2b8fa2f2",
   "metadata": {},
   "outputs": [],
   "source": [
    "import math\n",
    "import random\n",
    "import fastText # updated fastText for one step SGD\n",
    "import time"
   ]
  },
  {
   "cell_type": "code",
   "execution_count": 11,
   "id": "5f415d9c-aa47-4e59-a73d-4c7fd85e9b86",
   "metadata": {},
   "outputs": [],
   "source": [
    "# Algorithm for model selection framework\n",
    "#\n",
    "# @input T = total amount of requests\n",
    "# @input c = constant hyperparameter c > 1\n",
    "# p_t = probability of querying all models/exploration\n",
    "# X_t = binary value, explore or not explore\n",
    "# t_c = content for current request\n",
    "def algorithm(T, c):\n",
    "    for t in range(1, T+1):\n",
    "        p_t = min(1, c/math.sqrt(t))\n",
    "    \n",
    "        X_t = Bernoulli(p_t)\n",
    "        if X_t == 1:\n",
    "            # queryAll()\n",
    "            sgdStep(t_c) \n",
    "        else:\n",
    "            queryBest()"
   ]
  },
  {
   "cell_type": "code",
   "execution_count": 12,
   "id": "d74f75b3-bdb0-420a-b599-2d8dda38e2c7",
   "metadata": {},
   "outputs": [],
   "source": [
    "def Bernoulli(p_t):\n",
    "    return random.random() < p_t "
   ]
  },
  {
   "cell_type": "code",
   "execution_count": 13,
   "id": "b095943a-fc4f-4dca-b7de-ac0ec1415270",
   "metadata": {},
   "outputs": [],
   "source": [
    "# def queryAll():\n",
    "#     large_predictor = fasttext.load_model(\"large_predictor.bin\")\n",
    "#     small_predictor = fasttext.load_model(\"small_predictor.bin\")"
   ]
  },
  {
   "cell_type": "code",
   "execution_count": 14,
   "id": "ff8f84c0-4552-4f62-bf95-19cddaed2bf3",
   "metadata": {},
   "outputs": [],
   "source": [
    "def queryBest():\n",
    "    pass"
   ]
  },
  {
   "cell_type": "code",
   "execution_count": 15,
   "id": "df16dc77-e1db-4a51-a8bc-c1f76e85c479",
   "metadata": {},
   "outputs": [],
   "source": [
    "def sgdStep():\n",
    "    large_predictor = fasttext.load_model(\"large_predictor.bin\")\n",
    "    small_predictor = fasttext.load_model(\"small_predictor.bin\")\n",
    "\n",
    "    with open(\"fasttext_large.txt\", \"w\") as f:\n",
    "        f.write(f\"__label__{entry['large_model_accuracy']} {entry['input_text']}\\n\")\n",
    "    with open(\"fasttext_small.txt\", \"w\") as f:\n",
    "        f.write(f\"__label__{entry['small_model_accuracy']} {entry['input_text']}\\n\")\n",
    "\n",
    "    model = fastText.train_supervised(input=\"fasttext_large.txt\", epoch=1, lr=1.0, wordNgrams=2, inputModel=\"large_predictor.bin\")\n",
    "    model = fastText.train_supervised(input=\"fasttext_small.txt\", epoch=1, lr=1.0, wordNgrams=2, inputModel=\"small_predictor.bin\")\n",
    "    model.save_model(\"large_predictor.bin\")\n",
    "    model.save_model(\"small_predictor.bin\")"
   ]
  },
  {
   "cell_type": "code",
   "execution_count": 16,
   "id": "55a0e73e-7a06-4071-9175-adbd53710be1",
   "metadata": {},
   "outputs": [
    {
     "ename": "NameError",
     "evalue": "name 't_c' is not defined",
     "output_type": "error",
     "traceback": [
      "\u001b[0;31m---------------------------------------------------------------------------\u001b[0m",
      "\u001b[0;31mNameError\u001b[0m                                 Traceback (most recent call last)",
      "Cell \u001b[0;32mIn[16], line 1\u001b[0m\n\u001b[0;32m----> 1\u001b[0m \u001b[43malgorithm\u001b[49m\u001b[43m(\u001b[49m\u001b[38;5;241;43m50\u001b[39;49m\u001b[43m,\u001b[49m\u001b[43m \u001b[49m\u001b[38;5;241;43m2\u001b[39;49m\u001b[43m)\u001b[49m\n",
      "Cell \u001b[0;32mIn[11], line 15\u001b[0m, in \u001b[0;36malgorithm\u001b[0;34m(T, c)\u001b[0m\n\u001b[1;32m     12\u001b[0m X_t \u001b[38;5;241m=\u001b[39m Bernoulli(p_t)\n\u001b[1;32m     13\u001b[0m \u001b[38;5;28;01mif\u001b[39;00m X_t \u001b[38;5;241m==\u001b[39m \u001b[38;5;241m1\u001b[39m:\n\u001b[1;32m     14\u001b[0m     \u001b[38;5;66;03m# queryAll()\u001b[39;00m\n\u001b[0;32m---> 15\u001b[0m     sgdStep(\u001b[43mt_c\u001b[49m) \n\u001b[1;32m     16\u001b[0m \u001b[38;5;28;01melse\u001b[39;00m:\n\u001b[1;32m     17\u001b[0m     queryBest()\n",
      "\u001b[0;31mNameError\u001b[0m: name 't_c' is not defined"
     ]
    }
   ],
   "source": [
    "algorithm(50, 2)"
   ]
  },
  {
   "cell_type": "code",
   "execution_count": null,
   "id": "74d56eb4-a502-4583-961d-7b7c39eccd36",
   "metadata": {},
   "outputs": [],
   "source": []
  }
 ],
 "metadata": {
  "kernelspec": {
   "display_name": "Python 3 (ipykernel)",
   "language": "python",
   "name": "python3"
  },
  "language_info": {
   "codemirror_mode": {
    "name": "ipython",
    "version": 3
   },
   "file_extension": ".py",
   "mimetype": "text/x-python",
   "name": "python",
   "nbconvert_exporter": "python",
   "pygments_lexer": "ipython3",
   "version": "3.10.12"
  }
 },
 "nbformat": 4,
 "nbformat_minor": 5
}
