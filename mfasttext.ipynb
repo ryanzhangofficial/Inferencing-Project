{
 "cells": [
  {
   "cell_type": "code",
   "execution_count": 1,
   "id": "0385fb23-cc5a-4ea9-91f5-5f6214fd7784",
   "metadata": {},
   "outputs": [
    {
     "data": {
      "text/plain": [
       "'/usr/bin/python3'"
      ]
     },
     "execution_count": 1,
     "metadata": {},
     "output_type": "execute_result"
    }
   ],
   "source": [
    "import sys\n",
    "sys.executable"
   ]
  },
  {
   "cell_type": "code",
   "execution_count": 2,
   "id": "5d9ee229-4522-490c-837b-7ea8093397ab",
   "metadata": {},
   "outputs": [],
   "source": [
    "import time"
   ]
  },
  {
   "cell_type": "code",
   "execution_count": 3,
   "id": "3a7e8165-94dc-4139-83ce-ce6c467cd39f",
   "metadata": {},
   "outputs": [
    {
     "name": "stdout",
     "output_type": "stream",
     "text": [
      "[]\n"
     ]
    }
   ],
   "source": [
    "module_names = [name for name in sys.modules.keys() if 'fasttext' in name.lower()]\n",
    "print(module_names)"
   ]
  },
  {
   "cell_type": "code",
   "execution_count": 4,
   "id": "f43e1ce8-f584-4498-a473-5e41cf46d382",
   "metadata": {},
   "outputs": [],
   "source": [
    "import fastText"
   ]
  },
  {
   "cell_type": "code",
   "execution_count": 5,
   "id": "303eff34-7d9d-4d82-8e55-de97da2e5539",
   "metadata": {},
   "outputs": [],
   "source": [
    "mock_data = [\n",
    "    {\n",
    "        \"input_text\": \"Rising tide lifts all boats.\",\n",
    "        \"small_model_accuracy\": 91,\n",
    "        \"large_model_accuracy\": 92\n",
    "    },\n",
    "    {\n",
    "        \"input_text\": \"United there is little we cannot do in a host of cooperative ventures. Divided there is little we can do—for we dare not meet a powerful challenge at odds and split asunder.\",\n",
    "        \"small_model_accuracy\": 76,\n",
    "        \"large_model_accuracy\": 89\n",
    "    },\n",
    "    {\n",
    "        \"input_text\": \"The quick brown fox jumps over the lazy dog.\",\n",
    "        \"small_model_accuracy\": 95,\n",
    "        \"large_model_accuracy\": 96\n",
    "    },\n",
    "    {\n",
    "        \"input_text\": \"To be or not to be, that is the question.\",\n",
    "        \"small_model_accuracy\": 88,\n",
    "        \"large_model_accuracy\": 90\n",
    "    },\n",
    "    {\n",
    "        \"input_text\": \"In the beginning, God created the heavens and the earth.\",\n",
    "        \"small_model_accuracy\": 89,\n",
    "        \"large_model_accuracy\": 91\n",
    "    },\n",
    "    {\n",
    "        \"input_text\": \"This above all: to thine own self be true, and it must follow, as the night the day, thou canst not then be false to any man.\",\n",
    "        \"small_model_accuracy\": 72,\n",
    "        \"large_model_accuracy\": 85\n",
    "    },\n",
    "    {\n",
    "        \"input_text\": \"All animals are equal, but some animals are more equal than others.\",\n",
    "        \"small_model_accuracy\": 86,\n",
    "        \"large_model_accuracy\": 88\n",
    "    },\n",
    "    {\n",
    "        \"input_text\": \"The only thing we have to fear is fear itself.\",\n",
    "        \"small_model_accuracy\": 90,\n",
    "        \"large_model_accuracy\": 92\n",
    "    },\n",
    "    {\n",
    "        \"input_text\": \"I think, therefore I am.\",\n",
    "        \"small_model_accuracy\": 92,\n",
    "        \"large_model_accuracy\": 93\n",
    "    },\n",
    "    {\n",
    "        \"input_text\": \"It was the best of times, it was the worst of times, it was the age of wisdom, it was the age of foolishness...\",\n",
    "        \"small_model_accuracy\": 78,\n",
    "        \"large_model_accuracy\": 88\n",
    "    },\n",
    "    {\n",
    "        \"input_text\": \"Four score and seven years ago our fathers brought forth on this continent, a new nation, conceived in Liberty, and dedicated to the proposition that all men are created equal.\",\n",
    "        \"small_model_accuracy\": 82,\n",
    "        \"large_model_accuracy\": 90\n",
    "    },\n",
    "    {\n",
    "        \"input_text\": \"Ask not what your country can do for you—ask what you can do for your country.\",\n",
    "        \"small_model_accuracy\": 87,\n",
    "        \"large_model_accuracy\": 89\n",
    "    },\n",
    "    {\n",
    "        \"input_text\": \"That's one small step for man, one giant leap for mankind.\",\n",
    "        \"small_model_accuracy\": 93,\n",
    "        \"large_model_accuracy\": 94\n",
    "    },\n",
    "    {\n",
    "        \"input_text\": \"I have a dream that one day this nation will rise up and live out the true meaning of its creed: 'We hold these truths to be self-evident, that all men are created equal.'\",\n",
    "        \"small_model_accuracy\": 80,\n",
    "        \"large_model_accuracy\": 89\n",
    "    },\n",
    "    {\n",
    "        \"input_text\": \"Give me liberty, or give me death!\",\n",
    "        \"small_model_accuracy\": 88,\n",
    "        \"large_model_accuracy\": 90\n",
    "    }\n",
    "]"
   ]
  },
  {
   "cell_type": "code",
   "execution_count": 6,
   "id": "9ce33695-690f-48cd-831e-fbabeb3f52a9",
   "metadata": {},
   "outputs": [],
   "source": [
    "with open(\"fasttext_train.txt\", \"w\") as f:\n",
    "    for entry in mock_data:\n",
    "        # for fasttext to recognize labels we have to alter the labels to have __label__\n",
    "        # however, only one column is accepted as the labels, so despite small_model_accuracy also having __label__, large_model_accuracy is the only label column\n",
    "        f.write(f\"__label__{entry['small_model_accuracy']} {entry['input_text']}\\n\")\n",
    "        f.write(f\"__label__{entry['large_model_accuracy']} {entry['input_text']}\\n\")"
   ]
  },
  {
   "cell_type": "code",
   "execution_count": 7,
   "id": "ac506bcb-5d68-4be3-9bda-76c58cb9800c",
   "metadata": {},
   "outputs": [
    {
     "name": "stdout",
     "output_type": "stream",
     "text": [
      "{'input_text': 'Rising tide lifts all boats.', 'small_model_accuracy': 91, 'large_model_accuracy': 92}\n",
      "{'input_text': 'United there is little we cannot do in a host of cooperative ventures. Divided there is little we can do—for we dare not meet a powerful challenge at odds and split asunder.', 'small_model_accuracy': 76, 'large_model_accuracy': 89}\n",
      "{'input_text': 'The quick brown fox jumps over the lazy dog.', 'small_model_accuracy': 95, 'large_model_accuracy': 96}\n",
      "{'input_text': 'To be or not to be, that is the question.', 'small_model_accuracy': 88, 'large_model_accuracy': 90}\n",
      "{'input_text': 'In the beginning, God created the heavens and the earth.', 'small_model_accuracy': 89, 'large_model_accuracy': 91}\n",
      "{'input_text': 'This above all: to thine own self be true, and it must follow, as the night the day, thou canst not then be false to any man.', 'small_model_accuracy': 72, 'large_model_accuracy': 85}\n",
      "{'input_text': 'All animals are equal, but some animals are more equal than others.', 'small_model_accuracy': 86, 'large_model_accuracy': 88}\n",
      "{'input_text': 'The only thing we have to fear is fear itself.', 'small_model_accuracy': 90, 'large_model_accuracy': 92}\n",
      "{'input_text': 'I think, therefore I am.', 'small_model_accuracy': 92, 'large_model_accuracy': 93}\n",
      "{'input_text': 'It was the best of times, it was the worst of times, it was the age of wisdom, it was the age of foolishness...', 'small_model_accuracy': 78, 'large_model_accuracy': 88}\n",
      "{'input_text': 'Four score and seven years ago our fathers brought forth on this continent, a new nation, conceived in Liberty, and dedicated to the proposition that all men are created equal.', 'small_model_accuracy': 82, 'large_model_accuracy': 90}\n",
      "{'input_text': 'Ask not what your country can do for you—ask what you can do for your country.', 'small_model_accuracy': 87, 'large_model_accuracy': 89}\n",
      "{'input_text': \"That's one small step for man, one giant leap for mankind.\", 'small_model_accuracy': 93, 'large_model_accuracy': 94}\n",
      "{'input_text': \"I have a dream that one day this nation will rise up and live out the true meaning of its creed: 'We hold these truths to be self-evident, that all men are created equal.'\", 'small_model_accuracy': 80, 'large_model_accuracy': 89}\n",
      "{'input_text': 'Give me liberty, or give me death!', 'small_model_accuracy': 88, 'large_model_accuracy': 90}\n"
     ]
    }
   ],
   "source": [
    "with open(\"fasttext_train.txt\", \"r\") as f:\n",
    "  for entry in mock_data:\n",
    "    print(entry)"
   ]
  },
  {
   "cell_type": "code",
   "execution_count": 8,
   "id": "61ace5c8-080f-4f70-8fae-4c7747141acc",
   "metadata": {},
   "outputs": [
    {
     "name": "stderr",
     "output_type": "stream",
     "text": [
      "Read 0M words\n",
      "Number of words:  159\n",
      "Number of labels: 17\n",
      "start training...\n",
      "Progress: 100.0% words/sec/thread:  827925 lr:  0.000000 loss:  2.420599 ETA:   0h 0m\n"
     ]
    }
   ],
   "source": [
    "import fastText\n",
    "\n",
    "model = fastText.train_supervised(input=\"fasttext_train.txt\", epoch=25, lr=1.0, wordNgrams=2)\n",
    "\n",
    "model.save_model(\"fasttext_accuracy_predictor.bin\")"
   ]
  },
  {
   "cell_type": "code",
   "execution_count": 9,
   "id": "7d1d0aea-fd32-4418-9f6f-0a573123885f",
   "metadata": {},
   "outputs": [
    {
     "name": "stdout",
     "output_type": "stream",
     "text": [
      "Predicted Accuracy: 91%\n"
     ]
    }
   ],
   "source": [
    "text = \"An apple a day, keeps the doctor away.\"\n",
    "predicted_label = model.predict(text)[0][0]\n",
    "predicted_accuracy = int(predicted_label.replace('__label__', ''))\n",
    "\n",
    "print(f\"Predicted Accuracy: {predicted_accuracy}%\")"
   ]
  },
  {
   "cell_type": "code",
   "execution_count": 10,
   "id": "9ac8e9f9-5d40-4f24-9b3a-0803d9e8ee0b",
   "metadata": {},
   "outputs": [],
   "source": [
    "single_sample = [\n",
    "    {\n",
    "        \"input_text\": \"Knowledge is power, and with great power comes great responsibility.\",\n",
    "        \"small_model_accuracy\": 85,\n",
    "        \"large_model_accuracy\": 90\n",
    "    }\n",
    "]"
   ]
  },
  {
   "cell_type": "code",
   "execution_count": 18,
   "id": "5cdf532a-4a80-4890-880f-0e8abf37557d",
   "metadata": {},
   "outputs": [],
   "source": [
    "def stepSGD(sample):\n",
    "\n",
    "  with open(\"fasttext_train.txt\", \"w\") as f:\n",
    "    for entry in single_sample:\n",
    "        f.write(f\"__label__{entry['small_model_accuracy']} {entry['input_text']}\\n\")\n",
    "        f.write(f\"__label__{entry['large_model_accuracy']} {entry['input_text']}\\n\")\n",
    "      \n",
    "  model = fastText.train_supervised(input=\"fasttext_train.txt\", epoch=1, lr=1.0, wordNgrams=2, inputModel=\"fasttext_accuracy_predictor.bin\")\n",
    "  #model.save_model(\"fasttext_accuracy_predictor.bin\")"
   ]
  },
  {
   "cell_type": "code",
   "execution_count": 19,
   "id": "498db736-c663-4928-8f38-38d749ad7aba",
   "metadata": {},
   "outputs": [
    {
     "name": "stderr",
     "output_type": "stream",
     "text": [
      "Read 0M words\n",
      "Number of words:  10\n",
      "Number of labels: 2\n"
     ]
    },
    {
     "name": "stdout",
     "output_type": "stream",
     "text": [
      "stepSGD execution time: 2.2166 seconds\n"
     ]
    },
    {
     "name": "stderr",
     "output_type": "stream",
     "text": [
      "start training...\n",
      "Progress: 100.0% words/sec/thread:   32454 lr:  0.000000 loss:  0.625789 ETA:   0h 0m0m\n"
     ]
    }
   ],
   "source": [
    "start_time = time.time()\n",
    "\n",
    "stepSGD(single_sample)\n",
    "\n",
    "end_time = time.time()\n",
    "elapsed_time = end_time - start_time\n",
    "print(f\"stepSGD execution time: {elapsed_time:.4f} seconds\")"
   ]
  },
  {
   "cell_type": "code",
   "execution_count": 12,
   "id": "09c0b8ca-eb24-40c9-8ace-70c0746fb39d",
   "metadata": {},
   "outputs": [],
   "source": [
    "def predict(text):\n",
    "  predicted_label = model.predict(text)[0][0]\n",
    "  predicted_accuracy = int(predicted_label.replace('__label__', ''))\n",
    "\n",
    "  print(f\"Predicted Accuracy: {predicted_accuracy}%\")"
   ]
  },
  {
   "cell_type": "code",
   "execution_count": 13,
   "id": "079c0a0b-f8ed-4fc6-bc49-71645b5ee505",
   "metadata": {},
   "outputs": [
    {
     "name": "stdout",
     "output_type": "stream",
     "text": [
      "Predicted Accuracy: 90%\n"
     ]
    }
   ],
   "source": [
    "predict(text)"
   ]
  },
  {
   "cell_type": "code",
   "execution_count": null,
   "id": "ffd305a1-25d2-47ed-b06b-a6a70110ca0e",
   "metadata": {},
   "outputs": [],
   "source": []
  }
 ],
 "metadata": {
  "kernelspec": {
   "display_name": "Python 3 (ipykernel)",
   "language": "python",
   "name": "python3"
  },
  "language_info": {
   "codemirror_mode": {
    "name": "ipython",
    "version": 3
   },
   "file_extension": ".py",
   "mimetype": "text/x-python",
   "name": "python",
   "nbconvert_exporter": "python",
   "pygments_lexer": "ipython3",
   "version": "3.10.12"
  }
 },
 "nbformat": 4,
 "nbformat_minor": 5
}
