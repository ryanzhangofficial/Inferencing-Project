{
 "cells": [
  {
   "cell_type": "code",
   "execution_count": null,
   "id": "28e435f6-87da-4a1a-9f35-9a810aaa5662",
   "metadata": {},
   "outputs": [],
   "source": [
    "!pip install wandb"
   ]
  },
  {
   "cell_type": "code",
   "execution_count": null,
   "id": "0385fb23-cc5a-4ea9-91f5-5f6214fd7784",
   "metadata": {},
   "outputs": [],
   "source": [
    "import sys\n",
    "sys.executable"
   ]
  },
  {
   "cell_type": "code",
   "execution_count": null,
   "id": "5d9ee229-4522-490c-837b-7ea8093397ab",
   "metadata": {},
   "outputs": [],
   "source": [
    "import time"
   ]
  },
  {
   "cell_type": "code",
   "execution_count": null,
   "id": "3a7e8165-94dc-4139-83ce-ce6c467cd39f",
   "metadata": {},
   "outputs": [],
   "source": [
    "module_names = [name for name in sys.modules.keys() if 'fasttext' in name.lower()]\n",
    "print(module_names)"
   ]
  },
  {
   "cell_type": "code",
   "execution_count": null,
   "id": "f43e1ce8-f584-4498-a473-5e41cf46d382",
   "metadata": {},
   "outputs": [],
   "source": [
    "import fastText"
   ]
  },
  {
   "cell_type": "code",
   "execution_count": null,
   "id": "303eff34-7d9d-4d82-8e55-de97da2e5539",
   "metadata": {},
   "outputs": [],
   "source": [
    "mock_data = [\n",
    "    {\n",
    "        \"input_text\": \"Rising tide lifts all boats.\",\n",
    "        \"small_model_accuracy\": 91,\n",
    "        \"large_model_accuracy\": 92\n",
    "    },\n",
    "    {\n",
    "        \"input_text\": \"United there is little we cannot do in a host of cooperative ventures. Divided there is little we can do—for we dare not meet a powerful challenge at odds and split asunder.\",\n",
    "        \"small_model_accuracy\": 76,\n",
    "        \"large_model_accuracy\": 89\n",
    "    },\n",
    "    {\n",
    "        \"input_text\": \"The quick brown fox jumps over the lazy dog.\",\n",
    "        \"small_model_accuracy\": 95,\n",
    "        \"large_model_accuracy\": 96\n",
    "    },\n",
    "    {\n",
    "        \"input_text\": \"To be or not to be, that is the question.\",\n",
    "        \"small_model_accuracy\": 88,\n",
    "        \"large_model_accuracy\": 90\n",
    "    },\n",
    "    {\n",
    "        \"input_text\": \"In the beginning, God created the heavens and the earth.\",\n",
    "        \"small_model_accuracy\": 89,\n",
    "        \"large_model_accuracy\": 91\n",
    "    },\n",
    "    {\n",
    "        \"input_text\": \"This above all: to thine own self be true, and it must follow, as the night the day, thou canst not then be false to any man.\",\n",
    "        \"small_model_accuracy\": 72,\n",
    "        \"large_model_accuracy\": 85\n",
    "    },\n",
    "    {\n",
    "        \"input_text\": \"All animals are equal, but some animals are more equal than others.\",\n",
    "        \"small_model_accuracy\": 86,\n",
    "        \"large_model_accuracy\": 88\n",
    "    },\n",
    "    {\n",
    "        \"input_text\": \"The only thing we have to fear is fear itself.\",\n",
    "        \"small_model_accuracy\": 90,\n",
    "        \"large_model_accuracy\": 92\n",
    "    },\n",
    "    {\n",
    "        \"input_text\": \"I think, therefore I am.\",\n",
    "        \"small_model_accuracy\": 92,\n",
    "        \"large_model_accuracy\": 93\n",
    "    },\n",
    "    {\n",
    "        \"input_text\": \"It was the best of times, it was the worst of times, it was the age of wisdom, it was the age of foolishness...\",\n",
    "        \"small_model_accuracy\": 78,\n",
    "        \"large_model_accuracy\": 88\n",
    "    },\n",
    "    {\n",
    "        \"input_text\": \"Four score and seven years ago our fathers brought forth on this continent, a new nation, conceived in Liberty, and dedicated to the proposition that all men are created equal.\",\n",
    "        \"small_model_accuracy\": 82,\n",
    "        \"large_model_accuracy\": 90\n",
    "    },\n",
    "    {\n",
    "        \"input_text\": \"Ask not what your country can do for you—ask what you can do for your country.\",\n",
    "        \"small_model_accuracy\": 87,\n",
    "        \"large_model_accuracy\": 89\n",
    "    },\n",
    "    {\n",
    "        \"input_text\": \"That's one small step for man, one giant leap for mankind.\",\n",
    "        \"small_model_accuracy\": 93,\n",
    "        \"large_model_accuracy\": 94\n",
    "    },\n",
    "    {\n",
    "        \"input_text\": \"I have a dream that one day this nation will rise up and live out the true meaning of its creed: 'We hold these truths to be self-evident, that all men are created equal.'\",\n",
    "        \"small_model_accuracy\": 80,\n",
    "        \"large_model_accuracy\": 89\n",
    "    },\n",
    "    {\n",
    "        \"input_text\": \"Give me liberty, or give me death!\",\n",
    "        \"small_model_accuracy\": 88,\n",
    "        \"large_model_accuracy\": 90\n",
    "    }\n",
    "]"
   ]
  },
  {
   "cell_type": "code",
   "execution_count": null,
   "id": "9ce33695-690f-48cd-831e-fbabeb3f52a9",
   "metadata": {},
   "outputs": [],
   "source": [
    "with open(\"fasttext_train.txt\", \"w\") as f:\n",
    "    for entry in mock_data:\n",
    "        # for fasttext to recognize labels we have to alter the labels to have __label__\n",
    "        # however, only one column is accepted as the labels, so despite small_model_accuracy also having __label__, large_model_accuracy is the only label column\n",
    "        f.write(f\"__label__{entry['small_model_accuracy']} {entry['input_text']}\\n\")\n",
    "        f.write(f\"__label__{entry['large_model_accuracy']} {entry['input_text']}\\n\")"
   ]
  },
  {
   "cell_type": "code",
   "execution_count": null,
   "id": "ac506bcb-5d68-4be3-9bda-76c58cb9800c",
   "metadata": {},
   "outputs": [],
   "source": [
    "with open(\"fasttext_train.txt\", \"r\") as f:\n",
    "  for entry in mock_data:\n",
    "    print(entry)"
   ]
  },
  {
   "cell_type": "code",
   "execution_count": null,
   "id": "a2a08b87-3fc8-4181-9006-c25d1d36fe2e",
   "metadata": {},
   "outputs": [],
   "source": [
    "from power_monitoring.monitor import HWMonitor\n",
    "import threading\n",
    "import wandb"
   ]
  },
  {
   "cell_type": "code",
   "execution_count": null,
   "id": "18d52f10-183d-41c2-a61e-3947ba193818",
   "metadata": {},
   "outputs": [],
   "source": [
    "!wandb login"
   ]
  },
  {
   "cell_type": "code",
   "execution_count": null,
   "id": "11caa4d6-1672-49f8-9cb4-8cddae3075f8",
   "metadata": {},
   "outputs": [],
   "source": [
    "wandb.init(project=\"linear_classifier\")"
   ]
  },
  {
   "cell_type": "code",
   "execution_count": null,
   "id": "b22f8b03-22c7-4291-8c56-2f819f133a7c",
   "metadata": {},
   "outputs": [],
   "source": [
    "hw_monitor = HWMonitor(monitoring_freq=1.0, stop_event=threading.Event())\n",
    "hw_monitor.start()"
   ]
  },
  {
   "cell_type": "code",
   "execution_count": null,
   "id": "61ace5c8-080f-4f70-8fae-4c7747141acc",
   "metadata": {},
   "outputs": [],
   "source": [
    "import fastText\n",
    "\n",
    "model = fastText.train_supervised(input=\"fasttext_train.txt\", epoch=25, lr=1.0, wordNgrams=2)\n",
    "\n",
    "model.save_model(\"fasttext_accuracy_predictor.bin\")"
   ]
  },
  {
   "cell_type": "code",
   "execution_count": null,
   "id": "2f0953c6-c526-4f5c-b512-086b67a5be05",
   "metadata": {},
   "outputs": [],
   "source": [
    "monitor_client.stop_monitor()\n",
    "wandb.finish()"
   ]
  },
  {
   "cell_type": "code",
   "execution_count": null,
   "id": "7d1d0aea-fd32-4418-9f6f-0a573123885f",
   "metadata": {},
   "outputs": [],
   "source": [
    "text = \"An apple a day, keeps the doctor away.\"\n",
    "predicted_label = model.predict(text)[0][0]\n",
    "predicted_accuracy = int(predicted_label.replace('__label__', ''))\n",
    "\n",
    "print(f\"Predicted Accuracy: {predicted_accuracy}%\")"
   ]
  },
  {
   "cell_type": "code",
   "execution_count": null,
   "id": "9ac8e9f9-5d40-4f24-9b3a-0803d9e8ee0b",
   "metadata": {},
   "outputs": [],
   "source": [
    "single_sample = [\n",
    "    {\n",
    "        \"input_text\": \"Knowledge is power, and with great power comes great responsibility.\",\n",
    "        \"small_model_accuracy\": 85,\n",
    "        \"large_model_accuracy\": 90\n",
    "    }\n",
    "]"
   ]
  },
  {
   "cell_type": "code",
   "execution_count": null,
   "id": "5cdf532a-4a80-4890-880f-0e8abf37557d",
   "metadata": {},
   "outputs": [],
   "source": [
    "def stepSGD(sample):\n",
    "\n",
    "  with open(\"fasttext_train.txt\", \"w\") as f:\n",
    "    for entry in single_sample:\n",
    "        f.write(f\"__label__{entry['small_model_accuracy']} {entry['input_text']}\\n\")\n",
    "        f.write(f\"__label__{entry['large_model_accuracy']} {entry['input_text']}\\n\")\n",
    "      \n",
    "  model = fastText.train_supervised(input=\"fasttext_train.txt\", epoch=1, lr=1.0, wordNgrams=2, inputModel=\"fasttext_accuracy_predictor.bin\")\n",
    "  #model.save_model(\"fasttext_accuracy_predictor.bin\")"
   ]
  },
  {
   "cell_type": "code",
   "execution_count": null,
   "id": "498db736-c663-4928-8f38-38d749ad7aba",
   "metadata": {},
   "outputs": [],
   "source": [
    "start_time = time.time()\n",
    "\n",
    "stepSGD(single_sample)\n",
    "\n",
    "end_time = time.time()\n",
    "elapsed_time = end_time - start_time\n",
    "print(f\"stepSGD execution time: {elapsed_time:.4f} seconds\")"
   ]
  },
  {
   "cell_type": "code",
   "execution_count": null,
   "id": "09c0b8ca-eb24-40c9-8ace-70c0746fb39d",
   "metadata": {},
   "outputs": [],
   "source": [
    "def predict(text):\n",
    "  predicted_label = model.predict(text)[0][0]\n",
    "  predicted_accuracy = int(predicted_label.replace('__label__', ''))\n",
    "\n",
    "  print(f\"Predicted Accuracy: {predicted_accuracy}%\")"
   ]
  },
  {
   "cell_type": "code",
   "execution_count": null,
   "id": "079c0a0b-f8ed-4fc6-bc49-71645b5ee505",
   "metadata": {},
   "outputs": [],
   "source": [
    "start_time = time.time()\n",
    "\n",
    "predict(text)\n",
    "\n",
    "end_time = time.time()\n",
    "elapsed_time = end_time - start_time\n",
    "print(f\"stepSGD exectuion time: {elapsed_time:.4f} seconds\")"
   ]
  },
  {
   "cell_type": "code",
   "execution_count": null,
   "id": "ffd305a1-25d2-47ed-b06b-a6a70110ca0e",
   "metadata": {},
   "outputs": [],
   "source": [
    "start_time = time.time()\n",
    "\n",
    "model.save_model(\"fasttext_accuracy_predictor.bin\")\n",
    "\n",
    "end_time = time.time()\n",
    "elapsed_time = end_time - start_time\n",
    "print(f\"Checkpointing time: {elapsed_time:.4f} seconds\")"
   ]
  },
  {
   "cell_type": "code",
   "execution_count": null,
   "id": "b503e56d-36e1-4426-a0d2-4418cff1dfa2",
   "metadata": {},
   "outputs": [],
   "source": []
  }
 ],
 "metadata": {
  "kernelspec": {
   "display_name": "Python 3 (ipykernel)",
   "language": "python",
   "name": "python3"
  },
  "language_info": {
   "codemirror_mode": {
    "name": "ipython",
    "version": 3
   },
   "file_extension": ".py",
   "mimetype": "text/x-python",
   "name": "python",
   "nbconvert_exporter": "python",
   "pygments_lexer": "ipython3",
   "version": "3.8.10"
  }
 },
 "nbformat": 4,
 "nbformat_minor": 5
}
