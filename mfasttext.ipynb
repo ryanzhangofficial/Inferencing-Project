{
 "cells": [
  {
   "cell_type": "code",
   "execution_count": 1,
   "id": "28e435f6-87da-4a1a-9f35-9a810aaa5662",
   "metadata": {
    "scrolled": true
   },
   "outputs": [
    {
     "name": "stdout",
     "output_type": "stream",
     "text": [
      "Requirement already satisfied: wandb in /usr/local/lib/python3.8/dist-packages (0.18.0)\n",
      "Requirement already satisfied: click!=8.0.0,>=7.1 in /usr/local/lib/python3.8/dist-packages (from wandb) (8.1.7)\n",
      "Requirement already satisfied: setuptools in /usr/lib/python3/dist-packages (from wandb) (45.2.0)\n",
      "Requirement already satisfied: typing-extensions; python_version < \"3.10\" in /usr/local/lib/python3.8/dist-packages (from wandb) (4.12.2)\n",
      "Requirement already satisfied: platformdirs in /usr/local/lib/python3.8/dist-packages (from wandb) (4.3.2)\n",
      "Requirement already satisfied: requests<3,>=2.0.0 in /usr/local/lib/python3.8/dist-packages (from wandb) (2.32.3)\n",
      "Requirement already satisfied: gitpython!=3.1.29,>=1.0.0 in /usr/local/lib/python3.8/dist-packages (from wandb) (3.1.43)\n",
      "Requirement already satisfied: protobuf!=4.21.0,!=5.28.0,<6,>=3.12.0; python_version < \"3.9\" and sys_platform == \"linux\" in /usr/local/lib/python3.8/dist-packages (from wandb) (5.28.1)\n",
      "Requirement already satisfied: sentry-sdk>=1.0.0 in /usr/local/lib/python3.8/dist-packages (from wandb) (2.14.0)\n",
      "Requirement already satisfied: setproctitle in /usr/local/lib/python3.8/dist-packages (from wandb) (1.3.3)\n",
      "Requirement already satisfied: pyyaml in /usr/lib/python3/dist-packages (from wandb) (5.3.1)\n",
      "Requirement already satisfied: docker-pycreds>=0.4.0 in /usr/local/lib/python3.8/dist-packages (from wandb) (0.4.0)\n",
      "Requirement already satisfied: psutil>=5.0.0 in /usr/local/lib/python3.8/dist-packages (from wandb) (6.0.0)\n",
      "Requirement already satisfied: certifi>=2017.4.17 in /usr/lib/python3/dist-packages (from requests<3,>=2.0.0->wandb) (2019.11.28)\n",
      "Requirement already satisfied: charset-normalizer<4,>=2 in /usr/local/lib/python3.8/dist-packages (from requests<3,>=2.0.0->wandb) (3.3.2)\n",
      "Requirement already satisfied: idna<4,>=2.5 in /usr/lib/python3/dist-packages (from requests<3,>=2.0.0->wandb) (2.8)\n",
      "Requirement already satisfied: urllib3<3,>=1.21.1 in /usr/lib/python3/dist-packages (from requests<3,>=2.0.0->wandb) (1.25.8)\n",
      "Requirement already satisfied: gitdb<5,>=4.0.1 in /usr/local/lib/python3.8/dist-packages (from gitpython!=3.1.29,>=1.0.0->wandb) (4.0.11)\n",
      "Requirement already satisfied: six>=1.4.0 in /usr/lib/python3/dist-packages (from docker-pycreds>=0.4.0->wandb) (1.14.0)\n",
      "Requirement already satisfied: smmap<6,>=3.0.1 in /usr/local/lib/python3.8/dist-packages (from gitdb<5,>=4.0.1->gitpython!=3.1.29,>=1.0.0->wandb) (5.0.1)\n"
     ]
    }
   ],
   "source": [
    "!pip install wandb"
   ]
  },
  {
   "cell_type": "code",
   "execution_count": 1,
   "id": "0385fb23-cc5a-4ea9-91f5-5f6214fd7784",
   "metadata": {},
   "outputs": [
    {
     "data": {
      "text/plain": [
       "'/usr/bin/python3'"
      ]
     },
     "execution_count": 1,
     "metadata": {},
     "output_type": "execute_result"
    }
   ],
   "source": [
    "import sys\n",
    "sys.executable"
   ]
  },
  {
   "cell_type": "code",
   "execution_count": 2,
   "id": "5d9ee229-4522-490c-837b-7ea8093397ab",
   "metadata": {},
   "outputs": [],
   "source": [
    "import time"
   ]
  },
  {
   "cell_type": "code",
   "execution_count": 3,
   "id": "3a7e8165-94dc-4139-83ce-ce6c467cd39f",
   "metadata": {},
   "outputs": [
    {
     "name": "stdout",
     "output_type": "stream",
     "text": [
      "[]\n"
     ]
    }
   ],
   "source": [
    "module_names = [name for name in sys.modules.keys() if 'fasttext' in name.lower()]\n",
    "print(module_names)"
   ]
  },
  {
   "cell_type": "code",
   "execution_count": 4,
   "id": "f43e1ce8-f584-4498-a473-5e41cf46d382",
   "metadata": {},
   "outputs": [],
   "source": [
    "import fastText"
   ]
  },
  {
   "cell_type": "code",
   "execution_count": 5,
   "id": "303eff34-7d9d-4d82-8e55-de97da2e5539",
   "metadata": {},
   "outputs": [],
   "source": [
    "mock_data = [\n",
    "    {\n",
    "        \"input_text\": \"Rising tide lifts all boats.\",\n",
    "        \"small_model_accuracy\": 91,\n",
    "        \"large_model_accuracy\": 92\n",
    "    },\n",
    "    {\n",
    "        \"input_text\": \"United there is little we cannot do in a host of cooperative ventures. Divided there is little we can do—for we dare not meet a powerful challenge at odds and split asunder.\",\n",
    "        \"small_model_accuracy\": 76,\n",
    "        \"large_model_accuracy\": 89\n",
    "    },\n",
    "    {\n",
    "        \"input_text\": \"The quick brown fox jumps over the lazy dog.\",\n",
    "        \"small_model_accuracy\": 95,\n",
    "        \"large_model_accuracy\": 96\n",
    "    },\n",
    "    {\n",
    "        \"input_text\": \"To be or not to be, that is the question.\",\n",
    "        \"small_model_accuracy\": 88,\n",
    "        \"large_model_accuracy\": 90\n",
    "    },\n",
    "    {\n",
    "        \"input_text\": \"In the beginning, God created the heavens and the earth.\",\n",
    "        \"small_model_accuracy\": 89,\n",
    "        \"large_model_accuracy\": 91\n",
    "    },\n",
    "    {\n",
    "        \"input_text\": \"This above all: to thine own self be true, and it must follow, as the night the day, thou canst not then be false to any man.\",\n",
    "        \"small_model_accuracy\": 72,\n",
    "        \"large_model_accuracy\": 85\n",
    "    },\n",
    "    {\n",
    "        \"input_text\": \"All animals are equal, but some animals are more equal than others.\",\n",
    "        \"small_model_accuracy\": 86,\n",
    "        \"large_model_accuracy\": 88\n",
    "    },\n",
    "    {\n",
    "        \"input_text\": \"The only thing we have to fear is fear itself.\",\n",
    "        \"small_model_accuracy\": 90,\n",
    "        \"large_model_accuracy\": 92\n",
    "    },\n",
    "    {\n",
    "        \"input_text\": \"I think, therefore I am.\",\n",
    "        \"small_model_accuracy\": 92,\n",
    "        \"large_model_accuracy\": 93\n",
    "    },\n",
    "    {\n",
    "        \"input_text\": \"It was the best of times, it was the worst of times, it was the age of wisdom, it was the age of foolishness...\",\n",
    "        \"small_model_accuracy\": 78,\n",
    "        \"large_model_accuracy\": 88\n",
    "    },\n",
    "    {\n",
    "        \"input_text\": \"Four score and seven years ago our fathers brought forth on this continent, a new nation, conceived in Liberty, and dedicated to the proposition that all men are created equal.\",\n",
    "        \"small_model_accuracy\": 82,\n",
    "        \"large_model_accuracy\": 90\n",
    "    },\n",
    "    {\n",
    "        \"input_text\": \"Ask not what your country can do for you—ask what you can do for your country.\",\n",
    "        \"small_model_accuracy\": 87,\n",
    "        \"large_model_accuracy\": 89\n",
    "    },\n",
    "    {\n",
    "        \"input_text\": \"That's one small step for man, one giant leap for mankind.\",\n",
    "        \"small_model_accuracy\": 93,\n",
    "        \"large_model_accuracy\": 94\n",
    "    },\n",
    "    {\n",
    "        \"input_text\": \"I have a dream that one day this nation will rise up and live out the true meaning of its creed: 'We hold these truths to be self-evident, that all men are created equal.'\",\n",
    "        \"small_model_accuracy\": 80,\n",
    "        \"large_model_accuracy\": 89\n",
    "    },\n",
    "    {\n",
    "        \"input_text\": \"Give me liberty, or give me death!\",\n",
    "        \"small_model_accuracy\": 88,\n",
    "        \"large_model_accuracy\": 90\n",
    "    }\n",
    "]"
   ]
  },
  {
   "cell_type": "code",
   "execution_count": 6,
   "id": "9ce33695-690f-48cd-831e-fbabeb3f52a9",
   "metadata": {},
   "outputs": [],
   "source": [
    "with open(\"fasttext_train.txt\", \"w\") as f:\n",
    "    for entry in mock_data:\n",
    "        # for fasttext to recognize labels we have to alter the labels to have __label__\n",
    "        # however, only one column is accepted as the labels, so despite small_model_accuracy also having __label__, large_model_accuracy is the only label column\n",
    "        f.write(f\"__label__{entry['small_model_accuracy']} {entry['input_text']}\\n\")\n",
    "        f.write(f\"__label__{entry['large_model_accuracy']} {entry['input_text']}\\n\")"
   ]
  },
  {
   "cell_type": "code",
   "execution_count": 7,
   "id": "ac506bcb-5d68-4be3-9bda-76c58cb9800c",
   "metadata": {},
   "outputs": [
    {
     "name": "stdout",
     "output_type": "stream",
     "text": [
      "{'input_text': 'Rising tide lifts all boats.', 'small_model_accuracy': 91, 'large_model_accuracy': 92}\n",
      "{'input_text': 'United there is little we cannot do in a host of cooperative ventures. Divided there is little we can do—for we dare not meet a powerful challenge at odds and split asunder.', 'small_model_accuracy': 76, 'large_model_accuracy': 89}\n",
      "{'input_text': 'The quick brown fox jumps over the lazy dog.', 'small_model_accuracy': 95, 'large_model_accuracy': 96}\n",
      "{'input_text': 'To be or not to be, that is the question.', 'small_model_accuracy': 88, 'large_model_accuracy': 90}\n",
      "{'input_text': 'In the beginning, God created the heavens and the earth.', 'small_model_accuracy': 89, 'large_model_accuracy': 91}\n",
      "{'input_text': 'This above all: to thine own self be true, and it must follow, as the night the day, thou canst not then be false to any man.', 'small_model_accuracy': 72, 'large_model_accuracy': 85}\n",
      "{'input_text': 'All animals are equal, but some animals are more equal than others.', 'small_model_accuracy': 86, 'large_model_accuracy': 88}\n",
      "{'input_text': 'The only thing we have to fear is fear itself.', 'small_model_accuracy': 90, 'large_model_accuracy': 92}\n",
      "{'input_text': 'I think, therefore I am.', 'small_model_accuracy': 92, 'large_model_accuracy': 93}\n",
      "{'input_text': 'It was the best of times, it was the worst of times, it was the age of wisdom, it was the age of foolishness...', 'small_model_accuracy': 78, 'large_model_accuracy': 88}\n",
      "{'input_text': 'Four score and seven years ago our fathers brought forth on this continent, a new nation, conceived in Liberty, and dedicated to the proposition that all men are created equal.', 'small_model_accuracy': 82, 'large_model_accuracy': 90}\n",
      "{'input_text': 'Ask not what your country can do for you—ask what you can do for your country.', 'small_model_accuracy': 87, 'large_model_accuracy': 89}\n",
      "{'input_text': \"That's one small step for man, one giant leap for mankind.\", 'small_model_accuracy': 93, 'large_model_accuracy': 94}\n",
      "{'input_text': \"I have a dream that one day this nation will rise up and live out the true meaning of its creed: 'We hold these truths to be self-evident, that all men are created equal.'\", 'small_model_accuracy': 80, 'large_model_accuracy': 89}\n",
      "{'input_text': 'Give me liberty, or give me death!', 'small_model_accuracy': 88, 'large_model_accuracy': 90}\n"
     ]
    }
   ],
   "source": [
    "with open(\"fasttext_train.txt\", \"r\") as f:\n",
    "  for entry in mock_data:\n",
    "    print(entry)"
   ]
  },
  {
   "cell_type": "code",
   "execution_count": 16,
   "id": "a2a08b87-3fc8-4181-9006-c25d1d36fe2e",
   "metadata": {},
   "outputs": [],
   "source": [
    "from power_monitoring.monitor import HWMonitor\n",
    "import threading\n",
    "import wandb"
   ]
  },
  {
   "cell_type": "code",
   "execution_count": 17,
   "id": "18d52f10-183d-41c2-a61e-3947ba193818",
   "metadata": {},
   "outputs": [
    {
     "name": "stdout",
     "output_type": "stream",
     "text": [
      "\u001b[34m\u001b[1mwandb\u001b[0m: Currently logged in as: \u001b[33mryanzhangofficial\u001b[0m (\u001b[33mryzhangofficial\u001b[0m). Use \u001b[1m`wandb login --relogin`\u001b[0m to force relogin\n"
     ]
    }
   ],
   "source": [
    "!wandb login"
   ]
  },
  {
   "cell_type": "code",
   "execution_count": 18,
   "id": "11caa4d6-1672-49f8-9cb4-8cddae3075f8",
   "metadata": {},
   "outputs": [
    {
     "data": {
      "text/html": [
       "Tracking run with wandb version 0.18.0"
      ],
      "text/plain": [
       "<IPython.core.display.HTML object>"
      ]
     },
     "metadata": {},
     "output_type": "display_data"
    },
    {
     "data": {
      "text/html": [
       "Run data is saved locally in <code>/mnt/srv.nas/Inferencing-Project/wandb/run-20240916_213302-rxibx0xo</code>"
      ],
      "text/plain": [
       "<IPython.core.display.HTML object>"
      ]
     },
     "metadata": {},
     "output_type": "display_data"
    },
    {
     "data": {
      "text/html": [
       "Syncing run <strong><a href='https://wandb.ai/ryzhangofficial/linear_classifier/runs/rxibx0xo' target=\"_blank\">clean-dream-6</a></strong> to <a href='https://wandb.ai/ryzhangofficial/linear_classifier' target=\"_blank\">Weights & Biases</a> (<a href='https://wandb.me/run' target=\"_blank\">docs</a>)<br/>"
      ],
      "text/plain": [
       "<IPython.core.display.HTML object>"
      ]
     },
     "metadata": {},
     "output_type": "display_data"
    },
    {
     "data": {
      "text/html": [
       " View project at <a href='https://wandb.ai/ryzhangofficial/linear_classifier' target=\"_blank\">https://wandb.ai/ryzhangofficial/linear_classifier</a>"
      ],
      "text/plain": [
       "<IPython.core.display.HTML object>"
      ]
     },
     "metadata": {},
     "output_type": "display_data"
    },
    {
     "data": {
      "text/html": [
       " View run at <a href='https://wandb.ai/ryzhangofficial/linear_classifier/runs/rxibx0xo' target=\"_blank\">https://wandb.ai/ryzhangofficial/linear_classifier/runs/rxibx0xo</a>"
      ],
      "text/plain": [
       "<IPython.core.display.HTML object>"
      ]
     },
     "metadata": {},
     "output_type": "display_data"
    },
    {
     "data": {
      "text/html": [
       "<button onClick=\"this.nextSibling.style.display='block';this.style.display='none';\">Display W&B run</button><iframe src='https://wandb.ai/ryzhangofficial/linear_classifier/runs/rxibx0xo?jupyter=true' style='border:none;width:100%;height:420px;display:none;'></iframe>"
      ],
      "text/plain": [
       "<wandb.sdk.wandb_run.Run at 0x7f2aa44e0940>"
      ]
     },
     "execution_count": 18,
     "metadata": {},
     "output_type": "execute_result"
    }
   ],
   "source": [
    "wandb.init(project=\"linear_classifier\")"
   ]
  },
  {
   "cell_type": "code",
   "execution_count": 19,
   "id": "b22f8b03-22c7-4291-8c56-2f819f133a7c",
   "metadata": {},
   "outputs": [],
   "source": [
    "hw_monitor = HWMonitor(monitoring_freq=1.0, stop_event=threading.Event())\n",
    "hw_monitor.start()"
   ]
  },
  {
   "cell_type": "code",
   "execution_count": 20,
   "id": "61ace5c8-080f-4f70-8fae-4c7747141acc",
   "metadata": {},
   "outputs": [
    {
     "name": "stderr",
     "output_type": "stream",
     "text": [
      "/bin/sh: 1: nvidia-smi: not found\n",
      "Read 0M words\n",
      "Number of words:  159\n",
      "Number of labels: 17\n"
     ]
    },
    {
     "name": "stdout",
     "output_type": "stream",
     "text": [
      "{'cpu/interrupts/global_ctx_switches_count': 148085293, 'cpu/interrupts/global_interrupts_count': 86834100, 'cpu/interrupts/global_soft_interrupts_count': 85192506, 'cpu/load/avg_sys_load_one_min_percent': 0.0, 'cpu/load/avg_sys_load_five_min_percent': 0.375, 'cpu/load/avg_sys_load_fifteen_min_percent': 0.0, 'memory/total_memory_sys_mb': 62239.48046875, 'memory/available_memory_sys_mb': 59208.09765625, 'memory/used_memory_sys_mb': 1334.82421875, 'memory/used_memory_sys_percent': 1334.82421875, 'process/voluntary_proc_ctx_switches': 15569, 'process/involuntary_proc_ctx_switches': 899, 'process/memory/resident_set_size_proc_mb': 1000.2265625, 'process/memory/virtual_memory_size_proc_mb': 2944.51953125, 'process/memory/shared_memory_proc_mb': 27.26953125, 'process/memory/text_resident_set_proc_mb': 2.71484375, 'process/memory/data_resident_set_proc_mb': 1458.59765625, 'process/memory/lib_memory_proc_mb': 0.0, 'disk/counter/disk_read_sys_count': 17920, 'disk/counter/disk_write_sys_count': 214875, 'disk/disk_read_sys_mb': 540.5068359375, 'disk/disk_write_sys_mb': 42063.17822265625, 'disk/time/disk_read_time_sys_s': 31.318, 'disk/time/disk_write_time_sys_s': 4170.694, 'disk/time/disk_busy_time_sys_s': 219.268, 'network/net_sent_sys_mb': 1986959.4651918411, 'network/net_recv_sys_mb': 23497.206093788147, 'bandwidth/disk_read_sys_bandwidth_mbs': 0.0, 'bandwidth/disk_write_sys_bandwidth_mbs': 8.70014271016561, 'bandwidth/net_sent_sys_bandwidth_mbs': 0.5372539909063755, 'bandwidth/net_recv_sys_bandwidth_mbs': 0.36162092197404666, 'power/total': 0, 'power/cpu': 0, 'power/gpu': 0}\n",
      "{'cpu/interrupts/global_ctx_switches_count': 148087388, 'cpu/interrupts/global_interrupts_count': 86836033, 'cpu/interrupts/global_soft_interrupts_count': 85193734, 'cpu/load/avg_sys_load_one_min_percent': 0.0, 'cpu/load/avg_sys_load_five_min_percent': 0.375, 'cpu/load/avg_sys_load_fifteen_min_percent': 0.0, 'memory/total_memory_sys_mb': 62239.48046875, 'memory/available_memory_sys_mb': 58577.36328125, 'memory/used_memory_sys_mb': 1965.5234375, 'memory/used_memory_sys_percent': 1965.5234375, 'process/voluntary_proc_ctx_switches': 15571, 'process/involuntary_proc_ctx_switches': 929, 'process/memory/resident_set_size_proc_mb': 1627.7890625, 'process/memory/virtual_memory_size_proc_mb': 3707.5234375, 'process/memory/shared_memory_proc_mb': 27.26953125, 'process/memory/text_resident_set_proc_mb': 2.71484375, 'process/memory/data_resident_set_proc_mb': 2221.6015625, 'process/memory/lib_memory_proc_mb': 0.0, 'disk/counter/disk_read_sys_count': 17920, 'disk/counter/disk_write_sys_count': 214882, 'disk/disk_read_sys_mb': 540.5068359375, 'disk/disk_write_sys_mb': 42063.19384765625, 'disk/time/disk_read_time_sys_s': 31.318, 'disk/time/disk_write_time_sys_s': 4170.697, 'disk/time/disk_busy_time_sys_s': 219.268, 'network/net_sent_sys_mb': 1986959.5001354218, 'network/net_recv_sys_mb': 23497.233355522156, 'bandwidth/disk_read_sys_bandwidth_mbs': 0.0, 'bandwidth/disk_write_sys_bandwidth_mbs': 0.01104704907454668, 'bandwidth/net_sent_sys_bandwidth_mbs': 0.03294066773604044, 'bandwidth/net_recv_sys_bandwidth_mbs': 0.025699132881265574, 'power/total': 0, 'power/cpu': 0, 'power/gpu': 0}\n"
     ]
    },
    {
     "name": "stderr",
     "output_type": "stream",
     "text": [
      "/bin/sh: 1: nvidia-smi: not found\n",
      "/bin/sh: 1: nvidia-smi: not found\n"
     ]
    },
    {
     "name": "stdout",
     "output_type": "stream",
     "text": [
      "{'cpu/interrupts/global_ctx_switches_count': 148087990, 'cpu/interrupts/global_interrupts_count': 86836908, 'cpu/interrupts/global_soft_interrupts_count': 85194494, 'cpu/load/avg_sys_load_one_min_percent': 1.0, 'cpu/load/avg_sys_load_five_min_percent': 0.5, 'cpu/load/avg_sys_load_fifteen_min_percent': 0.125, 'memory/total_memory_sys_mb': 62239.48046875, 'memory/available_memory_sys_mb': 58324.53125, 'memory/used_memory_sys_mb': 2218.35546875, 'memory/used_memory_sys_percent': 2218.35546875, 'process/voluntary_proc_ctx_switches': 15572, 'process/involuntary_proc_ctx_switches': 930, 'process/memory/resident_set_size_proc_mb': 1876.7109375, 'process/memory/virtual_memory_size_proc_mb': 3707.5234375, 'process/memory/shared_memory_proc_mb': 27.26953125, 'process/memory/text_resident_set_proc_mb': 2.71484375, 'process/memory/data_resident_set_proc_mb': 2221.6328125, 'process/memory/lib_memory_proc_mb': 0.0, 'disk/counter/disk_read_sys_count': 17920, 'disk/counter/disk_write_sys_count': 214882, 'disk/disk_read_sys_mb': 540.5068359375, 'disk/disk_write_sys_mb': 42063.19384765625, 'disk/time/disk_read_time_sys_s': 31.318, 'disk/time/disk_write_time_sys_s': 4170.697, 'disk/time/disk_busy_time_sys_s': 219.268, 'network/net_sent_sys_mb': 1986959.5206365585, 'network/net_recv_sys_mb': 23497.245916366577, 'bandwidth/disk_read_sys_bandwidth_mbs': 0.0, 'bandwidth/disk_write_sys_bandwidth_mbs': 0.0, 'bandwidth/net_sent_sys_bandwidth_mbs': 0.0194706857355059, 'bandwidth/net_recv_sys_bandwidth_mbs': 0.011929497223907905, 'power/total': 0, 'power/cpu': 0, 'power/gpu': 0}\n"
     ]
    },
    {
     "name": "stderr",
     "output_type": "stream",
     "text": [
      "/bin/sh: 1: nvidia-smi: not found\n"
     ]
    },
    {
     "name": "stdout",
     "output_type": "stream",
     "text": [
      "{'cpu/interrupts/global_ctx_switches_count': 148088930, 'cpu/interrupts/global_interrupts_count': 86838003, 'cpu/interrupts/global_soft_interrupts_count': 85195172, 'cpu/load/avg_sys_load_one_min_percent': 1.0, 'cpu/load/avg_sys_load_five_min_percent': 0.5, 'cpu/load/avg_sys_load_fifteen_min_percent': 0.125, 'memory/total_memory_sys_mb': 62239.48046875, 'memory/available_memory_sys_mb': 58326.828125, 'memory/used_memory_sys_mb': 2216.0078125, 'memory/used_memory_sys_percent': 2216.0078125, 'process/voluntary_proc_ctx_switches': 15573, 'process/involuntary_proc_ctx_switches': 933, 'process/memory/resident_set_size_proc_mb': 1876.73046875, 'process/memory/virtual_memory_size_proc_mb': 3707.5234375, 'process/memory/shared_memory_proc_mb': 27.26953125, 'process/memory/text_resident_set_proc_mb': 2.71484375, 'process/memory/data_resident_set_proc_mb': 2221.63671875, 'process/memory/lib_memory_proc_mb': 0.0, 'disk/counter/disk_read_sys_count': 17920, 'disk/counter/disk_write_sys_count': 214896, 'disk/disk_read_sys_mb': 540.5068359375, 'disk/disk_write_sys_mb': 42063.25634765625, 'disk/time/disk_read_time_sys_s': 31.318, 'disk/time/disk_write_time_sys_s': 4170.71, 'disk/time/disk_busy_time_sys_s': 219.272, 'network/net_sent_sys_mb': 1986959.548149109, 'network/net_recv_sys_mb': 23497.26148033142, 'bandwidth/disk_read_sys_bandwidth_mbs': 0.0, 'bandwidth/disk_write_sys_bandwidth_mbs': 0.05871304509865316, 'bandwidth/net_sent_sys_bandwidth_mbs': 0.025845529755417557, 'bandwidth/net_recv_sys_bandwidth_mbs': 0.014620924316559137, 'power/total': 0, 'power/cpu': 0, 'power/gpu': 0}\n"
     ]
    },
    {
     "name": "stderr",
     "output_type": "stream",
     "text": [
      "start training...\n",
      "Progress: 100.0% words/sec/thread:  356634 lr: -0.012868 loss:  2.518247 ETA:   0h 0m 0.000000 loss:  2.518247 ETA:   0h 0m\n"
     ]
    }
   ],
   "source": [
    "import fastText\n",
    "\n",
    "model = fastText.train_supervised(input=\"fasttext_train.txt\", epoch=25, lr=1.0, wordNgrams=2)\n",
    "\n",
    "model.save_model(\"fasttext_accuracy_predictor.bin\")"
   ]
  },
  {
   "cell_type": "code",
   "execution_count": 21,
   "id": "2f0953c6-c526-4f5c-b512-086b67a5be05",
   "metadata": {},
   "outputs": [
    {
     "name": "stderr",
     "output_type": "stream",
     "text": [
      "/bin/sh: 1: nvidia-smi: not found\n",
      "Exception in thread Thread-10:\n",
      "Traceback (most recent call last):\n",
      "  File \"/usr/lib/python3.8/threading.py\", line 932, in _bootstrap_inner\n",
      "    self.run()\n",
      "  File \"/mnt/srv.nas/Inferencing-Project/power_monitoring/monitor.py\", line 44, in run\n",
      "    wandb.log(all_res)\n",
      "  File \"/usr/local/lib/python3.8/dist-packages/wandb/sdk/wandb_run.py\", line 453, in wrapper\n",
      "    return func(self, *args, **kwargs)\n",
      "  File \"/usr/local/lib/python3.8/dist-packages/wandb/sdk/wandb_run.py\", line 414, in wrapper_fn\n",
      "    raise errors.UsageError(resolved_message)\n",
      "wandb.errors.UsageError: Run (rxibx0xo) is finished. The call to `log` will be ignored. Please make sure that you are using an active run.\n"
     ]
    },
    {
     "name": "stdout",
     "output_type": "stream",
     "text": [
      "{'cpu/interrupts/global_ctx_switches_count': 148113970, 'cpu/interrupts/global_interrupts_count': 86856427, 'cpu/interrupts/global_soft_interrupts_count': 85206871, 'cpu/load/avg_sys_load_one_min_percent': 1.0, 'cpu/load/avg_sys_load_five_min_percent': 0.5, 'cpu/load/avg_sys_load_fifteen_min_percent': 0.125, 'memory/total_memory_sys_mb': 62239.48046875, 'memory/available_memory_sys_mb': 59204.34375, 'memory/used_memory_sys_mb': 1338.4609375, 'memory/used_memory_sys_percent': 1338.4609375, 'process/voluntary_proc_ctx_switches': 20511, 'process/involuntary_proc_ctx_switches': 1048, 'process/memory/resident_set_size_proc_mb': 999.4296875, 'process/memory/virtual_memory_size_proc_mb': 3246.09375, 'process/memory/shared_memory_proc_mb': 27.26953125, 'process/memory/text_resident_set_proc_mb': 2.71484375, 'process/memory/data_resident_set_proc_mb': 1376.96484375, 'process/memory/lib_memory_proc_mb': 0.0, 'disk/counter/disk_read_sys_count': 17920, 'disk/counter/disk_write_sys_count': 214898, 'disk/disk_read_sys_mb': 540.5068359375, 'disk/disk_write_sys_mb': 42063.29150390625, 'disk/time/disk_read_time_sys_s': 31.318, 'disk/time/disk_write_time_sys_s': 4170.711, 'disk/time/disk_busy_time_sys_s': 219.276, 'network/net_sent_sys_mb': 1987724.0088014603, 'network/net_recv_sys_mb': 23497.646015167236, 'bandwidth/disk_read_sys_bandwidth_mbs': 0.0, 'bandwidth/disk_write_sys_bandwidth_mbs': 0.024461719737729277, 'bandwidth/net_sent_sys_bandwidth_mbs': 239.36028452276653, 'bandwidth/net_recv_sys_bandwidth_mbs': 0.12040170730381802, 'power/total': 0, 'power/cpu': 0, 'power/gpu': 0}\n"
     ]
    },
    {
     "data": {
      "application/vnd.jupyter.widget-view+json": {
       "model_id": "",
       "version_major": 2,
       "version_minor": 0
      },
      "text/plain": [
       "VBox(children=(Label(value='0.013 MB of 0.013 MB uploaded\\r'), FloatProgress(value=1.0, max=1.0)))"
      ]
     },
     "metadata": {},
     "output_type": "display_data"
    },
    {
     "data": {
      "text/html": [
       "<style>\n",
       "    table.wandb td:nth-child(1) { padding: 0 10px; text-align: left ; width: auto;} td:nth-child(2) {text-align: left ; width: 100%}\n",
       "    .wandb-row { display: flex; flex-direction: row; flex-wrap: wrap; justify-content: flex-start; width: 100% }\n",
       "    .wandb-col { display: flex; flex-direction: column; flex-basis: 100%; flex: 1; padding: 10px; }\n",
       "    </style>\n",
       "<div class=\"wandb-row\"><div class=\"wandb-col\"><h3>Run history:</h3><br/><table class=\"wandb\"><tr><td>bandwidth/disk_read_sys_bandwidth_mbs</td><td>▁▁▁▁</td></tr><tr><td>bandwidth/disk_write_sys_bandwidth_mbs</td><td>█▁▁▁</td></tr><tr><td>bandwidth/net_recv_sys_bandwidth_mbs</td><td>█▁▁▁</td></tr><tr><td>bandwidth/net_sent_sys_bandwidth_mbs</td><td>█▁▁▁</td></tr><tr><td>cpu/interrupts/global_ctx_switches_count</td><td>▁▅▆█</td></tr><tr><td>cpu/interrupts/global_interrupts_count</td><td>▁▄▆█</td></tr><tr><td>cpu/interrupts/global_soft_interrupts_count</td><td>▁▄▆█</td></tr><tr><td>cpu/load/avg_sys_load_fifteen_min_percent</td><td>▁▁██</td></tr><tr><td>cpu/load/avg_sys_load_five_min_percent</td><td>▁▁██</td></tr><tr><td>cpu/load/avg_sys_load_one_min_percent</td><td>▁▁██</td></tr><tr><td>disk/counter/disk_read_sys_count</td><td>▁▁▁▁</td></tr><tr><td>disk/counter/disk_write_sys_count</td><td>▁▃▃█</td></tr><tr><td>disk/disk_read_sys_mb</td><td>▁▁▁▁</td></tr><tr><td>disk/disk_write_sys_mb</td><td>▁▂▂█</td></tr><tr><td>disk/time/disk_busy_time_sys_s</td><td>▁▁▁█</td></tr><tr><td>disk/time/disk_read_time_sys_s</td><td>▁▁▁▁</td></tr><tr><td>disk/time/disk_write_time_sys_s</td><td>▁▂▂█</td></tr><tr><td>memory/available_memory_sys_mb</td><td>█▃▁▁</td></tr><tr><td>memory/total_memory_sys_mb</td><td>▁▁▁▁</td></tr><tr><td>memory/used_memory_sys_mb</td><td>▁▆██</td></tr><tr><td>memory/used_memory_sys_percent</td><td>▁▆██</td></tr><tr><td>network/net_recv_sys_mb</td><td>▁▄▆█</td></tr><tr><td>network/net_sent_sys_mb</td><td>▁▁▁▁</td></tr><tr><td>power/cpu</td><td>▁▁▁▁</td></tr><tr><td>power/gpu</td><td>▁▁▁▁</td></tr><tr><td>power/total</td><td>▁▁▁▁</td></tr><tr><td>process/involuntary_proc_ctx_switches</td><td>▁▇▇█</td></tr><tr><td>process/memory/data_resident_set_proc_mb</td><td>▁███</td></tr><tr><td>process/memory/lib_memory_proc_mb</td><td>▁▁▁▁</td></tr><tr><td>process/memory/resident_set_size_proc_mb</td><td>▁▆██</td></tr><tr><td>process/memory/shared_memory_proc_mb</td><td>▁▁▁▁</td></tr><tr><td>process/memory/text_resident_set_proc_mb</td><td>▁▁▁▁</td></tr><tr><td>process/memory/virtual_memory_size_proc_mb</td><td>▁███</td></tr><tr><td>process/voluntary_proc_ctx_switches</td><td>▁▅▆█</td></tr></table><br/></div><div class=\"wandb-col\"><h3>Run summary:</h3><br/><table class=\"wandb\"><tr><td>bandwidth/disk_read_sys_bandwidth_mbs</td><td>0</td></tr><tr><td>bandwidth/disk_write_sys_bandwidth_mbs</td><td>0.05871</td></tr><tr><td>bandwidth/net_recv_sys_bandwidth_mbs</td><td>0.01462</td></tr><tr><td>bandwidth/net_sent_sys_bandwidth_mbs</td><td>0.02585</td></tr><tr><td>cpu/interrupts/global_ctx_switches_count</td><td>148088930</td></tr><tr><td>cpu/interrupts/global_interrupts_count</td><td>86838003</td></tr><tr><td>cpu/interrupts/global_soft_interrupts_count</td><td>85195172</td></tr><tr><td>cpu/load/avg_sys_load_fifteen_min_percent</td><td>0.125</td></tr><tr><td>cpu/load/avg_sys_load_five_min_percent</td><td>0.5</td></tr><tr><td>cpu/load/avg_sys_load_one_min_percent</td><td>1</td></tr><tr><td>disk/counter/disk_read_sys_count</td><td>17920</td></tr><tr><td>disk/counter/disk_write_sys_count</td><td>214896</td></tr><tr><td>disk/disk_read_sys_mb</td><td>540.50684</td></tr><tr><td>disk/disk_write_sys_mb</td><td>42063.25635</td></tr><tr><td>disk/time/disk_busy_time_sys_s</td><td>219.272</td></tr><tr><td>disk/time/disk_read_time_sys_s</td><td>31.318</td></tr><tr><td>disk/time/disk_write_time_sys_s</td><td>4170.71</td></tr><tr><td>memory/available_memory_sys_mb</td><td>58326.82812</td></tr><tr><td>memory/total_memory_sys_mb</td><td>62239.48047</td></tr><tr><td>memory/used_memory_sys_mb</td><td>2216.00781</td></tr><tr><td>memory/used_memory_sys_percent</td><td>2216.00781</td></tr><tr><td>network/net_recv_sys_mb</td><td>23497.26148</td></tr><tr><td>network/net_sent_sys_mb</td><td>1986959.54815</td></tr><tr><td>power/cpu</td><td>0</td></tr><tr><td>power/gpu</td><td>0</td></tr><tr><td>power/total</td><td>0</td></tr><tr><td>process/involuntary_proc_ctx_switches</td><td>933</td></tr><tr><td>process/memory/data_resident_set_proc_mb</td><td>2221.63672</td></tr><tr><td>process/memory/lib_memory_proc_mb</td><td>0</td></tr><tr><td>process/memory/resident_set_size_proc_mb</td><td>1876.73047</td></tr><tr><td>process/memory/shared_memory_proc_mb</td><td>27.26953</td></tr><tr><td>process/memory/text_resident_set_proc_mb</td><td>2.71484</td></tr><tr><td>process/memory/virtual_memory_size_proc_mb</td><td>3707.52344</td></tr><tr><td>process/voluntary_proc_ctx_switches</td><td>15573</td></tr></table><br/></div></div>"
      ],
      "text/plain": [
       "<IPython.core.display.HTML object>"
      ]
     },
     "metadata": {},
     "output_type": "display_data"
    },
    {
     "data": {
      "text/html": [
       " View run <strong style=\"color:#cdcd00\">clean-dream-6</strong> at: <a href='https://wandb.ai/ryzhangofficial/linear_classifier/runs/rxibx0xo' target=\"_blank\">https://wandb.ai/ryzhangofficial/linear_classifier/runs/rxibx0xo</a><br/> View project at: <a href='https://wandb.ai/ryzhangofficial/linear_classifier' target=\"_blank\">https://wandb.ai/ryzhangofficial/linear_classifier</a><br/>Synced 5 W&B file(s), 0 media file(s), 0 artifact file(s) and 0 other file(s)"
      ],
      "text/plain": [
       "<IPython.core.display.HTML object>"
      ]
     },
     "metadata": {},
     "output_type": "display_data"
    },
    {
     "data": {
      "text/html": [
       "Find logs at: <code>./wandb/run-20240916_213302-rxibx0xo/logs</code>"
      ],
      "text/plain": [
       "<IPython.core.display.HTML object>"
      ]
     },
     "metadata": {},
     "output_type": "display_data"
    }
   ],
   "source": [
    "monitor_client.stop_monitor()\n",
    "wandb.finish()"
   ]
  },
  {
   "cell_type": "code",
   "execution_count": 9,
   "id": "7d1d0aea-fd32-4418-9f6f-0a573123885f",
   "metadata": {},
   "outputs": [
    {
     "name": "stdout",
     "output_type": "stream",
     "text": [
      "Predicted Accuracy: 90%\n"
     ]
    }
   ],
   "source": [
    "text = \"An apple a day, keeps the doctor away.\"\n",
    "predicted_label = model.predict(text)[0][0]\n",
    "predicted_accuracy = int(predicted_label.replace('__label__', ''))\n",
    "\n",
    "print(f\"Predicted Accuracy: {predicted_accuracy}%\")"
   ]
  },
  {
   "cell_type": "code",
   "execution_count": 10,
   "id": "9ac8e9f9-5d40-4f24-9b3a-0803d9e8ee0b",
   "metadata": {},
   "outputs": [],
   "source": [
    "single_sample = [\n",
    "    {\n",
    "        \"input_text\": \"Knowledge is power, and with great power comes great responsibility.\",\n",
    "        \"small_model_accuracy\": 85,\n",
    "        \"large_model_accuracy\": 90\n",
    "    }\n",
    "]"
   ]
  },
  {
   "cell_type": "code",
   "execution_count": 11,
   "id": "5cdf532a-4a80-4890-880f-0e8abf37557d",
   "metadata": {},
   "outputs": [],
   "source": [
    "def stepSGD(sample):\n",
    "\n",
    "  with open(\"fasttext_train.txt\", \"w\") as f:\n",
    "    for entry in single_sample:\n",
    "        f.write(f\"__label__{entry['small_model_accuracy']} {entry['input_text']}\\n\")\n",
    "        f.write(f\"__label__{entry['large_model_accuracy']} {entry['input_text']}\\n\")\n",
    "      \n",
    "  model = fastText.train_supervised(input=\"fasttext_train.txt\", epoch=1, lr=1.0, wordNgrams=2, inputModel=\"fasttext_accuracy_predictor.bin\")\n",
    "  #model.save_model(\"fasttext_accuracy_predictor.bin\")"
   ]
  },
  {
   "cell_type": "code",
   "execution_count": 12,
   "id": "498db736-c663-4928-8f38-38d749ad7aba",
   "metadata": {},
   "outputs": [
    {
     "name": "stderr",
     "output_type": "stream",
     "text": [
      "Read 0M words\n",
      "Number of words:  10\n",
      "Number of labels: 2\n"
     ]
    },
    {
     "name": "stdout",
     "output_type": "stream",
     "text": [
      "stepSGD execution time: 2.6851 seconds\n"
     ]
    },
    {
     "name": "stderr",
     "output_type": "stream",
     "text": [
      "start training...\n",
      "Progress: 100.0% words/sec/thread:   39861 lr:  0.000000 loss:  0.625398 ETA:   0h 0m0m\n"
     ]
    }
   ],
   "source": [
    "start_time = time.time()\n",
    "\n",
    "stepSGD(single_sample)\n",
    "\n",
    "end_time = time.time()\n",
    "elapsed_time = end_time - start_time\n",
    "print(f\"stepSGD execution time: {elapsed_time:.4f} seconds\")"
   ]
  },
  {
   "cell_type": "code",
   "execution_count": 13,
   "id": "09c0b8ca-eb24-40c9-8ace-70c0746fb39d",
   "metadata": {},
   "outputs": [],
   "source": [
    "def predict(text):\n",
    "  predicted_label = model.predict(text)[0][0]\n",
    "  predicted_accuracy = int(predicted_label.replace('__label__', ''))\n",
    "\n",
    "  print(f\"Predicted Accuracy: {predicted_accuracy}%\")"
   ]
  },
  {
   "cell_type": "code",
   "execution_count": 14,
   "id": "079c0a0b-f8ed-4fc6-bc49-71645b5ee505",
   "metadata": {},
   "outputs": [
    {
     "name": "stdout",
     "output_type": "stream",
     "text": [
      "Predicted Accuracy: 90%\n",
      "stepSGD exectuion time: 0.0004 seconds\n"
     ]
    }
   ],
   "source": [
    "start_time = time.time()\n",
    "\n",
    "predict(text)\n",
    "\n",
    "end_time = time.time()\n",
    "elapsed_time = end_time - start_time\n",
    "print(f\"stepSGD exectuion time: {elapsed_time:.4f} seconds\")"
   ]
  },
  {
   "cell_type": "code",
   "execution_count": 15,
   "id": "ffd305a1-25d2-47ed-b06b-a6a70110ca0e",
   "metadata": {},
   "outputs": [
    {
     "name": "stdout",
     "output_type": "stream",
     "text": [
      "Checkpointing time: 2.0847 seconds\n"
     ]
    }
   ],
   "source": [
    "start_time = time.time()\n",
    "\n",
    "model.save_model(\"fasttext_accuracy_predictor.bin\")\n",
    "\n",
    "end_time = time.time()\n",
    "elapsed_time = end_time - start_time\n",
    "print(f\"Checkpointing time: {elapsed_time:.4f} seconds\")"
   ]
  },
  {
   "cell_type": "code",
   "execution_count": null,
   "id": "b503e56d-36e1-4426-a0d2-4418cff1dfa2",
   "metadata": {},
   "outputs": [],
   "source": []
  }
 ],
 "metadata": {
  "kernelspec": {
   "display_name": "Python 3 (ipykernel)",
   "language": "python",
   "name": "python3"
  },
  "language_info": {
   "codemirror_mode": {
    "name": "ipython",
    "version": 3
   },
   "file_extension": ".py",
   "mimetype": "text/x-python",
   "name": "python",
   "nbconvert_exporter": "python",
   "pygments_lexer": "ipython3",
   "version": "3.8.10"
  }
 },
 "nbformat": 4,
 "nbformat_minor": 5
}
