{
 "cells": [
  {
   "cell_type": "code",
   "execution_count": null,
   "id": "3cdefbd3-ca3d-4779-b795-d27e79350c6a",
   "metadata": {},
   "outputs": [],
   "source": [
    "import wandb\n",
    "import pandas as pd\n",
    "import netrc\n",
    "import matplotlib.pyplot as plt"
   ]
  },
  {
   "cell_type": "code",
   "execution_count": null,
   "id": "f6447625-129b-4a4e-b9f4-7a682bcb8387",
   "metadata": {},
   "outputs": [],
   "source": [
    "wandb.login()"
   ]
  },
  {
   "cell_type": "code",
   "execution_count": null,
   "id": "0c23e5b9-d4ee-478c-8ad3-60a0a566b822",
   "metadata": {},
   "outputs": [],
   "source": [
    "import os\n",
    "import json\n",
    "import glob\n",
    "\n",
    "def load_all_json_files():\n",
    "    # Initialize an empty dictionary to store the contents of all JSON files\n",
    "    combined_data = {}\n",
    "\n",
    "    # Find all JSON files with the naming pattern: fasttext_wmt14_results_V{V value}_h{h tilde value}\n",
    "    files = glob.glob('./experiments/fasttext/fasttext_wmt14_results_V*_h*.json')\n",
    "\n",
    "    # Iterate over each file\n",
    "    for fname in files:\n",
    "        # Extract the V and h_tilde values from the filename\n",
    "        V_value = fname.split('_V')[1].split('_h')[0]\n",
    "        h_tilde_value = fname.split('_h')[1].replace('.json', '')\n",
    "\n",
    "        # Load the contents of the JSON file\n",
    "        with open(fname, 'r') as f:\n",
    "            data = json.load(f)\n",
    "        \n",
    "        # Store the contents in the combined_data dictionary using the V and h_tilde as keys\n",
    "        if V_value not in combined_data:\n",
    "            combined_data[V_value] = {}\n",
    "        \n",
    "        combined_data[V_value][h_tilde_value] = data\n",
    "    \n",
    "    return combined_data\n",
    "\n",
    "def save_combined_json(combined_data, output_file):\n",
    "    # Save the combined data as a single JSON file\n",
    "    with open(output_file, 'w') as f:\n",
    "        json.dump(combined_data, f, indent=4)\n",
    "\n",
    "# Load all the JSON files into a combined dictionary\n",
    "combined_data = load_all_json_files()\n",
    "\n",
    "# Save the combined dictionary to a new JSON file\n",
    "output_file = 'combined_fasttext_wmt14_results.json'\n",
    "save_combined_json(combined_data, output_file)\n",
    "\n",
    "print(f\"All JSON files have been combined and saved to {output_file}.\")"
   ]
  },
  {
   "cell_type": "code",
   "execution_count": null,
   "id": "644a73f4-df49-4f09-bd06-48c7517c8bc8",
   "metadata": {},
   "outputs": [],
   "source": [
    "def download_data_from_wandb(entity: str, project: str, keywords: list):\n",
    "    api_key = netrc.netrc().authenticators(host=\"api.wandb.ai\")[2]\n",
    "    api = wandb.Api(api_key=api_key, timeout=1800)\n",
    "    runs = api.runs(path=f\"{entity}/{project}\")\n",
    "    df = pd.DataFrame()\n",
    "\n",
    "    if type(keywords) == str:\n",
    "        keywords = [f\"{keywords}\", ]\n",
    "\n",
    "    for run in runs:\n",
    "        # We are only interested in 2 sorts of logs: server logs, and baseline logs\n",
    "        for keyword in keywords:\n",
    "\n",
    "            if type(keyword) != str:\n",
    "                continue\n",
    "\n",
    "            if keyword in run.name:\n",
    "                run_scan = api.run(f\"{entity}/{project}/{run.id}\")\n",
    "                rows = run_scan.scan_history()\n",
    "                rows_pd = pd.DataFrame(rows)\n",
    "                rows_pd[\"name\"] = run.name\n",
    "                rows_pd[\"id\"] = run.id\n",
    "                df = pd.concat([df, rows_pd])\n",
    "\n",
    "    return df"
   ]
  },
  {
   "cell_type": "code",
   "execution_count": null,
   "id": "9e5c781e-e1ed-4d78-a5fb-528d80d612a6",
   "metadata": {},
   "outputs": [],
   "source": [
    "def total_power(df, run_names):\n",
    "    plt.figure(figsize=(10, 6))\n",
    "    \n",
    "    for run_name in run_names:\n",
    "        run_df = df[df['name'] == run_name]\n",
    "        plt.plot(run_df['_step'], run_df['power/total'], label=run_name)\n",
    "    \n",
    "    plt.xlabel('Step')\n",
    "    plt.ylabel('Power (Total)')\n",
    "    plt.title('Power Consumption (Total) for Different Runs')\n",
    "    plt.legend(title='Runs')\n",
    "    plt.grid(True)\n",
    "    \n",
    "    plt.show()"
   ]
  },
  {
   "cell_type": "code",
   "execution_count": null,
   "id": "cae16f06-2488-4811-9092-49f8b1115eef",
   "metadata": {},
   "outputs": [],
   "source": [
    "def power_run(df, run_names, total_power, average_power, num_samples):\n",
    "    for run_name in run_names:\n",
    "        run_df = df[df['name'] == run_name]\n",
    "        total_power_used = run_df['power/total'].sum() / 1000\n",
    "        total_power.append(total_power_used)\n",
    "        average_power_used = total_power_used / num_samples\n",
    "        average_power.append(average_power_used)\n",
    "    \n",
    "    fig, (ax1, ax2) = plt.subplots(1, 2, figsize=(12, 6))\n",
    "    \n",
    "    ax1.bar(run_names, total_power)\n",
    "    ax1.set_xlabel('Run Name')\n",
    "    ax1.set_ylabel('Total Power Used (Watts)')\n",
    "    ax1.set_title('Total Power Used for Each Run')\n",
    "    ax1.set_xticklabels(run_names, rotation=45)\n",
    "    \n",
    "    ax2.bar(run_names, average_power)\n",
    "    ax2.set_xlabel('Run Name')\n",
    "    ax2.set_ylabel('Average Power Used per Sample (Watts)')\n",
    "    ax2.set_title('Average Power Used per Sample for Each Run')\n",
    "    ax2.set_xticklabels(run_names, rotation=45)\n",
    "    \n",
    "    plt.tight_layout()\n",
    "    plt.show()\n",
    "\n",
    "    return average_power"
   ]
  },
  {
   "cell_type": "code",
   "execution_count": null,
   "id": "f261854a-8006-4559-9f56-fffb81e2ea24",
   "metadata": {},
   "outputs": [],
   "source": [
    "entity = \"ryzhangofficial\"\n",
    "project = \"classifier\"\n",
    "keywords = [\"13b\", \"7b\", \"tiny\"]\n",
    "\n",
    "df = download_data_from_wandb(entity, project, keywords)"
   ]
  },
  {
   "cell_type": "code",
   "execution_count": null,
   "id": "e7de0f67-8eea-45c9-8d90-18a1a281b0e0",
   "metadata": {},
   "outputs": [],
   "source": [
    "print(\"-------------------------------------------------------\")\n",
    "print(df.shape)\n",
    "print(\"-------------------------------------------------------\")\n",
    "print(df.columns)\n",
    "print(\"-------------------------------------------------------\")\n",
    "print(df.dtypes)\n",
    "print(\"-------------------------------------------------------\")\n",
    "print(df.head())\n",
    "print(\"-------------------------------------------------------\")\n",
    "print(df.info())\n",
    "print(\"-------------------------------------------------------\")\n",
    "print(df.describe())"
   ]
  },
  {
   "cell_type": "code",
   "execution_count": null,
   "id": "37b61d7f-4ca5-4133-bd73-9a097d7603d1",
   "metadata": {},
   "outputs": [],
   "source": [
    "print(df['name'].unique()) \n",
    "print(df['id'].unique())"
   ]
  },
  {
   "cell_type": "code",
   "execution_count": null,
   "id": "c4f50470-1b86-4e7c-bfbb-4d6c94da9957",
   "metadata": {},
   "outputs": [],
   "source": [
    "run_names = ['wmt14-tiny', 'wmt14-7b', 'wmt14-13b']"
   ]
  },
  {
   "cell_type": "code",
   "execution_count": null,
   "id": "399f96a2-299f-4c8f-8f9f-b8abd6ded80b",
   "metadata": {},
   "outputs": [],
   "source": [
    "total_power = []\n",
    "average_power = []\n",
    "num_samples = 3000\n",
    "\n",
    "power_run(df, run_names, total_power, average_power, num_samples)"
   ]
  },
  {
   "cell_type": "code",
   "execution_count": null,
   "id": "2ddb0daf-12be-4cc5-b8af-b62a7239190d",
   "metadata": {},
   "outputs": [],
   "source": [
    "run_names = ['cnndailymail-tiny', 'cnndailymail-7b', 'cnndailymail-13b']"
   ]
  },
  {
   "cell_type": "code",
   "execution_count": null,
   "id": "e19ada5a-1dce-43ee-814b-9021e01c65b9",
   "metadata": {},
   "outputs": [],
   "source": [
    "total_power = []\n",
    "average_power = []\n",
    "num_samples = 3000\n",
    "\n",
    "power_run(df, run_names, total_power, average_power, num_samples)"
   ]
  },
  {
   "cell_type": "code",
   "execution_count": null,
   "id": "a76bd414-2bd5-4923-9560-89a2378a3095",
   "metadata": {},
   "outputs": [],
   "source": [
    "entity = \"ryzhangofficial\"\n",
    "project = \"classifier\"\n",
    "keywords = [\"fasttext\"]\n",
    "\n",
    "df_fasttext = download_data_from_wandb(entity, project, keywords)"
   ]
  },
  {
   "cell_type": "code",
   "execution_count": null,
   "id": "90dcf8a1-9311-4d18-9a23-0a9bc648488e",
   "metadata": {},
   "outputs": [],
   "source": [
    "print(\"-------------------------------------------------------\")\n",
    "print(df_fasttext.shape)\n",
    "print(\"-------------------------------------------------------\")\n",
    "print(df_fasttext.columns)\n",
    "print(\"-------------------------------------------------------\")\n",
    "print(df_fasttext.dtypes)\n",
    "print(\"-------------------------------------------------------\")\n",
    "print(df_fasttext.head())\n",
    "print(\"-------------------------------------------------------\")\n",
    "print(df_fasttext.info())\n",
    "print(\"-------------------------------------------------------\")\n",
    "print(df_fasttext.describe())"
   ]
  },
  {
   "cell_type": "code",
   "execution_count": null,
   "id": "35ccca49-20de-44ec-bb19-d1d7b13d21b8",
   "metadata": {},
   "outputs": [],
   "source": [
    "print(df_fasttext['name'].unique()) \n",
    "print(df_fasttext['id'].unique())"
   ]
  },
  {
   "cell_type": "code",
   "execution_count": null,
   "id": "3804fed3-6d7f-469a-b591-65c42291ea9a",
   "metadata": {},
   "outputs": [],
   "source": [
    "run_names = ['V100-fasttext-wmt14-h25', 'V100-fasttext-wmt14-h3',\n",
    "             'V100-fasttext-wmt14-h35', 'V1000-fasttext-wmt14-h25',\n",
    "             'V10000-fasttext-wmt14-h1', 'V100000-fasttext-wmt14-h1',\n",
    "             'V1000000-fasttext-wmt14-h1', 'V10000000-fasttext-wmt14-h1']"
   ]
  },
  {
   "cell_type": "code",
   "execution_count": null,
   "id": "d12992a6-67e3-4a6d-94be-e0dc8e5ff9c0",
   "metadata": {},
   "outputs": [],
   "source": [
    "total_power(df_fasttext, run_names)"
   ]
  },
  {
   "cell_type": "code",
   "execution_count": null,
   "id": "69f45ec3-079e-4a3b-8b74-d7fa9f018937",
   "metadata": {},
   "outputs": [],
   "source": [
    "total_power = []\n",
    "average_power = []\n",
    "num_samples = 3000\n",
    "\n",
    "power_run(df_fasttext, run_names, total_power, average_power, num_samples)"
   ]
  },
  {
   "cell_type": "code",
   "execution_count": null,
   "id": "3472195c-077c-465d-9d1a-6db9da6c30c3",
   "metadata": {},
   "outputs": [],
   "source": [
    "df_fasttext['chosen_model_accuracy']"
   ]
  },
  {
   "cell_type": "code",
   "execution_count": null,
   "id": "b6c2dcfa-ec33-4095-99b4-82ab0a1c4ab1",
   "metadata": {},
   "outputs": [],
   "source": [
    "import pickle\n",
    "import pandas as pd\n",
    "\n",
    "with open('data/input_output_train', 'rb') as file:\n",
    "    combined_outputs = pickle.load(file)\n",
    "\n",
    "df_combined_outputs = pd.DataFrame(combined_outputs)\n",
    "df_combined_outputs.head()"
   ]
  },
  {
   "cell_type": "code",
   "execution_count": null,
   "id": "6d127e1f-c04e-4750-9e97-60e306238c40",
   "metadata": {},
   "outputs": [],
   "source": [
    "import os\n",
    "import json\n",
    "\n",
    "directory = 'experiments/fasttext'\n",
    "\n",
    "for filename in os.listdir(directory):\n",
    "    if filename.endswith('.json'): \n",
    "        filepath = os.path.join(directory, filename)\n",
    "        \n",
    "        with open(filepath, 'r') as f:\n",
    "            data = json.load(f)\n",
    "\n",
    "        total = 0\n",
    "        num_results = len(data)\n",
    "        \n",
    "        for result in data:\n",
    "            total += result['chosen_model_accuracy']\n",
    "        \n",
    "        avg_accuracy = total / num_results if num_results > 0 else 0\n",
    "        print(f\"{filename}: {avg_accuracy}\")"
   ]
  },
  {
   "cell_type": "code",
   "execution_count": null,
   "id": "b815eeb5-ccf9-4e78-a7c2-2e7e5c3c4496",
   "metadata": {},
   "outputs": [],
   "source": [
    "import os\n",
    "import json\n",
    "import numpy as np\n",
    "import matplotlib.pyplot as plt\n",
    "\n",
    "directory = 'experiments/fasttext'\n",
    "file_averages = []\n",
    "file_names = []\n",
    "\n",
    "for filename in os.listdir(directory):\n",
    "    if filename.endswith('.json') and \"h5\" in filename:\n",
    "        filepath = os.path.join(directory, filename)\n",
    "        with open(filepath, 'r') as f:\n",
    "            data = json.load(f)\n",
    "            accuracies = [result['chosen_model_accuracy'] for result in data]\n",
    "            avg_accuracy = np.mean(accuracies)\n",
    "            file_averages.append(avg_accuracy)\n",
    "            file_names.append(filename)\n",
    "\n",
    "plt.figure(figsize=(10, 6))\n",
    "plt.bar(file_names, file_averages, color='b')\n",
    "plt.title('Average Accuracy per File')\n",
    "plt.xlabel('Filename')\n",
    "plt.ylabel('Average Accuracy')\n",
    "plt.xticks(rotation=90)\n",
    "plt.grid(True)\n",
    "plt.tight_layout()\n",
    "plt.show()"
   ]
  },
  {
   "cell_type": "code",
   "execution_count": null,
   "id": "7b68f116-f0fe-4f0a-9cb6-782f50e63b80",
   "metadata": {},
   "outputs": [],
   "source": [
    "entity = \"ryzhangofficial\"\n",
    "project = \"classifier\"\n",
    "keywords = [\"wmt14-13b\", \"wmt14-7b\" \"wmt14-tiny\"]\n",
    "\n",
    "df = download_data_from_wandb(entity, project, keywords)"
   ]
  },
  {
   "cell_type": "code",
   "execution_count": null,
   "id": "8c6812a8-1eff-40c3-9cc9-be936a295863",
   "metadata": {},
   "outputs": [],
   "source": [
    "run_names = ['wmt14-13b', 'wmt14-7b', 'wmt14-tiny']"
   ]
  },
  {
   "cell_type": "code",
   "execution_count": null,
   "id": "670c5667-3381-44db-bd61-c302bf989b95",
   "metadata": {},
   "outputs": [],
   "source": [
    "total_power(df, run_names)"
   ]
  },
  {
   "cell_type": "code",
   "execution_count": null,
   "id": "bbdf7c34-cd8d-477d-9cac-a8f7183a3ca8",
   "metadata": {},
   "outputs": [],
   "source": [
    "total_power = []\n",
    "average_power = []\n",
    "num_samples = 3000\n",
    "\n",
    "avg_power = power_run(df, run_names, total_power, average_power, num_samples)\n",
    "print(avg_power)"
   ]
  },
  {
   "cell_type": "code",
   "execution_count": null,
   "id": "daa721c6-1754-4379-a4cc-630cb0b3b28f",
   "metadata": {},
   "outputs": [],
   "source": [
    "entity = \"ryzhangofficial\"\n",
    "project = \"classifier\"\n",
    "run_names = [\"cnndailymail-tiny\", \"cnndailymail-7b\", \"cnndailymail-13b\"]\n",
    "\n",
    "df = download_data_from_wandb(entity, project, run_names)"
   ]
  },
  {
   "cell_type": "code",
   "execution_count": null,
   "id": "51dccd9f-1abe-4150-938c-d8ee274174b0",
   "metadata": {},
   "outputs": [],
   "source": [
    "total_power(df, run_names)"
   ]
  },
  {
   "cell_type": "code",
   "execution_count": null,
   "id": "670a859a-77a2-46ce-b0fb-d5eb8761202c",
   "metadata": {},
   "outputs": [],
   "source": [
    "total_power = []\n",
    "average_power = []\n",
    "num_samples = 3000\n",
    "\n",
    "avg_power = power_run(df, run_names, total_power, average_power, num_samples)\n",
    "print(avg_power)"
   ]
  },
  {
   "cell_type": "code",
   "execution_count": null,
   "id": "241a9e66-155d-4a68-beef-cf93b18e3f49",
   "metadata": {},
   "outputs": [],
   "source": [
    "entity = \"ryzhangofficial\"\n",
    "project = \"classifier\"\n",
    "keywords = [\"0.5\", \".3125\"]\n",
    "\n",
    "df = download_data_from_wandb(entity, project, keywords)"
   ]
  },
  {
   "cell_type": "code",
   "execution_count": null,
   "id": "0a4b4913-864f-4709-bd44-c0ed1c8995a1",
   "metadata": {},
   "outputs": [],
   "source": [
    "total_power = []\n",
    "average_power = []\n",
    "run_names = [\"fasttext_wmt14_results_V0.01_h0.5\"]\n",
    "num_samples = 3000\n",
    "\n",
    "avg_power = power_run(df, run_names, total_power, average_power, num_samples)\n",
    "print(avg_power)"
   ]
  },
  {
   "cell_type": "code",
   "execution_count": null,
   "id": "7ebaef27-cccf-4e71-9a5e-895eab32a936",
   "metadata": {},
   "outputs": [],
   "source": [
    "total_power = []\n",
    "average_power = []\n",
    "run_names = [\"fasttext_cnn_dailymail_results_V0.01_h0.3125\"]\n",
    "num_samples = 3000\n",
    "\n",
    "avg_power = power_run(df, run_names, total_power, average_power, num_samples)\n",
    "print(avg_power)"
   ]
  },
  {
   "cell_type": "code",
   "execution_count": null,
   "id": "f5def119-e0c5-4a49-9306-3be5e1c79e24",
   "metadata": {},
   "outputs": [],
   "source": []
  }
 ],
 "metadata": {
  "kernelspec": {
   "display_name": "Python 3 (ipykernel)",
   "language": "python",
   "name": "python3"
  },
  "language_info": {
   "codemirror_mode": {
    "name": "ipython",
    "version": 3
   },
   "file_extension": ".py",
   "mimetype": "text/x-python",
   "name": "python",
   "nbconvert_exporter": "python",
   "pygments_lexer": "ipython3",
   "version": "3.8.10"
  }
 },
 "nbformat": 4,
 "nbformat_minor": 5
}
